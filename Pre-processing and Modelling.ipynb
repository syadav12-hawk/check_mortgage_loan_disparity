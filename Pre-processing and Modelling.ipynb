{
 "cells": [
  {
   "cell_type": "markdown",
   "metadata": {},
   "source": [
    "# Introduction\n",
    "In this notebook , we are going to do following steps. \n",
    "- Drop irrelevant columns.\n",
    "- Create dummy or indicator features for categorical variables\n",
    "- Standardize the magnitude of numeric features using a scaler\n",
    "- Split your data into testing and training datasets"
   ]
  },
  {
   "cell_type": "code",
   "execution_count": 1,
   "metadata": {},
   "outputs": [],
   "source": [
    "#Import Libraries\n",
    "import pandas as pd\n",
    "from sklearn.model_selection import train_test_split"
   ]
  },
  {
   "cell_type": "code",
   "execution_count": 2,
   "metadata": {},
   "outputs": [],
   "source": [
    "#Load the data\n",
    "df_2019=pd.read_csv('Data/loan_2019_feature.csv')"
   ]
  },
  {
   "cell_type": "code",
   "execution_count": 3,
   "metadata": {
    "scrolled": false
   },
   "outputs": [
    {
     "data": {
      "text/html": [
       "<div>\n",
       "<style scoped>\n",
       "    .dataframe tbody tr th:only-of-type {\n",
       "        vertical-align: middle;\n",
       "    }\n",
       "\n",
       "    .dataframe tbody tr th {\n",
       "        vertical-align: top;\n",
       "    }\n",
       "\n",
       "    .dataframe thead th {\n",
       "        text-align: right;\n",
       "    }\n",
       "</style>\n",
       "<table border=\"1\" class=\"dataframe\">\n",
       "  <thead>\n",
       "    <tr style=\"text-align: right;\">\n",
       "      <th></th>\n",
       "      <th>0</th>\n",
       "      <th>1</th>\n",
       "      <th>2</th>\n",
       "      <th>3</th>\n",
       "      <th>4</th>\n",
       "    </tr>\n",
       "  </thead>\n",
       "  <tbody>\n",
       "    <tr>\n",
       "      <th>Year</th>\n",
       "      <td>2019</td>\n",
       "      <td>2019</td>\n",
       "      <td>2019</td>\n",
       "      <td>2019</td>\n",
       "      <td>2019</td>\n",
       "    </tr>\n",
       "    <tr>\n",
       "      <th>LoanCharacteristicsID</th>\n",
       "      <td>2407198</td>\n",
       "      <td>2407199</td>\n",
       "      <td>2407200</td>\n",
       "      <td>2407201</td>\n",
       "      <td>2407202</td>\n",
       "    </tr>\n",
       "    <tr>\n",
       "      <th>Bank</th>\n",
       "      <td>Boston</td>\n",
       "      <td>Boston</td>\n",
       "      <td>Boston</td>\n",
       "      <td>Boston</td>\n",
       "      <td>Boston</td>\n",
       "    </tr>\n",
       "    <tr>\n",
       "      <th>FIPSStateNumericCode</th>\n",
       "      <td>50</td>\n",
       "      <td>50</td>\n",
       "      <td>50</td>\n",
       "      <td>50</td>\n",
       "      <td>23</td>\n",
       "    </tr>\n",
       "    <tr>\n",
       "      <th>FIPSCountyCode</th>\n",
       "      <td>7</td>\n",
       "      <td>7</td>\n",
       "      <td>15</td>\n",
       "      <td>17</td>\n",
       "      <td>31</td>\n",
       "    </tr>\n",
       "    <tr>\n",
       "      <th>CoreBasedStatisticalAreaCode</th>\n",
       "      <td>15540</td>\n",
       "      <td>15540</td>\n",
       "      <td>99999</td>\n",
       "      <td>30100</td>\n",
       "      <td>38860</td>\n",
       "    </tr>\n",
       "    <tr>\n",
       "      <th>CensusTractIdentifier</th>\n",
       "      <td>34</td>\n",
       "      <td>29</td>\n",
       "      <td>9532</td>\n",
       "      <td>9594</td>\n",
       "      <td>254</td>\n",
       "    </tr>\n",
       "    <tr>\n",
       "      <th>CensusTractMinorityRatioPercent</th>\n",
       "      <td>4.577</td>\n",
       "      <td>3.421</td>\n",
       "      <td>6.152</td>\n",
       "      <td>3.935</td>\n",
       "      <td>6.031</td>\n",
       "    </tr>\n",
       "    <tr>\n",
       "      <th>CensusTractMedFamIncomeAmount</th>\n",
       "      <td>132474</td>\n",
       "      <td>100795</td>\n",
       "      <td>49625</td>\n",
       "      <td>62643</td>\n",
       "      <td>87679</td>\n",
       "    </tr>\n",
       "    <tr>\n",
       "      <th>LocalAreaMedianIncomeAmount</th>\n",
       "      <td>84290</td>\n",
       "      <td>84290</td>\n",
       "      <td>67566</td>\n",
       "      <td>67105</td>\n",
       "      <td>76445</td>\n",
       "    </tr>\n",
       "    <tr>\n",
       "      <th>TotalMonthlyIncomeAmount</th>\n",
       "      <td>7308</td>\n",
       "      <td>7416</td>\n",
       "      <td>5143</td>\n",
       "      <td>8866</td>\n",
       "      <td>15240</td>\n",
       "    </tr>\n",
       "    <tr>\n",
       "      <th>HUDMedianIncomeAmount</th>\n",
       "      <td>93000</td>\n",
       "      <td>93000</td>\n",
       "      <td>71900</td>\n",
       "      <td>71900</td>\n",
       "      <td>90100</td>\n",
       "    </tr>\n",
       "    <tr>\n",
       "      <th>LoanAcquisitionActualUPBAmt</th>\n",
       "      <td>319113</td>\n",
       "      <td>248005</td>\n",
       "      <td>211105</td>\n",
       "      <td>210000</td>\n",
       "      <td>233200</td>\n",
       "    </tr>\n",
       "    <tr>\n",
       "      <th>LTVRatioPercent</th>\n",
       "      <td>99</td>\n",
       "      <td>97</td>\n",
       "      <td>99</td>\n",
       "      <td>100</td>\n",
       "      <td>80</td>\n",
       "    </tr>\n",
       "    <tr>\n",
       "      <th>NoteDate</th>\n",
       "      <td>2018</td>\n",
       "      <td>2019</td>\n",
       "      <td>2018</td>\n",
       "      <td>2018</td>\n",
       "      <td>2018</td>\n",
       "    </tr>\n",
       "    <tr>\n",
       "      <th>LoanAcquistionDate</th>\n",
       "      <td>2019</td>\n",
       "      <td>2019</td>\n",
       "      <td>2019</td>\n",
       "      <td>2019</td>\n",
       "      <td>2019</td>\n",
       "    </tr>\n",
       "    <tr>\n",
       "      <th>LoanPurposeType</th>\n",
       "      <td>1</td>\n",
       "      <td>1</td>\n",
       "      <td>1</td>\n",
       "      <td>1</td>\n",
       "      <td>1</td>\n",
       "    </tr>\n",
       "    <tr>\n",
       "      <th>ProductCategoryName</th>\n",
       "      <td>1</td>\n",
       "      <td>1</td>\n",
       "      <td>1</td>\n",
       "      <td>1</td>\n",
       "      <td>1</td>\n",
       "    </tr>\n",
       "    <tr>\n",
       "      <th>MortgageType</th>\n",
       "      <td>1</td>\n",
       "      <td>1</td>\n",
       "      <td>1</td>\n",
       "      <td>2</td>\n",
       "      <td>0</td>\n",
       "    </tr>\n",
       "    <tr>\n",
       "      <th>ScheduledTotalPaymentCount</th>\n",
       "      <td>360</td>\n",
       "      <td>360</td>\n",
       "      <td>360</td>\n",
       "      <td>360</td>\n",
       "      <td>180</td>\n",
       "    </tr>\n",
       "    <tr>\n",
       "      <th>MortgageLoanSellerInstType</th>\n",
       "      <td>1</td>\n",
       "      <td>1</td>\n",
       "      <td>1</td>\n",
       "      <td>1</td>\n",
       "      <td>1</td>\n",
       "    </tr>\n",
       "    <tr>\n",
       "      <th>BorrowerCount</th>\n",
       "      <td>1</td>\n",
       "      <td>2</td>\n",
       "      <td>2</td>\n",
       "      <td>2</td>\n",
       "      <td>1</td>\n",
       "    </tr>\n",
       "    <tr>\n",
       "      <th>BorrowerFirstTimeHomebuyer</th>\n",
       "      <td>1</td>\n",
       "      <td>0</td>\n",
       "      <td>0</td>\n",
       "      <td>0</td>\n",
       "      <td>1</td>\n",
       "    </tr>\n",
       "    <tr>\n",
       "      <th>Borrower1Race1Type</th>\n",
       "      <td>White</td>\n",
       "      <td>White</td>\n",
       "      <td>White</td>\n",
       "      <td>White</td>\n",
       "      <td>White</td>\n",
       "    </tr>\n",
       "    <tr>\n",
       "      <th>Borrower2Race1Type</th>\n",
       "      <td>No Co-Borrower</td>\n",
       "      <td>White</td>\n",
       "      <td>White</td>\n",
       "      <td>White</td>\n",
       "      <td>No Co-Borrower</td>\n",
       "    </tr>\n",
       "    <tr>\n",
       "      <th>Borrower1GenderType</th>\n",
       "      <td>2</td>\n",
       "      <td>2</td>\n",
       "      <td>1</td>\n",
       "      <td>1</td>\n",
       "      <td>2</td>\n",
       "    </tr>\n",
       "    <tr>\n",
       "      <th>Borrower2GenderType</th>\n",
       "      <td>4</td>\n",
       "      <td>1</td>\n",
       "      <td>2</td>\n",
       "      <td>2</td>\n",
       "      <td>4</td>\n",
       "    </tr>\n",
       "    <tr>\n",
       "      <th>Borrower1AgeAtApplicationYears</th>\n",
       "      <td>34</td>\n",
       "      <td>36</td>\n",
       "      <td>34</td>\n",
       "      <td>42</td>\n",
       "      <td>66</td>\n",
       "    </tr>\n",
       "    <tr>\n",
       "      <th>Borrower2AgeAtApplicationYears</th>\n",
       "      <td>998</td>\n",
       "      <td>33</td>\n",
       "      <td>36</td>\n",
       "      <td>43</td>\n",
       "      <td>998</td>\n",
       "    </tr>\n",
       "    <tr>\n",
       "      <th>PropertyUsageType</th>\n",
       "      <td>1</td>\n",
       "      <td>1</td>\n",
       "      <td>1</td>\n",
       "      <td>1</td>\n",
       "      <td>1</td>\n",
       "    </tr>\n",
       "    <tr>\n",
       "      <th>PropertyUnitCount</th>\n",
       "      <td>1</td>\n",
       "      <td>1</td>\n",
       "      <td>1</td>\n",
       "      <td>1</td>\n",
       "      <td>1</td>\n",
       "    </tr>\n",
       "    <tr>\n",
       "      <th>NoteRatePercent</th>\n",
       "      <td>4</td>\n",
       "      <td>4.25</td>\n",
       "      <td>4.25</td>\n",
       "      <td>4.875</td>\n",
       "      <td>4.625</td>\n",
       "    </tr>\n",
       "    <tr>\n",
       "      <th>NoteAmount</th>\n",
       "      <td>319113</td>\n",
       "      <td>248005</td>\n",
       "      <td>211105</td>\n",
       "      <td>210000</td>\n",
       "      <td>233200</td>\n",
       "    </tr>\n",
       "    <tr>\n",
       "      <th>HousingExpenseRatioPercent</th>\n",
       "      <td>30.17</td>\n",
       "      <td>25.42</td>\n",
       "      <td>28.42</td>\n",
       "      <td>17.46</td>\n",
       "      <td>14.85</td>\n",
       "    </tr>\n",
       "    <tr>\n",
       "      <th>TotalDebtExpenseRatioPercent</th>\n",
       "      <td>40.46</td>\n",
       "      <td>45.67</td>\n",
       "      <td>46.23</td>\n",
       "      <td>36.88</td>\n",
       "      <td>34.95</td>\n",
       "    </tr>\n",
       "    <tr>\n",
       "      <th>Borrower1CreditScoreValue</th>\n",
       "      <td>1</td>\n",
       "      <td>3</td>\n",
       "      <td>2</td>\n",
       "      <td>4</td>\n",
       "      <td>5</td>\n",
       "    </tr>\n",
       "    <tr>\n",
       "      <th>Borrower2CreditScoreValue</th>\n",
       "      <td>9</td>\n",
       "      <td>2</td>\n",
       "      <td>3</td>\n",
       "      <td>2</td>\n",
       "      <td>9</td>\n",
       "    </tr>\n",
       "    <tr>\n",
       "      <th>PMICoveragePercent</th>\n",
       "      <td>0</td>\n",
       "      <td>0</td>\n",
       "      <td>0</td>\n",
       "      <td>0</td>\n",
       "      <td>0</td>\n",
       "    </tr>\n",
       "    <tr>\n",
       "      <th>EmploymentBorrowerSelfEmployed</th>\n",
       "      <td>1</td>\n",
       "      <td>1</td>\n",
       "      <td>1</td>\n",
       "      <td>1</td>\n",
       "      <td>1</td>\n",
       "    </tr>\n",
       "    <tr>\n",
       "      <th>PropertyType</th>\n",
       "      <td>PT01</td>\n",
       "      <td>PT01</td>\n",
       "      <td>PT01</td>\n",
       "      <td>PT01</td>\n",
       "      <td>PT01</td>\n",
       "    </tr>\n",
       "    <tr>\n",
       "      <th>Borrower1EthnicityType</th>\n",
       "      <td>2</td>\n",
       "      <td>2</td>\n",
       "      <td>2</td>\n",
       "      <td>2</td>\n",
       "      <td>2</td>\n",
       "    </tr>\n",
       "    <tr>\n",
       "      <th>Borrower1Race2Type</th>\n",
       "      <td>7</td>\n",
       "      <td>7</td>\n",
       "      <td>7</td>\n",
       "      <td>7</td>\n",
       "      <td>7</td>\n",
       "    </tr>\n",
       "    <tr>\n",
       "      <th>Borrower1Race3Type</th>\n",
       "      <td>7</td>\n",
       "      <td>7</td>\n",
       "      <td>7</td>\n",
       "      <td>7</td>\n",
       "      <td>7</td>\n",
       "    </tr>\n",
       "    <tr>\n",
       "      <th>Borrower1Race4Type</th>\n",
       "      <td>7</td>\n",
       "      <td>7</td>\n",
       "      <td>7</td>\n",
       "      <td>7</td>\n",
       "      <td>7</td>\n",
       "    </tr>\n",
       "    <tr>\n",
       "      <th>Borrower1Race5Type</th>\n",
       "      <td>7</td>\n",
       "      <td>7</td>\n",
       "      <td>7</td>\n",
       "      <td>7</td>\n",
       "      <td>7</td>\n",
       "    </tr>\n",
       "    <tr>\n",
       "      <th>Borrower2EthnicityType</th>\n",
       "      <td>5</td>\n",
       "      <td>2</td>\n",
       "      <td>2</td>\n",
       "      <td>2</td>\n",
       "      <td>5</td>\n",
       "    </tr>\n",
       "    <tr>\n",
       "      <th>Borrower2Race2Type</th>\n",
       "      <td>8</td>\n",
       "      <td>7</td>\n",
       "      <td>7</td>\n",
       "      <td>7</td>\n",
       "      <td>8</td>\n",
       "    </tr>\n",
       "    <tr>\n",
       "      <th>Borrower2Race3Type</th>\n",
       "      <td>8</td>\n",
       "      <td>7</td>\n",
       "      <td>7</td>\n",
       "      <td>7</td>\n",
       "      <td>8</td>\n",
       "    </tr>\n",
       "    <tr>\n",
       "      <th>Borrower2Race4Type</th>\n",
       "      <td>8</td>\n",
       "      <td>7</td>\n",
       "      <td>7</td>\n",
       "      <td>7</td>\n",
       "      <td>8</td>\n",
       "    </tr>\n",
       "    <tr>\n",
       "      <th>Borrower2Race5Type</th>\n",
       "      <td>8</td>\n",
       "      <td>7</td>\n",
       "      <td>7</td>\n",
       "      <td>7</td>\n",
       "      <td>8</td>\n",
       "    </tr>\n",
       "    <tr>\n",
       "      <th>HOEPALoanStatusType</th>\n",
       "      <td>2</td>\n",
       "      <td>2</td>\n",
       "      <td>2</td>\n",
       "      <td>2</td>\n",
       "      <td>2</td>\n",
       "    </tr>\n",
       "    <tr>\n",
       "      <th>LienPriorityType</th>\n",
       "      <td>1</td>\n",
       "      <td>1</td>\n",
       "      <td>1</td>\n",
       "      <td>1</td>\n",
       "      <td>1</td>\n",
       "    </tr>\n",
       "    <tr>\n",
       "      <th>Borrower1Race1Type_others</th>\n",
       "      <td>White</td>\n",
       "      <td>White</td>\n",
       "      <td>White</td>\n",
       "      <td>White</td>\n",
       "      <td>White</td>\n",
       "    </tr>\n",
       "    <tr>\n",
       "      <th>TotalYearlyIncomeAmount</th>\n",
       "      <td>87696</td>\n",
       "      <td>88992</td>\n",
       "      <td>61716</td>\n",
       "      <td>106392</td>\n",
       "      <td>182880</td>\n",
       "    </tr>\n",
       "    <tr>\n",
       "      <th>Diff_median_yearly_income</th>\n",
       "      <td>3406</td>\n",
       "      <td>4702</td>\n",
       "      <td>-5850</td>\n",
       "      <td>39287</td>\n",
       "      <td>106435</td>\n",
       "    </tr>\n",
       "  </tbody>\n",
       "</table>\n",
       "</div>"
      ],
      "text/plain": [
       "                                              0        1        2        3  \\\n",
       "Year                                       2019     2019     2019     2019   \n",
       "LoanCharacteristicsID                   2407198  2407199  2407200  2407201   \n",
       "Bank                                     Boston   Boston   Boston   Boston   \n",
       "FIPSStateNumericCode                         50       50       50       50   \n",
       "FIPSCountyCode                                7        7       15       17   \n",
       "CoreBasedStatisticalAreaCode              15540    15540    99999    30100   \n",
       "CensusTractIdentifier                        34       29     9532     9594   \n",
       "CensusTractMinorityRatioPercent           4.577    3.421    6.152    3.935   \n",
       "CensusTractMedFamIncomeAmount            132474   100795    49625    62643   \n",
       "LocalAreaMedianIncomeAmount               84290    84290    67566    67105   \n",
       "TotalMonthlyIncomeAmount                   7308     7416     5143     8866   \n",
       "HUDMedianIncomeAmount                     93000    93000    71900    71900   \n",
       "LoanAcquisitionActualUPBAmt              319113   248005   211105   210000   \n",
       "LTVRatioPercent                              99       97       99      100   \n",
       "NoteDate                                   2018     2019     2018     2018   \n",
       "LoanAcquistionDate                         2019     2019     2019     2019   \n",
       "LoanPurposeType                               1        1        1        1   \n",
       "ProductCategoryName                           1        1        1        1   \n",
       "MortgageType                                  1        1        1        2   \n",
       "ScheduledTotalPaymentCount                  360      360      360      360   \n",
       "MortgageLoanSellerInstType                    1        1        1        1   \n",
       "BorrowerCount                                 1        2        2        2   \n",
       "BorrowerFirstTimeHomebuyer                    1        0        0        0   \n",
       "Borrower1Race1Type                        White    White    White    White   \n",
       "Borrower2Race1Type               No Co-Borrower    White    White    White   \n",
       "Borrower1GenderType                           2        2        1        1   \n",
       "Borrower2GenderType                           4        1        2        2   \n",
       "Borrower1AgeAtApplicationYears               34       36       34       42   \n",
       "Borrower2AgeAtApplicationYears              998       33       36       43   \n",
       "PropertyUsageType                             1        1        1        1   \n",
       "PropertyUnitCount                             1        1        1        1   \n",
       "NoteRatePercent                               4     4.25     4.25    4.875   \n",
       "NoteAmount                               319113   248005   211105   210000   \n",
       "HousingExpenseRatioPercent                30.17    25.42    28.42    17.46   \n",
       "TotalDebtExpenseRatioPercent              40.46    45.67    46.23    36.88   \n",
       "Borrower1CreditScoreValue                     1        3        2        4   \n",
       "Borrower2CreditScoreValue                     9        2        3        2   \n",
       "PMICoveragePercent                            0        0        0        0   \n",
       "EmploymentBorrowerSelfEmployed                1        1        1        1   \n",
       "PropertyType                               PT01     PT01     PT01     PT01   \n",
       "Borrower1EthnicityType                        2        2        2        2   \n",
       "Borrower1Race2Type                            7        7        7        7   \n",
       "Borrower1Race3Type                            7        7        7        7   \n",
       "Borrower1Race4Type                            7        7        7        7   \n",
       "Borrower1Race5Type                            7        7        7        7   \n",
       "Borrower2EthnicityType                        5        2        2        2   \n",
       "Borrower2Race2Type                            8        7        7        7   \n",
       "Borrower2Race3Type                            8        7        7        7   \n",
       "Borrower2Race4Type                            8        7        7        7   \n",
       "Borrower2Race5Type                            8        7        7        7   \n",
       "HOEPALoanStatusType                           2        2        2        2   \n",
       "LienPriorityType                              1        1        1        1   \n",
       "Borrower1Race1Type_others                 White    White    White    White   \n",
       "TotalYearlyIncomeAmount                   87696    88992    61716   106392   \n",
       "Diff_median_yearly_income                  3406     4702    -5850    39287   \n",
       "\n",
       "                                              4  \n",
       "Year                                       2019  \n",
       "LoanCharacteristicsID                   2407202  \n",
       "Bank                                     Boston  \n",
       "FIPSStateNumericCode                         23  \n",
       "FIPSCountyCode                               31  \n",
       "CoreBasedStatisticalAreaCode              38860  \n",
       "CensusTractIdentifier                       254  \n",
       "CensusTractMinorityRatioPercent           6.031  \n",
       "CensusTractMedFamIncomeAmount             87679  \n",
       "LocalAreaMedianIncomeAmount               76445  \n",
       "TotalMonthlyIncomeAmount                  15240  \n",
       "HUDMedianIncomeAmount                     90100  \n",
       "LoanAcquisitionActualUPBAmt              233200  \n",
       "LTVRatioPercent                              80  \n",
       "NoteDate                                   2018  \n",
       "LoanAcquistionDate                         2019  \n",
       "LoanPurposeType                               1  \n",
       "ProductCategoryName                           1  \n",
       "MortgageType                                  0  \n",
       "ScheduledTotalPaymentCount                  180  \n",
       "MortgageLoanSellerInstType                    1  \n",
       "BorrowerCount                                 1  \n",
       "BorrowerFirstTimeHomebuyer                    1  \n",
       "Borrower1Race1Type                        White  \n",
       "Borrower2Race1Type               No Co-Borrower  \n",
       "Borrower1GenderType                           2  \n",
       "Borrower2GenderType                           4  \n",
       "Borrower1AgeAtApplicationYears               66  \n",
       "Borrower2AgeAtApplicationYears              998  \n",
       "PropertyUsageType                             1  \n",
       "PropertyUnitCount                             1  \n",
       "NoteRatePercent                           4.625  \n",
       "NoteAmount                               233200  \n",
       "HousingExpenseRatioPercent                14.85  \n",
       "TotalDebtExpenseRatioPercent              34.95  \n",
       "Borrower1CreditScoreValue                     5  \n",
       "Borrower2CreditScoreValue                     9  \n",
       "PMICoveragePercent                            0  \n",
       "EmploymentBorrowerSelfEmployed                1  \n",
       "PropertyType                               PT01  \n",
       "Borrower1EthnicityType                        2  \n",
       "Borrower1Race2Type                            7  \n",
       "Borrower1Race3Type                            7  \n",
       "Borrower1Race4Type                            7  \n",
       "Borrower1Race5Type                            7  \n",
       "Borrower2EthnicityType                        5  \n",
       "Borrower2Race2Type                            8  \n",
       "Borrower2Race3Type                            8  \n",
       "Borrower2Race4Type                            8  \n",
       "Borrower2Race5Type                            8  \n",
       "HOEPALoanStatusType                           2  \n",
       "LienPriorityType                              1  \n",
       "Borrower1Race1Type_others                 White  \n",
       "TotalYearlyIncomeAmount                  182880  \n",
       "Diff_median_yearly_income                106435  "
      ]
     },
     "execution_count": 3,
     "metadata": {},
     "output_type": "execute_result"
    }
   ],
   "source": [
    "#Exploring the data\n",
    "df_2019.head().transpose()"
   ]
  },
  {
   "cell_type": "code",
   "execution_count": 4,
   "metadata": {},
   "outputs": [],
   "source": [
    "#Load the data\n",
    "col_dtype=pd.read_csv('Data/col_dtype.csv')"
   ]
  },
  {
   "cell_type": "code",
   "execution_count": 5,
   "metadata": {},
   "outputs": [
    {
     "data": {
      "text/html": [
       "<div>\n",
       "<style scoped>\n",
       "    .dataframe tbody tr th:only-of-type {\n",
       "        vertical-align: middle;\n",
       "    }\n",
       "\n",
       "    .dataframe tbody tr th {\n",
       "        vertical-align: top;\n",
       "    }\n",
       "\n",
       "    .dataframe thead th {\n",
       "        text-align: right;\n",
       "    }\n",
       "</style>\n",
       "<table border=\"1\" class=\"dataframe\">\n",
       "  <thead>\n",
       "    <tr style=\"text-align: right;\">\n",
       "      <th></th>\n",
       "      <th>Column_Name</th>\n",
       "      <th>Type</th>\n",
       "    </tr>\n",
       "  </thead>\n",
       "  <tbody>\n",
       "    <tr>\n",
       "      <th>0</th>\n",
       "      <td>Year</td>\n",
       "      <td>drop</td>\n",
       "    </tr>\n",
       "    <tr>\n",
       "      <th>1</th>\n",
       "      <td>LoanCharacteristicsID</td>\n",
       "      <td>drop</td>\n",
       "    </tr>\n",
       "    <tr>\n",
       "      <th>2</th>\n",
       "      <td>Bank</td>\n",
       "      <td>cat</td>\n",
       "    </tr>\n",
       "    <tr>\n",
       "      <th>3</th>\n",
       "      <td>FIPSStateNumericCode</td>\n",
       "      <td>no_cn</td>\n",
       "    </tr>\n",
       "    <tr>\n",
       "      <th>4</th>\n",
       "      <td>FIPSCountyCode</td>\n",
       "      <td>drop</td>\n",
       "    </tr>\n",
       "    <tr>\n",
       "      <th>5</th>\n",
       "      <td>CoreBasedStatisticalAreaCode</td>\n",
       "      <td>drop</td>\n",
       "    </tr>\n",
       "    <tr>\n",
       "      <th>6</th>\n",
       "      <td>CensusTractIdentifier</td>\n",
       "      <td>drop</td>\n",
       "    </tr>\n",
       "    <tr>\n",
       "      <th>7</th>\n",
       "      <td>CensusTractMinorityRatioPercent</td>\n",
       "      <td>num</td>\n",
       "    </tr>\n",
       "    <tr>\n",
       "      <th>8</th>\n",
       "      <td>CensusTractMedFamIncomeAmount</td>\n",
       "      <td>drop</td>\n",
       "    </tr>\n",
       "    <tr>\n",
       "      <th>9</th>\n",
       "      <td>LocalAreaMedianIncomeAmount</td>\n",
       "      <td>num</td>\n",
       "    </tr>\n",
       "    <tr>\n",
       "      <th>10</th>\n",
       "      <td>TotalMonthlyIncomeAmount</td>\n",
       "      <td>num</td>\n",
       "    </tr>\n",
       "    <tr>\n",
       "      <th>11</th>\n",
       "      <td>HUDMedianIncomeAmount</td>\n",
       "      <td>num</td>\n",
       "    </tr>\n",
       "    <tr>\n",
       "      <th>12</th>\n",
       "      <td>LoanAcquisitionActualUPBAmt</td>\n",
       "      <td>num</td>\n",
       "    </tr>\n",
       "    <tr>\n",
       "      <th>13</th>\n",
       "      <td>LTVRatioPercent</td>\n",
       "      <td>num</td>\n",
       "    </tr>\n",
       "    <tr>\n",
       "      <th>14</th>\n",
       "      <td>NoteDate</td>\n",
       "      <td>cat</td>\n",
       "    </tr>\n",
       "    <tr>\n",
       "      <th>15</th>\n",
       "      <td>LoanAcquistionDate</td>\n",
       "      <td>drop</td>\n",
       "    </tr>\n",
       "    <tr>\n",
       "      <th>16</th>\n",
       "      <td>LoanPurposeType</td>\n",
       "      <td>cat</td>\n",
       "    </tr>\n",
       "    <tr>\n",
       "      <th>17</th>\n",
       "      <td>ProductCategoryName</td>\n",
       "      <td>cat</td>\n",
       "    </tr>\n",
       "    <tr>\n",
       "      <th>18</th>\n",
       "      <td>MortgageType</td>\n",
       "      <td>cat</td>\n",
       "    </tr>\n",
       "    <tr>\n",
       "      <th>19</th>\n",
       "      <td>ScheduledTotalPaymentCount</td>\n",
       "      <td>num</td>\n",
       "    </tr>\n",
       "    <tr>\n",
       "      <th>20</th>\n",
       "      <td>LoanAmortizationMaxTermMonths</td>\n",
       "      <td>num</td>\n",
       "    </tr>\n",
       "    <tr>\n",
       "      <th>21</th>\n",
       "      <td>MortgageLoanSellerInstType</td>\n",
       "      <td>cat</td>\n",
       "    </tr>\n",
       "    <tr>\n",
       "      <th>22</th>\n",
       "      <td>BorrowerCount</td>\n",
       "      <td>cat</td>\n",
       "    </tr>\n",
       "    <tr>\n",
       "      <th>23</th>\n",
       "      <td>BorrowerFirstTimeHomebuyer</td>\n",
       "      <td>cat</td>\n",
       "    </tr>\n",
       "    <tr>\n",
       "      <th>24</th>\n",
       "      <td>Borrower1Race1Type</td>\n",
       "      <td>cat</td>\n",
       "    </tr>\n",
       "    <tr>\n",
       "      <th>25</th>\n",
       "      <td>Borrower2Race1Type</td>\n",
       "      <td>drop</td>\n",
       "    </tr>\n",
       "    <tr>\n",
       "      <th>26</th>\n",
       "      <td>Borrower1GenderType</td>\n",
       "      <td>cat</td>\n",
       "    </tr>\n",
       "    <tr>\n",
       "      <th>27</th>\n",
       "      <td>Borrower2GenderType</td>\n",
       "      <td>cat</td>\n",
       "    </tr>\n",
       "    <tr>\n",
       "      <th>28</th>\n",
       "      <td>Borrower1AgeAtApplicationYears</td>\n",
       "      <td>num</td>\n",
       "    </tr>\n",
       "    <tr>\n",
       "      <th>29</th>\n",
       "      <td>Borrower2AgeAtApplicationYears</td>\n",
       "      <td>num</td>\n",
       "    </tr>\n",
       "    <tr>\n",
       "      <th>30</th>\n",
       "      <td>PropertyUsageType</td>\n",
       "      <td>cat</td>\n",
       "    </tr>\n",
       "    <tr>\n",
       "      <th>31</th>\n",
       "      <td>PropertyUnitCount</td>\n",
       "      <td>num</td>\n",
       "    </tr>\n",
       "    <tr>\n",
       "      <th>32</th>\n",
       "      <td>NoteRatePercent</td>\n",
       "      <td>num</td>\n",
       "    </tr>\n",
       "    <tr>\n",
       "      <th>33</th>\n",
       "      <td>NoteAmount</td>\n",
       "      <td>num</td>\n",
       "    </tr>\n",
       "    <tr>\n",
       "      <th>34</th>\n",
       "      <td>HousingExpenseRatioPercent</td>\n",
       "      <td>num</td>\n",
       "    </tr>\n",
       "    <tr>\n",
       "      <th>35</th>\n",
       "      <td>TotalDebtExpenseRatioPercent</td>\n",
       "      <td>num</td>\n",
       "    </tr>\n",
       "    <tr>\n",
       "      <th>36</th>\n",
       "      <td>Borrower1CreditScoreValue</td>\n",
       "      <td>cat</td>\n",
       "    </tr>\n",
       "    <tr>\n",
       "      <th>37</th>\n",
       "      <td>Borrower2CreditScoreValue</td>\n",
       "      <td>cat</td>\n",
       "    </tr>\n",
       "    <tr>\n",
       "      <th>38</th>\n",
       "      <td>PMICoveragePercent</td>\n",
       "      <td>num</td>\n",
       "    </tr>\n",
       "    <tr>\n",
       "      <th>39</th>\n",
       "      <td>EmploymentBorrowerSelfEmployed</td>\n",
       "      <td>cat</td>\n",
       "    </tr>\n",
       "    <tr>\n",
       "      <th>40</th>\n",
       "      <td>PropertyType</td>\n",
       "      <td>cat</td>\n",
       "    </tr>\n",
       "    <tr>\n",
       "      <th>41</th>\n",
       "      <td>Borrower1EthnicityType</td>\n",
       "      <td>cat</td>\n",
       "    </tr>\n",
       "    <tr>\n",
       "      <th>42</th>\n",
       "      <td>Borrower1Race2Type</td>\n",
       "      <td>drop</td>\n",
       "    </tr>\n",
       "    <tr>\n",
       "      <th>43</th>\n",
       "      <td>Borrower1Race3Type</td>\n",
       "      <td>drop</td>\n",
       "    </tr>\n",
       "    <tr>\n",
       "      <th>44</th>\n",
       "      <td>Borrower1Race4Type</td>\n",
       "      <td>drop</td>\n",
       "    </tr>\n",
       "    <tr>\n",
       "      <th>45</th>\n",
       "      <td>Borrower1Race5Type</td>\n",
       "      <td>drop</td>\n",
       "    </tr>\n",
       "    <tr>\n",
       "      <th>46</th>\n",
       "      <td>Borrower2EthnicityType</td>\n",
       "      <td>drop</td>\n",
       "    </tr>\n",
       "    <tr>\n",
       "      <th>47</th>\n",
       "      <td>Borrower2Race2Type</td>\n",
       "      <td>drop</td>\n",
       "    </tr>\n",
       "    <tr>\n",
       "      <th>48</th>\n",
       "      <td>Borrower2Race3Type</td>\n",
       "      <td>drop</td>\n",
       "    </tr>\n",
       "    <tr>\n",
       "      <th>49</th>\n",
       "      <td>Borrower2Race4Type</td>\n",
       "      <td>drop</td>\n",
       "    </tr>\n",
       "    <tr>\n",
       "      <th>50</th>\n",
       "      <td>Borrower2Race5Type</td>\n",
       "      <td>drop</td>\n",
       "    </tr>\n",
       "    <tr>\n",
       "      <th>51</th>\n",
       "      <td>HOEPALoanStatusType</td>\n",
       "      <td>cat</td>\n",
       "    </tr>\n",
       "    <tr>\n",
       "      <th>52</th>\n",
       "      <td>LienPriorityType</td>\n",
       "      <td>cat</td>\n",
       "    </tr>\n",
       "    <tr>\n",
       "      <th>53</th>\n",
       "      <td>Borrower1Race1Type_others</td>\n",
       "      <td>drop</td>\n",
       "    </tr>\n",
       "    <tr>\n",
       "      <th>54</th>\n",
       "      <td>Diff_median_yearly_income</td>\n",
       "      <td>num</td>\n",
       "    </tr>\n",
       "  </tbody>\n",
       "</table>\n",
       "</div>"
      ],
      "text/plain": [
       "                        Column_Name   Type\n",
       "0                              Year   drop\n",
       "1             LoanCharacteristicsID   drop\n",
       "2                              Bank    cat\n",
       "3              FIPSStateNumericCode  no_cn\n",
       "4                    FIPSCountyCode   drop\n",
       "5      CoreBasedStatisticalAreaCode   drop\n",
       "6             CensusTractIdentifier   drop\n",
       "7   CensusTractMinorityRatioPercent    num\n",
       "8     CensusTractMedFamIncomeAmount   drop\n",
       "9       LocalAreaMedianIncomeAmount    num\n",
       "10         TotalMonthlyIncomeAmount    num\n",
       "11            HUDMedianIncomeAmount    num\n",
       "12      LoanAcquisitionActualUPBAmt    num\n",
       "13                  LTVRatioPercent    num\n",
       "14                         NoteDate    cat\n",
       "15               LoanAcquistionDate   drop\n",
       "16                  LoanPurposeType    cat\n",
       "17              ProductCategoryName    cat\n",
       "18                     MortgageType    cat\n",
       "19       ScheduledTotalPaymentCount    num\n",
       "20    LoanAmortizationMaxTermMonths    num\n",
       "21       MortgageLoanSellerInstType    cat\n",
       "22                    BorrowerCount    cat\n",
       "23       BorrowerFirstTimeHomebuyer    cat\n",
       "24               Borrower1Race1Type    cat\n",
       "25               Borrower2Race1Type   drop\n",
       "26              Borrower1GenderType    cat\n",
       "27              Borrower2GenderType    cat\n",
       "28   Borrower1AgeAtApplicationYears    num\n",
       "29   Borrower2AgeAtApplicationYears    num\n",
       "30                PropertyUsageType    cat\n",
       "31                PropertyUnitCount    num\n",
       "32                  NoteRatePercent    num\n",
       "33                       NoteAmount    num\n",
       "34       HousingExpenseRatioPercent    num\n",
       "35     TotalDebtExpenseRatioPercent    num\n",
       "36        Borrower1CreditScoreValue    cat\n",
       "37        Borrower2CreditScoreValue    cat\n",
       "38               PMICoveragePercent    num\n",
       "39   EmploymentBorrowerSelfEmployed    cat\n",
       "40                     PropertyType    cat\n",
       "41           Borrower1EthnicityType    cat\n",
       "42               Borrower1Race2Type   drop\n",
       "43               Borrower1Race3Type   drop\n",
       "44               Borrower1Race4Type   drop\n",
       "45               Borrower1Race5Type   drop\n",
       "46           Borrower2EthnicityType   drop\n",
       "47               Borrower2Race2Type   drop\n",
       "48               Borrower2Race3Type   drop\n",
       "49               Borrower2Race4Type   drop\n",
       "50               Borrower2Race5Type   drop\n",
       "51              HOEPALoanStatusType    cat\n",
       "52                 LienPriorityType    cat\n",
       "53        Borrower1Race1Type_others   drop\n",
       "54        Diff_median_yearly_income    num"
      ]
     },
     "execution_count": 5,
     "metadata": {},
     "output_type": "execute_result"
    }
   ],
   "source": [
    "col_dtype"
   ]
  },
  {
   "cell_type": "code",
   "execution_count": 6,
   "metadata": {},
   "outputs": [],
   "source": [
    "#Function to convert col into categorical\n",
    "def convert_to_cat(df_2019,col):\n",
    "    df_2019[col]=df_2019[col].astype('category')\n",
    "    return df_2019"
   ]
  },
  {
   "cell_type": "code",
   "execution_count": 7,
   "metadata": {},
   "outputs": [
    {
     "data": {
      "text/plain": [
       "(82415, 55)"
      ]
     },
     "execution_count": 7,
     "metadata": {},
     "output_type": "execute_result"
    }
   ],
   "source": [
    "#Drop rows with No race info.\n",
    "df_2019=df_2019[df_2019[\"Borrower1Race1Type\"]!='No Information']\n",
    "df_2019.shape"
   ]
  },
  {
   "cell_type": "code",
   "execution_count": 8,
   "metadata": {
    "scrolled": false
   },
   "outputs": [],
   "source": [
    "#Convert Categorical variables\n",
    "df_2019_dumm=df_2019.copy()\n",
    "for i in range(col_dtype.shape[0]):\n",
    "    col=col_dtype.iloc[i,:].Column_Name\n",
    "    if col_dtype.iloc[i,:].Type == 'cat' and col_dtype.iloc[i,:].Column_Name != \"Borrower1Race1Type\" :\n",
    "        df_2019_dumm=convert_to_cat(df_2019_dumm,col)\n",
    "    elif col_dtype.iloc[i,:].Type == 'drop':\n",
    "        df_2019_dumm.drop([col], inplace=True, axis=1)"
   ]
  },
  {
   "cell_type": "code",
   "execution_count": 9,
   "metadata": {},
   "outputs": [
    {
     "data": {
      "text/html": [
       "<div>\n",
       "<style scoped>\n",
       "    .dataframe tbody tr th:only-of-type {\n",
       "        vertical-align: middle;\n",
       "    }\n",
       "\n",
       "    .dataframe tbody tr th {\n",
       "        vertical-align: top;\n",
       "    }\n",
       "\n",
       "    .dataframe thead th {\n",
       "        text-align: right;\n",
       "    }\n",
       "</style>\n",
       "<table border=\"1\" class=\"dataframe\">\n",
       "  <thead>\n",
       "    <tr style=\"text-align: right;\">\n",
       "      <th></th>\n",
       "      <th>Bank</th>\n",
       "      <th>FIPSStateNumericCode</th>\n",
       "      <th>CensusTractMinorityRatioPercent</th>\n",
       "      <th>LocalAreaMedianIncomeAmount</th>\n",
       "      <th>TotalMonthlyIncomeAmount</th>\n",
       "      <th>HUDMedianIncomeAmount</th>\n",
       "      <th>LoanAcquisitionActualUPBAmt</th>\n",
       "      <th>LTVRatioPercent</th>\n",
       "      <th>NoteDate</th>\n",
       "      <th>LoanPurposeType</th>\n",
       "      <th>...</th>\n",
       "      <th>Borrower1CreditScoreValue</th>\n",
       "      <th>Borrower2CreditScoreValue</th>\n",
       "      <th>PMICoveragePercent</th>\n",
       "      <th>EmploymentBorrowerSelfEmployed</th>\n",
       "      <th>PropertyType</th>\n",
       "      <th>Borrower1EthnicityType</th>\n",
       "      <th>HOEPALoanStatusType</th>\n",
       "      <th>LienPriorityType</th>\n",
       "      <th>TotalYearlyIncomeAmount</th>\n",
       "      <th>Diff_median_yearly_income</th>\n",
       "    </tr>\n",
       "  </thead>\n",
       "  <tbody>\n",
       "    <tr>\n",
       "      <th>0</th>\n",
       "      <td>Boston</td>\n",
       "      <td>50</td>\n",
       "      <td>4.577</td>\n",
       "      <td>84290.0</td>\n",
       "      <td>7308</td>\n",
       "      <td>93000</td>\n",
       "      <td>319113</td>\n",
       "      <td>99.0</td>\n",
       "      <td>2018</td>\n",
       "      <td>1</td>\n",
       "      <td>...</td>\n",
       "      <td>1</td>\n",
       "      <td>9</td>\n",
       "      <td>0.0</td>\n",
       "      <td>1</td>\n",
       "      <td>PT01</td>\n",
       "      <td>2</td>\n",
       "      <td>2</td>\n",
       "      <td>1</td>\n",
       "      <td>87696</td>\n",
       "      <td>3406.0</td>\n",
       "    </tr>\n",
       "    <tr>\n",
       "      <th>1</th>\n",
       "      <td>Boston</td>\n",
       "      <td>50</td>\n",
       "      <td>3.421</td>\n",
       "      <td>84290.0</td>\n",
       "      <td>7416</td>\n",
       "      <td>93000</td>\n",
       "      <td>248005</td>\n",
       "      <td>97.0</td>\n",
       "      <td>2019</td>\n",
       "      <td>1</td>\n",
       "      <td>...</td>\n",
       "      <td>3</td>\n",
       "      <td>2</td>\n",
       "      <td>0.0</td>\n",
       "      <td>1</td>\n",
       "      <td>PT01</td>\n",
       "      <td>2</td>\n",
       "      <td>2</td>\n",
       "      <td>1</td>\n",
       "      <td>88992</td>\n",
       "      <td>4702.0</td>\n",
       "    </tr>\n",
       "    <tr>\n",
       "      <th>2</th>\n",
       "      <td>Boston</td>\n",
       "      <td>50</td>\n",
       "      <td>6.152</td>\n",
       "      <td>67566.0</td>\n",
       "      <td>5143</td>\n",
       "      <td>71900</td>\n",
       "      <td>211105</td>\n",
       "      <td>99.0</td>\n",
       "      <td>2018</td>\n",
       "      <td>1</td>\n",
       "      <td>...</td>\n",
       "      <td>2</td>\n",
       "      <td>3</td>\n",
       "      <td>0.0</td>\n",
       "      <td>1</td>\n",
       "      <td>PT01</td>\n",
       "      <td>2</td>\n",
       "      <td>2</td>\n",
       "      <td>1</td>\n",
       "      <td>61716</td>\n",
       "      <td>-5850.0</td>\n",
       "    </tr>\n",
       "    <tr>\n",
       "      <th>3</th>\n",
       "      <td>Boston</td>\n",
       "      <td>50</td>\n",
       "      <td>3.935</td>\n",
       "      <td>67105.0</td>\n",
       "      <td>8866</td>\n",
       "      <td>71900</td>\n",
       "      <td>210000</td>\n",
       "      <td>100.0</td>\n",
       "      <td>2018</td>\n",
       "      <td>1</td>\n",
       "      <td>...</td>\n",
       "      <td>4</td>\n",
       "      <td>2</td>\n",
       "      <td>0.0</td>\n",
       "      <td>1</td>\n",
       "      <td>PT01</td>\n",
       "      <td>2</td>\n",
       "      <td>2</td>\n",
       "      <td>1</td>\n",
       "      <td>106392</td>\n",
       "      <td>39287.0</td>\n",
       "    </tr>\n",
       "    <tr>\n",
       "      <th>4</th>\n",
       "      <td>Boston</td>\n",
       "      <td>23</td>\n",
       "      <td>6.031</td>\n",
       "      <td>76445.0</td>\n",
       "      <td>15240</td>\n",
       "      <td>90100</td>\n",
       "      <td>233200</td>\n",
       "      <td>80.0</td>\n",
       "      <td>2018</td>\n",
       "      <td>1</td>\n",
       "      <td>...</td>\n",
       "      <td>5</td>\n",
       "      <td>9</td>\n",
       "      <td>0.0</td>\n",
       "      <td>1</td>\n",
       "      <td>PT01</td>\n",
       "      <td>2</td>\n",
       "      <td>2</td>\n",
       "      <td>1</td>\n",
       "      <td>182880</td>\n",
       "      <td>106435.0</td>\n",
       "    </tr>\n",
       "    <tr>\n",
       "      <th>...</th>\n",
       "      <td>...</td>\n",
       "      <td>...</td>\n",
       "      <td>...</td>\n",
       "      <td>...</td>\n",
       "      <td>...</td>\n",
       "      <td>...</td>\n",
       "      <td>...</td>\n",
       "      <td>...</td>\n",
       "      <td>...</td>\n",
       "      <td>...</td>\n",
       "      <td>...</td>\n",
       "      <td>...</td>\n",
       "      <td>...</td>\n",
       "      <td>...</td>\n",
       "      <td>...</td>\n",
       "      <td>...</td>\n",
       "      <td>...</td>\n",
       "      <td>...</td>\n",
       "      <td>...</td>\n",
       "      <td>...</td>\n",
       "      <td>...</td>\n",
       "    </tr>\n",
       "    <tr>\n",
       "      <th>89762</th>\n",
       "      <td>Topeka</td>\n",
       "      <td>31</td>\n",
       "      <td>17.119</td>\n",
       "      <td>69210.0</td>\n",
       "      <td>3275</td>\n",
       "      <td>70000</td>\n",
       "      <td>133000</td>\n",
       "      <td>95.0</td>\n",
       "      <td>2019</td>\n",
       "      <td>1</td>\n",
       "      <td>...</td>\n",
       "      <td>5</td>\n",
       "      <td>9</td>\n",
       "      <td>30.0</td>\n",
       "      <td>0</td>\n",
       "      <td>PT01</td>\n",
       "      <td>2</td>\n",
       "      <td>2</td>\n",
       "      <td>1</td>\n",
       "      <td>39300</td>\n",
       "      <td>-29910.0</td>\n",
       "    </tr>\n",
       "    <tr>\n",
       "      <th>89763</th>\n",
       "      <td>Topeka</td>\n",
       "      <td>31</td>\n",
       "      <td>5.698</td>\n",
       "      <td>69210.0</td>\n",
       "      <td>11500</td>\n",
       "      <td>70000</td>\n",
       "      <td>295000</td>\n",
       "      <td>84.0</td>\n",
       "      <td>2019</td>\n",
       "      <td>1</td>\n",
       "      <td>...</td>\n",
       "      <td>5</td>\n",
       "      <td>5</td>\n",
       "      <td>6.0</td>\n",
       "      <td>0</td>\n",
       "      <td>PT01</td>\n",
       "      <td>2</td>\n",
       "      <td>2</td>\n",
       "      <td>1</td>\n",
       "      <td>138000</td>\n",
       "      <td>68790.0</td>\n",
       "    </tr>\n",
       "    <tr>\n",
       "      <th>89764</th>\n",
       "      <td>Topeka</td>\n",
       "      <td>31</td>\n",
       "      <td>13.887</td>\n",
       "      <td>73964.0</td>\n",
       "      <td>4298</td>\n",
       "      <td>75200</td>\n",
       "      <td>77250</td>\n",
       "      <td>46.0</td>\n",
       "      <td>2019</td>\n",
       "      <td>6</td>\n",
       "      <td>...</td>\n",
       "      <td>5</td>\n",
       "      <td>5</td>\n",
       "      <td>0.0</td>\n",
       "      <td>0</td>\n",
       "      <td>PT01</td>\n",
       "      <td>2</td>\n",
       "      <td>2</td>\n",
       "      <td>1</td>\n",
       "      <td>51576</td>\n",
       "      <td>-22388.0</td>\n",
       "    </tr>\n",
       "    <tr>\n",
       "      <th>89765</th>\n",
       "      <td>Topeka</td>\n",
       "      <td>31</td>\n",
       "      <td>6.373</td>\n",
       "      <td>69210.0</td>\n",
       "      <td>6810</td>\n",
       "      <td>70000</td>\n",
       "      <td>207100</td>\n",
       "      <td>95.0</td>\n",
       "      <td>2019</td>\n",
       "      <td>1</td>\n",
       "      <td>...</td>\n",
       "      <td>4</td>\n",
       "      <td>4</td>\n",
       "      <td>30.0</td>\n",
       "      <td>1</td>\n",
       "      <td>PT01</td>\n",
       "      <td>2</td>\n",
       "      <td>2</td>\n",
       "      <td>1</td>\n",
       "      <td>81720</td>\n",
       "      <td>12510.0</td>\n",
       "    </tr>\n",
       "    <tr>\n",
       "      <th>89766</th>\n",
       "      <td>Topeka</td>\n",
       "      <td>31</td>\n",
       "      <td>3.080</td>\n",
       "      <td>69210.0</td>\n",
       "      <td>9649</td>\n",
       "      <td>70000</td>\n",
       "      <td>184000</td>\n",
       "      <td>80.0</td>\n",
       "      <td>2019</td>\n",
       "      <td>1</td>\n",
       "      <td>...</td>\n",
       "      <td>5</td>\n",
       "      <td>5</td>\n",
       "      <td>0.0</td>\n",
       "      <td>0</td>\n",
       "      <td>PT01</td>\n",
       "      <td>2</td>\n",
       "      <td>2</td>\n",
       "      <td>1</td>\n",
       "      <td>115788</td>\n",
       "      <td>46578.0</td>\n",
       "    </tr>\n",
       "  </tbody>\n",
       "</table>\n",
       "<p>82415 rows × 37 columns</p>\n",
       "</div>"
      ],
      "text/plain": [
       "         Bank  FIPSStateNumericCode  CensusTractMinorityRatioPercent  \\\n",
       "0      Boston                    50                            4.577   \n",
       "1      Boston                    50                            3.421   \n",
       "2      Boston                    50                            6.152   \n",
       "3      Boston                    50                            3.935   \n",
       "4      Boston                    23                            6.031   \n",
       "...       ...                   ...                              ...   \n",
       "89762  Topeka                    31                           17.119   \n",
       "89763  Topeka                    31                            5.698   \n",
       "89764  Topeka                    31                           13.887   \n",
       "89765  Topeka                    31                            6.373   \n",
       "89766  Topeka                    31                            3.080   \n",
       "\n",
       "       LocalAreaMedianIncomeAmount  TotalMonthlyIncomeAmount  \\\n",
       "0                          84290.0                      7308   \n",
       "1                          84290.0                      7416   \n",
       "2                          67566.0                      5143   \n",
       "3                          67105.0                      8866   \n",
       "4                          76445.0                     15240   \n",
       "...                            ...                       ...   \n",
       "89762                      69210.0                      3275   \n",
       "89763                      69210.0                     11500   \n",
       "89764                      73964.0                      4298   \n",
       "89765                      69210.0                      6810   \n",
       "89766                      69210.0                      9649   \n",
       "\n",
       "       HUDMedianIncomeAmount  LoanAcquisitionActualUPBAmt  LTVRatioPercent  \\\n",
       "0                      93000                       319113             99.0   \n",
       "1                      93000                       248005             97.0   \n",
       "2                      71900                       211105             99.0   \n",
       "3                      71900                       210000            100.0   \n",
       "4                      90100                       233200             80.0   \n",
       "...                      ...                          ...              ...   \n",
       "89762                  70000                       133000             95.0   \n",
       "89763                  70000                       295000             84.0   \n",
       "89764                  75200                        77250             46.0   \n",
       "89765                  70000                       207100             95.0   \n",
       "89766                  70000                       184000             80.0   \n",
       "\n",
       "      NoteDate LoanPurposeType  ... Borrower1CreditScoreValue  \\\n",
       "0         2018               1  ...                         1   \n",
       "1         2019               1  ...                         3   \n",
       "2         2018               1  ...                         2   \n",
       "3         2018               1  ...                         4   \n",
       "4         2018               1  ...                         5   \n",
       "...        ...             ...  ...                       ...   \n",
       "89762     2019               1  ...                         5   \n",
       "89763     2019               1  ...                         5   \n",
       "89764     2019               6  ...                         5   \n",
       "89765     2019               1  ...                         4   \n",
       "89766     2019               1  ...                         5   \n",
       "\n",
       "      Borrower2CreditScoreValue  PMICoveragePercent  \\\n",
       "0                             9                 0.0   \n",
       "1                             2                 0.0   \n",
       "2                             3                 0.0   \n",
       "3                             2                 0.0   \n",
       "4                             9                 0.0   \n",
       "...                         ...                 ...   \n",
       "89762                         9                30.0   \n",
       "89763                         5                 6.0   \n",
       "89764                         5                 0.0   \n",
       "89765                         4                30.0   \n",
       "89766                         5                 0.0   \n",
       "\n",
       "      EmploymentBorrowerSelfEmployed PropertyType Borrower1EthnicityType  \\\n",
       "0                                  1         PT01                      2   \n",
       "1                                  1         PT01                      2   \n",
       "2                                  1         PT01                      2   \n",
       "3                                  1         PT01                      2   \n",
       "4                                  1         PT01                      2   \n",
       "...                              ...          ...                    ...   \n",
       "89762                              0         PT01                      2   \n",
       "89763                              0         PT01                      2   \n",
       "89764                              0         PT01                      2   \n",
       "89765                              1         PT01                      2   \n",
       "89766                              0         PT01                      2   \n",
       "\n",
       "      HOEPALoanStatusType LienPriorityType TotalYearlyIncomeAmount  \\\n",
       "0                       2                1                   87696   \n",
       "1                       2                1                   88992   \n",
       "2                       2                1                   61716   \n",
       "3                       2                1                  106392   \n",
       "4                       2                1                  182880   \n",
       "...                   ...              ...                     ...   \n",
       "89762                   2                1                   39300   \n",
       "89763                   2                1                  138000   \n",
       "89764                   2                1                   51576   \n",
       "89765                   2                1                   81720   \n",
       "89766                   2                1                  115788   \n",
       "\n",
       "       Diff_median_yearly_income  \n",
       "0                         3406.0  \n",
       "1                         4702.0  \n",
       "2                        -5850.0  \n",
       "3                        39287.0  \n",
       "4                       106435.0  \n",
       "...                          ...  \n",
       "89762                   -29910.0  \n",
       "89763                    68790.0  \n",
       "89764                   -22388.0  \n",
       "89765                    12510.0  \n",
       "89766                    46578.0  \n",
       "\n",
       "[82415 rows x 37 columns]"
      ]
     },
     "execution_count": 9,
     "metadata": {},
     "output_type": "execute_result"
    }
   ],
   "source": [
    "df_2019_dumm"
   ]
  },
  {
   "cell_type": "code",
   "execution_count": 10,
   "metadata": {},
   "outputs": [
    {
     "data": {
      "text/plain": [
       "Bank                               category\n",
       "FIPSStateNumericCode                  int64\n",
       "CensusTractMinorityRatioPercent     float64\n",
       "LocalAreaMedianIncomeAmount         float64\n",
       "TotalMonthlyIncomeAmount              int64\n",
       "HUDMedianIncomeAmount                 int64\n",
       "LoanAcquisitionActualUPBAmt           int64\n",
       "LTVRatioPercent                     float64\n",
       "NoteDate                           category\n",
       "LoanPurposeType                    category\n",
       "ProductCategoryName                category\n",
       "MortgageType                       category\n",
       "ScheduledTotalPaymentCount            int64\n",
       "MortgageLoanSellerInstType         category\n",
       "BorrowerCount                      category\n",
       "BorrowerFirstTimeHomebuyer         category\n",
       "Borrower1Race1Type                   object\n",
       "Borrower1GenderType                category\n",
       "Borrower2GenderType                category\n",
       "Borrower1AgeAtApplicationYears        int64\n",
       "Borrower2AgeAtApplicationYears        int64\n",
       "PropertyUsageType                  category\n",
       "PropertyUnitCount                     int64\n",
       "NoteRatePercent                     float64\n",
       "NoteAmount                            int64\n",
       "HousingExpenseRatioPercent          float64\n",
       "TotalDebtExpenseRatioPercent        float64\n",
       "Borrower1CreditScoreValue          category\n",
       "Borrower2CreditScoreValue          category\n",
       "PMICoveragePercent                  float64\n",
       "EmploymentBorrowerSelfEmployed     category\n",
       "PropertyType                       category\n",
       "Borrower1EthnicityType             category\n",
       "HOEPALoanStatusType                category\n",
       "LienPriorityType                   category\n",
       "TotalYearlyIncomeAmount               int64\n",
       "Diff_median_yearly_income           float64\n",
       "dtype: object"
      ]
     },
     "execution_count": 10,
     "metadata": {},
     "output_type": "execute_result"
    }
   ],
   "source": [
    "df_2019_dumm.dtypes"
   ]
  },
  {
   "cell_type": "code",
   "execution_count": 11,
   "metadata": {},
   "outputs": [
    {
     "data": {
      "text/plain": [
       "Bank                               0\n",
       "FIPSStateNumericCode               0\n",
       "CensusTractMinorityRatioPercent    0\n",
       "LocalAreaMedianIncomeAmount        6\n",
       "TotalMonthlyIncomeAmount           0\n",
       "HUDMedianIncomeAmount              0\n",
       "LoanAcquisitionActualUPBAmt        0\n",
       "LTVRatioPercent                    0\n",
       "NoteDate                           0\n",
       "LoanPurposeType                    0\n",
       "ProductCategoryName                0\n",
       "MortgageType                       0\n",
       "ScheduledTotalPaymentCount         0\n",
       "MortgageLoanSellerInstType         0\n",
       "BorrowerCount                      0\n",
       "BorrowerFirstTimeHomebuyer         0\n",
       "Borrower1Race1Type                 0\n",
       "Borrower1GenderType                0\n",
       "Borrower2GenderType                0\n",
       "Borrower1AgeAtApplicationYears     0\n",
       "Borrower2AgeAtApplicationYears     0\n",
       "PropertyUsageType                  0\n",
       "PropertyUnitCount                  0\n",
       "NoteRatePercent                    0\n",
       "NoteAmount                         0\n",
       "HousingExpenseRatioPercent         0\n",
       "TotalDebtExpenseRatioPercent       0\n",
       "Borrower1CreditScoreValue          0\n",
       "Borrower2CreditScoreValue          0\n",
       "PMICoveragePercent                 0\n",
       "EmploymentBorrowerSelfEmployed     0\n",
       "PropertyType                       0\n",
       "Borrower1EthnicityType             0\n",
       "HOEPALoanStatusType                0\n",
       "LienPriorityType                   0\n",
       "TotalYearlyIncomeAmount            0\n",
       "Diff_median_yearly_income          6\n",
       "dtype: int64"
      ]
     },
     "execution_count": 11,
     "metadata": {},
     "output_type": "execute_result"
    }
   ],
   "source": [
    "#Check NA values\n",
    "import numpy as np\n",
    "np.sum(df_2019_dumm.isna())"
   ]
  },
  {
   "cell_type": "code",
   "execution_count": 12,
   "metadata": {},
   "outputs": [],
   "source": [
    "#Convert all the other races to Other Races\n",
    "df_2019_white_n_other=df_2019_dumm.replace({\"Black\":\"Other\",\"Asian\":\"Other\",\"Native Hawaiian\":\"Other\",\"American Indian\":\"Other\"})"
   ]
  },
  {
   "cell_type": "code",
   "execution_count": 13,
   "metadata": {},
   "outputs": [],
   "source": [
    "#Drop NA rows\n",
    "data=df_2019_white_n_other[~df_2019_white_n_other[\"LocalAreaMedianIncomeAmount\"].isna()]"
   ]
  },
  {
   "cell_type": "code",
   "execution_count": 14,
   "metadata": {},
   "outputs": [
    {
     "data": {
      "text/html": [
       "<div>\n",
       "<style scoped>\n",
       "    .dataframe tbody tr th:only-of-type {\n",
       "        vertical-align: middle;\n",
       "    }\n",
       "\n",
       "    .dataframe tbody tr th {\n",
       "        vertical-align: top;\n",
       "    }\n",
       "\n",
       "    .dataframe thead th {\n",
       "        text-align: right;\n",
       "    }\n",
       "</style>\n",
       "<table border=\"1\" class=\"dataframe\">\n",
       "  <thead>\n",
       "    <tr style=\"text-align: right;\">\n",
       "      <th></th>\n",
       "      <th>Bank</th>\n",
       "      <th>FIPSStateNumericCode</th>\n",
       "      <th>CensusTractMinorityRatioPercent</th>\n",
       "      <th>LocalAreaMedianIncomeAmount</th>\n",
       "      <th>TotalMonthlyIncomeAmount</th>\n",
       "      <th>HUDMedianIncomeAmount</th>\n",
       "      <th>LoanAcquisitionActualUPBAmt</th>\n",
       "      <th>LTVRatioPercent</th>\n",
       "      <th>NoteDate</th>\n",
       "      <th>LoanPurposeType</th>\n",
       "      <th>...</th>\n",
       "      <th>Borrower1CreditScoreValue</th>\n",
       "      <th>Borrower2CreditScoreValue</th>\n",
       "      <th>PMICoveragePercent</th>\n",
       "      <th>EmploymentBorrowerSelfEmployed</th>\n",
       "      <th>PropertyType</th>\n",
       "      <th>Borrower1EthnicityType</th>\n",
       "      <th>HOEPALoanStatusType</th>\n",
       "      <th>LienPriorityType</th>\n",
       "      <th>TotalYearlyIncomeAmount</th>\n",
       "      <th>Diff_median_yearly_income</th>\n",
       "    </tr>\n",
       "  </thead>\n",
       "  <tbody>\n",
       "    <tr>\n",
       "      <th>0</th>\n",
       "      <td>Boston</td>\n",
       "      <td>50</td>\n",
       "      <td>4.577</td>\n",
       "      <td>84290.0</td>\n",
       "      <td>7308</td>\n",
       "      <td>93000</td>\n",
       "      <td>319113</td>\n",
       "      <td>99.0</td>\n",
       "      <td>2018</td>\n",
       "      <td>1</td>\n",
       "      <td>...</td>\n",
       "      <td>1</td>\n",
       "      <td>9</td>\n",
       "      <td>0.0</td>\n",
       "      <td>1</td>\n",
       "      <td>PT01</td>\n",
       "      <td>2</td>\n",
       "      <td>2</td>\n",
       "      <td>1</td>\n",
       "      <td>87696</td>\n",
       "      <td>3406.0</td>\n",
       "    </tr>\n",
       "    <tr>\n",
       "      <th>1</th>\n",
       "      <td>Boston</td>\n",
       "      <td>50</td>\n",
       "      <td>3.421</td>\n",
       "      <td>84290.0</td>\n",
       "      <td>7416</td>\n",
       "      <td>93000</td>\n",
       "      <td>248005</td>\n",
       "      <td>97.0</td>\n",
       "      <td>2019</td>\n",
       "      <td>1</td>\n",
       "      <td>...</td>\n",
       "      <td>3</td>\n",
       "      <td>2</td>\n",
       "      <td>0.0</td>\n",
       "      <td>1</td>\n",
       "      <td>PT01</td>\n",
       "      <td>2</td>\n",
       "      <td>2</td>\n",
       "      <td>1</td>\n",
       "      <td>88992</td>\n",
       "      <td>4702.0</td>\n",
       "    </tr>\n",
       "    <tr>\n",
       "      <th>2</th>\n",
       "      <td>Boston</td>\n",
       "      <td>50</td>\n",
       "      <td>6.152</td>\n",
       "      <td>67566.0</td>\n",
       "      <td>5143</td>\n",
       "      <td>71900</td>\n",
       "      <td>211105</td>\n",
       "      <td>99.0</td>\n",
       "      <td>2018</td>\n",
       "      <td>1</td>\n",
       "      <td>...</td>\n",
       "      <td>2</td>\n",
       "      <td>3</td>\n",
       "      <td>0.0</td>\n",
       "      <td>1</td>\n",
       "      <td>PT01</td>\n",
       "      <td>2</td>\n",
       "      <td>2</td>\n",
       "      <td>1</td>\n",
       "      <td>61716</td>\n",
       "      <td>-5850.0</td>\n",
       "    </tr>\n",
       "    <tr>\n",
       "      <th>3</th>\n",
       "      <td>Boston</td>\n",
       "      <td>50</td>\n",
       "      <td>3.935</td>\n",
       "      <td>67105.0</td>\n",
       "      <td>8866</td>\n",
       "      <td>71900</td>\n",
       "      <td>210000</td>\n",
       "      <td>100.0</td>\n",
       "      <td>2018</td>\n",
       "      <td>1</td>\n",
       "      <td>...</td>\n",
       "      <td>4</td>\n",
       "      <td>2</td>\n",
       "      <td>0.0</td>\n",
       "      <td>1</td>\n",
       "      <td>PT01</td>\n",
       "      <td>2</td>\n",
       "      <td>2</td>\n",
       "      <td>1</td>\n",
       "      <td>106392</td>\n",
       "      <td>39287.0</td>\n",
       "    </tr>\n",
       "    <tr>\n",
       "      <th>4</th>\n",
       "      <td>Boston</td>\n",
       "      <td>23</td>\n",
       "      <td>6.031</td>\n",
       "      <td>76445.0</td>\n",
       "      <td>15240</td>\n",
       "      <td>90100</td>\n",
       "      <td>233200</td>\n",
       "      <td>80.0</td>\n",
       "      <td>2018</td>\n",
       "      <td>1</td>\n",
       "      <td>...</td>\n",
       "      <td>5</td>\n",
       "      <td>9</td>\n",
       "      <td>0.0</td>\n",
       "      <td>1</td>\n",
       "      <td>PT01</td>\n",
       "      <td>2</td>\n",
       "      <td>2</td>\n",
       "      <td>1</td>\n",
       "      <td>182880</td>\n",
       "      <td>106435.0</td>\n",
       "    </tr>\n",
       "  </tbody>\n",
       "</table>\n",
       "<p>5 rows × 37 columns</p>\n",
       "</div>"
      ],
      "text/plain": [
       "     Bank  FIPSStateNumericCode  CensusTractMinorityRatioPercent  \\\n",
       "0  Boston                    50                            4.577   \n",
       "1  Boston                    50                            3.421   \n",
       "2  Boston                    50                            6.152   \n",
       "3  Boston                    50                            3.935   \n",
       "4  Boston                    23                            6.031   \n",
       "\n",
       "   LocalAreaMedianIncomeAmount  TotalMonthlyIncomeAmount  \\\n",
       "0                      84290.0                      7308   \n",
       "1                      84290.0                      7416   \n",
       "2                      67566.0                      5143   \n",
       "3                      67105.0                      8866   \n",
       "4                      76445.0                     15240   \n",
       "\n",
       "   HUDMedianIncomeAmount  LoanAcquisitionActualUPBAmt  LTVRatioPercent  \\\n",
       "0                  93000                       319113             99.0   \n",
       "1                  93000                       248005             97.0   \n",
       "2                  71900                       211105             99.0   \n",
       "3                  71900                       210000            100.0   \n",
       "4                  90100                       233200             80.0   \n",
       "\n",
       "  NoteDate LoanPurposeType  ... Borrower1CreditScoreValue  \\\n",
       "0     2018               1  ...                         1   \n",
       "1     2019               1  ...                         3   \n",
       "2     2018               1  ...                         2   \n",
       "3     2018               1  ...                         4   \n",
       "4     2018               1  ...                         5   \n",
       "\n",
       "  Borrower2CreditScoreValue  PMICoveragePercent  \\\n",
       "0                         9                 0.0   \n",
       "1                         2                 0.0   \n",
       "2                         3                 0.0   \n",
       "3                         2                 0.0   \n",
       "4                         9                 0.0   \n",
       "\n",
       "  EmploymentBorrowerSelfEmployed PropertyType Borrower1EthnicityType  \\\n",
       "0                              1         PT01                      2   \n",
       "1                              1         PT01                      2   \n",
       "2                              1         PT01                      2   \n",
       "3                              1         PT01                      2   \n",
       "4                              1         PT01                      2   \n",
       "\n",
       "  HOEPALoanStatusType LienPriorityType TotalYearlyIncomeAmount  \\\n",
       "0                   2                1                   87696   \n",
       "1                   2                1                   88992   \n",
       "2                   2                1                   61716   \n",
       "3                   2                1                  106392   \n",
       "4                   2                1                  182880   \n",
       "\n",
       "   Diff_median_yearly_income  \n",
       "0                     3406.0  \n",
       "1                     4702.0  \n",
       "2                    -5850.0  \n",
       "3                    39287.0  \n",
       "4                   106435.0  \n",
       "\n",
       "[5 rows x 37 columns]"
      ]
     },
     "execution_count": 14,
     "metadata": {},
     "output_type": "execute_result"
    }
   ],
   "source": [
    "data.head()"
   ]
  },
  {
   "cell_type": "code",
   "execution_count": 15,
   "metadata": {},
   "outputs": [],
   "source": [
    "#Import Libraries\n",
    "from sklearn.svm import SVC\n",
    "from sklearn.preprocessing import StandardScaler\n",
    "from sklearn.datasets import make_classification\n",
    "from sklearn.model_selection import train_test_split\n",
    "from sklearn.pipeline import Pipeline\n",
    "from sklearn.preprocessing import OneHotEncoder\n",
    "from sklearn.linear_model import LogisticRegression\n",
    "from sklearn.model_selection import KFold\n",
    "from sklearn.model_selection import cross_val_score"
   ]
  },
  {
   "cell_type": "code",
   "execution_count": 16,
   "metadata": {},
   "outputs": [],
   "source": [
    "#Train test Split\n",
    "y=data[\"Borrower1Race1Type\"]\n",
    "X=data.loc[:, data.columns != 'Borrower1Race1Type']"
   ]
  },
  {
   "cell_type": "code",
   "execution_count": 17,
   "metadata": {},
   "outputs": [
    {
     "data": {
      "text/plain": [
       "White    76980\n",
       "Other     5429\n",
       "Name: Borrower1Race1Type, dtype: int64"
      ]
     },
     "execution_count": 17,
     "metadata": {},
     "output_type": "execute_result"
    }
   ],
   "source": [
    "y.value_counts()"
   ]
  },
  {
   "cell_type": "code",
   "execution_count": 18,
   "metadata": {},
   "outputs": [],
   "source": [
    "#Encode Output Lable\n",
    "from sklearn import preprocessing\n",
    "le = preprocessing.LabelEncoder()\n",
    "le.fit(y)\n",
    "le.classes_\n",
    "y=le.transform(y)"
   ]
  },
  {
   "cell_type": "code",
   "execution_count": 19,
   "metadata": {},
   "outputs": [
    {
     "data": {
      "text/plain": [
       "1    76980\n",
       "0     5429\n",
       "dtype: int64"
      ]
     },
     "execution_count": 19,
     "metadata": {},
     "output_type": "execute_result"
    }
   ],
   "source": [
    "pd.Series(y).value_counts()"
   ]
  },
  {
   "cell_type": "markdown",
   "metadata": {},
   "source": [
    "## Check the Pipeline with Over Sampling"
   ]
  },
  {
   "cell_type": "code",
   "execution_count": 20,
   "metadata": {},
   "outputs": [],
   "source": [
    "from imblearn.over_sampling import RandomOverSampler\n",
    "from imblearn.under_sampling import RandomUnderSampler"
   ]
  },
  {
   "cell_type": "code",
   "execution_count": 27,
   "metadata": {},
   "outputs": [],
   "source": [
    "#Train Test Split\n",
    "#X_train, X_test, y_train, y_test = train_test_split(X_o_resampled, y_o_resampled,random_state=0)\n",
    "X_train, X_test, y_train, y_test = train_test_split(X, y,random_state=0)\n",
    "ros = RandomOverSampler(random_state=0)\n",
    "X_o_resampled, y_o_resampled=ros.fit_resample(X_train, y_train)"
   ]
  },
  {
   "cell_type": "code",
   "execution_count": 28,
   "metadata": {},
   "outputs": [],
   "source": [
    "#Build Pipline\n",
    "pipe = Pipeline([('enc',OneHotEncoder(handle_unknown='ignore')),('scaler', StandardScaler(with_mean=False)),('log_re', LogisticRegression(solver='lbfgs',max_iter=1000))])"
   ]
  },
  {
   "cell_type": "code",
   "execution_count": 29,
   "metadata": {},
   "outputs": [
    {
     "data": {
      "text/plain": [
       "array([0.95916335, 0.95777576, 0.95786237, 0.95725607, 0.956823  ])"
      ]
     },
     "execution_count": 29,
     "metadata": {},
     "output_type": "execute_result"
    }
   ],
   "source": [
    "#Use cross validation to fit the data\n",
    "scores=cross_val_score(pipe, X_o_resampled, y_o_resampled, cv=5)\n",
    "scores"
   ]
  },
  {
   "cell_type": "code",
   "execution_count": 31,
   "metadata": {
    "scrolled": true
   },
   "outputs": [
    {
     "data": {
      "text/plain": [
       "Pipeline(steps=[('enc', OneHotEncoder(handle_unknown='ignore')),\n",
       "                ('scaler', StandardScaler(with_mean=False)),\n",
       "                ('log_re', LogisticRegression(max_iter=1000))])"
      ]
     },
     "execution_count": 31,
     "metadata": {},
     "output_type": "execute_result"
    }
   ],
   "source": [
    "#Fit Pipeline\n",
    "pipe.fit(X_o_resampled, y_o_resampled)"
   ]
  },
  {
   "cell_type": "code",
   "execution_count": 32,
   "metadata": {
    "scrolled": false
   },
   "outputs": [
    {
     "data": {
      "text/plain": [
       "0.8791923506285493"
      ]
     },
     "execution_count": 32,
     "metadata": {},
     "output_type": "execute_result"
    }
   ],
   "source": [
    "#Score on Test Data\n",
    "pipe.score(X_test, y_test)"
   ]
  },
  {
   "cell_type": "markdown",
   "metadata": {},
   "source": [
    "## Check the pipeline with undersample data"
   ]
  },
  {
   "cell_type": "code",
   "execution_count": 42,
   "metadata": {},
   "outputs": [],
   "source": [
    "#Under Sample Data\n",
    "#rus = RandomUnderSampler(random_state=0)\n",
    "#X_u_resampled, y_u_resampled=rus.fit_resample(X, y)"
   ]
  },
  {
   "cell_type": "code",
   "execution_count": 43,
   "metadata": {},
   "outputs": [],
   "source": [
    "#pd.Series(y_u_resampled).value_counts()"
   ]
  },
  {
   "cell_type": "code",
   "execution_count": 44,
   "metadata": {},
   "outputs": [],
   "source": [
    "#Train Test Split\n",
    "X_train, X_test, y_train, y_test = train_test_split(X, y,random_state=0)\n",
    "rus = RandomUnderSampler(random_state=0)\n",
    "X_u_resampled, y_u_resampled=ros.fit_resample(X_train, y_train)"
   ]
  },
  {
   "cell_type": "markdown",
   "metadata": {},
   "source": [
    "## Logistic Regression"
   ]
  },
  {
   "cell_type": "code",
   "execution_count": 45,
   "metadata": {},
   "outputs": [],
   "source": [
    "#Build Pipline using Logistic Regression\n",
    "pipe = Pipeline([('enc',OneHotEncoder(handle_unknown='ignore')),('scaler', StandardScaler(with_mean=False)), ('log_re', LogisticRegression(solver='lbfgs',max_iter=1000))])"
   ]
  },
  {
   "cell_type": "code",
   "execution_count": 46,
   "metadata": {},
   "outputs": [
    {
     "data": {
      "text/plain": [
       "array([0.95916335, 0.95777576, 0.95786237, 0.95725607, 0.956823  ])"
      ]
     },
     "execution_count": 46,
     "metadata": {},
     "output_type": "execute_result"
    }
   ],
   "source": [
    "#Use cross validation to fit the data\n",
    "scores=cross_val_score(pipe, X_u_resampled, y_u_resampled, cv=5)\n",
    "scores"
   ]
  },
  {
   "cell_type": "code",
   "execution_count": 47,
   "metadata": {},
   "outputs": [
    {
     "data": {
      "text/plain": [
       "Pipeline(steps=[('enc', OneHotEncoder(handle_unknown='ignore')),\n",
       "                ('scaler', StandardScaler(with_mean=False)),\n",
       "                ('log_re', LogisticRegression(max_iter=1000))])"
      ]
     },
     "execution_count": 47,
     "metadata": {},
     "output_type": "execute_result"
    }
   ],
   "source": [
    "pipe.fit(X_u_resampled, y_u_resampled)"
   ]
  },
  {
   "cell_type": "code",
   "execution_count": 48,
   "metadata": {},
   "outputs": [
    {
     "data": {
      "text/plain": [
       "0.8791923506285493"
      ]
     },
     "execution_count": 48,
     "metadata": {},
     "output_type": "execute_result"
    }
   ],
   "source": [
    "#Score on Test Data\n",
    "pipe.score(X_test, y_test)"
   ]
  },
  {
   "cell_type": "code",
   "execution_count": 37,
   "metadata": {},
   "outputs": [],
   "source": [
    "#Import Library for ROC and AUC Curve\n",
    "from sklearn.metrics import confusion_matrix,classification_report\n",
    "from sklearn.metrics import roc_curve\n",
    "from sklearn.metrics import roc_auc_score\n",
    "from matplotlib import pyplot"
   ]
  },
  {
   "cell_type": "code",
   "execution_count": 38,
   "metadata": {},
   "outputs": [
    {
     "data": {
      "text/plain": [
       "array([[  297,  1054],\n",
       "       [ 1435, 17817]], dtype=int64)"
      ]
     },
     "execution_count": 38,
     "metadata": {},
     "output_type": "execute_result"
    }
   ],
   "source": [
    "y_pred=pipe.predict(X_test)\n",
    "confusion_matrix(y_test,y_pred)"
   ]
  },
  {
   "cell_type": "code",
   "execution_count": 39,
   "metadata": {},
   "outputs": [],
   "source": [
    "def plot_roc_auc(X_test,y_test):\n",
    "    ns_probs = [0 for _ in range(len(y_test))]\n",
    "    # predict probabilities\n",
    "    lr_probs = pipe.predict_proba(X_test)\n",
    "    # keep probabilities for the positive outcome only\n",
    "    lr_probs = lr_probs[:, 1]\n",
    "    # calculate scores\n",
    "    ns_auc = roc_auc_score(y_test, ns_probs)\n",
    "    lr_auc = roc_auc_score(y_test, lr_probs)\n",
    "    # summarize scores\n",
    "    print('No Racial Disparity: ROC AUC=%.3f' % (ns_auc))\n",
    "    print('Current Classifier: ROC AUC=%.3f' % (lr_auc))\n",
    "    # calculate roc curves\n",
    "    ns_fpr, ns_tpr, _ = roc_curve(y_test, ns_probs)\n",
    "    lr_fpr, lr_tpr, _ = roc_curve(y_test, lr_probs)\n",
    "    # plot the roc curve for the model\n",
    "    pyplot.plot(ns_fpr, ns_tpr, linestyle='--', label='No Racial Disparity')\n",
    "    pyplot.plot(lr_fpr, lr_tpr, marker='.', label='Current Classifier')\n",
    "    # axis labels\n",
    "    pyplot.xlabel('False Positive Rate')\n",
    "    pyplot.ylabel('True Positive Rate')\n",
    "    # show the legend\n",
    "    pyplot.legend()\n",
    "    # show the plot\n",
    "    pyplot.show() "
   ]
  },
  {
   "cell_type": "code",
   "execution_count": 40,
   "metadata": {},
   "outputs": [
    {
     "name": "stdout",
     "output_type": "stream",
     "text": [
      "No Racial Disparity: ROC AUC=0.500\n",
      "Current Classifier: ROC AUC=0.674\n"
     ]
    },
    {
     "data": {
      "image/png": "[encoded data removed]",
      "text/plain": [
       "<Figure size 432x288 with 1 Axes>"
      ]
     },
     "metadata": {
      "needs_background": "light"
     },
     "output_type": "display_data"
    }
   ],
   "source": [
    "plot_roc_auc(X_test,y_test)"
   ]
  },
  {
   "cell_type": "markdown",
   "metadata": {},
   "source": [
    "## Lets Use K-nearest neigbour"
   ]
  },
  {
   "cell_type": "code",
   "execution_count": 42,
   "metadata": {},
   "outputs": [],
   "source": [
    "from sklearn.neighbors import KNeighborsClassifier"
   ]
  },
  {
   "cell_type": "code",
   "execution_count": 43,
   "metadata": {},
   "outputs": [],
   "source": [
    "#Build Pipline using Logistic Regression\n",
    "pipe = Pipeline([('enc',OneHotEncoder(handle_unknown='ignore')),('scaler', StandardScaler(with_mean=False)), ('knn', KNeighborsClassifier(n_neighbors=10))])"
   ]
  },
  {
   "cell_type": "code",
   "execution_count": 44,
   "metadata": {},
   "outputs": [
    {
     "data": {
      "text/plain": [
       "array([0.4966237 , 0.49785144, 0.50399018, 0.49447174, 0.50429975])"
      ]
     },
     "execution_count": 44,
     "metadata": {},
     "output_type": "execute_result"
    }
   ],
   "source": [
    "#Use cross validation to fit the data\n",
    "scores=cross_val_score(pipe, X_train, y_train, cv=5)\n",
    "scores"
   ]
  },
  {
   "cell_type": "code",
   "execution_count": 46,
   "metadata": {},
   "outputs": [
    {
     "data": {
      "text/plain": [
       "Pipeline(steps=[('enc', OneHotEncoder(handle_unknown='ignore')),\n",
       "                ('scaler', StandardScaler(with_mean=False)),\n",
       "                ('knn', KNeighborsClassifier(n_neighbors=10))])"
      ]
     },
     "execution_count": 46,
     "metadata": {},
     "output_type": "execute_result"
    }
   ],
   "source": [
    "#Fit the Pipeline\n",
    "pipe.fit(X_train, y_train)"
   ]
  },
  {
   "cell_type": "code",
   "execution_count": 47,
   "metadata": {},
   "outputs": [
    {
     "data": {
      "text/plain": [
       "0.5376396905317451"
      ]
     },
     "execution_count": 47,
     "metadata": {},
     "output_type": "execute_result"
    }
   ],
   "source": [
    "#Score on Train Data\n",
    "pipe.score(X_train, y_train)"
   ]
  },
  {
   "cell_type": "code",
   "execution_count": 48,
   "metadata": {},
   "outputs": [
    {
     "data": {
      "text/plain": [
       "0.5086556169429097"
      ]
     },
     "execution_count": 48,
     "metadata": {},
     "output_type": "execute_result"
    }
   ],
   "source": [
    "#Score on Test Data\n",
    "pipe.score(X_test, y_test)"
   ]
  },
  {
   "cell_type": "code",
   "execution_count": 49,
   "metadata": {},
   "outputs": [
    {
     "data": {
      "text/plain": [
       "array([[  16, 1317],\n",
       "       [  17, 1365]], dtype=int64)"
      ]
     },
     "execution_count": 49,
     "metadata": {},
     "output_type": "execute_result"
    }
   ],
   "source": [
    "#Confusion Matrix\n",
    "y_pred=pipe.predict(X_test)\n",
    "confusion_matrix(y_test,y_pred)"
   ]
  },
  {
   "cell_type": "code",
   "execution_count": 50,
   "metadata": {},
   "outputs": [
    {
     "name": "stdout",
     "output_type": "stream",
     "text": [
      "No Skill: ROC AUC=0.500\n",
      "Logistic: ROC AUC=0.493\n"
     ]
    },
    {
     "data": {
      "image/png": "[encoded data removed]",
      "text/plain": [
       "<Figure size 432x288 with 1 Axes>"
      ]
     },
     "metadata": {
      "needs_background": "light"
     },
     "output_type": "display_data"
    }
   ],
   "source": [
    "#Plot ROC AUC\n",
    "plot_roc_auc(X_test,y_test)"
   ]
  },
  {
   "cell_type": "markdown",
   "metadata": {},
   "source": [
    "## SVM"
   ]
  },
  {
   "cell_type": "code",
   "execution_count": 51,
   "metadata": {},
   "outputs": [],
   "source": [
    "from sklearn.svm import SVC"
   ]
  },
  {
   "cell_type": "code",
   "execution_count": 52,
   "metadata": {},
   "outputs": [],
   "source": [
    "#Build Pipline using Logistic Regression\n",
    "pipe = Pipeline([('enc',OneHotEncoder(handle_unknown='ignore')),('scaler', StandardScaler(with_mean=False)), ('svc', SVC(kernel='linear'))])"
   ]
  },
  {
   "cell_type": "code",
   "execution_count": 53,
   "metadata": {},
   "outputs": [
    {
     "data": {
      "text/plain": [
       "array([0.63535912, 0.63228975, 0.6427256 , 0.61977887, 0.61977887])"
      ]
     },
     "execution_count": 53,
     "metadata": {},
     "output_type": "execute_result"
    }
   ],
   "source": [
    "#Use cross validation to fit the data\n",
    "scores=cross_val_score(pipe, X_train, y_train, cv=5)\n",
    "scores"
   ]
  },
  {
   "cell_type": "code",
   "execution_count": 54,
   "metadata": {},
   "outputs": [
    {
     "data": {
      "text/plain": [
       "Pipeline(steps=[('enc', OneHotEncoder(handle_unknown='ignore')),\n",
       "                ('scaler', StandardScaler(with_mean=False)),\n",
       "                ('svc', SVC(kernel='linear'))])"
      ]
     },
     "execution_count": 54,
     "metadata": {},
     "output_type": "execute_result"
    }
   ],
   "source": [
    "#Fit the pipe\n",
    "pipe.fit(X_train, y_train)"
   ]
  },
  {
   "cell_type": "code",
   "execution_count": 55,
   "metadata": {},
   "outputs": [
    {
     "data": {
      "text/plain": [
       "0.6401473296500921"
      ]
     },
     "execution_count": 55,
     "metadata": {},
     "output_type": "execute_result"
    }
   ],
   "source": [
    "#Score on Test Data\n",
    "pipe.score(X_test, y_test)"
   ]
  },
  {
   "cell_type": "code",
   "execution_count": 56,
   "metadata": {},
   "outputs": [
    {
     "name": "stdout",
     "output_type": "stream",
     "text": [
      "[[845 488]\n",
      " [489 893]]\n"
     ]
    }
   ],
   "source": [
    "#Confusion Matrix\n",
    "y_pred=pipe.predict(X_test)\n",
    "print(confusion_matrix(y_test,y_pred))"
   ]
  },
  {
   "cell_type": "code",
   "execution_count": 57,
   "metadata": {},
   "outputs": [
    {
     "name": "stdout",
     "output_type": "stream",
     "text": [
      "              precision    recall  f1-score   support\n",
      "\n",
      "           0       0.63      0.63      0.63      1333\n",
      "           1       0.65      0.65      0.65      1382\n",
      "\n",
      "    accuracy                           0.64      2715\n",
      "   macro avg       0.64      0.64      0.64      2715\n",
      "weighted avg       0.64      0.64      0.64      2715\n",
      "\n"
     ]
    }
   ],
   "source": [
    "print(classification_report(y_test,y_pred))"
   ]
  },
  {
   "cell_type": "markdown",
   "metadata": {},
   "source": [
    "## Decision Tree"
   ]
  },
  {
   "cell_type": "code",
   "execution_count": 58,
   "metadata": {},
   "outputs": [],
   "source": [
    "from sklearn.tree import DecisionTreeClassifier"
   ]
  },
  {
   "cell_type": "code",
   "execution_count": 59,
   "metadata": {},
   "outputs": [],
   "source": [
    "#Build Pipline using Logistic Regression\n",
    "pipe = Pipeline([('enc',OneHotEncoder(handle_unknown='ignore')),('scaler', StandardScaler(with_mean=False)), ('dt', DecisionTreeClassifier())])"
   ]
  },
  {
   "cell_type": "code",
   "execution_count": 60,
   "metadata": {},
   "outputs": [
    {
     "data": {
      "text/plain": [
       "array([0.63044813, 0.64088398, 0.62615101, 0.63697789, 0.64864865])"
      ]
     },
     "execution_count": 60,
     "metadata": {},
     "output_type": "execute_result"
    }
   ],
   "source": [
    "#Use cross validation to fit the data\n",
    "scores=cross_val_score(pipe, X_train, y_train, cv=5)\n",
    "scores"
   ]
  },
  {
   "cell_type": "code",
   "execution_count": 61,
   "metadata": {},
   "outputs": [
    {
     "data": {
      "text/plain": [
       "Pipeline(steps=[('enc', OneHotEncoder(handle_unknown='ignore')),\n",
       "                ('scaler', StandardScaler(with_mean=False)),\n",
       "                ('dt', DecisionTreeClassifier())])"
      ]
     },
     "execution_count": 61,
     "metadata": {},
     "output_type": "execute_result"
    }
   ],
   "source": [
    "#Fit the pipe\n",
    "pipe.fit(X_train, y_train)"
   ]
  },
  {
   "cell_type": "code",
   "execution_count": 62,
   "metadata": {},
   "outputs": [
    {
     "data": {
      "text/plain": [
       "0.6537753222836096"
      ]
     },
     "execution_count": 62,
     "metadata": {},
     "output_type": "execute_result"
    }
   ],
   "source": [
    "#Score on Test Data\n",
    "pipe.score(X_test, y_test)"
   ]
  },
  {
   "cell_type": "code",
   "execution_count": 63,
   "metadata": {},
   "outputs": [
    {
     "name": "stdout",
     "output_type": "stream",
     "text": [
      "[[887 446]\n",
      " [494 888]]\n",
      "              precision    recall  f1-score   support\n",
      "\n",
      "           0       0.64      0.67      0.65      1333\n",
      "           1       0.67      0.64      0.65      1382\n",
      "\n",
      "    accuracy                           0.65      2715\n",
      "   macro avg       0.65      0.65      0.65      2715\n",
      "weighted avg       0.65      0.65      0.65      2715\n",
      "\n"
     ]
    }
   ],
   "source": [
    "#Confusion Matrix\n",
    "y_pred=pipe.predict(X_test)\n",
    "print(confusion_matrix(y_test,y_pred))\n",
    "print(classification_report(y_test,y_pred))"
   ]
  },
  {
   "cell_type": "code",
   "execution_count": 64,
   "metadata": {
    "scrolled": true
   },
   "outputs": [
    {
     "name": "stdout",
     "output_type": "stream",
     "text": [
      "No Skill: ROC AUC=0.500\n",
      "Logistic: ROC AUC=0.654\n"
     ]
    },
    {
     "data": {
      "image/png": "[encoded data removed]",
      "text/plain": [
       "<Figure size 432x288 with 1 Axes>"
      ]
     },
     "metadata": {
      "needs_background": "light"
     },
     "output_type": "display_data"
    }
   ],
   "source": [
    "#Plot ROC and AUC\n",
    "plot_roc_auc(X_test,y_test)"
   ]
  },
  {
   "cell_type": "markdown",
   "metadata": {},
   "source": [
    "## Plot Correlation Matrix\n",
    "Now plot correlation matrix to see the relationship between variables."
   ]
  },
  {
   "cell_type": "code",
   "execution_count": 72,
   "metadata": {},
   "outputs": [],
   "source": [
    "#Import Seaborn\n",
    "import seaborn as sns\n",
    "import matplotlib.pyplot as plt"
   ]
  },
  {
   "cell_type": "code",
   "execution_count": 79,
   "metadata": {},
   "outputs": [
    {
     "data": {
      "image/png": "[encoded data removed]",
      "text/plain": [
       "<Figure size 432x288 with 2 Axes>"
      ]
     },
     "metadata": {
      "needs_background": "light"
     },
     "output_type": "display_data"
    }
   ],
   "source": [
    "data.corr()\n",
    "sns.heatmap(\n",
    "    data.corr(), \n",
    "    vmin=-1, vmax=1, center=0,\n",
    "    cmap=sns.diverging_palette(20, 220, n=200),\n",
    "    square=True\n",
    ")\n",
    "plt.show()"
   ]
  },
  {
   "cell_type": "markdown",
   "metadata": {},
   "source": [
    "Hence from the above we find that some independent variables are highly correlated\n",
    "- HUDMedianIncomeAmount and Local Area Median Income\n",
    "- Total Yearly Income Amount and Total Monthly Income\n",
    "- Diffrence between yearly income and local median income Vs Total Monthy Income\n",
    "- Note Amount Vs Loan Acquisation Actual UPB amount\n",
    "\n",
    "To overcome multicollinerity we drop  Total Yearly income ,Diffrence between total income and local median income, Loan Acquisation Actual UPB amount, HUD Median Income Amount.  "
   ]
  },
  {
   "cell_type": "code",
   "execution_count": 80,
   "metadata": {},
   "outputs": [
    {
     "data": {
      "text/plain": [
       "Index(['Bank', 'FIPSStateNumericCode', 'CensusTractMinorityRatioPercent',\n",
       "       'LocalAreaMedianIncomeAmount', 'TotalMonthlyIncomeAmount',\n",
       "       'HUDMedianIncomeAmount', 'LoanAcquisitionActualUPBAmt',\n",
       "       'LTVRatioPercent', 'NoteDate', 'LoanPurposeType', 'ProductCategoryName',\n",
       "       'MortgageType', 'ScheduledTotalPaymentCount',\n",
       "       'MortgageLoanSellerInstType', 'BorrowerCount',\n",
       "       'BorrowerFirstTimeHomebuyer', 'Borrower1Race1Type',\n",
       "       'Borrower1GenderType', 'Borrower2GenderType',\n",
       "       'Borrower1AgeAtApplicationYears', 'Borrower2AgeAtApplicationYears',\n",
       "       'PropertyUsageType', 'PropertyUnitCount', 'NoteRatePercent',\n",
       "       'NoteAmount', 'HousingExpenseRatioPercent',\n",
       "       'TotalDebtExpenseRatioPercent', 'Borrower1CreditScoreValue',\n",
       "       'Borrower2CreditScoreValue', 'PMICoveragePercent',\n",
       "       'EmploymentBorrowerSelfEmployed', 'PropertyType',\n",
       "       'Borrower1EthnicityType', 'HOEPALoanStatusType', 'LienPriorityType',\n",
       "       'TotalYearlyIncomeAmount', 'Diff_median_yearly_income'],\n",
       "      dtype='object')"
      ]
     },
     "execution_count": 80,
     "metadata": {},
     "output_type": "execute_result"
    }
   ],
   "source": [
    "#List Columns\n",
    "data.columns"
   ]
  },
  {
   "cell_type": "code",
   "execution_count": 81,
   "metadata": {},
   "outputs": [],
   "source": [
    "drop_col=['HUDMedianIncomeAmount','TotalYearlyIncomeAmount','Diff_median_yearly_income','LoanAcquisitionActualUPBAmt']\n",
    "df_rmv_multi_coll=data.drop(drop_col, axis = 1)"
   ]
  },
  {
   "cell_type": "code",
   "execution_count": 82,
   "metadata": {},
   "outputs": [
    {
     "data": {
      "text/plain": [
       "Index(['Bank', 'FIPSStateNumericCode', 'CensusTractMinorityRatioPercent',\n",
       "       'LocalAreaMedianIncomeAmount', 'TotalMonthlyIncomeAmount',\n",
       "       'LTVRatioPercent', 'NoteDate', 'LoanPurposeType', 'ProductCategoryName',\n",
       "       'MortgageType', 'ScheduledTotalPaymentCount',\n",
       "       'MortgageLoanSellerInstType', 'BorrowerCount',\n",
       "       'BorrowerFirstTimeHomebuyer', 'Borrower1Race1Type',\n",
       "       'Borrower1GenderType', 'Borrower2GenderType',\n",
       "       'Borrower1AgeAtApplicationYears', 'Borrower2AgeAtApplicationYears',\n",
       "       'PropertyUsageType', 'PropertyUnitCount', 'NoteRatePercent',\n",
       "       'NoteAmount', 'HousingExpenseRatioPercent',\n",
       "       'TotalDebtExpenseRatioPercent', 'Borrower1CreditScoreValue',\n",
       "       'Borrower2CreditScoreValue', 'PMICoveragePercent',\n",
       "       'EmploymentBorrowerSelfEmployed', 'PropertyType',\n",
       "       'Borrower1EthnicityType', 'HOEPALoanStatusType', 'LienPriorityType'],\n",
       "      dtype='object')"
      ]
     },
     "execution_count": 82,
     "metadata": {},
     "output_type": "execute_result"
    }
   ],
   "source": [
    "df_rmv_multi_coll.columns"
   ]
  },
  {
   "cell_type": "markdown",
   "metadata": {},
   "source": [
    "## Train Test Split"
   ]
  },
  {
   "cell_type": "code",
   "execution_count": 91,
   "metadata": {},
   "outputs": [],
   "source": [
    "#Train test Split\n",
    "y=df_rmv_multi_coll[\"Borrower1Race1Type\"]\n",
    "X=df_rmv_multi_coll.loc[:, df_rmv_multi_coll.columns != 'Borrower1Race1Type']"
   ]
  },
  {
   "cell_type": "code",
   "execution_count": 92,
   "metadata": {},
   "outputs": [],
   "source": [
    "#Label Encode Output Variable\n",
    "le = preprocessing.LabelEncoder()\n",
    "le.fit(y)\n",
    "le.classes_\n",
    "y=le.transform(y)"
   ]
  },
  {
   "cell_type": "code",
   "execution_count": 93,
   "metadata": {},
   "outputs": [],
   "source": [
    "#Under Sample Data\n",
    "rus = RandomUnderSampler(random_state=0)\n",
    "X_u_resampled, y_u_resampled=rus.fit_resample(X, y)"
   ]
  },
  {
   "cell_type": "code",
   "execution_count": 94,
   "metadata": {},
   "outputs": [],
   "source": [
    "#Train Test Split\n",
    "X_train, X_test, y_train, y_test = train_test_split(X_u_resampled, y_u_resampled,random_state=0)"
   ]
  },
  {
   "cell_type": "markdown",
   "metadata": {},
   "source": [
    "### Build Logistic Regression"
   ]
  },
  {
   "cell_type": "code",
   "execution_count": 95,
   "metadata": {},
   "outputs": [],
   "source": [
    "#Build Pipline using Logistic Regression\n",
    "pipe = Pipeline([('enc',OneHotEncoder(handle_unknown='ignore')),('scaler', StandardScaler(with_mean=False)), ('log_re', LogisticRegression(solver='lbfgs',max_iter=1000))])"
   ]
  },
  {
   "cell_type": "code",
   "execution_count": 96,
   "metadata": {},
   "outputs": [
    {
     "data": {
      "text/plain": [
       "array([0.6402701 , 0.63228975, 0.64947821, 0.61179361, 0.61977887])"
      ]
     },
     "execution_count": 96,
     "metadata": {},
     "output_type": "execute_result"
    }
   ],
   "source": [
    "#Use cross validation to fit the data\n",
    "scores=cross_val_score(pipe, X_train, y_train, cv=5)\n",
    "scores"
   ]
  },
  {
   "cell_type": "code",
   "execution_count": 89,
   "metadata": {},
   "outputs": [
    {
     "data": {
      "text/plain": [
       "Pipeline(steps=[('enc', OneHotEncoder(handle_unknown='ignore')),\n",
       "                ('scaler', StandardScaler(with_mean=False)),\n",
       "                ('log_re', LogisticRegression(max_iter=1000))])"
      ]
     },
     "execution_count": 89,
     "metadata": {},
     "output_type": "execute_result"
    }
   ],
   "source": [
    "#Fit the Pipeline\n",
    "pipe.fit(X_train, y_train)"
   ]
  },
  {
   "cell_type": "code",
   "execution_count": 99,
   "metadata": {},
   "outputs": [
    {
     "data": {
      "text/plain": [
       "0.6408839779005525"
      ]
     },
     "execution_count": 99,
     "metadata": {},
     "output_type": "execute_result"
    }
   ],
   "source": [
    "#Score on Test Data\n",
    "pipe.score(X_test, y_test)"
   ]
  },
  {
   "cell_type": "code",
   "execution_count": 100,
   "metadata": {},
   "outputs": [
    {
     "data": {
      "text/plain": [
       "array([[863, 470],\n",
       "       [505, 877]], dtype=int64)"
      ]
     },
     "execution_count": 100,
     "metadata": {},
     "output_type": "execute_result"
    }
   ],
   "source": [
    "y_pred=pipe.predict(X_test)\n",
    "confusion_matrix(y_test,y_pred)"
   ]
  },
  {
   "cell_type": "code",
   "execution_count": 101,
   "metadata": {},
   "outputs": [
    {
     "name": "stdout",
     "output_type": "stream",
     "text": [
      "              precision    recall  f1-score   support\n",
      "\n",
      "           0       0.63      0.65      0.64      1333\n",
      "           1       0.65      0.63      0.64      1382\n",
      "\n",
      "    accuracy                           0.64      2715\n",
      "   macro avg       0.64      0.64      0.64      2715\n",
      "weighted avg       0.64      0.64      0.64      2715\n",
      "\n"
     ]
    }
   ],
   "source": [
    "print(classification_report(y_test,y_pred))"
   ]
  },
  {
   "cell_type": "code",
   "execution_count": 102,
   "metadata": {},
   "outputs": [
    {
     "name": "stdout",
     "output_type": "stream",
     "text": [
      "No Skill: ROC AUC=0.500\n",
      "Logistic: ROC AUC=0.685\n"
     ]
    },
    {
     "data": {
      "image/png": "[encoded data removed]",
      "text/plain": [
       "<Figure size 432x288 with 1 Axes>"
      ]
     },
     "metadata": {
      "needs_background": "light"
     },
     "output_type": "display_data"
    }
   ],
   "source": [
    "#Plot ROC AUC\n",
    "plot_roc_auc(X_test,y_test)"
   ]
  },
  {
   "cell_type": "markdown",
   "metadata": {},
   "source": [
    "## SVM"
   ]
  },
  {
   "cell_type": "code",
   "execution_count": 107,
   "metadata": {},
   "outputs": [],
   "source": [
    "#Build Pipline using Logistic Regression\n",
    "pipe = Pipeline([('enc',OneHotEncoder(handle_unknown='ignore')),('scaler', StandardScaler(with_mean=False)), ('svc', SVC(kernel='linear'))])"
   ]
  },
  {
   "cell_type": "code",
   "execution_count": 108,
   "metadata": {},
   "outputs": [
    {
     "data": {
      "text/plain": [
       "array([0.62983425, 0.62676489, 0.63904236, 0.60380835, 0.61609337])"
      ]
     },
     "execution_count": 108,
     "metadata": {},
     "output_type": "execute_result"
    }
   ],
   "source": [
    "#Use cross validation to fit the data\n",
    "scores=cross_val_score(pipe, X_train, y_train, cv=5)\n",
    "scores"
   ]
  },
  {
   "cell_type": "code",
   "execution_count": 109,
   "metadata": {},
   "outputs": [
    {
     "data": {
      "text/plain": [
       "Pipeline(steps=[('enc', OneHotEncoder(handle_unknown='ignore')),\n",
       "                ('scaler', StandardScaler(with_mean=False)),\n",
       "                ('svc', SVC(kernel='linear'))])"
      ]
     },
     "execution_count": 109,
     "metadata": {},
     "output_type": "execute_result"
    }
   ],
   "source": [
    "#Fit the pipe\n",
    "pipe.fit(X_train, y_train)"
   ]
  },
  {
   "cell_type": "code",
   "execution_count": 110,
   "metadata": {},
   "outputs": [
    {
     "name": "stdout",
     "output_type": "stream",
     "text": [
      "[[849 484]\n",
      " [522 860]]\n",
      "              precision    recall  f1-score   support\n",
      "\n",
      "           0       0.62      0.64      0.63      1333\n",
      "           1       0.64      0.62      0.63      1382\n",
      "\n",
      "    accuracy                           0.63      2715\n",
      "   macro avg       0.63      0.63      0.63      2715\n",
      "weighted avg       0.63      0.63      0.63      2715\n",
      "\n"
     ]
    }
   ],
   "source": [
    "#Confusion Matrix\n",
    "y_pred=pipe.predict(X_test)\n",
    "print(confusion_matrix(y_test,y_pred))\n",
    "print(classification_report(y_test,y_pred))"
   ]
  },
  {
   "cell_type": "code",
   "execution_count": 111,
   "metadata": {},
   "outputs": [
    {
     "data": {
      "text/plain": [
       "0.6294659300184162"
      ]
     },
     "execution_count": 111,
     "metadata": {},
     "output_type": "execute_result"
    }
   ],
   "source": [
    "#Score on Test Data\n",
    "pipe.score(X_test, y_test)"
   ]
  },
  {
   "cell_type": "markdown",
   "metadata": {},
   "source": [
    "## Decision Tree"
   ]
  },
  {
   "cell_type": "code",
   "execution_count": 113,
   "metadata": {},
   "outputs": [],
   "source": [
    "#Build Pipline using Logistic Regression\n",
    "pipe = Pipeline([('enc',OneHotEncoder(handle_unknown='ignore')),('scaler', StandardScaler(with_mean=False)), ('dt', DecisionTreeClassifier())])"
   ]
  },
  {
   "cell_type": "code",
   "execution_count": 114,
   "metadata": {},
   "outputs": [
    {
     "data": {
      "text/plain": [
       "array([0.62676489, 0.64333947, 0.631062  , 0.62899263, 0.63574939])"
      ]
     },
     "execution_count": 114,
     "metadata": {},
     "output_type": "execute_result"
    }
   ],
   "source": [
    "#Use cross validation to fit the data\n",
    "scores=cross_val_score(pipe, X_train, y_train, cv=5)\n",
    "scores"
   ]
  },
  {
   "cell_type": "code",
   "execution_count": 115,
   "metadata": {},
   "outputs": [
    {
     "data": {
      "text/plain": [
       "Pipeline(steps=[('enc', OneHotEncoder(handle_unknown='ignore')),\n",
       "                ('scaler', StandardScaler(with_mean=False)),\n",
       "                ('dt', DecisionTreeClassifier())])"
      ]
     },
     "execution_count": 115,
     "metadata": {},
     "output_type": "execute_result"
    }
   ],
   "source": [
    "#Fit the pipe\n",
    "pipe.fit(X_train, y_train)"
   ]
  },
  {
   "cell_type": "code",
   "execution_count": 116,
   "metadata": {},
   "outputs": [
    {
     "name": "stdout",
     "output_type": "stream",
     "text": [
      "[[895 438]\n",
      " [505 877]]\n",
      "              precision    recall  f1-score   support\n",
      "\n",
      "           0       0.64      0.67      0.65      1333\n",
      "           1       0.67      0.63      0.65      1382\n",
      "\n",
      "    accuracy                           0.65      2715\n",
      "   macro avg       0.65      0.65      0.65      2715\n",
      "weighted avg       0.65      0.65      0.65      2715\n",
      "\n"
     ]
    }
   ],
   "source": [
    "#Confusion Matrix\n",
    "y_pred=pipe.predict(X_test)\n",
    "print(confusion_matrix(y_test,y_pred))\n",
    "print(classification_report(y_test,y_pred))"
   ]
  },
  {
   "cell_type": "code",
   "execution_count": 117,
   "metadata": {},
   "outputs": [
    {
     "data": {
      "text/plain": [
       "0.652670349907919"
      ]
     },
     "execution_count": 117,
     "metadata": {},
     "output_type": "execute_result"
    }
   ],
   "source": [
    "#Score on Test Data\n",
    "pipe.score(X_test, y_test)"
   ]
  },
  {
   "cell_type": "code",
   "execution_count": 118,
   "metadata": {},
   "outputs": [
    {
     "name": "stdout",
     "output_type": "stream",
     "text": [
      "No Skill: ROC AUC=0.500\n",
      "Logistic: ROC AUC=0.653\n"
     ]
    },
    {
     "data": {
      "image/png": "[encoded data removed]",
      "text/plain": [
       "<Figure size 432x288 with 1 Axes>"
      ]
     },
     "metadata": {
      "needs_background": "light"
     },
     "output_type": "display_data"
    }
   ],
   "source": [
    "#Plot ROC and AUC\n",
    "plot_roc_auc(X_test,y_test)"
   ]
  },
  {
   "cell_type": "markdown",
   "metadata": {},
   "source": [
    "## Random Forest"
   ]
  },
  {
   "cell_type": "code",
   "execution_count": 119,
   "metadata": {},
   "outputs": [],
   "source": [
    "from sklearn.ensemble import RandomForestClassifier"
   ]
  },
  {
   "cell_type": "code",
   "execution_count": 142,
   "metadata": {},
   "outputs": [],
   "source": [
    "#Build Pipline using Logistic Regression\n",
    "pipe = Pipeline([('enc',OneHotEncoder(handle_unknown='ignore')),('scaler', StandardScaler(with_mean=False)), ('rand_for', RandomForestClassifier(n_estimators=20, max_depth=None,min_samples_split=2, random_state=0))])"
   ]
  },
  {
   "cell_type": "code",
   "execution_count": 143,
   "metadata": {},
   "outputs": [
    {
     "data": {
      "text/plain": [
       "array([0.67833026, 0.66421117, 0.6728054 , 0.65724816, 0.67137592])"
      ]
     },
     "execution_count": 143,
     "metadata": {},
     "output_type": "execute_result"
    }
   ],
   "source": [
    "#Use cross validation to fit the data\n",
    "scores=cross_val_score(pipe, X_train, y_train, cv=5)\n",
    "scores"
   ]
  },
  {
   "cell_type": "code",
   "execution_count": 144,
   "metadata": {},
   "outputs": [
    {
     "data": {
      "text/plain": [
       "Pipeline(steps=[('enc', OneHotEncoder(handle_unknown='ignore')),\n",
       "                ('scaler', StandardScaler(with_mean=False)),\n",
       "                ('rand_for',\n",
       "                 RandomForestClassifier(n_estimators=20, random_state=0))])"
      ]
     },
     "execution_count": 144,
     "metadata": {},
     "output_type": "execute_result"
    }
   ],
   "source": [
    "#Fit the pipe\n",
    "pipe.fit(X_train, y_train)"
   ]
  },
  {
   "cell_type": "code",
   "execution_count": 145,
   "metadata": {},
   "outputs": [
    {
     "name": "stdout",
     "output_type": "stream",
     "text": [
      "[[991 342]\n",
      " [513 869]]\n",
      "              precision    recall  f1-score   support\n",
      "\n",
      "           0       0.66      0.74      0.70      1333\n",
      "           1       0.72      0.63      0.67      1382\n",
      "\n",
      "    accuracy                           0.69      2715\n",
      "   macro avg       0.69      0.69      0.68      2715\n",
      "weighted avg       0.69      0.69      0.68      2715\n",
      "\n"
     ]
    }
   ],
   "source": [
    "#Confusion Matrix\n",
    "y_pred=pipe.predict(X_test)\n",
    "print(confusion_matrix(y_test,y_pred))\n",
    "print(classification_report(y_test,y_pred))"
   ]
  },
  {
   "cell_type": "code",
   "execution_count": 146,
   "metadata": {},
   "outputs": [
    {
     "data": {
      "text/plain": [
       "0.6850828729281768"
      ]
     },
     "execution_count": 146,
     "metadata": {},
     "output_type": "execute_result"
    }
   ],
   "source": [
    "#Score on Test Data\n",
    "pipe.score(X_test, y_test)"
   ]
  },
  {
   "cell_type": "code",
   "execution_count": 147,
   "metadata": {},
   "outputs": [
    {
     "name": "stdout",
     "output_type": "stream",
     "text": [
      "No Racial Disparity: ROC AUC=0.500\n",
      "Current Classifier: ROC AUC=0.750\n"
     ]
    },
    {
     "data": {
      "image/png": "[encoded data removed]",
      "text/plain": [
       "<Figure size 432x288 with 1 Axes>"
      ]
     },
     "metadata": {
      "needs_background": "light"
     },
     "output_type": "display_data"
    }
   ],
   "source": [
    "#Plot ROC and AUC\n",
    "plot_roc_auc(X_test,y_test)"
   ]
  },
  {
   "cell_type": "markdown",
   "metadata": {},
   "source": [
    "Hence from the above models we see that Logistic and Random Forest perform well on the data. "
   ]
  },
  {
   "cell_type": "code",
   "execution_count": null,
   "metadata": {},
   "outputs": [],
   "source": []
  }
 ],
 "metadata": {
  "kernelspec": {
   "display_name": "Python 3",
   "language": "python",
   "name": "python3"
  },
  "language_info": {
   "codemirror_mode": {
    "name": "ipython",
    "version": 3
   },
   "file_extension": ".py",
   "mimetype": "text/x-python",
   "name": "python",
   "nbconvert_exporter": "python",
   "pygments_lexer": "ipython3",
   "version": "3.8.5"
  }
 },
 "nbformat": 4,
 "nbformat_minor": 4
}
