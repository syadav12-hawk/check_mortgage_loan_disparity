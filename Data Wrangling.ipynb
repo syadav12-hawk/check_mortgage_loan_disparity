{
 "cells": [
  {
   "cell_type": "markdown",
   "metadata": {},
   "source": [
    "# Data Wrangling\n"
   ]
  },
  {
   "cell_type": "markdown",
   "metadata": {},
   "source": [
    "## Import relevant libraries"
   ]
  },
  {
   "cell_type": "code",
   "execution_count": 3,
   "metadata": {},
   "outputs": [],
   "source": [
    "import pandas as pd\n",
    "import numpy as np\n",
    "import matplotlib.pyplot as plt"
   ]
  },
  {
   "cell_type": "markdown",
   "metadata": {},
   "source": [
    "# 2019 data"
   ]
  },
  {
   "cell_type": "code",
   "execution_count": 4,
   "metadata": {},
   "outputs": [],
   "source": [
    "df_2019=pd.read_csv('Data/2019_data.csv')"
   ]
  },
  {
   "cell_type": "code",
   "execution_count": 5,
   "metadata": {},
   "outputs": [
    {
     "data": {
      "text/html": [
       "<div>\n",
       "<style scoped>\n",
       "    .dataframe tbody tr th:only-of-type {\n",
       "        vertical-align: middle;\n",
       "    }\n",
       "\n",
       "    .dataframe tbody tr th {\n",
       "        vertical-align: top;\n",
       "    }\n",
       "\n",
       "    .dataframe thead th {\n",
       "        text-align: right;\n",
       "    }\n",
       "</style>\n",
       "<table border=\"1\" class=\"dataframe\">\n",
       "  <thead>\n",
       "    <tr style=\"text-align: right;\">\n",
       "      <th></th>\n",
       "      <th>Year</th>\n",
       "      <th>LoanCharacteristicsID</th>\n",
       "      <th>Bank</th>\n",
       "      <th>FIPSStateNumericCode</th>\n",
       "      <th>FIPSCountyCode</th>\n",
       "      <th>CoreBasedStatisticalAreaCode</th>\n",
       "      <th>CensusTractIdentifier</th>\n",
       "      <th>CensusTractMinorityRatioPercent</th>\n",
       "      <th>CensusTractMedFamIncomeAmount</th>\n",
       "      <th>LocalAreaMedianIncomeAmount</th>\n",
       "      <th>...</th>\n",
       "      <th>Borrower1Race3Type</th>\n",
       "      <th>Borrower1Race4Type</th>\n",
       "      <th>Borrower1Race5Type</th>\n",
       "      <th>Borrower2EthnicityType</th>\n",
       "      <th>Borrower2Race2Type</th>\n",
       "      <th>Borrower2Race3Type</th>\n",
       "      <th>Borrower2Race4Type</th>\n",
       "      <th>Borrower2Race5Type</th>\n",
       "      <th>HOEPALoanStatusType</th>\n",
       "      <th>LienPriorityType</th>\n",
       "    </tr>\n",
       "  </thead>\n",
       "  <tbody>\n",
       "    <tr>\n",
       "      <th>0</th>\n",
       "      <td>2019</td>\n",
       "      <td>2407198</td>\n",
       "      <td>Boston</td>\n",
       "      <td>50</td>\n",
       "      <td>7</td>\n",
       "      <td>15540</td>\n",
       "      <td>34.0</td>\n",
       "      <td>4.577</td>\n",
       "      <td>132474</td>\n",
       "      <td>84290</td>\n",
       "      <td>...</td>\n",
       "      <td>7</td>\n",
       "      <td>7</td>\n",
       "      <td>7</td>\n",
       "      <td>5</td>\n",
       "      <td>8</td>\n",
       "      <td>8</td>\n",
       "      <td>8</td>\n",
       "      <td>8</td>\n",
       "      <td>2</td>\n",
       "      <td>1</td>\n",
       "    </tr>\n",
       "    <tr>\n",
       "      <th>1</th>\n",
       "      <td>2019</td>\n",
       "      <td>2407199</td>\n",
       "      <td>Boston</td>\n",
       "      <td>50</td>\n",
       "      <td>7</td>\n",
       "      <td>15540</td>\n",
       "      <td>29.0</td>\n",
       "      <td>3.421</td>\n",
       "      <td>100795</td>\n",
       "      <td>84290</td>\n",
       "      <td>...</td>\n",
       "      <td>7</td>\n",
       "      <td>7</td>\n",
       "      <td>7</td>\n",
       "      <td>2</td>\n",
       "      <td>7</td>\n",
       "      <td>7</td>\n",
       "      <td>7</td>\n",
       "      <td>7</td>\n",
       "      <td>2</td>\n",
       "      <td>1</td>\n",
       "    </tr>\n",
       "    <tr>\n",
       "      <th>2</th>\n",
       "      <td>2019</td>\n",
       "      <td>2407200</td>\n",
       "      <td>Boston</td>\n",
       "      <td>50</td>\n",
       "      <td>15</td>\n",
       "      <td>99999</td>\n",
       "      <td>9532.0</td>\n",
       "      <td>6.152</td>\n",
       "      <td>49625</td>\n",
       "      <td>67566</td>\n",
       "      <td>...</td>\n",
       "      <td>7</td>\n",
       "      <td>7</td>\n",
       "      <td>7</td>\n",
       "      <td>2</td>\n",
       "      <td>7</td>\n",
       "      <td>7</td>\n",
       "      <td>7</td>\n",
       "      <td>7</td>\n",
       "      <td>2</td>\n",
       "      <td>1</td>\n",
       "    </tr>\n",
       "    <tr>\n",
       "      <th>3</th>\n",
       "      <td>2019</td>\n",
       "      <td>2407201</td>\n",
       "      <td>Boston</td>\n",
       "      <td>50</td>\n",
       "      <td>17</td>\n",
       "      <td>30100</td>\n",
       "      <td>9594.0</td>\n",
       "      <td>3.935</td>\n",
       "      <td>62643</td>\n",
       "      <td>67105</td>\n",
       "      <td>...</td>\n",
       "      <td>7</td>\n",
       "      <td>7</td>\n",
       "      <td>7</td>\n",
       "      <td>2</td>\n",
       "      <td>7</td>\n",
       "      <td>7</td>\n",
       "      <td>7</td>\n",
       "      <td>7</td>\n",
       "      <td>2</td>\n",
       "      <td>1</td>\n",
       "    </tr>\n",
       "    <tr>\n",
       "      <th>4</th>\n",
       "      <td>2019</td>\n",
       "      <td>2407202</td>\n",
       "      <td>Boston</td>\n",
       "      <td>23</td>\n",
       "      <td>31</td>\n",
       "      <td>38860</td>\n",
       "      <td>254.0</td>\n",
       "      <td>6.031</td>\n",
       "      <td>87679</td>\n",
       "      <td>76445</td>\n",
       "      <td>...</td>\n",
       "      <td>7</td>\n",
       "      <td>7</td>\n",
       "      <td>7</td>\n",
       "      <td>5</td>\n",
       "      <td>8</td>\n",
       "      <td>8</td>\n",
       "      <td>8</td>\n",
       "      <td>8</td>\n",
       "      <td>2</td>\n",
       "      <td>1</td>\n",
       "    </tr>\n",
       "  </tbody>\n",
       "</table>\n",
       "<p>5 rows × 56 columns</p>\n",
       "</div>"
      ],
      "text/plain": [
       "   Year  LoanCharacteristicsID    Bank  FIPSStateNumericCode  FIPSCountyCode  \\\n",
       "0  2019                2407198  Boston                    50               7   \n",
       "1  2019                2407199  Boston                    50               7   \n",
       "2  2019                2407200  Boston                    50              15   \n",
       "3  2019                2407201  Boston                    50              17   \n",
       "4  2019                2407202  Boston                    23              31   \n",
       "\n",
       "   CoreBasedStatisticalAreaCode  CensusTractIdentifier  \\\n",
       "0                         15540                   34.0   \n",
       "1                         15540                   29.0   \n",
       "2                         99999                 9532.0   \n",
       "3                         30100                 9594.0   \n",
       "4                         38860                  254.0   \n",
       "\n",
       "   CensusTractMinorityRatioPercent  CensusTractMedFamIncomeAmount  \\\n",
       "0                            4.577                         132474   \n",
       "1                            3.421                         100795   \n",
       "2                            6.152                          49625   \n",
       "3                            3.935                          62643   \n",
       "4                            6.031                          87679   \n",
       "\n",
       "   LocalAreaMedianIncomeAmount  ...  Borrower1Race3Type  Borrower1Race4Type  \\\n",
       "0                        84290  ...                   7                   7   \n",
       "1                        84290  ...                   7                   7   \n",
       "2                        67566  ...                   7                   7   \n",
       "3                        67105  ...                   7                   7   \n",
       "4                        76445  ...                   7                   7   \n",
       "\n",
       "   Borrower1Race5Type  Borrower2EthnicityType  Borrower2Race2Type  \\\n",
       "0                   7                       5                   8   \n",
       "1                   7                       2                   7   \n",
       "2                   7                       2                   7   \n",
       "3                   7                       2                   7   \n",
       "4                   7                       5                   8   \n",
       "\n",
       "   Borrower2Race3Type  Borrower2Race4Type  Borrower2Race5Type  \\\n",
       "0                   8                   8                   8   \n",
       "1                   7                   7                   7   \n",
       "2                   7                   7                   7   \n",
       "3                   7                   7                   7   \n",
       "4                   8                   8                   8   \n",
       "\n",
       "   HOEPALoanStatusType  LienPriorityType  \n",
       "0                    2                 1  \n",
       "1                    2                 1  \n",
       "2                    2                 1  \n",
       "3                    2                 1  \n",
       "4                    2                 1  \n",
       "\n",
       "[5 rows x 56 columns]"
      ]
     },
     "execution_count": 5,
     "metadata": {},
     "output_type": "execute_result"
    }
   ],
   "source": [
    "df_2019.head()"
   ]
  },
  {
   "cell_type": "code",
   "execution_count": 6,
   "metadata": {},
   "outputs": [
    {
     "data": {
      "text/html": [
       "<div>\n",
       "<style scoped>\n",
       "    .dataframe tbody tr th:only-of-type {\n",
       "        vertical-align: middle;\n",
       "    }\n",
       "\n",
       "    .dataframe tbody tr th {\n",
       "        vertical-align: top;\n",
       "    }\n",
       "\n",
       "    .dataframe thead th {\n",
       "        text-align: right;\n",
       "    }\n",
       "</style>\n",
       "<table border=\"1\" class=\"dataframe\">\n",
       "  <thead>\n",
       "    <tr style=\"text-align: right;\">\n",
       "      <th></th>\n",
       "      <th>Year</th>\n",
       "      <th>LoanCharacteristicsID</th>\n",
       "      <th>FIPSStateNumericCode</th>\n",
       "      <th>FIPSCountyCode</th>\n",
       "      <th>CoreBasedStatisticalAreaCode</th>\n",
       "      <th>CensusTractIdentifier</th>\n",
       "      <th>CensusTractMinorityRatioPercent</th>\n",
       "      <th>CensusTractMedFamIncomeAmount</th>\n",
       "      <th>LocalAreaMedianIncomeAmount</th>\n",
       "      <th>TotalMonthlyIncomeAmount</th>\n",
       "      <th>...</th>\n",
       "      <th>Borrower1Race3Type</th>\n",
       "      <th>Borrower1Race4Type</th>\n",
       "      <th>Borrower1Race5Type</th>\n",
       "      <th>Borrower2EthnicityType</th>\n",
       "      <th>Borrower2Race2Type</th>\n",
       "      <th>Borrower2Race3Type</th>\n",
       "      <th>Borrower2Race4Type</th>\n",
       "      <th>Borrower2Race5Type</th>\n",
       "      <th>HOEPALoanStatusType</th>\n",
       "      <th>LienPriorityType</th>\n",
       "    </tr>\n",
       "  </thead>\n",
       "  <tbody>\n",
       "    <tr>\n",
       "      <th>count</th>\n",
       "      <td>89767.0</td>\n",
       "      <td>8.976700e+04</td>\n",
       "      <td>89767.000000</td>\n",
       "      <td>89767.000000</td>\n",
       "      <td>89767.000000</td>\n",
       "      <td>89767.000000</td>\n",
       "      <td>89767.000000</td>\n",
       "      <td>89767.000000</td>\n",
       "      <td>89767.000000</td>\n",
       "      <td>89767.000000</td>\n",
       "      <td>...</td>\n",
       "      <td>89767.000000</td>\n",
       "      <td>89767.000000</td>\n",
       "      <td>89767.000000</td>\n",
       "      <td>89767.000000</td>\n",
       "      <td>89767.000000</td>\n",
       "      <td>89767.000000</td>\n",
       "      <td>89767.000000</td>\n",
       "      <td>89767.000000</td>\n",
       "      <td>89767.000000</td>\n",
       "      <td>89767.0</td>\n",
       "    </tr>\n",
       "    <tr>\n",
       "      <th>mean</th>\n",
       "      <td>2019.0</td>\n",
       "      <td>2.452548e+06</td>\n",
       "      <td>29.874119</td>\n",
       "      <td>89.649270</td>\n",
       "      <td>36172.717569</td>\n",
       "      <td>2681.255339</td>\n",
       "      <td>17.844881</td>\n",
       "      <td>87799.607785</td>\n",
       "      <td>74078.453998</td>\n",
       "      <td>9837.590317</td>\n",
       "      <td>...</td>\n",
       "      <td>6.874230</td>\n",
       "      <td>6.874653</td>\n",
       "      <td>6.874676</td>\n",
       "      <td>3.302583</td>\n",
       "      <td>7.347633</td>\n",
       "      <td>7.352880</td>\n",
       "      <td>7.353103</td>\n",
       "      <td>7.353125</td>\n",
       "      <td>2.002974</td>\n",
       "      <td>1.0</td>\n",
       "    </tr>\n",
       "    <tr>\n",
       "      <th>std</th>\n",
       "      <td>0.0</td>\n",
       "      <td>2.694902e+04</td>\n",
       "      <td>15.367330</td>\n",
       "      <td>85.719173</td>\n",
       "      <td>23931.023618</td>\n",
       "      <td>3652.664758</td>\n",
       "      <td>18.600936</td>\n",
       "      <td>30551.702748</td>\n",
       "      <td>11949.849407</td>\n",
       "      <td>7843.469558</td>\n",
       "      <td>...</td>\n",
       "      <td>0.332665</td>\n",
       "      <td>0.331147</td>\n",
       "      <td>0.331088</td>\n",
       "      <td>1.479171</td>\n",
       "      <td>0.621057</td>\n",
       "      <td>0.607281</td>\n",
       "      <td>0.606711</td>\n",
       "      <td>0.606661</td>\n",
       "      <td>0.056662</td>\n",
       "      <td>0.0</td>\n",
       "    </tr>\n",
       "    <tr>\n",
       "      <th>min</th>\n",
       "      <td>2019.0</td>\n",
       "      <td>2.406119e+06</td>\n",
       "      <td>1.000000</td>\n",
       "      <td>1.000000</td>\n",
       "      <td>10100.000000</td>\n",
       "      <td>1.000000</td>\n",
       "      <td>0.000000</td>\n",
       "      <td>0.000000</td>\n",
       "      <td>0.000000</td>\n",
       "      <td>791.000000</td>\n",
       "      <td>...</td>\n",
       "      <td>2.000000</td>\n",
       "      <td>5.000000</td>\n",
       "      <td>6.000000</td>\n",
       "      <td>1.000000</td>\n",
       "      <td>1.000000</td>\n",
       "      <td>3.000000</td>\n",
       "      <td>5.000000</td>\n",
       "      <td>6.000000</td>\n",
       "      <td>1.000000</td>\n",
       "      <td>1.0</td>\n",
       "    </tr>\n",
       "    <tr>\n",
       "      <th>25%</th>\n",
       "      <td>2019.0</td>\n",
       "      <td>2.429908e+06</td>\n",
       "      <td>18.000000</td>\n",
       "      <td>33.000000</td>\n",
       "      <td>19430.000000</td>\n",
       "      <td>102.020000</td>\n",
       "      <td>5.390500</td>\n",
       "      <td>66270.000000</td>\n",
       "      <td>65829.000000</td>\n",
       "      <td>5615.000000</td>\n",
       "      <td>...</td>\n",
       "      <td>7.000000</td>\n",
       "      <td>7.000000</td>\n",
       "      <td>7.000000</td>\n",
       "      <td>2.000000</td>\n",
       "      <td>7.000000</td>\n",
       "      <td>7.000000</td>\n",
       "      <td>7.000000</td>\n",
       "      <td>7.000000</td>\n",
       "      <td>2.000000</td>\n",
       "      <td>1.0</td>\n",
       "    </tr>\n",
       "    <tr>\n",
       "      <th>50%</th>\n",
       "      <td>2019.0</td>\n",
       "      <td>2.452349e+06</td>\n",
       "      <td>27.000000</td>\n",
       "      <td>71.000000</td>\n",
       "      <td>31080.000000</td>\n",
       "      <td>414.090000</td>\n",
       "      <td>11.000000</td>\n",
       "      <td>82019.000000</td>\n",
       "      <td>73493.000000</td>\n",
       "      <td>8333.000000</td>\n",
       "      <td>...</td>\n",
       "      <td>7.000000</td>\n",
       "      <td>7.000000</td>\n",
       "      <td>7.000000</td>\n",
       "      <td>2.000000</td>\n",
       "      <td>7.000000</td>\n",
       "      <td>7.000000</td>\n",
       "      <td>7.000000</td>\n",
       "      <td>7.000000</td>\n",
       "      <td>2.000000</td>\n",
       "      <td>1.0</td>\n",
       "    </tr>\n",
       "    <tr>\n",
       "      <th>75%</th>\n",
       "      <td>2019.0</td>\n",
       "      <td>2.474790e+06</td>\n",
       "      <td>42.000000</td>\n",
       "      <td>121.000000</td>\n",
       "      <td>41180.000000</td>\n",
       "      <td>4922.015000</td>\n",
       "      <td>22.546000</td>\n",
       "      <td>104219.000000</td>\n",
       "      <td>79347.000000</td>\n",
       "      <td>11907.000000</td>\n",
       "      <td>...</td>\n",
       "      <td>7.000000</td>\n",
       "      <td>7.000000</td>\n",
       "      <td>7.000000</td>\n",
       "      <td>5.000000</td>\n",
       "      <td>8.000000</td>\n",
       "      <td>8.000000</td>\n",
       "      <td>8.000000</td>\n",
       "      <td>8.000000</td>\n",
       "      <td>2.000000</td>\n",
       "      <td>1.0</td>\n",
       "    </tr>\n",
       "    <tr>\n",
       "      <th>max</th>\n",
       "      <td>2019.0</td>\n",
       "      <td>2.521673e+06</td>\n",
       "      <td>66.000000</td>\n",
       "      <td>840.000000</td>\n",
       "      <td>99999.000000</td>\n",
       "      <td>9917.030000</td>\n",
       "      <td>99.822000</td>\n",
       "      <td>250001.000000</td>\n",
       "      <td>133523.000000</td>\n",
       "      <td>449001.000000</td>\n",
       "      <td>...</td>\n",
       "      <td>7.000000</td>\n",
       "      <td>7.000000</td>\n",
       "      <td>7.000000</td>\n",
       "      <td>5.000000</td>\n",
       "      <td>8.000000</td>\n",
       "      <td>8.000000</td>\n",
       "      <td>8.000000</td>\n",
       "      <td>8.000000</td>\n",
       "      <td>3.000000</td>\n",
       "      <td>1.0</td>\n",
       "    </tr>\n",
       "  </tbody>\n",
       "</table>\n",
       "<p>8 rows × 53 columns</p>\n",
       "</div>"
      ],
      "text/plain": [
       "          Year  LoanCharacteristicsID  FIPSStateNumericCode  FIPSCountyCode  \\\n",
       "count  89767.0           8.976700e+04          89767.000000    89767.000000   \n",
       "mean    2019.0           2.452548e+06             29.874119       89.649270   \n",
       "std        0.0           2.694902e+04             15.367330       85.719173   \n",
       "min     2019.0           2.406119e+06              1.000000        1.000000   \n",
       "25%     2019.0           2.429908e+06             18.000000       33.000000   \n",
       "50%     2019.0           2.452349e+06             27.000000       71.000000   \n",
       "75%     2019.0           2.474790e+06             42.000000      121.000000   \n",
       "max     2019.0           2.521673e+06             66.000000      840.000000   \n",
       "\n",
       "       CoreBasedStatisticalAreaCode  CensusTractIdentifier  \\\n",
       "count                  89767.000000           89767.000000   \n",
       "mean                   36172.717569            2681.255339   \n",
       "std                    23931.023618            3652.664758   \n",
       "min                    10100.000000               1.000000   \n",
       "25%                    19430.000000             102.020000   \n",
       "50%                    31080.000000             414.090000   \n",
       "75%                    41180.000000            4922.015000   \n",
       "max                    99999.000000            9917.030000   \n",
       "\n",
       "       CensusTractMinorityRatioPercent  CensusTractMedFamIncomeAmount  \\\n",
       "count                     89767.000000                   89767.000000   \n",
       "mean                         17.844881                   87799.607785   \n",
       "std                          18.600936                   30551.702748   \n",
       "min                           0.000000                       0.000000   \n",
       "25%                           5.390500                   66270.000000   \n",
       "50%                          11.000000                   82019.000000   \n",
       "75%                          22.546000                  104219.000000   \n",
       "max                          99.822000                  250001.000000   \n",
       "\n",
       "       LocalAreaMedianIncomeAmount  TotalMonthlyIncomeAmount  ...  \\\n",
       "count                 89767.000000              89767.000000  ...   \n",
       "mean                  74078.453998               9837.590317  ...   \n",
       "std                   11949.849407               7843.469558  ...   \n",
       "min                       0.000000                791.000000  ...   \n",
       "25%                   65829.000000               5615.000000  ...   \n",
       "50%                   73493.000000               8333.000000  ...   \n",
       "75%                   79347.000000              11907.000000  ...   \n",
       "max                  133523.000000             449001.000000  ...   \n",
       "\n",
       "       Borrower1Race3Type  Borrower1Race4Type  Borrower1Race5Type  \\\n",
       "count        89767.000000        89767.000000        89767.000000   \n",
       "mean             6.874230            6.874653            6.874676   \n",
       "std              0.332665            0.331147            0.331088   \n",
       "min              2.000000            5.000000            6.000000   \n",
       "25%              7.000000            7.000000            7.000000   \n",
       "50%              7.000000            7.000000            7.000000   \n",
       "75%              7.000000            7.000000            7.000000   \n",
       "max              7.000000            7.000000            7.000000   \n",
       "\n",
       "       Borrower2EthnicityType  Borrower2Race2Type  Borrower2Race3Type  \\\n",
       "count            89767.000000        89767.000000        89767.000000   \n",
       "mean                 3.302583            7.347633            7.352880   \n",
       "std                  1.479171            0.621057            0.607281   \n",
       "min                  1.000000            1.000000            3.000000   \n",
       "25%                  2.000000            7.000000            7.000000   \n",
       "50%                  2.000000            7.000000            7.000000   \n",
       "75%                  5.000000            8.000000            8.000000   \n",
       "max                  5.000000            8.000000            8.000000   \n",
       "\n",
       "       Borrower2Race4Type  Borrower2Race5Type  HOEPALoanStatusType  \\\n",
       "count        89767.000000        89767.000000         89767.000000   \n",
       "mean             7.353103            7.353125             2.002974   \n",
       "std              0.606711            0.606661             0.056662   \n",
       "min              5.000000            6.000000             1.000000   \n",
       "25%              7.000000            7.000000             2.000000   \n",
       "50%              7.000000            7.000000             2.000000   \n",
       "75%              8.000000            8.000000             2.000000   \n",
       "max              8.000000            8.000000             3.000000   \n",
       "\n",
       "       LienPriorityType  \n",
       "count           89767.0  \n",
       "mean                1.0  \n",
       "std                 0.0  \n",
       "min                 1.0  \n",
       "25%                 1.0  \n",
       "50%                 1.0  \n",
       "75%                 1.0  \n",
       "max                 1.0  \n",
       "\n",
       "[8 rows x 53 columns]"
      ]
     },
     "execution_count": 6,
     "metadata": {},
     "output_type": "execute_result"
    }
   ],
   "source": [
    "df_2019.describe()"
   ]
  },
  {
   "cell_type": "code",
   "execution_count": 11,
   "metadata": {},
   "outputs": [
    {
     "data": {
      "text/plain": [
       "(89767, 56)"
      ]
     },
     "execution_count": 11,
     "metadata": {},
     "output_type": "execute_result"
    }
   ],
   "source": [
    "df_2019.shape"
   ]
  },
  {
   "cell_type": "code",
   "execution_count": 12,
   "metadata": {},
   "outputs": [
    {
     "data": {
      "text/plain": [
       "Year                                 int64\n",
       "LoanCharacteristicsID                int64\n",
       "Bank                                object\n",
       "FIPSStateNumericCode                 int64\n",
       "FIPSCountyCode                       int64\n",
       "CoreBasedStatisticalAreaCode         int64\n",
       "CensusTractIdentifier              float64\n",
       "CensusTractMinorityRatioPercent    float64\n",
       "CensusTractMedFamIncomeAmount        int64\n",
       "LocalAreaMedianIncomeAmount          int64\n",
       "TotalMonthlyIncomeAmount             int64\n",
       "HUDMedianIncomeAmount                int64\n",
       "LoanAcquisitionActualUPBAmt          int64\n",
       "LTVRatioPercent                    float64\n",
       "NoteDate                             int64\n",
       "LoanAcquistionDate                   int64\n",
       "LoanPurposeType                      int64\n",
       "ProductCategoryName                  int64\n",
       "MortgageType                         int64\n",
       "ScheduledTotalPaymentCount           int64\n",
       "LoanAmortizationMaxTermMonths        int64\n",
       "MortgageLoanSellerInstType           int64\n",
       "BorrowerCount                        int64\n",
       "BorrowerFirstTimeHomebuyer           int64\n",
       "Borrower1Race1Type                   int64\n",
       "Borrower2Race1Type                   int64\n",
       "Borrower1GenderType                  int64\n",
       "Borrower2GenderType                  int64\n",
       "Borrower1AgeAtApplicationYears       int64\n",
       "Borrower2AgeAtApplicationYears       int64\n",
       "PropertyUsageType                    int64\n",
       "PropertyUnitCount                    int64\n",
       "NoteRatePercent                    float64\n",
       "NoteAmount                           int64\n",
       "HousingExpenseRatioPercent         float64\n",
       "TotalDebtExpenseRatioPercent       float64\n",
       "Borrower1CreditScoreValue            int64\n",
       "Borrower2CreditScoreValue            int64\n",
       "PMICoveragePercent                 float64\n",
       "EmploymentBorrowerSelfEmployed       int64\n",
       "PropertyType                        object\n",
       "IndexSourceType                      int64\n",
       "MarginRatePercent                    int64\n",
       "PrepaymentPenaltyExpirationDate     object\n",
       "Borrower1EthnicityType               int64\n",
       "Borrower1Race2Type                   int64\n",
       "Borrower1Race3Type                   int64\n",
       "Borrower1Race4Type                   int64\n",
       "Borrower1Race5Type                   int64\n",
       "Borrower2EthnicityType               int64\n",
       "Borrower2Race2Type                   int64\n",
       "Borrower2Race3Type                   int64\n",
       "Borrower2Race4Type                   int64\n",
       "Borrower2Race5Type                   int64\n",
       "HOEPALoanStatusType                  int64\n",
       "LienPriorityType                     int64\n",
       "dtype: object"
      ]
     },
     "execution_count": 12,
     "metadata": {},
     "output_type": "execute_result"
    }
   ],
   "source": [
    "df_2019.dtypes"
   ]
  },
  {
   "cell_type": "code",
   "execution_count": 16,
   "metadata": {},
   "outputs": [
    {
     "data": {
      "text/plain": [
       "0"
      ]
     },
     "execution_count": 16,
     "metadata": {},
     "output_type": "execute_result"
    }
   ],
   "source": [
    "#Verifying Year Column\n",
    "np.sum([df_2019['Year']!=2019])"
   ]
  },
  {
   "cell_type": "code",
   "execution_count": 19,
   "metadata": {
    "scrolled": true
   },
   "outputs": [
    {
     "data": {
      "text/plain": [
       "Chicago          22462\n",
       "Topeka           16093\n",
       "Des Moines       14468\n",
       "Cincinnati       11250\n",
       "Dallas            8069\n",
       "Indianapolis      5677\n",
       "Pittsburgh        4458\n",
       "Boston            2824\n",
       "San Francisco     2487\n",
       "New York          1979\n",
       "Name: Bank, dtype: int64"
      ]
     },
     "execution_count": 19,
     "metadata": {},
     "output_type": "execute_result"
    }
   ],
   "source": [
    "#Bank's City\n",
    "df_2019['Bank'].value_counts()"
   ]
  },
  {
   "cell_type": "markdown",
   "metadata": {},
   "source": [
    "## FIPSStateNumericCode column"
   ]
  },
  {
   "cell_type": "code",
   "execution_count": 30,
   "metadata": {},
   "outputs": [
    {
     "data": {
      "text/plain": [
       "Series([], Name: FIPSStateNumericCode, dtype: int64)"
      ]
     },
     "execution_count": 30,
     "metadata": {},
     "output_type": "execute_result"
    }
   ],
   "source": [
    "#verifying FIPSStateNumericCode columns (Should have 2 digits)\n",
    "df_2019['FIPSStateNumericCode'][df_2019['FIPSStateNumericCode']>99]"
   ]
  },
  {
   "cell_type": "code",
   "execution_count": 31,
   "metadata": {},
   "outputs": [
    {
     "data": {
      "text/plain": [
       "55    10747\n",
       "17     6843\n",
       "39     6748\n",
       "19     5782\n",
       "20     5004\n",
       "6      4910\n",
       "18     4409\n",
       "48     4409\n",
       "31     4403\n",
       "29     3628\n",
       "27     3471\n",
       "8      2734\n",
       "42     2300\n",
       "26     2197\n",
       "25     2077\n",
       "21     1502\n",
       "46     1451\n",
       "36     1377\n",
       "51     1243\n",
       "40     1197\n",
       "12     1085\n",
       "47      930\n",
       "34      859\n",
       "37      839\n",
       "4       839\n",
       "16      810\n",
       "22      754\n",
       "13      735\n",
       "5       730\n",
       "24      623\n",
       "53      593\n",
       "41      587\n",
       "49      577\n",
       "1       381\n",
       "9       305\n",
       "32      297\n",
       "23      275\n",
       "35      264\n",
       "45      237\n",
       "54      208\n",
       "44      187\n",
       "28      177\n",
       "38      162\n",
       "30      157\n",
       "11      151\n",
       "50      148\n",
       "33      138\n",
       "56      125\n",
       "10       85\n",
       "15       54\n",
       "2        17\n",
       "66        6\n",
       "Name: FIPSStateNumericCode, dtype: int64"
      ]
     },
     "execution_count": 31,
     "metadata": {},
     "output_type": "execute_result"
    }
   ],
   "source": [
    "#Check the columns with 999 value\n",
    "df_2019['FIPSStateNumericCode'].value_counts()"
   ]
  },
  {
   "cell_type": "markdown",
   "metadata": {},
   "source": [
    "## FIPSCountyCode column"
   ]
  },
  {
   "cell_type": "code",
   "execution_count": 25,
   "metadata": {},
   "outputs": [
    {
     "data": {
      "text/html": [
       "<div>\n",
       "<style scoped>\n",
       "    .dataframe tbody tr th:only-of-type {\n",
       "        vertical-align: middle;\n",
       "    }\n",
       "\n",
       "    .dataframe tbody tr th {\n",
       "        vertical-align: top;\n",
       "    }\n",
       "\n",
       "    .dataframe thead th {\n",
       "        text-align: right;\n",
       "    }\n",
       "</style>\n",
       "<table border=\"1\" class=\"dataframe\">\n",
       "  <thead>\n",
       "    <tr style=\"text-align: right;\">\n",
       "      <th></th>\n",
       "      <th>Year</th>\n",
       "      <th>LoanCharacteristicsID</th>\n",
       "      <th>Bank</th>\n",
       "      <th>FIPSStateNumericCode</th>\n",
       "      <th>FIPSCountyCode</th>\n",
       "      <th>CoreBasedStatisticalAreaCode</th>\n",
       "      <th>CensusTractIdentifier</th>\n",
       "      <th>CensusTractMinorityRatioPercent</th>\n",
       "      <th>CensusTractMedFamIncomeAmount</th>\n",
       "      <th>LocalAreaMedianIncomeAmount</th>\n",
       "      <th>...</th>\n",
       "      <th>Borrower1Race3Type</th>\n",
       "      <th>Borrower1Race4Type</th>\n",
       "      <th>Borrower1Race5Type</th>\n",
       "      <th>Borrower2EthnicityType</th>\n",
       "      <th>Borrower2Race2Type</th>\n",
       "      <th>Borrower2Race3Type</th>\n",
       "      <th>Borrower2Race4Type</th>\n",
       "      <th>Borrower2Race5Type</th>\n",
       "      <th>HOEPALoanStatusType</th>\n",
       "      <th>LienPriorityType</th>\n",
       "    </tr>\n",
       "  </thead>\n",
       "  <tbody>\n",
       "  </tbody>\n",
       "</table>\n",
       "<p>0 rows × 56 columns</p>\n",
       "</div>"
      ],
      "text/plain": [
       "Empty DataFrame\n",
       "Columns: [Year, LoanCharacteristicsID, Bank, FIPSStateNumericCode, FIPSCountyCode, CoreBasedStatisticalAreaCode, CensusTractIdentifier, CensusTractMinorityRatioPercent, CensusTractMedFamIncomeAmount, LocalAreaMedianIncomeAmount, TotalMonthlyIncomeAmount, HUDMedianIncomeAmount, LoanAcquisitionActualUPBAmt, LTVRatioPercent, NoteDate, LoanAcquistionDate, LoanPurposeType, ProductCategoryName, MortgageType, ScheduledTotalPaymentCount, LoanAmortizationMaxTermMonths, MortgageLoanSellerInstType, BorrowerCount, BorrowerFirstTimeHomebuyer, Borrower1Race1Type, Borrower2Race1Type, Borrower1GenderType, Borrower2GenderType, Borrower1AgeAtApplicationYears, Borrower2AgeAtApplicationYears, PropertyUsageType, PropertyUnitCount, NoteRatePercent, NoteAmount, HousingExpenseRatioPercent, TotalDebtExpenseRatioPercent, Borrower1CreditScoreValue, Borrower2CreditScoreValue, PMICoveragePercent, EmploymentBorrowerSelfEmployed, PropertyType, IndexSourceType, MarginRatePercent, PrepaymentPenaltyExpirationDate, Borrower1EthnicityType, Borrower1Race2Type, Borrower1Race3Type, Borrower1Race4Type, Borrower1Race5Type, Borrower2EthnicityType, Borrower2Race2Type, Borrower2Race3Type, Borrower2Race4Type, Borrower2Race5Type, HOEPALoanStatusType, LienPriorityType]\n",
       "Index: []\n",
       "\n",
       "[0 rows x 56 columns]"
      ]
     },
     "execution_count": 25,
     "metadata": {},
     "output_type": "execute_result"
    }
   ],
   "source": [
    "#Verifying FIPSStateNumericCode columns (should have 3 digits)\n",
    "df_2019[df_2019['FIPSCountyCode']>999]"
   ]
  },
  {
   "cell_type": "code",
   "execution_count": 32,
   "metadata": {
    "scrolled": true
   },
   "outputs": [
    {
     "data": {
      "text/plain": [
       "37     2673\n",
       "25     2623\n",
       "31     2515\n",
       "61     2148\n",
       "49     2067\n",
       "       ... \n",
       "347       1\n",
       "281       1\n",
       "790       1\n",
       "277       1\n",
       "383       1\n",
       "Name: FIPSCountyCode, Length: 219, dtype: int64"
      ]
     },
     "execution_count": 32,
     "metadata": {},
     "output_type": "execute_result"
    }
   ],
   "source": [
    "df_2019['FIPSCountyCode'].value_counts()"
   ]
  },
  {
   "cell_type": "code",
   "execution_count": 33,
   "metadata": {},
   "outputs": [
    {
     "data": {
      "text/html": [
       "<div>\n",
       "<style scoped>\n",
       "    .dataframe tbody tr th:only-of-type {\n",
       "        vertical-align: middle;\n",
       "    }\n",
       "\n",
       "    .dataframe tbody tr th {\n",
       "        vertical-align: top;\n",
       "    }\n",
       "\n",
       "    .dataframe thead th {\n",
       "        text-align: right;\n",
       "    }\n",
       "</style>\n",
       "<table border=\"1\" class=\"dataframe\">\n",
       "  <thead>\n",
       "    <tr style=\"text-align: right;\">\n",
       "      <th></th>\n",
       "      <th>Year</th>\n",
       "      <th>LoanCharacteristicsID</th>\n",
       "      <th>Bank</th>\n",
       "      <th>FIPSStateNumericCode</th>\n",
       "      <th>FIPSCountyCode</th>\n",
       "      <th>CoreBasedStatisticalAreaCode</th>\n",
       "      <th>CensusTractIdentifier</th>\n",
       "      <th>CensusTractMinorityRatioPercent</th>\n",
       "      <th>CensusTractMedFamIncomeAmount</th>\n",
       "      <th>LocalAreaMedianIncomeAmount</th>\n",
       "      <th>...</th>\n",
       "      <th>Borrower1Race3Type</th>\n",
       "      <th>Borrower1Race4Type</th>\n",
       "      <th>Borrower1Race5Type</th>\n",
       "      <th>Borrower2EthnicityType</th>\n",
       "      <th>Borrower2Race2Type</th>\n",
       "      <th>Borrower2Race3Type</th>\n",
       "      <th>Borrower2Race4Type</th>\n",
       "      <th>Borrower2Race5Type</th>\n",
       "      <th>HOEPALoanStatusType</th>\n",
       "      <th>LienPriorityType</th>\n",
       "    </tr>\n",
       "  </thead>\n",
       "  <tbody>\n",
       "  </tbody>\n",
       "</table>\n",
       "<p>0 rows × 56 columns</p>\n",
       "</div>"
      ],
      "text/plain": [
       "Empty DataFrame\n",
       "Columns: [Year, LoanCharacteristicsID, Bank, FIPSStateNumericCode, FIPSCountyCode, CoreBasedStatisticalAreaCode, CensusTractIdentifier, CensusTractMinorityRatioPercent, CensusTractMedFamIncomeAmount, LocalAreaMedianIncomeAmount, TotalMonthlyIncomeAmount, HUDMedianIncomeAmount, LoanAcquisitionActualUPBAmt, LTVRatioPercent, NoteDate, LoanAcquistionDate, LoanPurposeType, ProductCategoryName, MortgageType, ScheduledTotalPaymentCount, LoanAmortizationMaxTermMonths, MortgageLoanSellerInstType, BorrowerCount, BorrowerFirstTimeHomebuyer, Borrower1Race1Type, Borrower2Race1Type, Borrower1GenderType, Borrower2GenderType, Borrower1AgeAtApplicationYears, Borrower2AgeAtApplicationYears, PropertyUsageType, PropertyUnitCount, NoteRatePercent, NoteAmount, HousingExpenseRatioPercent, TotalDebtExpenseRatioPercent, Borrower1CreditScoreValue, Borrower2CreditScoreValue, PMICoveragePercent, EmploymentBorrowerSelfEmployed, PropertyType, IndexSourceType, MarginRatePercent, PrepaymentPenaltyExpirationDate, Borrower1EthnicityType, Borrower1Race2Type, Borrower1Race3Type, Borrower1Race4Type, Borrower1Race5Type, Borrower2EthnicityType, Borrower2Race2Type, Borrower2Race3Type, Borrower2Race4Type, Borrower2Race5Type, HOEPALoanStatusType, LienPriorityType]\n",
       "Index: []\n",
       "\n",
       "[0 rows x 56 columns]"
      ]
     },
     "execution_count": 33,
     "metadata": {},
     "output_type": "execute_result"
    }
   ],
   "source": [
    "#Check the columns with 999 value\n",
    "df_2019[df_2019['FIPSCountyCode']==999]"
   ]
  },
  {
   "cell_type": "markdown",
   "metadata": {},
   "source": [
    "## CoreBasedStatisticalAreaCode Column"
   ]
  },
  {
   "cell_type": "code",
   "execution_count": 28,
   "metadata": {},
   "outputs": [
    {
     "data": {
      "text/html": [
       "<div>\n",
       "<style scoped>\n",
       "    .dataframe tbody tr th:only-of-type {\n",
       "        vertical-align: middle;\n",
       "    }\n",
       "\n",
       "    .dataframe tbody tr th {\n",
       "        vertical-align: top;\n",
       "    }\n",
       "\n",
       "    .dataframe thead th {\n",
       "        text-align: right;\n",
       "    }\n",
       "</style>\n",
       "<table border=\"1\" class=\"dataframe\">\n",
       "  <thead>\n",
       "    <tr style=\"text-align: right;\">\n",
       "      <th></th>\n",
       "      <th>Year</th>\n",
       "      <th>LoanCharacteristicsID</th>\n",
       "      <th>Bank</th>\n",
       "      <th>FIPSStateNumericCode</th>\n",
       "      <th>FIPSCountyCode</th>\n",
       "      <th>CoreBasedStatisticalAreaCode</th>\n",
       "      <th>CensusTractIdentifier</th>\n",
       "      <th>CensusTractMinorityRatioPercent</th>\n",
       "      <th>CensusTractMedFamIncomeAmount</th>\n",
       "      <th>LocalAreaMedianIncomeAmount</th>\n",
       "      <th>...</th>\n",
       "      <th>Borrower1Race3Type</th>\n",
       "      <th>Borrower1Race4Type</th>\n",
       "      <th>Borrower1Race5Type</th>\n",
       "      <th>Borrower2EthnicityType</th>\n",
       "      <th>Borrower2Race2Type</th>\n",
       "      <th>Borrower2Race3Type</th>\n",
       "      <th>Borrower2Race4Type</th>\n",
       "      <th>Borrower2Race5Type</th>\n",
       "      <th>HOEPALoanStatusType</th>\n",
       "      <th>LienPriorityType</th>\n",
       "    </tr>\n",
       "  </thead>\n",
       "  <tbody>\n",
       "  </tbody>\n",
       "</table>\n",
       "<p>0 rows × 56 columns</p>\n",
       "</div>"
      ],
      "text/plain": [
       "Empty DataFrame\n",
       "Columns: [Year, LoanCharacteristicsID, Bank, FIPSStateNumericCode, FIPSCountyCode, CoreBasedStatisticalAreaCode, CensusTractIdentifier, CensusTractMinorityRatioPercent, CensusTractMedFamIncomeAmount, LocalAreaMedianIncomeAmount, TotalMonthlyIncomeAmount, HUDMedianIncomeAmount, LoanAcquisitionActualUPBAmt, LTVRatioPercent, NoteDate, LoanAcquistionDate, LoanPurposeType, ProductCategoryName, MortgageType, ScheduledTotalPaymentCount, LoanAmortizationMaxTermMonths, MortgageLoanSellerInstType, BorrowerCount, BorrowerFirstTimeHomebuyer, Borrower1Race1Type, Borrower2Race1Type, Borrower1GenderType, Borrower2GenderType, Borrower1AgeAtApplicationYears, Borrower2AgeAtApplicationYears, PropertyUsageType, PropertyUnitCount, NoteRatePercent, NoteAmount, HousingExpenseRatioPercent, TotalDebtExpenseRatioPercent, Borrower1CreditScoreValue, Borrower2CreditScoreValue, PMICoveragePercent, EmploymentBorrowerSelfEmployed, PropertyType, IndexSourceType, MarginRatePercent, PrepaymentPenaltyExpirationDate, Borrower1EthnicityType, Borrower1Race2Type, Borrower1Race3Type, Borrower1Race4Type, Borrower1Race5Type, Borrower2EthnicityType, Borrower2Race2Type, Borrower2Race3Type, Borrower2Race4Type, Borrower2Race5Type, HOEPALoanStatusType, LienPriorityType]\n",
       "Index: []\n",
       "\n",
       "[0 rows x 56 columns]"
      ]
     },
     "execution_count": 28,
     "metadata": {},
     "output_type": "execute_result"
    }
   ],
   "source": [
    "#CoreBasedStatisticalAreaCode should have no more than 5 digits\n",
    "df_2019[df_2019['CoreBasedStatisticalAreaCode']>99999]"
   ]
  },
  {
   "cell_type": "code",
   "execution_count": 29,
   "metadata": {},
   "outputs": [
    {
     "data": {
      "text/plain": [
       "99999    9264\n",
       "16980    3412\n",
       "17140    3373\n",
       "33340    2166\n",
       "28140    2164\n",
       "         ... \n",
       "44260       1\n",
       "15820       1\n",
       "22840       1\n",
       "31620       1\n",
       "24500       1\n",
       "Name: CoreBasedStatisticalAreaCode, Length: 811, dtype: int64"
      ]
     },
     "execution_count": 29,
     "metadata": {},
     "output_type": "execute_result"
    }
   ],
   "source": [
    "#Check \n",
    "df_2019['CoreBasedStatisticalAreaCode'].value_counts()"
   ]
  },
  {
   "cell_type": "markdown",
   "metadata": {},
   "source": [
    "## CensusTractIdentifier column : The property's Census Tract of Block Numbering Area (BNA)"
   ]
  },
  {
   "cell_type": "code",
   "execution_count": 35,
   "metadata": {},
   "outputs": [
    {
     "data": {
      "text/plain": [
       "9601.00    533\n",
       "9603.00    492\n",
       "9602.00    476\n",
       "9604.00    470\n",
       "103.00     422\n",
       "          ... \n",
       "1706.01      1\n",
       "8010.02      1\n",
       "6442.00      1\n",
       "323.15       1\n",
       "4302.01      1\n",
       "Name: CensusTractIdentifier, Length: 13198, dtype: int64"
      ]
     },
     "execution_count": 35,
     "metadata": {},
     "output_type": "execute_result"
    }
   ],
   "source": [
    "df_2019['CensusTractIdentifier'].value_counts()"
   ]
  },
  {
   "cell_type": "markdown",
   "metadata": {},
   "source": [
    "## CensusTractMinorityRatioPercent column : The percentage of the property's census tract population that is minority."
   ]
  },
  {
   "cell_type": "code",
   "execution_count": 40,
   "metadata": {},
   "outputs": [
    {
     "data": {
      "text/plain": [
       "0         4.577\n",
       "1         3.421\n",
       "2         6.152\n",
       "3         3.935\n",
       "4         6.031\n",
       "          ...  \n",
       "89762    17.119\n",
       "89763     5.698\n",
       "89764    13.887\n",
       "89765     6.373\n",
       "89766     3.080\n",
       "Name: CensusTractMinorityRatioPercent, Length: 89767, dtype: float64"
      ]
     },
     "execution_count": 40,
     "metadata": {},
     "output_type": "execute_result"
    }
   ],
   "source": [
    "df_2019['CensusTractMinorityRatioPercent']"
   ]
  },
  {
   "cell_type": "code",
   "execution_count": 44,
   "metadata": {},
   "outputs": [
    {
     "data": {
      "text/plain": [
       "count    89767.000000\n",
       "mean        17.844881\n",
       "std         18.600936\n",
       "min          0.000000\n",
       "25%          5.390500\n",
       "50%         11.000000\n",
       "75%         22.546000\n",
       "max         99.822000\n",
       "Name: CensusTractMinorityRatioPercent, dtype: float64"
      ]
     },
     "execution_count": 44,
     "metadata": {},
     "output_type": "execute_result"
    }
   ],
   "source": [
    "df_2019['CensusTractMinorityRatioPercent'].describe()"
   ]
  },
  {
   "cell_type": "code",
   "execution_count": 45,
   "metadata": {},
   "outputs": [
    {
     "data": {
      "text/html": [
       "<div>\n",
       "<style scoped>\n",
       "    .dataframe tbody tr th:only-of-type {\n",
       "        vertical-align: middle;\n",
       "    }\n",
       "\n",
       "    .dataframe tbody tr th {\n",
       "        vertical-align: top;\n",
       "    }\n",
       "\n",
       "    .dataframe thead th {\n",
       "        text-align: right;\n",
       "    }\n",
       "</style>\n",
       "<table border=\"1\" class=\"dataframe\">\n",
       "  <thead>\n",
       "    <tr style=\"text-align: right;\">\n",
       "      <th></th>\n",
       "      <th>Year</th>\n",
       "      <th>LoanCharacteristicsID</th>\n",
       "      <th>Bank</th>\n",
       "      <th>FIPSStateNumericCode</th>\n",
       "      <th>FIPSCountyCode</th>\n",
       "      <th>CoreBasedStatisticalAreaCode</th>\n",
       "      <th>CensusTractIdentifier</th>\n",
       "      <th>CensusTractMinorityRatioPercent</th>\n",
       "      <th>CensusTractMedFamIncomeAmount</th>\n",
       "      <th>LocalAreaMedianIncomeAmount</th>\n",
       "      <th>...</th>\n",
       "      <th>Borrower1Race3Type</th>\n",
       "      <th>Borrower1Race4Type</th>\n",
       "      <th>Borrower1Race5Type</th>\n",
       "      <th>Borrower2EthnicityType</th>\n",
       "      <th>Borrower2Race2Type</th>\n",
       "      <th>Borrower2Race3Type</th>\n",
       "      <th>Borrower2Race4Type</th>\n",
       "      <th>Borrower2Race5Type</th>\n",
       "      <th>HOEPALoanStatusType</th>\n",
       "      <th>LienPriorityType</th>\n",
       "    </tr>\n",
       "  </thead>\n",
       "  <tbody>\n",
       "    <tr>\n",
       "      <th>13477</th>\n",
       "      <td>2019</td>\n",
       "      <td>2446287</td>\n",
       "      <td>Chicago</td>\n",
       "      <td>55</td>\n",
       "      <td>25</td>\n",
       "      <td>31540</td>\n",
       "      <td>9917.03</td>\n",
       "      <td>0.0</td>\n",
       "      <td>0</td>\n",
       "      <td>87309</td>\n",
       "      <td>...</td>\n",
       "      <td>7</td>\n",
       "      <td>7</td>\n",
       "      <td>7</td>\n",
       "      <td>2</td>\n",
       "      <td>7</td>\n",
       "      <td>7</td>\n",
       "      <td>7</td>\n",
       "      <td>7</td>\n",
       "      <td>2</td>\n",
       "      <td>1</td>\n",
       "    </tr>\n",
       "    <tr>\n",
       "      <th>20537</th>\n",
       "      <td>2019</td>\n",
       "      <td>2478655</td>\n",
       "      <td>Chicago</td>\n",
       "      <td>4</td>\n",
       "      <td>13</td>\n",
       "      <td>38060</td>\n",
       "      <td>9806.00</td>\n",
       "      <td>0.0</td>\n",
       "      <td>133494</td>\n",
       "      <td>68709</td>\n",
       "      <td>...</td>\n",
       "      <td>7</td>\n",
       "      <td>7</td>\n",
       "      <td>7</td>\n",
       "      <td>5</td>\n",
       "      <td>8</td>\n",
       "      <td>8</td>\n",
       "      <td>8</td>\n",
       "      <td>8</td>\n",
       "      <td>2</td>\n",
       "      <td>1</td>\n",
       "    </tr>\n",
       "    <tr>\n",
       "      <th>36459</th>\n",
       "      <td>2019</td>\n",
       "      <td>2469015</td>\n",
       "      <td>Cincinnati</td>\n",
       "      <td>4</td>\n",
       "      <td>13</td>\n",
       "      <td>38060</td>\n",
       "      <td>9806.00</td>\n",
       "      <td>0.0</td>\n",
       "      <td>133494</td>\n",
       "      <td>68709</td>\n",
       "      <td>...</td>\n",
       "      <td>6</td>\n",
       "      <td>6</td>\n",
       "      <td>6</td>\n",
       "      <td>2</td>\n",
       "      <td>6</td>\n",
       "      <td>6</td>\n",
       "      <td>6</td>\n",
       "      <td>6</td>\n",
       "      <td>2</td>\n",
       "      <td>1</td>\n",
       "    </tr>\n",
       "    <tr>\n",
       "      <th>59677</th>\n",
       "      <td>2019</td>\n",
       "      <td>2406723</td>\n",
       "      <td>Indianapolis</td>\n",
       "      <td>26</td>\n",
       "      <td>147</td>\n",
       "      <td>19820</td>\n",
       "      <td>6470.00</td>\n",
       "      <td>0.0</td>\n",
       "      <td>71471</td>\n",
       "      <td>76739</td>\n",
       "      <td>...</td>\n",
       "      <td>7</td>\n",
       "      <td>7</td>\n",
       "      <td>7</td>\n",
       "      <td>5</td>\n",
       "      <td>8</td>\n",
       "      <td>8</td>\n",
       "      <td>8</td>\n",
       "      <td>8</td>\n",
       "      <td>2</td>\n",
       "      <td>1</td>\n",
       "    </tr>\n",
       "    <tr>\n",
       "      <th>60329</th>\n",
       "      <td>2019</td>\n",
       "      <td>2438332</td>\n",
       "      <td>Indianapolis</td>\n",
       "      <td>18</td>\n",
       "      <td>41</td>\n",
       "      <td>99999</td>\n",
       "      <td>9540.00</td>\n",
       "      <td>0.0</td>\n",
       "      <td>60741</td>\n",
       "      <td>55715</td>\n",
       "      <td>...</td>\n",
       "      <td>7</td>\n",
       "      <td>7</td>\n",
       "      <td>7</td>\n",
       "      <td>5</td>\n",
       "      <td>8</td>\n",
       "      <td>8</td>\n",
       "      <td>8</td>\n",
       "      <td>8</td>\n",
       "      <td>2</td>\n",
       "      <td>1</td>\n",
       "    </tr>\n",
       "    <tr>\n",
       "      <th>60568</th>\n",
       "      <td>2019</td>\n",
       "      <td>2438571</td>\n",
       "      <td>Indianapolis</td>\n",
       "      <td>18</td>\n",
       "      <td>41</td>\n",
       "      <td>99999</td>\n",
       "      <td>9540.00</td>\n",
       "      <td>0.0</td>\n",
       "      <td>60741</td>\n",
       "      <td>55715</td>\n",
       "      <td>...</td>\n",
       "      <td>7</td>\n",
       "      <td>7</td>\n",
       "      <td>7</td>\n",
       "      <td>5</td>\n",
       "      <td>8</td>\n",
       "      <td>8</td>\n",
       "      <td>8</td>\n",
       "      <td>8</td>\n",
       "      <td>2</td>\n",
       "      <td>1</td>\n",
       "    </tr>\n",
       "    <tr>\n",
       "      <th>61148</th>\n",
       "      <td>2019</td>\n",
       "      <td>2439151</td>\n",
       "      <td>Indianapolis</td>\n",
       "      <td>18</td>\n",
       "      <td>41</td>\n",
       "      <td>99999</td>\n",
       "      <td>9540.00</td>\n",
       "      <td>0.0</td>\n",
       "      <td>60741</td>\n",
       "      <td>55715</td>\n",
       "      <td>...</td>\n",
       "      <td>7</td>\n",
       "      <td>7</td>\n",
       "      <td>7</td>\n",
       "      <td>5</td>\n",
       "      <td>8</td>\n",
       "      <td>8</td>\n",
       "      <td>8</td>\n",
       "      <td>8</td>\n",
       "      <td>2</td>\n",
       "      <td>1</td>\n",
       "    </tr>\n",
       "    <tr>\n",
       "      <th>62602</th>\n",
       "      <td>2019</td>\n",
       "      <td>2470200</td>\n",
       "      <td>Indianapolis</td>\n",
       "      <td>18</td>\n",
       "      <td>41</td>\n",
       "      <td>99999</td>\n",
       "      <td>9540.00</td>\n",
       "      <td>0.0</td>\n",
       "      <td>60741</td>\n",
       "      <td>55715</td>\n",
       "      <td>...</td>\n",
       "      <td>7</td>\n",
       "      <td>7</td>\n",
       "      <td>7</td>\n",
       "      <td>2</td>\n",
       "      <td>7</td>\n",
       "      <td>7</td>\n",
       "      <td>7</td>\n",
       "      <td>7</td>\n",
       "      <td>2</td>\n",
       "      <td>1</td>\n",
       "    </tr>\n",
       "    <tr>\n",
       "      <th>62704</th>\n",
       "      <td>2019</td>\n",
       "      <td>2470302</td>\n",
       "      <td>Indianapolis</td>\n",
       "      <td>18</td>\n",
       "      <td>41</td>\n",
       "      <td>99999</td>\n",
       "      <td>9540.00</td>\n",
       "      <td>0.0</td>\n",
       "      <td>60741</td>\n",
       "      <td>55715</td>\n",
       "      <td>...</td>\n",
       "      <td>7</td>\n",
       "      <td>7</td>\n",
       "      <td>7</td>\n",
       "      <td>5</td>\n",
       "      <td>8</td>\n",
       "      <td>8</td>\n",
       "      <td>8</td>\n",
       "      <td>8</td>\n",
       "      <td>2</td>\n",
       "      <td>1</td>\n",
       "    </tr>\n",
       "    <tr>\n",
       "      <th>63490</th>\n",
       "      <td>2019</td>\n",
       "      <td>2520414</td>\n",
       "      <td>Indianapolis</td>\n",
       "      <td>18</td>\n",
       "      <td>79</td>\n",
       "      <td>35860</td>\n",
       "      <td>9603.01</td>\n",
       "      <td>0.0</td>\n",
       "      <td>60759</td>\n",
       "      <td>55741</td>\n",
       "      <td>...</td>\n",
       "      <td>7</td>\n",
       "      <td>7</td>\n",
       "      <td>7</td>\n",
       "      <td>5</td>\n",
       "      <td>8</td>\n",
       "      <td>8</td>\n",
       "      <td>8</td>\n",
       "      <td>8</td>\n",
       "      <td>2</td>\n",
       "      <td>1</td>\n",
       "    </tr>\n",
       "    <tr>\n",
       "      <th>64027</th>\n",
       "      <td>2019</td>\n",
       "      <td>2520951</td>\n",
       "      <td>Indianapolis</td>\n",
       "      <td>18</td>\n",
       "      <td>79</td>\n",
       "      <td>35860</td>\n",
       "      <td>9603.01</td>\n",
       "      <td>0.0</td>\n",
       "      <td>60759</td>\n",
       "      <td>55741</td>\n",
       "      <td>...</td>\n",
       "      <td>7</td>\n",
       "      <td>7</td>\n",
       "      <td>7</td>\n",
       "      <td>5</td>\n",
       "      <td>8</td>\n",
       "      <td>8</td>\n",
       "      <td>8</td>\n",
       "      <td>8</td>\n",
       "      <td>2</td>\n",
       "      <td>1</td>\n",
       "    </tr>\n",
       "    <tr>\n",
       "      <th>68196</th>\n",
       "      <td>2019</td>\n",
       "      <td>2430843</td>\n",
       "      <td>Pittsburgh</td>\n",
       "      <td>37</td>\n",
       "      <td>19</td>\n",
       "      <td>34820</td>\n",
       "      <td>9901.00</td>\n",
       "      <td>0.0</td>\n",
       "      <td>0</td>\n",
       "      <td>57630</td>\n",
       "      <td>...</td>\n",
       "      <td>7</td>\n",
       "      <td>7</td>\n",
       "      <td>7</td>\n",
       "      <td>2</td>\n",
       "      <td>7</td>\n",
       "      <td>7</td>\n",
       "      <td>7</td>\n",
       "      <td>7</td>\n",
       "      <td>2</td>\n",
       "      <td>1</td>\n",
       "    </tr>\n",
       "    <tr>\n",
       "      <th>77634</th>\n",
       "      <td>2019</td>\n",
       "      <td>2436650</td>\n",
       "      <td>Topeka</td>\n",
       "      <td>4</td>\n",
       "      <td>13</td>\n",
       "      <td>38060</td>\n",
       "      <td>9806.00</td>\n",
       "      <td>0.0</td>\n",
       "      <td>133494</td>\n",
       "      <td>68709</td>\n",
       "      <td>...</td>\n",
       "      <td>7</td>\n",
       "      <td>7</td>\n",
       "      <td>7</td>\n",
       "      <td>5</td>\n",
       "      <td>8</td>\n",
       "      <td>8</td>\n",
       "      <td>8</td>\n",
       "      <td>8</td>\n",
       "      <td>2</td>\n",
       "      <td>1</td>\n",
       "    </tr>\n",
       "    <tr>\n",
       "      <th>86849</th>\n",
       "      <td>2019</td>\n",
       "      <td>2489053</td>\n",
       "      <td>Topeka</td>\n",
       "      <td>4</td>\n",
       "      <td>13</td>\n",
       "      <td>38060</td>\n",
       "      <td>9806.00</td>\n",
       "      <td>0.0</td>\n",
       "      <td>133494</td>\n",
       "      <td>68709</td>\n",
       "      <td>...</td>\n",
       "      <td>7</td>\n",
       "      <td>7</td>\n",
       "      <td>7</td>\n",
       "      <td>5</td>\n",
       "      <td>8</td>\n",
       "      <td>8</td>\n",
       "      <td>8</td>\n",
       "      <td>8</td>\n",
       "      <td>2</td>\n",
       "      <td>1</td>\n",
       "    </tr>\n",
       "  </tbody>\n",
       "</table>\n",
       "<p>14 rows × 56 columns</p>\n",
       "</div>"
      ],
      "text/plain": [
       "       Year  LoanCharacteristicsID          Bank  FIPSStateNumericCode  \\\n",
       "13477  2019                2446287       Chicago                    55   \n",
       "20537  2019                2478655       Chicago                     4   \n",
       "36459  2019                2469015    Cincinnati                     4   \n",
       "59677  2019                2406723  Indianapolis                    26   \n",
       "60329  2019                2438332  Indianapolis                    18   \n",
       "60568  2019                2438571  Indianapolis                    18   \n",
       "61148  2019                2439151  Indianapolis                    18   \n",
       "62602  2019                2470200  Indianapolis                    18   \n",
       "62704  2019                2470302  Indianapolis                    18   \n",
       "63490  2019                2520414  Indianapolis                    18   \n",
       "64027  2019                2520951  Indianapolis                    18   \n",
       "68196  2019                2430843    Pittsburgh                    37   \n",
       "77634  2019                2436650        Topeka                     4   \n",
       "86849  2019                2489053        Topeka                     4   \n",
       "\n",
       "       FIPSCountyCode  CoreBasedStatisticalAreaCode  CensusTractIdentifier  \\\n",
       "13477              25                         31540                9917.03   \n",
       "20537              13                         38060                9806.00   \n",
       "36459              13                         38060                9806.00   \n",
       "59677             147                         19820                6470.00   \n",
       "60329              41                         99999                9540.00   \n",
       "60568              41                         99999                9540.00   \n",
       "61148              41                         99999                9540.00   \n",
       "62602              41                         99999                9540.00   \n",
       "62704              41                         99999                9540.00   \n",
       "63490              79                         35860                9603.01   \n",
       "64027              79                         35860                9603.01   \n",
       "68196              19                         34820                9901.00   \n",
       "77634              13                         38060                9806.00   \n",
       "86849              13                         38060                9806.00   \n",
       "\n",
       "       CensusTractMinorityRatioPercent  CensusTractMedFamIncomeAmount  \\\n",
       "13477                              0.0                              0   \n",
       "20537                              0.0                         133494   \n",
       "36459                              0.0                         133494   \n",
       "59677                              0.0                          71471   \n",
       "60329                              0.0                          60741   \n",
       "60568                              0.0                          60741   \n",
       "61148                              0.0                          60741   \n",
       "62602                              0.0                          60741   \n",
       "62704                              0.0                          60741   \n",
       "63490                              0.0                          60759   \n",
       "64027                              0.0                          60759   \n",
       "68196                              0.0                              0   \n",
       "77634                              0.0                         133494   \n",
       "86849                              0.0                         133494   \n",
       "\n",
       "       LocalAreaMedianIncomeAmount  ...  Borrower1Race3Type  \\\n",
       "13477                        87309  ...                   7   \n",
       "20537                        68709  ...                   7   \n",
       "36459                        68709  ...                   6   \n",
       "59677                        76739  ...                   7   \n",
       "60329                        55715  ...                   7   \n",
       "60568                        55715  ...                   7   \n",
       "61148                        55715  ...                   7   \n",
       "62602                        55715  ...                   7   \n",
       "62704                        55715  ...                   7   \n",
       "63490                        55741  ...                   7   \n",
       "64027                        55741  ...                   7   \n",
       "68196                        57630  ...                   7   \n",
       "77634                        68709  ...                   7   \n",
       "86849                        68709  ...                   7   \n",
       "\n",
       "       Borrower1Race4Type  Borrower1Race5Type  Borrower2EthnicityType  \\\n",
       "13477                   7                   7                       2   \n",
       "20537                   7                   7                       5   \n",
       "36459                   6                   6                       2   \n",
       "59677                   7                   7                       5   \n",
       "60329                   7                   7                       5   \n",
       "60568                   7                   7                       5   \n",
       "61148                   7                   7                       5   \n",
       "62602                   7                   7                       2   \n",
       "62704                   7                   7                       5   \n",
       "63490                   7                   7                       5   \n",
       "64027                   7                   7                       5   \n",
       "68196                   7                   7                       2   \n",
       "77634                   7                   7                       5   \n",
       "86849                   7                   7                       5   \n",
       "\n",
       "       Borrower2Race2Type  Borrower2Race3Type  Borrower2Race4Type  \\\n",
       "13477                   7                   7                   7   \n",
       "20537                   8                   8                   8   \n",
       "36459                   6                   6                   6   \n",
       "59677                   8                   8                   8   \n",
       "60329                   8                   8                   8   \n",
       "60568                   8                   8                   8   \n",
       "61148                   8                   8                   8   \n",
       "62602                   7                   7                   7   \n",
       "62704                   8                   8                   8   \n",
       "63490                   8                   8                   8   \n",
       "64027                   8                   8                   8   \n",
       "68196                   7                   7                   7   \n",
       "77634                   8                   8                   8   \n",
       "86849                   8                   8                   8   \n",
       "\n",
       "       Borrower2Race5Type  HOEPALoanStatusType  LienPriorityType  \n",
       "13477                   7                    2                 1  \n",
       "20537                   8                    2                 1  \n",
       "36459                   6                    2                 1  \n",
       "59677                   8                    2                 1  \n",
       "60329                   8                    2                 1  \n",
       "60568                   8                    2                 1  \n",
       "61148                   8                    2                 1  \n",
       "62602                   7                    2                 1  \n",
       "62704                   8                    2                 1  \n",
       "63490                   8                    2                 1  \n",
       "64027                   8                    2                 1  \n",
       "68196                   7                    2                 1  \n",
       "77634                   8                    2                 1  \n",
       "86849                   8                    2                 1  \n",
       "\n",
       "[14 rows x 56 columns]"
      ]
     },
     "execution_count": 45,
     "metadata": {},
     "output_type": "execute_result"
    }
   ],
   "source": [
    "#Check areas with 0% minority\n",
    "df_2019[df_2019['CensusTractMinorityRatioPercent']==0.0]"
   ]
  },
  {
   "cell_type": "markdown",
   "metadata": {},
   "source": [
    "# CensusTractMedFamIncomeAmount : The property's census tract median family income."
   ]
  },
  {
   "cell_type": "code",
   "execution_count": 42,
   "metadata": {},
   "outputs": [
    {
     "data": {
      "text/plain": [
       "count     89767.000000\n",
       "mean      87799.607785\n",
       "std       30551.702748\n",
       "min           0.000000\n",
       "25%       66270.000000\n",
       "50%       82019.000000\n",
       "75%      104219.000000\n",
       "max      250001.000000\n",
       "Name: CensusTractMedFamIncomeAmount, dtype: float64"
      ]
     },
     "execution_count": 42,
     "metadata": {},
     "output_type": "execute_result"
    }
   ],
   "source": [
    "df_2019['CensusTractMedFamIncomeAmount'].describe()"
   ]
  },
  {
   "cell_type": "code",
   "execution_count": 43,
   "metadata": {},
   "outputs": [
    {
     "data": {
      "text/html": [
       "<div>\n",
       "<style scoped>\n",
       "    .dataframe tbody tr th:only-of-type {\n",
       "        vertical-align: middle;\n",
       "    }\n",
       "\n",
       "    .dataframe tbody tr th {\n",
       "        vertical-align: top;\n",
       "    }\n",
       "\n",
       "    .dataframe thead th {\n",
       "        text-align: right;\n",
       "    }\n",
       "</style>\n",
       "<table border=\"1\" class=\"dataframe\">\n",
       "  <thead>\n",
       "    <tr style=\"text-align: right;\">\n",
       "      <th></th>\n",
       "      <th>Year</th>\n",
       "      <th>LoanCharacteristicsID</th>\n",
       "      <th>Bank</th>\n",
       "      <th>FIPSStateNumericCode</th>\n",
       "      <th>FIPSCountyCode</th>\n",
       "      <th>CoreBasedStatisticalAreaCode</th>\n",
       "      <th>CensusTractIdentifier</th>\n",
       "      <th>CensusTractMinorityRatioPercent</th>\n",
       "      <th>CensusTractMedFamIncomeAmount</th>\n",
       "      <th>LocalAreaMedianIncomeAmount</th>\n",
       "      <th>...</th>\n",
       "      <th>Borrower1Race3Type</th>\n",
       "      <th>Borrower1Race4Type</th>\n",
       "      <th>Borrower1Race5Type</th>\n",
       "      <th>Borrower2EthnicityType</th>\n",
       "      <th>Borrower2Race2Type</th>\n",
       "      <th>Borrower2Race3Type</th>\n",
       "      <th>Borrower2Race4Type</th>\n",
       "      <th>Borrower2Race5Type</th>\n",
       "      <th>HOEPALoanStatusType</th>\n",
       "      <th>LienPriorityType</th>\n",
       "    </tr>\n",
       "  </thead>\n",
       "  <tbody>\n",
       "    <tr>\n",
       "      <th>549</th>\n",
       "      <td>2019</td>\n",
       "      <td>2407747</td>\n",
       "      <td>Boston</td>\n",
       "      <td>25</td>\n",
       "      <td>25</td>\n",
       "      <td>14460</td>\n",
       "      <td>711.01</td>\n",
       "      <td>51.052</td>\n",
       "      <td>0</td>\n",
       "      <td>95277</td>\n",
       "      <td>...</td>\n",
       "      <td>7</td>\n",
       "      <td>7</td>\n",
       "      <td>7</td>\n",
       "      <td>5</td>\n",
       "      <td>8</td>\n",
       "      <td>8</td>\n",
       "      <td>8</td>\n",
       "      <td>8</td>\n",
       "      <td>2</td>\n",
       "      <td>1</td>\n",
       "    </tr>\n",
       "    <tr>\n",
       "      <th>1122</th>\n",
       "      <td>2019</td>\n",
       "      <td>2422709</td>\n",
       "      <td>Boston</td>\n",
       "      <td>25</td>\n",
       "      <td>25</td>\n",
       "      <td>14460</td>\n",
       "      <td>9813.00</td>\n",
       "      <td>33.676</td>\n",
       "      <td>0</td>\n",
       "      <td>102945</td>\n",
       "      <td>...</td>\n",
       "      <td>7</td>\n",
       "      <td>7</td>\n",
       "      <td>7</td>\n",
       "      <td>2</td>\n",
       "      <td>7</td>\n",
       "      <td>7</td>\n",
       "      <td>7</td>\n",
       "      <td>7</td>\n",
       "      <td>2</td>\n",
       "      <td>1</td>\n",
       "    </tr>\n",
       "    <tr>\n",
       "      <th>1735</th>\n",
       "      <td>2019</td>\n",
       "      <td>2443474</td>\n",
       "      <td>Boston</td>\n",
       "      <td>25</td>\n",
       "      <td>25</td>\n",
       "      <td>14460</td>\n",
       "      <td>9813.00</td>\n",
       "      <td>33.676</td>\n",
       "      <td>0</td>\n",
       "      <td>102945</td>\n",
       "      <td>...</td>\n",
       "      <td>7</td>\n",
       "      <td>7</td>\n",
       "      <td>7</td>\n",
       "      <td>5</td>\n",
       "      <td>8</td>\n",
       "      <td>8</td>\n",
       "      <td>8</td>\n",
       "      <td>8</td>\n",
       "      <td>2</td>\n",
       "      <td>1</td>\n",
       "    </tr>\n",
       "    <tr>\n",
       "      <th>4177</th>\n",
       "      <td>2019</td>\n",
       "      <td>2409126</td>\n",
       "      <td>Chicago</td>\n",
       "      <td>55</td>\n",
       "      <td>105</td>\n",
       "      <td>27500</td>\n",
       "      <td>15.00</td>\n",
       "      <td>31.083</td>\n",
       "      <td>0</td>\n",
       "      <td>61315</td>\n",
       "      <td>...</td>\n",
       "      <td>7</td>\n",
       "      <td>7</td>\n",
       "      <td>7</td>\n",
       "      <td>5</td>\n",
       "      <td>8</td>\n",
       "      <td>8</td>\n",
       "      <td>8</td>\n",
       "      <td>8</td>\n",
       "      <td>2</td>\n",
       "      <td>1</td>\n",
       "    </tr>\n",
       "    <tr>\n",
       "      <th>6723</th>\n",
       "      <td>2019</td>\n",
       "      <td>2425429</td>\n",
       "      <td>Chicago</td>\n",
       "      <td>55</td>\n",
       "      <td>79</td>\n",
       "      <td>33340</td>\n",
       "      <td>1870.00</td>\n",
       "      <td>17.153</td>\n",
       "      <td>0</td>\n",
       "      <td>76163</td>\n",
       "      <td>...</td>\n",
       "      <td>7</td>\n",
       "      <td>7</td>\n",
       "      <td>7</td>\n",
       "      <td>5</td>\n",
       "      <td>8</td>\n",
       "      <td>8</td>\n",
       "      <td>8</td>\n",
       "      <td>8</td>\n",
       "      <td>2</td>\n",
       "      <td>1</td>\n",
       "    </tr>\n",
       "    <tr>\n",
       "      <th>...</th>\n",
       "      <td>...</td>\n",
       "      <td>...</td>\n",
       "      <td>...</td>\n",
       "      <td>...</td>\n",
       "      <td>...</td>\n",
       "      <td>...</td>\n",
       "      <td>...</td>\n",
       "      <td>...</td>\n",
       "      <td>...</td>\n",
       "      <td>...</td>\n",
       "      <td>...</td>\n",
       "      <td>...</td>\n",
       "      <td>...</td>\n",
       "      <td>...</td>\n",
       "      <td>...</td>\n",
       "      <td>...</td>\n",
       "      <td>...</td>\n",
       "      <td>...</td>\n",
       "      <td>...</td>\n",
       "      <td>...</td>\n",
       "      <td>...</td>\n",
       "    </tr>\n",
       "    <tr>\n",
       "      <th>72352</th>\n",
       "      <td>2019</td>\n",
       "      <td>2459466</td>\n",
       "      <td>San Francisco</td>\n",
       "      <td>6</td>\n",
       "      <td>1</td>\n",
       "      <td>41860</td>\n",
       "      <td>9820.00</td>\n",
       "      <td>35.211</td>\n",
       "      <td>0</td>\n",
       "      <td>109712</td>\n",
       "      <td>...</td>\n",
       "      <td>7</td>\n",
       "      <td>7</td>\n",
       "      <td>7</td>\n",
       "      <td>5</td>\n",
       "      <td>8</td>\n",
       "      <td>8</td>\n",
       "      <td>8</td>\n",
       "      <td>8</td>\n",
       "      <td>2</td>\n",
       "      <td>1</td>\n",
       "    </tr>\n",
       "    <tr>\n",
       "      <th>73067</th>\n",
       "      <td>2019</td>\n",
       "      <td>2492088</td>\n",
       "      <td>San Francisco</td>\n",
       "      <td>6</td>\n",
       "      <td>1</td>\n",
       "      <td>41860</td>\n",
       "      <td>4018.00</td>\n",
       "      <td>84.968</td>\n",
       "      <td>0</td>\n",
       "      <td>109712</td>\n",
       "      <td>...</td>\n",
       "      <td>7</td>\n",
       "      <td>7</td>\n",
       "      <td>7</td>\n",
       "      <td>2</td>\n",
       "      <td>7</td>\n",
       "      <td>7</td>\n",
       "      <td>7</td>\n",
       "      <td>7</td>\n",
       "      <td>2</td>\n",
       "      <td>1</td>\n",
       "    </tr>\n",
       "    <tr>\n",
       "      <th>75023</th>\n",
       "      <td>2019</td>\n",
       "      <td>2416179</td>\n",
       "      <td>Topeka</td>\n",
       "      <td>6</td>\n",
       "      <td>61</td>\n",
       "      <td>40900</td>\n",
       "      <td>223.00</td>\n",
       "      <td>6.065</td>\n",
       "      <td>0</td>\n",
       "      <td>74384</td>\n",
       "      <td>...</td>\n",
       "      <td>7</td>\n",
       "      <td>7</td>\n",
       "      <td>7</td>\n",
       "      <td>2</td>\n",
       "      <td>7</td>\n",
       "      <td>7</td>\n",
       "      <td>7</td>\n",
       "      <td>7</td>\n",
       "      <td>2</td>\n",
       "      <td>1</td>\n",
       "    </tr>\n",
       "    <tr>\n",
       "      <th>82564</th>\n",
       "      <td>2019</td>\n",
       "      <td>2463489</td>\n",
       "      <td>Topeka</td>\n",
       "      <td>31</td>\n",
       "      <td>109</td>\n",
       "      <td>30700</td>\n",
       "      <td>19.00</td>\n",
       "      <td>10.977</td>\n",
       "      <td>0</td>\n",
       "      <td>75378</td>\n",
       "      <td>...</td>\n",
       "      <td>7</td>\n",
       "      <td>7</td>\n",
       "      <td>7</td>\n",
       "      <td>2</td>\n",
       "      <td>7</td>\n",
       "      <td>7</td>\n",
       "      <td>7</td>\n",
       "      <td>7</td>\n",
       "      <td>2</td>\n",
       "      <td>1</td>\n",
       "    </tr>\n",
       "    <tr>\n",
       "      <th>85809</th>\n",
       "      <td>2019</td>\n",
       "      <td>2488013</td>\n",
       "      <td>Topeka</td>\n",
       "      <td>25</td>\n",
       "      <td>17</td>\n",
       "      <td>14460</td>\n",
       "      <td>3522.00</td>\n",
       "      <td>37.263</td>\n",
       "      <td>0</td>\n",
       "      <td>102945</td>\n",
       "      <td>...</td>\n",
       "      <td>7</td>\n",
       "      <td>7</td>\n",
       "      <td>7</td>\n",
       "      <td>5</td>\n",
       "      <td>8</td>\n",
       "      <td>8</td>\n",
       "      <td>8</td>\n",
       "      <td>8</td>\n",
       "      <td>2</td>\n",
       "      <td>1</td>\n",
       "    </tr>\n",
       "  </tbody>\n",
       "</table>\n",
       "<p>62 rows × 56 columns</p>\n",
       "</div>"
      ],
      "text/plain": [
       "       Year  LoanCharacteristicsID           Bank  FIPSStateNumericCode  \\\n",
       "549    2019                2407747         Boston                    25   \n",
       "1122   2019                2422709         Boston                    25   \n",
       "1735   2019                2443474         Boston                    25   \n",
       "4177   2019                2409126        Chicago                    55   \n",
       "6723   2019                2425429        Chicago                    55   \n",
       "...     ...                    ...            ...                   ...   \n",
       "72352  2019                2459466  San Francisco                     6   \n",
       "73067  2019                2492088  San Francisco                     6   \n",
       "75023  2019                2416179         Topeka                     6   \n",
       "82564  2019                2463489         Topeka                    31   \n",
       "85809  2019                2488013         Topeka                    25   \n",
       "\n",
       "       FIPSCountyCode  CoreBasedStatisticalAreaCode  CensusTractIdentifier  \\\n",
       "549                25                         14460                 711.01   \n",
       "1122               25                         14460                9813.00   \n",
       "1735               25                         14460                9813.00   \n",
       "4177              105                         27500                  15.00   \n",
       "6723               79                         33340                1870.00   \n",
       "...               ...                           ...                    ...   \n",
       "72352               1                         41860                9820.00   \n",
       "73067               1                         41860                4018.00   \n",
       "75023              61                         40900                 223.00   \n",
       "82564             109                         30700                  19.00   \n",
       "85809              17                         14460                3522.00   \n",
       "\n",
       "       CensusTractMinorityRatioPercent  CensusTractMedFamIncomeAmount  \\\n",
       "549                             51.052                              0   \n",
       "1122                            33.676                              0   \n",
       "1735                            33.676                              0   \n",
       "4177                            31.083                              0   \n",
       "6723                            17.153                              0   \n",
       "...                                ...                            ...   \n",
       "72352                           35.211                              0   \n",
       "73067                           84.968                              0   \n",
       "75023                            6.065                              0   \n",
       "82564                           10.977                              0   \n",
       "85809                           37.263                              0   \n",
       "\n",
       "       LocalAreaMedianIncomeAmount  ...  Borrower1Race3Type  \\\n",
       "549                          95277  ...                   7   \n",
       "1122                        102945  ...                   7   \n",
       "1735                        102945  ...                   7   \n",
       "4177                         61315  ...                   7   \n",
       "6723                         76163  ...                   7   \n",
       "...                            ...  ...                 ...   \n",
       "72352                       109712  ...                   7   \n",
       "73067                       109712  ...                   7   \n",
       "75023                        74384  ...                   7   \n",
       "82564                        75378  ...                   7   \n",
       "85809                       102945  ...                   7   \n",
       "\n",
       "       Borrower1Race4Type  Borrower1Race5Type  Borrower2EthnicityType  \\\n",
       "549                     7                   7                       5   \n",
       "1122                    7                   7                       2   \n",
       "1735                    7                   7                       5   \n",
       "4177                    7                   7                       5   \n",
       "6723                    7                   7                       5   \n",
       "...                   ...                 ...                     ...   \n",
       "72352                   7                   7                       5   \n",
       "73067                   7                   7                       2   \n",
       "75023                   7                   7                       2   \n",
       "82564                   7                   7                       2   \n",
       "85809                   7                   7                       5   \n",
       "\n",
       "       Borrower2Race2Type  Borrower2Race3Type  Borrower2Race4Type  \\\n",
       "549                     8                   8                   8   \n",
       "1122                    7                   7                   7   \n",
       "1735                    8                   8                   8   \n",
       "4177                    8                   8                   8   \n",
       "6723                    8                   8                   8   \n",
       "...                   ...                 ...                 ...   \n",
       "72352                   8                   8                   8   \n",
       "73067                   7                   7                   7   \n",
       "75023                   7                   7                   7   \n",
       "82564                   7                   7                   7   \n",
       "85809                   8                   8                   8   \n",
       "\n",
       "       Borrower2Race5Type  HOEPALoanStatusType  LienPriorityType  \n",
       "549                     8                    2                 1  \n",
       "1122                    7                    2                 1  \n",
       "1735                    8                    2                 1  \n",
       "4177                    8                    2                 1  \n",
       "6723                    8                    2                 1  \n",
       "...                   ...                  ...               ...  \n",
       "72352                   8                    2                 1  \n",
       "73067                   7                    2                 1  \n",
       "75023                   7                    2                 1  \n",
       "82564                   7                    2                 1  \n",
       "85809                   8                    2                 1  \n",
       "\n",
       "[62 rows x 56 columns]"
      ]
     },
     "execution_count": 43,
     "metadata": {},
     "output_type": "execute_result"
    }
   ],
   "source": [
    "#Check zero median family income\n",
    "df_2019[df_2019['CensusTractMedFamIncomeAmount']==0.0]"
   ]
  },
  {
   "cell_type": "markdown",
   "metadata": {},
   "source": [
    "# LocalAreaMedianIncomeAmount : The property's median income for the area based on the most recent decennial census."
   ]
  },
  {
   "cell_type": "code",
   "execution_count": 47,
   "metadata": {},
   "outputs": [
    {
     "data": {
      "text/plain": [
       "count     89767.000000\n",
       "mean      74078.453998\n",
       "std       11949.849407\n",
       "min           0.000000\n",
       "25%       65829.000000\n",
       "50%       73493.000000\n",
       "75%       79347.000000\n",
       "max      133523.000000\n",
       "Name: LocalAreaMedianIncomeAmount, dtype: float64"
      ]
     },
     "execution_count": 47,
     "metadata": {},
     "output_type": "execute_result"
    }
   ],
   "source": [
    "#Find the property's LocalAreaMedianIncomeAmount \n",
    "df_2019['LocalAreaMedianIncomeAmount'].describe()"
   ]
  },
  {
   "cell_type": "code",
   "execution_count": 48,
   "metadata": {},
   "outputs": [
    {
     "data": {
      "text/html": [
       "<div>\n",
       "<style scoped>\n",
       "    .dataframe tbody tr th:only-of-type {\n",
       "        vertical-align: middle;\n",
       "    }\n",
       "\n",
       "    .dataframe tbody tr th {\n",
       "        vertical-align: top;\n",
       "    }\n",
       "\n",
       "    .dataframe thead th {\n",
       "        text-align: right;\n",
       "    }\n",
       "</style>\n",
       "<table border=\"1\" class=\"dataframe\">\n",
       "  <thead>\n",
       "    <tr style=\"text-align: right;\">\n",
       "      <th></th>\n",
       "      <th>Year</th>\n",
       "      <th>LoanCharacteristicsID</th>\n",
       "      <th>Bank</th>\n",
       "      <th>FIPSStateNumericCode</th>\n",
       "      <th>FIPSCountyCode</th>\n",
       "      <th>CoreBasedStatisticalAreaCode</th>\n",
       "      <th>CensusTractIdentifier</th>\n",
       "      <th>CensusTractMinorityRatioPercent</th>\n",
       "      <th>CensusTractMedFamIncomeAmount</th>\n",
       "      <th>LocalAreaMedianIncomeAmount</th>\n",
       "      <th>...</th>\n",
       "      <th>Borrower1Race3Type</th>\n",
       "      <th>Borrower1Race4Type</th>\n",
       "      <th>Borrower1Race5Type</th>\n",
       "      <th>Borrower2EthnicityType</th>\n",
       "      <th>Borrower2Race2Type</th>\n",
       "      <th>Borrower2Race3Type</th>\n",
       "      <th>Borrower2Race4Type</th>\n",
       "      <th>Borrower2Race5Type</th>\n",
       "      <th>HOEPALoanStatusType</th>\n",
       "      <th>LienPriorityType</th>\n",
       "    </tr>\n",
       "  </thead>\n",
       "  <tbody>\n",
       "    <tr>\n",
       "      <th>46117</th>\n",
       "      <td>2019</td>\n",
       "      <td>2413890</td>\n",
       "      <td>Des Moines</td>\n",
       "      <td>66</td>\n",
       "      <td>10</td>\n",
       "      <td>99999</td>\n",
       "      <td>9559.00</td>\n",
       "      <td>92.9</td>\n",
       "      <td>0</td>\n",
       "      <td>0</td>\n",
       "      <td>...</td>\n",
       "      <td>7</td>\n",
       "      <td>7</td>\n",
       "      <td>7</td>\n",
       "      <td>5</td>\n",
       "      <td>8</td>\n",
       "      <td>8</td>\n",
       "      <td>8</td>\n",
       "      <td>8</td>\n",
       "      <td>2</td>\n",
       "      <td>1</td>\n",
       "    </tr>\n",
       "    <tr>\n",
       "      <th>49180</th>\n",
       "      <td>2019</td>\n",
       "      <td>2434525</td>\n",
       "      <td>Des Moines</td>\n",
       "      <td>66</td>\n",
       "      <td>10</td>\n",
       "      <td>99999</td>\n",
       "      <td>9557.00</td>\n",
       "      <td>92.9</td>\n",
       "      <td>0</td>\n",
       "      <td>0</td>\n",
       "      <td>...</td>\n",
       "      <td>7</td>\n",
       "      <td>7</td>\n",
       "      <td>7</td>\n",
       "      <td>5</td>\n",
       "      <td>8</td>\n",
       "      <td>8</td>\n",
       "      <td>8</td>\n",
       "      <td>8</td>\n",
       "      <td>2</td>\n",
       "      <td>1</td>\n",
       "    </tr>\n",
       "    <tr>\n",
       "      <th>49181</th>\n",
       "      <td>2019</td>\n",
       "      <td>2434526</td>\n",
       "      <td>Des Moines</td>\n",
       "      <td>66</td>\n",
       "      <td>10</td>\n",
       "      <td>99999</td>\n",
       "      <td>9540.00</td>\n",
       "      <td>92.9</td>\n",
       "      <td>0</td>\n",
       "      <td>0</td>\n",
       "      <td>...</td>\n",
       "      <td>7</td>\n",
       "      <td>7</td>\n",
       "      <td>7</td>\n",
       "      <td>2</td>\n",
       "      <td>7</td>\n",
       "      <td>7</td>\n",
       "      <td>7</td>\n",
       "      <td>7</td>\n",
       "      <td>2</td>\n",
       "      <td>1</td>\n",
       "    </tr>\n",
       "    <tr>\n",
       "      <th>49182</th>\n",
       "      <td>2019</td>\n",
       "      <td>2434527</td>\n",
       "      <td>Des Moines</td>\n",
       "      <td>66</td>\n",
       "      <td>10</td>\n",
       "      <td>99999</td>\n",
       "      <td>9504.01</td>\n",
       "      <td>92.9</td>\n",
       "      <td>0</td>\n",
       "      <td>0</td>\n",
       "      <td>...</td>\n",
       "      <td>7</td>\n",
       "      <td>7</td>\n",
       "      <td>7</td>\n",
       "      <td>5</td>\n",
       "      <td>8</td>\n",
       "      <td>8</td>\n",
       "      <td>8</td>\n",
       "      <td>8</td>\n",
       "      <td>2</td>\n",
       "      <td>1</td>\n",
       "    </tr>\n",
       "    <tr>\n",
       "      <th>52221</th>\n",
       "      <td>2019</td>\n",
       "      <td>2455128</td>\n",
       "      <td>Des Moines</td>\n",
       "      <td>66</td>\n",
       "      <td>10</td>\n",
       "      <td>99999</td>\n",
       "      <td>9504.02</td>\n",
       "      <td>92.9</td>\n",
       "      <td>0</td>\n",
       "      <td>0</td>\n",
       "      <td>...</td>\n",
       "      <td>7</td>\n",
       "      <td>7</td>\n",
       "      <td>7</td>\n",
       "      <td>2</td>\n",
       "      <td>7</td>\n",
       "      <td>7</td>\n",
       "      <td>7</td>\n",
       "      <td>7</td>\n",
       "      <td>2</td>\n",
       "      <td>1</td>\n",
       "    </tr>\n",
       "    <tr>\n",
       "      <th>55776</th>\n",
       "      <td>2019</td>\n",
       "      <td>2472075</td>\n",
       "      <td>Des Moines</td>\n",
       "      <td>66</td>\n",
       "      <td>10</td>\n",
       "      <td>99999</td>\n",
       "      <td>9540.00</td>\n",
       "      <td>92.9</td>\n",
       "      <td>0</td>\n",
       "      <td>0</td>\n",
       "      <td>...</td>\n",
       "      <td>7</td>\n",
       "      <td>7</td>\n",
       "      <td>7</td>\n",
       "      <td>5</td>\n",
       "      <td>8</td>\n",
       "      <td>8</td>\n",
       "      <td>8</td>\n",
       "      <td>8</td>\n",
       "      <td>2</td>\n",
       "      <td>1</td>\n",
       "    </tr>\n",
       "  </tbody>\n",
       "</table>\n",
       "<p>6 rows × 56 columns</p>\n",
       "</div>"
      ],
      "text/plain": [
       "       Year  LoanCharacteristicsID        Bank  FIPSStateNumericCode  \\\n",
       "46117  2019                2413890  Des Moines                    66   \n",
       "49180  2019                2434525  Des Moines                    66   \n",
       "49181  2019                2434526  Des Moines                    66   \n",
       "49182  2019                2434527  Des Moines                    66   \n",
       "52221  2019                2455128  Des Moines                    66   \n",
       "55776  2019                2472075  Des Moines                    66   \n",
       "\n",
       "       FIPSCountyCode  CoreBasedStatisticalAreaCode  CensusTractIdentifier  \\\n",
       "46117              10                         99999                9559.00   \n",
       "49180              10                         99999                9557.00   \n",
       "49181              10                         99999                9540.00   \n",
       "49182              10                         99999                9504.01   \n",
       "52221              10                         99999                9504.02   \n",
       "55776              10                         99999                9540.00   \n",
       "\n",
       "       CensusTractMinorityRatioPercent  CensusTractMedFamIncomeAmount  \\\n",
       "46117                             92.9                              0   \n",
       "49180                             92.9                              0   \n",
       "49181                             92.9                              0   \n",
       "49182                             92.9                              0   \n",
       "52221                             92.9                              0   \n",
       "55776                             92.9                              0   \n",
       "\n",
       "       LocalAreaMedianIncomeAmount  ...  Borrower1Race3Type  \\\n",
       "46117                            0  ...                   7   \n",
       "49180                            0  ...                   7   \n",
       "49181                            0  ...                   7   \n",
       "49182                            0  ...                   7   \n",
       "52221                            0  ...                   7   \n",
       "55776                            0  ...                   7   \n",
       "\n",
       "       Borrower1Race4Type  Borrower1Race5Type  Borrower2EthnicityType  \\\n",
       "46117                   7                   7                       5   \n",
       "49180                   7                   7                       5   \n",
       "49181                   7                   7                       2   \n",
       "49182                   7                   7                       5   \n",
       "52221                   7                   7                       2   \n",
       "55776                   7                   7                       5   \n",
       "\n",
       "       Borrower2Race2Type  Borrower2Race3Type  Borrower2Race4Type  \\\n",
       "46117                   8                   8                   8   \n",
       "49180                   8                   8                   8   \n",
       "49181                   7                   7                   7   \n",
       "49182                   8                   8                   8   \n",
       "52221                   7                   7                   7   \n",
       "55776                   8                   8                   8   \n",
       "\n",
       "       Borrower2Race5Type  HOEPALoanStatusType  LienPriorityType  \n",
       "46117                   8                    2                 1  \n",
       "49180                   8                    2                 1  \n",
       "49181                   7                    2                 1  \n",
       "49182                   8                    2                 1  \n",
       "52221                   7                    2                 1  \n",
       "55776                   8                    2                 1  \n",
       "\n",
       "[6 rows x 56 columns]"
      ]
     },
     "execution_count": 48,
     "metadata": {},
     "output_type": "execute_result"
    }
   ],
   "source": [
    "#Check family with zero median income\n",
    "df_2019[df_2019['LocalAreaMedianIncomeAmount']==0.0]"
   ]
  },
  {
   "cell_type": "markdown",
   "metadata": {},
   "source": [
    "# TotalMonthlyIncomeAmount : The total monthly qualifying income used for underwriting in whole dollars for all borrowers on the loan"
   ]
  },
  {
   "cell_type": "code",
   "execution_count": 49,
   "metadata": {},
   "outputs": [
    {
     "data": {
      "text/plain": [
       "count     89767.000000\n",
       "mean       9837.590317\n",
       "std        7843.469558\n",
       "min         791.000000\n",
       "25%        5615.000000\n",
       "50%        8333.000000\n",
       "75%       11907.000000\n",
       "max      449001.000000\n",
       "Name: TotalMonthlyIncomeAmount, dtype: float64"
      ]
     },
     "execution_count": 49,
     "metadata": {},
     "output_type": "execute_result"
    }
   ],
   "source": [
    "df_2019['TotalMonthlyIncomeAmount'].describe()"
   ]
  },
  {
   "cell_type": "markdown",
   "metadata": {},
   "source": [
    "# HUDMedianIncomeAmount : Current median income for a family of four for the area as established by HUD"
   ]
  },
  {
   "cell_type": "code",
   "execution_count": 51,
   "metadata": {},
   "outputs": [
    {
     "data": {
      "text/plain": [
       "count     89767.000000\n",
       "mean      79036.440362\n",
       "std       13119.438254\n",
       "min       38900.000000\n",
       "25%       69700.000000\n",
       "50%       78000.000000\n",
       "75%       86100.000000\n",
       "max      135500.000000\n",
       "Name: HUDMedianIncomeAmount, dtype: float64"
      ]
     },
     "execution_count": 51,
     "metadata": {},
     "output_type": "execute_result"
    }
   ],
   "source": [
    "df_2019['HUDMedianIncomeAmount'].describe()"
   ]
  },
  {
   "cell_type": "code",
   "execution_count": 53,
   "metadata": {},
   "outputs": [
    {
     "data": {
      "text/plain": [
       "0"
      ]
     },
     "execution_count": 53,
     "metadata": {},
     "output_type": "execute_result"
    }
   ],
   "source": [
    "np.sum(df_2019['HUDMedianIncomeAmount'].isna())"
   ]
  },
  {
   "cell_type": "markdown",
   "metadata": {},
   "source": [
    "# LoanAcquisitionActualUPBAmt : The Amount of unpaid principal balance in whole dollars when acquired by the FHLBank."
   ]
  },
  {
   "cell_type": "code",
   "execution_count": 55,
   "metadata": {},
   "outputs": [
    {
     "data": {
      "text/plain": [
       "count    8.976700e+04\n",
       "mean     2.438158e+05\n",
       "std      1.295660e+05\n",
       "min      1.280000e+04\n",
       "25%      1.480000e+05\n",
       "50%      2.200000e+05\n",
       "75%      3.162140e+05\n",
       "max      1.290000e+06\n",
       "Name: LoanAcquisitionActualUPBAmt, dtype: float64"
      ]
     },
     "execution_count": 55,
     "metadata": {},
     "output_type": "execute_result"
    }
   ],
   "source": [
    "df_2019['LoanAcquisitionActualUPBAmt'].describe()"
   ]
  },
  {
   "cell_type": "markdown",
   "metadata": {},
   "source": [
    "# LTVRatioPercent : The loan-to-value ratio of the mortgage at time of origination"
   ]
  },
  {
   "cell_type": "code",
   "execution_count": 57,
   "metadata": {},
   "outputs": [
    {
     "data": {
      "text/plain": [
       "count    89767.000000\n",
       "mean        74.750979\n",
       "std         15.130832\n",
       "min          5.000000\n",
       "25%         68.000000\n",
       "50%         80.000000\n",
       "75%         80.000000\n",
       "max        112.000000\n",
       "Name: LTVRatioPercent, dtype: float64"
      ]
     },
     "execution_count": 57,
     "metadata": {},
     "output_type": "execute_result"
    }
   ],
   "source": [
    "df_2019['LTVRatioPercent'].describe()"
   ]
  },
  {
   "cell_type": "markdown",
   "metadata": {},
   "source": [
    "# NoteDate : Year the mortgage was originated."
   ]
  },
  {
   "cell_type": "code",
   "execution_count": 68,
   "metadata": {},
   "outputs": [
    {
     "data": {
      "text/plain": [
       "2019    86139\n",
       "2018     3404\n",
       "2017      175\n",
       "2016       26\n",
       "2015       15\n",
       "2014        8\n",
       "Name: NoteDate, dtype: int64"
      ]
     },
     "execution_count": 68,
     "metadata": {},
     "output_type": "execute_result"
    }
   ],
   "source": [
    "df_2019['NoteDate'].value_counts()"
   ]
  },
  {
   "cell_type": "code",
   "execution_count": 67,
   "metadata": {},
   "outputs": [
    {
     "data": {
      "text/plain": [
       "2019    86139\n",
       "2018     3404\n",
       "2017      175\n",
       "2016       26\n",
       "2015       15\n",
       "2014        8\n",
       "Name: NoteDate, dtype: int64"
      ]
     },
     "execution_count": 67,
     "metadata": {},
     "output_type": "execute_result"
    }
   ],
   "source": [
    "df_2019['NoteDate']=df_2019['NoteDate'].astype('category')\n",
    "df_2019['NoteDate'].value_counts()"
   ]
  },
  {
   "cell_type": "code",
   "execution_count": 69,
   "metadata": {},
   "outputs": [
    {
     "data": {
      "text/plain": [
       "'category'"
      ]
     },
     "execution_count": 69,
     "metadata": {},
     "output_type": "execute_result"
    }
   ],
   "source": [
    "df_2019['NoteDate'].dtype.name"
   ]
  },
  {
   "cell_type": "markdown",
   "metadata": {},
   "source": [
    "# LoanAcquistionDate : Year the mortgage was acquired."
   ]
  },
  {
   "cell_type": "code",
   "execution_count": 61,
   "metadata": {},
   "outputs": [
    {
     "data": {
      "text/plain": [
       "2019    89767\n",
       "Name: LoanAcquistionDate, dtype: int64"
      ]
     },
     "execution_count": 61,
     "metadata": {},
     "output_type": "execute_result"
    }
   ],
   "source": [
    "df_2019['LoanAcquistionDate'].value_counts()"
   ]
  },
  {
   "cell_type": "code",
   "execution_count": 70,
   "metadata": {},
   "outputs": [
    {
     "data": {
      "text/plain": [
       "'int64'"
      ]
     },
     "execution_count": 70,
     "metadata": {},
     "output_type": "execute_result"
    }
   ],
   "source": [
    "df_2019['LoanAcquistionDate'].dtype.name"
   ]
  },
  {
   "cell_type": "code",
   "execution_count": 72,
   "metadata": {},
   "outputs": [
    {
     "data": {
      "text/plain": [
       "'category'"
      ]
     },
     "execution_count": 72,
     "metadata": {},
     "output_type": "execute_result"
    }
   ],
   "source": [
    "#Convert to categorical\n",
    "df_2019['LoanAcquistionDate']=df_2019['LoanAcquistionDate'].astype('category')\n",
    "df_2019['LoanAcquistionDate'].dtype.name"
   ]
  },
  {
   "cell_type": "markdown",
   "metadata": {},
   "source": [
    "# LoanPurposeType : Purpose of Loan: 1 = Purchase, 2 = No-Cash Out Refinancing, 3 = Second Mortgage, 4 = New Construction, 5 = Rehabilitation or Home Improvement, 6 = Cash-out Refinancing, 7 = Other|"
   ]
  },
  {
   "cell_type": "code",
   "execution_count": 63,
   "metadata": {},
   "outputs": [
    {
     "data": {
      "text/plain": [
       "1    40379\n",
       "6    26778\n",
       "2    22610\n",
       "Name: LoanPurposeType, dtype: int64"
      ]
     },
     "execution_count": 63,
     "metadata": {},
     "output_type": "execute_result"
    }
   ],
   "source": [
    "df_2019['LoanPurposeType'].value_counts()"
   ]
  },
  {
   "cell_type": "code",
   "execution_count": 73,
   "metadata": {},
   "outputs": [
    {
     "data": {
      "text/plain": [
       "'category'"
      ]
     },
     "execution_count": 73,
     "metadata": {},
     "output_type": "execute_result"
    }
   ],
   "source": [
    "#Convert to categorical\n",
    "df_2019['LoanPurposeType']=df_2019['LoanPurposeType'].astype('category')\n",
    "df_2019['LoanPurposeType'].dtype.name"
   ]
  },
  {
   "cell_type": "code",
   "execution_count": 82,
   "metadata": {},
   "outputs": [
    {
     "data": {
      "text/plain": [
       "1    40379\n",
       "6    26778\n",
       "2    22610\n",
       "Name: LoanPurposeType, dtype: int64"
      ]
     },
     "execution_count": 82,
     "metadata": {},
     "output_type": "execute_result"
    }
   ],
   "source": [
    "df_2019['LoanPurposeType'].value_counts()"
   ]
  },
  {
   "cell_type": "markdown",
   "metadata": {},
   "source": [
    "# ProductCategoryName :Product type of Mortgage: 01=Fixed Rate, 02=ARM, 03=No Longer in Use, 04=GPM/GEM, 05=Reverse Annuity Mortgage, 06=Other, 07-98=Reserved for future use"
   ]
  },
  {
   "cell_type": "code",
   "execution_count": 75,
   "metadata": {},
   "outputs": [
    {
     "data": {
      "text/plain": [
       "1    89767\n",
       "Name: ProductCategoryName, dtype: int64"
      ]
     },
     "execution_count": 75,
     "metadata": {},
     "output_type": "execute_result"
    }
   ],
   "source": [
    "df_2019['ProductCategoryName'].value_counts()"
   ]
  },
  {
   "cell_type": "code",
   "execution_count": 76,
   "metadata": {},
   "outputs": [
    {
     "data": {
      "text/plain": [
       "'int64'"
      ]
     },
     "execution_count": 76,
     "metadata": {},
     "output_type": "execute_result"
    }
   ],
   "source": [
    "df_2019['ProductCategoryName'].dtype.name"
   ]
  },
  {
   "cell_type": "code",
   "execution_count": 80,
   "metadata": {},
   "outputs": [
    {
     "data": {
      "text/plain": [
       "'category'"
      ]
     },
     "execution_count": 80,
     "metadata": {},
     "output_type": "execute_result"
    }
   ],
   "source": [
    "#Converting it to categorical\n",
    "df_2019['ProductCategoryName']=df_2019['ProductCategoryName'].astype('category')\n",
    "df_2019['ProductCategoryName'].dtype.name"
   ]
  },
  {
   "cell_type": "markdown",
   "metadata": {},
   "source": [
    "# MortgageType : Type of Mortgage and whether the mortgage is guaranteed: 0=Conventional, 1=FHA, 2=VA, 3=USDA Rural Housing-FSA Guaranteed, 4=HECMs, 5=Title1- FHA"
   ]
  },
  {
   "cell_type": "code",
   "execution_count": 81,
   "metadata": {},
   "outputs": [
    {
     "data": {
      "text/plain": [
       "0    86451\n",
       "3     1271\n",
       "2     1033\n",
       "1     1012\n",
       "Name: MortgageType, dtype: int64"
      ]
     },
     "execution_count": 81,
     "metadata": {},
     "output_type": "execute_result"
    }
   ],
   "source": [
    "df_2019['MortgageType'].value_counts()"
   ]
  },
  {
   "cell_type": "code",
   "execution_count": 84,
   "metadata": {},
   "outputs": [
    {
     "data": {
      "text/plain": [
       "'category'"
      ]
     },
     "execution_count": 84,
     "metadata": {},
     "output_type": "execute_result"
    }
   ],
   "source": [
    "df_2019['MortgageType']=df_2019['MortgageType'].astype('category')\n",
    "df_2019['MortgageType'].dtype.name"
   ]
  },
  {
   "cell_type": "markdown",
   "metadata": {},
   "source": [
    "# ScheduledTotalPaymentCount : Term of the Mortgage in Months"
   ]
  },
  {
   "cell_type": "code",
   "execution_count": 86,
   "metadata": {},
   "outputs": [
    {
     "data": {
      "text/plain": [
       "360    73564\n",
       "180     8523\n",
       "240     6010\n",
       "300      422\n",
       "120      303\n",
       "       ...  \n",
       "297        1\n",
       "210        1\n",
       "171        1\n",
       "299        1\n",
       "127        1\n",
       "Name: ScheduledTotalPaymentCount, Length: 108, dtype: int64"
      ]
     },
     "execution_count": 86,
     "metadata": {},
     "output_type": "execute_result"
    }
   ],
   "source": [
    "df_2019['ScheduledTotalPaymentCount'].value_counts()"
   ]
  },
  {
   "cell_type": "code",
   "execution_count": 87,
   "metadata": {},
   "outputs": [
    {
     "data": {
      "text/plain": [
       "count    89767.000000\n",
       "mean       333.442256\n",
       "std         59.921873\n",
       "min         60.000000\n",
       "25%        360.000000\n",
       "50%        360.000000\n",
       "75%        360.000000\n",
       "max        360.000000\n",
       "Name: ScheduledTotalPaymentCount, dtype: float64"
      ]
     },
     "execution_count": 87,
     "metadata": {},
     "output_type": "execute_result"
    }
   ],
   "source": [
    "df_2019['ScheduledTotalPaymentCount'].describe()"
   ]
  },
  {
   "cell_type": "markdown",
   "metadata": {},
   "source": [
    "# LoanAmortizationMaxTermMonths : For Amortizing Mortgages, term of amortization in months; 998 if non-amortizing loan"
   ]
  },
  {
   "cell_type": "code",
   "execution_count": 89,
   "metadata": {},
   "outputs": [
    {
     "data": {
      "text/plain": [
       "360    73564\n",
       "180     8523\n",
       "240     6010\n",
       "300      422\n",
       "120      303\n",
       "       ...  \n",
       "297        1\n",
       "210        1\n",
       "171        1\n",
       "299        1\n",
       "127        1\n",
       "Name: LoanAmortizationMaxTermMonths, Length: 108, dtype: int64"
      ]
     },
     "execution_count": 89,
     "metadata": {},
     "output_type": "execute_result"
    }
   ],
   "source": [
    "df_2019['LoanAmortizationMaxTermMonths'].value_counts()"
   ]
  },
  {
   "cell_type": "code",
   "execution_count": 90,
   "metadata": {},
   "outputs": [
    {
     "data": {
      "text/plain": [
       "count    89767.000000\n",
       "mean       333.442256\n",
       "std         59.921873\n",
       "min         60.000000\n",
       "25%        360.000000\n",
       "50%        360.000000\n",
       "75%        360.000000\n",
       "max        360.000000\n",
       "Name: LoanAmortizationMaxTermMonths, dtype: float64"
      ]
     },
     "execution_count": 90,
     "metadata": {},
     "output_type": "execute_result"
    }
   ],
   "source": [
    "df_2019['LoanAmortizationMaxTermMonths'].describe()"
   ]
  },
  {
   "cell_type": "code",
   "execution_count": 91,
   "metadata": {},
   "outputs": [
    {
     "data": {
      "text/html": [
       "<div>\n",
       "<style scoped>\n",
       "    .dataframe tbody tr th:only-of-type {\n",
       "        vertical-align: middle;\n",
       "    }\n",
       "\n",
       "    .dataframe tbody tr th {\n",
       "        vertical-align: top;\n",
       "    }\n",
       "\n",
       "    .dataframe thead th {\n",
       "        text-align: right;\n",
       "    }\n",
       "</style>\n",
       "<table border=\"1\" class=\"dataframe\">\n",
       "  <thead>\n",
       "    <tr style=\"text-align: right;\">\n",
       "      <th></th>\n",
       "      <th>Year</th>\n",
       "      <th>LoanCharacteristicsID</th>\n",
       "      <th>Bank</th>\n",
       "      <th>FIPSStateNumericCode</th>\n",
       "      <th>FIPSCountyCode</th>\n",
       "      <th>CoreBasedStatisticalAreaCode</th>\n",
       "      <th>CensusTractIdentifier</th>\n",
       "      <th>CensusTractMinorityRatioPercent</th>\n",
       "      <th>CensusTractMedFamIncomeAmount</th>\n",
       "      <th>LocalAreaMedianIncomeAmount</th>\n",
       "      <th>...</th>\n",
       "      <th>Borrower1Race3Type</th>\n",
       "      <th>Borrower1Race4Type</th>\n",
       "      <th>Borrower1Race5Type</th>\n",
       "      <th>Borrower2EthnicityType</th>\n",
       "      <th>Borrower2Race2Type</th>\n",
       "      <th>Borrower2Race3Type</th>\n",
       "      <th>Borrower2Race4Type</th>\n",
       "      <th>Borrower2Race5Type</th>\n",
       "      <th>HOEPALoanStatusType</th>\n",
       "      <th>LienPriorityType</th>\n",
       "    </tr>\n",
       "  </thead>\n",
       "  <tbody>\n",
       "  </tbody>\n",
       "</table>\n",
       "<p>0 rows × 56 columns</p>\n",
       "</div>"
      ],
      "text/plain": [
       "Empty DataFrame\n",
       "Columns: [Year, LoanCharacteristicsID, Bank, FIPSStateNumericCode, FIPSCountyCode, CoreBasedStatisticalAreaCode, CensusTractIdentifier, CensusTractMinorityRatioPercent, CensusTractMedFamIncomeAmount, LocalAreaMedianIncomeAmount, TotalMonthlyIncomeAmount, HUDMedianIncomeAmount, LoanAcquisitionActualUPBAmt, LTVRatioPercent, NoteDate, LoanAcquistionDate, LoanPurposeType, ProductCategoryName, MortgageType, ScheduledTotalPaymentCount, LoanAmortizationMaxTermMonths, MortgageLoanSellerInstType, BorrowerCount, BorrowerFirstTimeHomebuyer, Borrower1Race1Type, Borrower2Race1Type, Borrower1GenderType, Borrower2GenderType, Borrower1AgeAtApplicationYears, Borrower2AgeAtApplicationYears, PropertyUsageType, PropertyUnitCount, NoteRatePercent, NoteAmount, HousingExpenseRatioPercent, TotalDebtExpenseRatioPercent, Borrower1CreditScoreValue, Borrower2CreditScoreValue, PMICoveragePercent, EmploymentBorrowerSelfEmployed, PropertyType, IndexSourceType, MarginRatePercent, PrepaymentPenaltyExpirationDate, Borrower1EthnicityType, Borrower1Race2Type, Borrower1Race3Type, Borrower1Race4Type, Borrower1Race5Type, Borrower2EthnicityType, Borrower2Race2Type, Borrower2Race3Type, Borrower2Race4Type, Borrower2Race5Type, HOEPALoanStatusType, LienPriorityType]\n",
       "Index: []\n",
       "\n",
       "[0 rows x 56 columns]"
      ]
     },
     "execution_count": 91,
     "metadata": {},
     "output_type": "execute_result"
    }
   ],
   "source": [
    "#Check if both columns have same value\n",
    "df_2019[df_2019['ScheduledTotalPaymentCount']!=df_2019['LoanAmortizationMaxTermMonths']]\n"
   ]
  },
  {
   "cell_type": "code",
   "execution_count": 94,
   "metadata": {},
   "outputs": [],
   "source": [
    "#So Both columns are same. Hence we can drop one column\n",
    "df_2019=df_2019.drop('LoanAmortizationMaxTermMonths',axis=1)"
   ]
  },
  {
   "cell_type": "markdown",
   "metadata": {},
   "source": [
    "# MortgageLoanSellerInstType : Type of Institution from which the FHLBank acquired the mortgage. 01=Insured depository institution, 02=Housing Associate, 03=Insurance Company, 04=NonFederally Insured CU, 05=Non-Depository CDFI,06=Other FHLBank, 09=Other"
   ]
  },
  {
   "cell_type": "code",
   "execution_count": 96,
   "metadata": {},
   "outputs": [
    {
     "data": {
      "text/plain": [
       "1    89538\n",
       "9      229\n",
       "Name: MortgageLoanSellerInstType, dtype: int64"
      ]
     },
     "execution_count": 96,
     "metadata": {},
     "output_type": "execute_result"
    }
   ],
   "source": [
    "df_2019['MortgageLoanSellerInstType'].value_counts()"
   ]
  },
  {
   "cell_type": "code",
   "execution_count": 97,
   "metadata": {},
   "outputs": [
    {
     "data": {
      "text/plain": [
       "'int64'"
      ]
     },
     "execution_count": 97,
     "metadata": {},
     "output_type": "execute_result"
    }
   ],
   "source": [
    "df_2019['MortgageLoanSellerInstType'].dtype.name"
   ]
  },
  {
   "cell_type": "code",
   "execution_count": 98,
   "metadata": {},
   "outputs": [],
   "source": [
    "df_2019['MortgageLoanSellerInstType']=df_2019['MortgageLoanSellerInstType'].astype('category')"
   ]
  },
  {
   "cell_type": "code",
   "execution_count": 99,
   "metadata": {},
   "outputs": [
    {
     "data": {
      "text/plain": [
       "'category'"
      ]
     },
     "execution_count": 99,
     "metadata": {},
     "output_type": "execute_result"
    }
   ],
   "source": [
    "df_2019['MortgageLoanSellerInstType'].dtype.name"
   ]
  },
  {
   "cell_type": "markdown",
   "metadata": {},
   "source": [
    "# BorrowerCount : Number of Borrowers"
   ]
  },
  {
   "cell_type": "code",
   "execution_count": 101,
   "metadata": {},
   "outputs": [
    {
     "data": {
      "text/plain": [
       "count    89767.000000\n",
       "mean         1.584034\n",
       "std          0.507500\n",
       "min          1.000000\n",
       "25%          1.000000\n",
       "50%          2.000000\n",
       "75%          2.000000\n",
       "max          5.000000\n",
       "Name: BorrowerCount, dtype: float64"
      ]
     },
     "execution_count": 101,
     "metadata": {},
     "output_type": "execute_result"
    }
   ],
   "source": [
    "df_2019['BorrowerCount'].describe()"
   ]
  },
  {
   "cell_type": "markdown",
   "metadata": {},
   "source": [
    "# BorrowerFirstTimeHomebuyer : Numeric code indicating whether borrower "
   ]
  },
  {
   "cell_type": "code",
   "execution_count": 103,
   "metadata": {},
   "outputs": [
    {
     "data": {
      "text/plain": [
       "0    57796\n",
       "1    31971\n",
       "Name: BorrowerFirstTimeHomebuyer, dtype: int64"
      ]
     },
     "execution_count": 103,
     "metadata": {},
     "output_type": "execute_result"
    }
   ],
   "source": [
    "df_2019['BorrowerFirstTimeHomebuyer'].value_counts()"
   ]
  },
  {
   "cell_type": "code",
   "execution_count": 105,
   "metadata": {},
   "outputs": [
    {
     "data": {
      "text/plain": [
       "'int64'"
      ]
     },
     "execution_count": 105,
     "metadata": {},
     "output_type": "execute_result"
    }
   ],
   "source": [
    "df_2019['BorrowerFirstTimeHomebuyer'].dtype.name"
   ]
  },
  {
   "cell_type": "code",
   "execution_count": 106,
   "metadata": {},
   "outputs": [],
   "source": [
    "df_2019['BorrowerFirstTimeHomebuyer']=df_2019['BorrowerFirstTimeHomebuyer'].astype('category')"
   ]
  },
  {
   "cell_type": "code",
   "execution_count": 107,
   "metadata": {},
   "outputs": [
    {
     "data": {
      "text/plain": [
       "'category'"
      ]
     },
     "execution_count": 107,
     "metadata": {},
     "output_type": "execute_result"
    }
   ],
   "source": [
    "df_2019['BorrowerFirstTimeHomebuyer'].dtype.name"
   ]
  },
  {
   "cell_type": "markdown",
   "metadata": {},
   "source": [
    "# Borrower1Race1Type: Numeric code indicating the race of the Borrower.1=American Indian or Alaska Native, 2=Asian, 3=Black or African American, 4=Native Hawaiian or other Pacific Islander, 5=White, 6=Information not provided by Borrower, 7=Not Applicable (First or primary borrower is an institution, corporation or partnership)"
   ]
  },
  {
   "cell_type": "code",
   "execution_count": 109,
   "metadata": {},
   "outputs": [
    {
     "data": {
      "text/plain": [
       "5    76982\n",
       "6     7352\n",
       "2     3128\n",
       "3     1677\n",
       "1      516\n",
       "4      112\n",
       "Name: Borrower1Race1Type, dtype: int64"
      ]
     },
     "execution_count": 109,
     "metadata": {},
     "output_type": "execute_result"
    }
   ],
   "source": [
    "df_2019['Borrower1Race1Type'].value_counts()"
   ]
  },
  {
   "cell_type": "code",
   "execution_count": 110,
   "metadata": {},
   "outputs": [
    {
     "data": {
      "text/plain": [
       "'int64'"
      ]
     },
     "execution_count": 110,
     "metadata": {},
     "output_type": "execute_result"
    }
   ],
   "source": [
    "df_2019['Borrower1Race1Type'].dtype.name"
   ]
  },
  {
   "cell_type": "code",
   "execution_count": 111,
   "metadata": {},
   "outputs": [],
   "source": [
    "df_2019['Borrower1Race1Type']=df_2019['Borrower1Race1Type'].astype('category')"
   ]
  },
  {
   "cell_type": "code",
   "execution_count": 112,
   "metadata": {},
   "outputs": [
    {
     "data": {
      "text/plain": [
       "'category'"
      ]
     },
     "execution_count": 112,
     "metadata": {},
     "output_type": "execute_result"
    }
   ],
   "source": [
    "df_2019['Borrower1Race1Type'].dtype.name"
   ]
  },
  {
   "cell_type": "markdown",
   "metadata": {},
   "source": [
    "# Borrower2Race1Type : Numeric code indicating the race of the Co-Borrower.1=American Indian or Alaska Native, 2=Asian, 3=Black or African American, 4=Native Hawaiian or other Pacific Islander, 5=White, 6=Information not provided by borrower, 7=Not Applicable (First or primary borrower is an institution, corporation or partnership), 8=No Co-Borrower"
   ]
  },
  {
   "cell_type": "code",
   "execution_count": 113,
   "metadata": {},
   "outputs": [
    {
     "data": {
      "text/plain": [
       "5    44821\n",
       "8    37965\n",
       "6     4502\n",
       "2     1577\n",
       "3      638\n",
       "1      199\n",
       "4       64\n",
       "7        1\n",
       "Name: Borrower2Race1Type, dtype: int64"
      ]
     },
     "execution_count": 113,
     "metadata": {},
     "output_type": "execute_result"
    }
   ],
   "source": [
    "df_2019['Borrower2Race1Type'].value_counts()"
   ]
  },
  {
   "cell_type": "code",
   "execution_count": 114,
   "metadata": {},
   "outputs": [
    {
     "data": {
      "text/plain": [
       "'category'"
      ]
     },
     "execution_count": 114,
     "metadata": {},
     "output_type": "execute_result"
    }
   ],
   "source": [
    "df_2019['Borrower2Race1Type']=df_2019['Borrower2Race1Type'].astype('category')\n",
    "df_2019['Borrower2Race1Type'].dtype.name"
   ]
  },
  {
   "cell_type": "markdown",
   "metadata": {},
   "source": [
    "# Borrower1GenderType : Numeric code indicating the sex of the first or primary borrower. 1=Male, 2=Female, 3=Information not provided by borrower, 4=Not Applicable (First or primary borrower is an institution, corporation or partnership), 6=Borrower selected both male and female"
   ]
  },
  {
   "cell_type": "code",
   "execution_count": 115,
   "metadata": {},
   "outputs": [
    {
     "data": {
      "text/plain": [
       "1    60393\n",
       "2    25094\n",
       "3     4217\n",
       "6       63\n",
       "Name: Borrower1GenderType, dtype: int64"
      ]
     },
     "execution_count": 115,
     "metadata": {},
     "output_type": "execute_result"
    }
   ],
   "source": [
    "df_2019['Borrower1GenderType'].value_counts()"
   ]
  },
  {
   "cell_type": "code",
   "execution_count": 116,
   "metadata": {},
   "outputs": [
    {
     "data": {
      "text/html": [
       "<div>\n",
       "<style scoped>\n",
       "    .dataframe tbody tr th:only-of-type {\n",
       "        vertical-align: middle;\n",
       "    }\n",
       "\n",
       "    .dataframe tbody tr th {\n",
       "        vertical-align: top;\n",
       "    }\n",
       "\n",
       "    .dataframe thead th {\n",
       "        text-align: right;\n",
       "    }\n",
       "</style>\n",
       "<table border=\"1\" class=\"dataframe\">\n",
       "  <thead>\n",
       "    <tr style=\"text-align: right;\">\n",
       "      <th></th>\n",
       "      <th>Year</th>\n",
       "      <th>LoanCharacteristicsID</th>\n",
       "      <th>Bank</th>\n",
       "      <th>FIPSStateNumericCode</th>\n",
       "      <th>FIPSCountyCode</th>\n",
       "      <th>CoreBasedStatisticalAreaCode</th>\n",
       "      <th>CensusTractIdentifier</th>\n",
       "      <th>CensusTractMinorityRatioPercent</th>\n",
       "      <th>CensusTractMedFamIncomeAmount</th>\n",
       "      <th>LocalAreaMedianIncomeAmount</th>\n",
       "      <th>...</th>\n",
       "      <th>Borrower1Race3Type</th>\n",
       "      <th>Borrower1Race4Type</th>\n",
       "      <th>Borrower1Race5Type</th>\n",
       "      <th>Borrower2EthnicityType</th>\n",
       "      <th>Borrower2Race2Type</th>\n",
       "      <th>Borrower2Race3Type</th>\n",
       "      <th>Borrower2Race4Type</th>\n",
       "      <th>Borrower2Race5Type</th>\n",
       "      <th>HOEPALoanStatusType</th>\n",
       "      <th>LienPriorityType</th>\n",
       "    </tr>\n",
       "  </thead>\n",
       "  <tbody>\n",
       "    <tr>\n",
       "      <th>435</th>\n",
       "      <td>2019</td>\n",
       "      <td>2407633</td>\n",
       "      <td>Boston</td>\n",
       "      <td>25</td>\n",
       "      <td>25</td>\n",
       "      <td>14460</td>\n",
       "      <td>1201.04</td>\n",
       "      <td>35.131</td>\n",
       "      <td>96786</td>\n",
       "      <td>98431</td>\n",
       "      <td>...</td>\n",
       "      <td>7</td>\n",
       "      <td>7</td>\n",
       "      <td>7</td>\n",
       "      <td>2</td>\n",
       "      <td>7</td>\n",
       "      <td>7</td>\n",
       "      <td>7</td>\n",
       "      <td>7</td>\n",
       "      <td>2</td>\n",
       "      <td>1</td>\n",
       "    </tr>\n",
       "    <tr>\n",
       "      <th>475</th>\n",
       "      <td>2019</td>\n",
       "      <td>2407673</td>\n",
       "      <td>Boston</td>\n",
       "      <td>25</td>\n",
       "      <td>21</td>\n",
       "      <td>14460</td>\n",
       "      <td>4132.00</td>\n",
       "      <td>12.963</td>\n",
       "      <td>99695</td>\n",
       "      <td>98431</td>\n",
       "      <td>...</td>\n",
       "      <td>7</td>\n",
       "      <td>7</td>\n",
       "      <td>7</td>\n",
       "      <td>2</td>\n",
       "      <td>7</td>\n",
       "      <td>7</td>\n",
       "      <td>7</td>\n",
       "      <td>7</td>\n",
       "      <td>2</td>\n",
       "      <td>1</td>\n",
       "    </tr>\n",
       "    <tr>\n",
       "      <th>688</th>\n",
       "      <td>2019</td>\n",
       "      <td>2422275</td>\n",
       "      <td>Boston</td>\n",
       "      <td>23</td>\n",
       "      <td>5</td>\n",
       "      <td>38860</td>\n",
       "      <td>42.00</td>\n",
       "      <td>3.535</td>\n",
       "      <td>122076</td>\n",
       "      <td>80629</td>\n",
       "      <td>...</td>\n",
       "      <td>7</td>\n",
       "      <td>7</td>\n",
       "      <td>7</td>\n",
       "      <td>2</td>\n",
       "      <td>7</td>\n",
       "      <td>7</td>\n",
       "      <td>7</td>\n",
       "      <td>7</td>\n",
       "      <td>2</td>\n",
       "      <td>1</td>\n",
       "    </tr>\n",
       "    <tr>\n",
       "      <th>1093</th>\n",
       "      <td>2019</td>\n",
       "      <td>2422680</td>\n",
       "      <td>Boston</td>\n",
       "      <td>25</td>\n",
       "      <td>5</td>\n",
       "      <td>39300</td>\n",
       "      <td>6311.00</td>\n",
       "      <td>12.035</td>\n",
       "      <td>76053</td>\n",
       "      <td>79347</td>\n",
       "      <td>...</td>\n",
       "      <td>7</td>\n",
       "      <td>7</td>\n",
       "      <td>7</td>\n",
       "      <td>2</td>\n",
       "      <td>7</td>\n",
       "      <td>7</td>\n",
       "      <td>7</td>\n",
       "      <td>7</td>\n",
       "      <td>2</td>\n",
       "      <td>1</td>\n",
       "    </tr>\n",
       "    <tr>\n",
       "      <th>1800</th>\n",
       "      <td>2019</td>\n",
       "      <td>2443539</td>\n",
       "      <td>Boston</td>\n",
       "      <td>25</td>\n",
       "      <td>21</td>\n",
       "      <td>14460</td>\n",
       "      <td>4103.00</td>\n",
       "      <td>8.275</td>\n",
       "      <td>125298</td>\n",
       "      <td>102945</td>\n",
       "      <td>...</td>\n",
       "      <td>7</td>\n",
       "      <td>7</td>\n",
       "      <td>7</td>\n",
       "      <td>2</td>\n",
       "      <td>7</td>\n",
       "      <td>7</td>\n",
       "      <td>7</td>\n",
       "      <td>7</td>\n",
       "      <td>2</td>\n",
       "      <td>1</td>\n",
       "    </tr>\n",
       "    <tr>\n",
       "      <th>...</th>\n",
       "      <td>...</td>\n",
       "      <td>...</td>\n",
       "      <td>...</td>\n",
       "      <td>...</td>\n",
       "      <td>...</td>\n",
       "      <td>...</td>\n",
       "      <td>...</td>\n",
       "      <td>...</td>\n",
       "      <td>...</td>\n",
       "      <td>...</td>\n",
       "      <td>...</td>\n",
       "      <td>...</td>\n",
       "      <td>...</td>\n",
       "      <td>...</td>\n",
       "      <td>...</td>\n",
       "      <td>...</td>\n",
       "      <td>...</td>\n",
       "      <td>...</td>\n",
       "      <td>...</td>\n",
       "      <td>...</td>\n",
       "      <td>...</td>\n",
       "    </tr>\n",
       "    <tr>\n",
       "      <th>86655</th>\n",
       "      <td>2019</td>\n",
       "      <td>2488859</td>\n",
       "      <td>Topeka</td>\n",
       "      <td>8</td>\n",
       "      <td>35</td>\n",
       "      <td>19740</td>\n",
       "      <td>141.25</td>\n",
       "      <td>10.779</td>\n",
       "      <td>178125</td>\n",
       "      <td>88102</td>\n",
       "      <td>...</td>\n",
       "      <td>7</td>\n",
       "      <td>7</td>\n",
       "      <td>7</td>\n",
       "      <td>2</td>\n",
       "      <td>7</td>\n",
       "      <td>7</td>\n",
       "      <td>7</td>\n",
       "      <td>7</td>\n",
       "      <td>2</td>\n",
       "      <td>1</td>\n",
       "    </tr>\n",
       "    <tr>\n",
       "      <th>86740</th>\n",
       "      <td>2019</td>\n",
       "      <td>2488944</td>\n",
       "      <td>Topeka</td>\n",
       "      <td>8</td>\n",
       "      <td>95</td>\n",
       "      <td>99999</td>\n",
       "      <td>9676.00</td>\n",
       "      <td>27.366</td>\n",
       "      <td>64767</td>\n",
       "      <td>64651</td>\n",
       "      <td>...</td>\n",
       "      <td>7</td>\n",
       "      <td>7</td>\n",
       "      <td>7</td>\n",
       "      <td>5</td>\n",
       "      <td>8</td>\n",
       "      <td>8</td>\n",
       "      <td>8</td>\n",
       "      <td>8</td>\n",
       "      <td>2</td>\n",
       "      <td>1</td>\n",
       "    </tr>\n",
       "    <tr>\n",
       "      <th>87400</th>\n",
       "      <td>2019</td>\n",
       "      <td>2489604</td>\n",
       "      <td>Topeka</td>\n",
       "      <td>20</td>\n",
       "      <td>173</td>\n",
       "      <td>48620</td>\n",
       "      <td>55.01</td>\n",
       "      <td>10.655</td>\n",
       "      <td>58618</td>\n",
       "      <td>68171</td>\n",
       "      <td>...</td>\n",
       "      <td>7</td>\n",
       "      <td>7</td>\n",
       "      <td>7</td>\n",
       "      <td>5</td>\n",
       "      <td>8</td>\n",
       "      <td>8</td>\n",
       "      <td>8</td>\n",
       "      <td>8</td>\n",
       "      <td>2</td>\n",
       "      <td>1</td>\n",
       "    </tr>\n",
       "    <tr>\n",
       "      <th>87783</th>\n",
       "      <td>2019</td>\n",
       "      <td>2489987</td>\n",
       "      <td>Topeka</td>\n",
       "      <td>31</td>\n",
       "      <td>55</td>\n",
       "      <td>36540</td>\n",
       "      <td>75.13</td>\n",
       "      <td>7.829</td>\n",
       "      <td>153463</td>\n",
       "      <td>79131</td>\n",
       "      <td>...</td>\n",
       "      <td>7</td>\n",
       "      <td>7</td>\n",
       "      <td>7</td>\n",
       "      <td>2</td>\n",
       "      <td>7</td>\n",
       "      <td>7</td>\n",
       "      <td>7</td>\n",
       "      <td>7</td>\n",
       "      <td>2</td>\n",
       "      <td>1</td>\n",
       "    </tr>\n",
       "    <tr>\n",
       "      <th>88122</th>\n",
       "      <td>2019</td>\n",
       "      <td>2490326</td>\n",
       "      <td>Topeka</td>\n",
       "      <td>20</td>\n",
       "      <td>173</td>\n",
       "      <td>48620</td>\n",
       "      <td>21.00</td>\n",
       "      <td>13.080</td>\n",
       "      <td>78750</td>\n",
       "      <td>68171</td>\n",
       "      <td>...</td>\n",
       "      <td>7</td>\n",
       "      <td>7</td>\n",
       "      <td>7</td>\n",
       "      <td>5</td>\n",
       "      <td>8</td>\n",
       "      <td>8</td>\n",
       "      <td>8</td>\n",
       "      <td>8</td>\n",
       "      <td>2</td>\n",
       "      <td>1</td>\n",
       "    </tr>\n",
       "  </tbody>\n",
       "</table>\n",
       "<p>63 rows × 55 columns</p>\n",
       "</div>"
      ],
      "text/plain": [
       "       Year  LoanCharacteristicsID    Bank  FIPSStateNumericCode  \\\n",
       "435    2019                2407633  Boston                    25   \n",
       "475    2019                2407673  Boston                    25   \n",
       "688    2019                2422275  Boston                    23   \n",
       "1093   2019                2422680  Boston                    25   \n",
       "1800   2019                2443539  Boston                    25   \n",
       "...     ...                    ...     ...                   ...   \n",
       "86655  2019                2488859  Topeka                     8   \n",
       "86740  2019                2488944  Topeka                     8   \n",
       "87400  2019                2489604  Topeka                    20   \n",
       "87783  2019                2489987  Topeka                    31   \n",
       "88122  2019                2490326  Topeka                    20   \n",
       "\n",
       "       FIPSCountyCode  CoreBasedStatisticalAreaCode  CensusTractIdentifier  \\\n",
       "435                25                         14460                1201.04   \n",
       "475                21                         14460                4132.00   \n",
       "688                 5                         38860                  42.00   \n",
       "1093                5                         39300                6311.00   \n",
       "1800               21                         14460                4103.00   \n",
       "...               ...                           ...                    ...   \n",
       "86655              35                         19740                 141.25   \n",
       "86740              95                         99999                9676.00   \n",
       "87400             173                         48620                  55.01   \n",
       "87783              55                         36540                  75.13   \n",
       "88122             173                         48620                  21.00   \n",
       "\n",
       "       CensusTractMinorityRatioPercent  CensusTractMedFamIncomeAmount  \\\n",
       "435                             35.131                          96786   \n",
       "475                             12.963                          99695   \n",
       "688                              3.535                         122076   \n",
       "1093                            12.035                          76053   \n",
       "1800                             8.275                         125298   \n",
       "...                                ...                            ...   \n",
       "86655                           10.779                         178125   \n",
       "86740                           27.366                          64767   \n",
       "87400                           10.655                          58618   \n",
       "87783                            7.829                         153463   \n",
       "88122                           13.080                          78750   \n",
       "\n",
       "       LocalAreaMedianIncomeAmount  ...  Borrower1Race3Type  \\\n",
       "435                          98431  ...                   7   \n",
       "475                          98431  ...                   7   \n",
       "688                          80629  ...                   7   \n",
       "1093                         79347  ...                   7   \n",
       "1800                        102945  ...                   7   \n",
       "...                            ...  ...                 ...   \n",
       "86655                        88102  ...                   7   \n",
       "86740                        64651  ...                   7   \n",
       "87400                        68171  ...                   7   \n",
       "87783                        79131  ...                   7   \n",
       "88122                        68171  ...                   7   \n",
       "\n",
       "       Borrower1Race4Type  Borrower1Race5Type  Borrower2EthnicityType  \\\n",
       "435                     7                   7                       2   \n",
       "475                     7                   7                       2   \n",
       "688                     7                   7                       2   \n",
       "1093                    7                   7                       2   \n",
       "1800                    7                   7                       2   \n",
       "...                   ...                 ...                     ...   \n",
       "86655                   7                   7                       2   \n",
       "86740                   7                   7                       5   \n",
       "87400                   7                   7                       5   \n",
       "87783                   7                   7                       2   \n",
       "88122                   7                   7                       5   \n",
       "\n",
       "      Borrower2Race2Type Borrower2Race3Type Borrower2Race4Type  \\\n",
       "435                    7                  7                  7   \n",
       "475                    7                  7                  7   \n",
       "688                    7                  7                  7   \n",
       "1093                   7                  7                  7   \n",
       "1800                   7                  7                  7   \n",
       "...                  ...                ...                ...   \n",
       "86655                  7                  7                  7   \n",
       "86740                  8                  8                  8   \n",
       "87400                  8                  8                  8   \n",
       "87783                  7                  7                  7   \n",
       "88122                  8                  8                  8   \n",
       "\n",
       "      Borrower2Race5Type HOEPALoanStatusType  LienPriorityType  \n",
       "435                    7                   2                 1  \n",
       "475                    7                   2                 1  \n",
       "688                    7                   2                 1  \n",
       "1093                   7                   2                 1  \n",
       "1800                   7                   2                 1  \n",
       "...                  ...                 ...               ...  \n",
       "86655                  7                   2                 1  \n",
       "86740                  8                   2                 1  \n",
       "87400                  8                   2                 1  \n",
       "87783                  7                   2                 1  \n",
       "88122                  8                   2                 1  \n",
       "\n",
       "[63 rows x 55 columns]"
      ]
     },
     "execution_count": 116,
     "metadata": {},
     "output_type": "execute_result"
    }
   ],
   "source": [
    "df_2019[df_2019['Borrower1GenderType']==6]"
   ]
  },
  {
   "cell_type": "code",
   "execution_count": 117,
   "metadata": {},
   "outputs": [
    {
     "data": {
      "text/plain": [
       "'category'"
      ]
     },
     "execution_count": 117,
     "metadata": {},
     "output_type": "execute_result"
    }
   ],
   "source": [
    "df_2019['Borrower1GenderType']=df_2019['Borrower1GenderType'].astype('category')\n",
    "df_2019['Borrower1GenderType'].dtype.name"
   ]
  },
  {
   "cell_type": "markdown",
   "metadata": {},
   "source": [
    "# Borrower2GenderType : Numeric code indicating the sex of the co-borrower. 1=Male, 2=Female, 3=Information not provided by borrower, 4=No Co-Borrower, 5=Not Applicable (First or primary borrower is an institution, corporation or partnership), 6=Borrower selected both male and female"
   ]
  },
  {
   "cell_type": "code",
   "execution_count": 118,
   "metadata": {},
   "outputs": [
    {
     "data": {
      "text/plain": [
       "2    38527\n",
       "4    37965\n",
       "1    10569\n",
       "3     2647\n",
       "6       59\n",
       "Name: Borrower2GenderType, dtype: int64"
      ]
     },
     "execution_count": 118,
     "metadata": {},
     "output_type": "execute_result"
    }
   ],
   "source": [
    "df_2019['Borrower2GenderType'].value_counts()"
   ]
  },
  {
   "cell_type": "code",
   "execution_count": 119,
   "metadata": {},
   "outputs": [],
   "source": [
    "df_2019['Borrower2GenderType']=df_2019['Borrower2GenderType'].astype('category')"
   ]
  },
  {
   "cell_type": "code",
   "execution_count": 120,
   "metadata": {},
   "outputs": [
    {
     "data": {
      "text/plain": [
       "'category'"
      ]
     },
     "execution_count": 120,
     "metadata": {},
     "output_type": "execute_result"
    }
   ],
   "source": [
    "df_2019['Borrower2GenderType'].dtype.name"
   ]
  },
  {
   "cell_type": "markdown",
   "metadata": {},
   "source": [
    "# Borrower1AgeAtApplicationYears : Age in years of the borrower at time application submitted; 999=Age not provided, 998=Not Applicable (Borrower might be a legal entity like an LLC)"
   ]
  },
  {
   "cell_type": "code",
   "execution_count": 122,
   "metadata": {},
   "outputs": [
    {
     "data": {
      "text/plain": [
       "count    89767.000000\n",
       "mean        44.370392\n",
       "std         13.328550\n",
       "min         18.000000\n",
       "25%         34.000000\n",
       "50%         42.000000\n",
       "75%         54.000000\n",
       "max         98.000000\n",
       "Name: Borrower1AgeAtApplicationYears, dtype: float64"
      ]
     },
     "execution_count": 122,
     "metadata": {},
     "output_type": "execute_result"
    }
   ],
   "source": [
    "df_2019['Borrower1AgeAtApplicationYears'].describe()"
   ]
  },
  {
   "cell_type": "markdown",
   "metadata": {},
   "source": [
    "# Borrower2AgeAtApplicationYears : Age in years of the borrower at time application submitted; 999=Age not provided, 998=No CoBorrower"
   ]
  },
  {
   "cell_type": "code",
   "execution_count": 124,
   "metadata": {},
   "outputs": [
    {
     "data": {
      "text/plain": [
       "count    89767.000000\n",
       "mean       447.436207\n",
       "std        471.482475\n",
       "min         18.000000\n",
       "25%         39.000000\n",
       "50%         61.000000\n",
       "75%        998.000000\n",
       "max        999.000000\n",
       "Name: Borrower2AgeAtApplicationYears, dtype: float64"
      ]
     },
     "execution_count": 124,
     "metadata": {},
     "output_type": "execute_result"
    }
   ],
   "source": [
    "df_2019['Borrower2AgeAtApplicationYears'].describe()"
   ]
  },
  {
   "cell_type": "markdown",
   "metadata": {},
   "source": [
    "# PropertyUsageType : Numeric code indicating whether property is owner occupied, second home or a rental investment property. 1=Principal Residence, 2=Second Home, 3=Investment Property"
   ]
  },
  {
   "cell_type": "code",
   "execution_count": 125,
   "metadata": {},
   "outputs": [
    {
     "data": {
      "text/plain": [
       "1    87245\n",
       "2     2522\n",
       "Name: PropertyUsageType, dtype: int64"
      ]
     },
     "execution_count": 125,
     "metadata": {},
     "output_type": "execute_result"
    }
   ],
   "source": [
    "df_2019['PropertyUsageType'].value_counts()"
   ]
  },
  {
   "cell_type": "code",
   "execution_count": 126,
   "metadata": {},
   "outputs": [],
   "source": [
    "df_2019['PropertyUsageType']=df_2019['PropertyUsageType'].astype('category')"
   ]
  },
  {
   "cell_type": "code",
   "execution_count": 127,
   "metadata": {},
   "outputs": [
    {
     "data": {
      "text/plain": [
       "'category'"
      ]
     },
     "execution_count": 127,
     "metadata": {},
     "output_type": "execute_result"
    }
   ],
   "source": [
    "df_2019['PropertyUsageType'].dtype.name"
   ]
  },
  {
   "cell_type": "markdown",
   "metadata": {},
   "source": [
    "# PropertyUnitCount : Total number of units in the property"
   ]
  },
  {
   "cell_type": "code",
   "execution_count": 130,
   "metadata": {},
   "outputs": [
    {
     "data": {
      "text/plain": [
       "1    88889\n",
       "2      748\n",
       "3       95\n",
       "4       35\n",
       "Name: PropertyUnitCount, dtype: int64"
      ]
     },
     "execution_count": 130,
     "metadata": {},
     "output_type": "execute_result"
    }
   ],
   "source": [
    "df_2019['PropertyUnitCount'].value_counts()"
   ]
  },
  {
   "cell_type": "code",
   "execution_count": 131,
   "metadata": {},
   "outputs": [],
   "source": [
    "df_2019['PropertyUnitCount']=df_2019['PropertyUnitCount'].astype('category')\n"
   ]
  },
  {
   "cell_type": "markdown",
   "metadata": {},
   "source": [
    "# NoteRatePercent : Interest rate on the mortgage at acquisition"
   ]
  },
  {
   "cell_type": "code",
   "execution_count": 132,
   "metadata": {},
   "outputs": [
    {
     "data": {
      "text/plain": [
       "count    89767.000000\n",
       "mean         3.965140\n",
       "std          0.511299\n",
       "min          2.500000\n",
       "25%          3.625000\n",
       "50%          3.875000\n",
       "75%          4.300000\n",
       "max          6.250000\n",
       "Name: NoteRatePercent, dtype: float64"
      ]
     },
     "execution_count": 132,
     "metadata": {},
     "output_type": "execute_result"
    }
   ],
   "source": [
    "df_2019['NoteRatePercent'].describe()"
   ]
  },
  {
   "cell_type": "markdown",
   "metadata": {},
   "source": [
    "# NoteAmount : Mortgage balance at origination"
   ]
  },
  {
   "cell_type": "code",
   "execution_count": 133,
   "metadata": {},
   "outputs": [
    {
     "data": {
      "text/plain": [
       "count    8.976700e+04\n",
       "mean     2.440618e+05\n",
       "std      1.296468e+05\n",
       "min      1.280000e+04\n",
       "25%      1.480000e+05\n",
       "50%      2.200000e+05\n",
       "75%      3.168485e+05\n",
       "max      1.290000e+06\n",
       "Name: NoteAmount, dtype: float64"
      ]
     },
     "execution_count": 133,
     "metadata": {},
     "output_type": "execute_result"
    }
   ],
   "source": [
    "df_2019['NoteAmount'].describe()"
   ]
  },
  {
   "cell_type": "markdown",
   "metadata": {},
   "source": [
    "# HousingExpenseRatioPercent : Ratio of mortgage principal and interest and housing expenses to total borrower income."
   ]
  },
  {
   "cell_type": "code",
   "execution_count": 134,
   "metadata": {},
   "outputs": [
    {
     "data": {
      "text/plain": [
       "count    89767.000000\n",
       "mean        20.695734\n",
       "std          8.956895\n",
       "min          0.000000\n",
       "25%         14.760000\n",
       "50%         19.510000\n",
       "75%         25.590000\n",
       "max        999.000000\n",
       "Name: HousingExpenseRatioPercent, dtype: float64"
      ]
     },
     "execution_count": 134,
     "metadata": {},
     "output_type": "execute_result"
    }
   ],
   "source": [
    "df_2019['HousingExpenseRatioPercent'].describe()"
   ]
  },
  {
   "cell_type": "markdown",
   "metadata": {},
   "source": [
    "# TotalDebtExpenseRatioPercent : Ratio of all debt payments to total borrower income.\n"
   ]
  },
  {
   "cell_type": "code",
   "execution_count": 135,
   "metadata": {},
   "outputs": [
    {
     "data": {
      "text/plain": [
       "count    89767.000000\n",
       "mean        31.548950\n",
       "std          9.561842\n",
       "min          0.270000\n",
       "25%         24.410000\n",
       "50%         31.820000\n",
       "75%         39.050000\n",
       "max         78.040000\n",
       "Name: TotalDebtExpenseRatioPercent, dtype: float64"
      ]
     },
     "execution_count": 135,
     "metadata": {},
     "output_type": "execute_result"
    }
   ],
   "source": [
    "df_2019['TotalDebtExpenseRatioPercent'].describe()"
   ]
  },
  {
   "cell_type": "markdown",
   "metadata": {},
   "source": [
    "# Borrower1CreditScoreValue : Credit Scores are separated into a range: 1=<620, 2=620 < 660, 3=660 < 700, 4=700 < 760, 5=760 or greater, 9 = Missing or Not Applicable"
   ]
  },
  {
   "cell_type": "code",
   "execution_count": 136,
   "metadata": {},
   "outputs": [
    {
     "data": {
      "text/plain": [
       "5    49761\n",
       "4    27763\n",
       "3     9072\n",
       "2     2921\n",
       "9      155\n",
       "1       95\n",
       "Name: Borrower1CreditScoreValue, dtype: int64"
      ]
     },
     "execution_count": 136,
     "metadata": {},
     "output_type": "execute_result"
    }
   ],
   "source": [
    "df_2019['Borrower1CreditScoreValue'].value_counts()"
   ]
  },
  {
   "cell_type": "code",
   "execution_count": 137,
   "metadata": {},
   "outputs": [],
   "source": [
    "df_2019['Borrower1CreditScoreValue']=df_2019['Borrower1CreditScoreValue'].astype('category')"
   ]
  },
  {
   "cell_type": "code",
   "execution_count": 138,
   "metadata": {},
   "outputs": [
    {
     "data": {
      "text/plain": [
       "'category'"
      ]
     },
     "execution_count": 138,
     "metadata": {},
     "output_type": "execute_result"
    }
   ],
   "source": [
    "df_2019['Borrower1CreditScoreValue'].dtype.name"
   ]
  },
  {
   "cell_type": "markdown",
   "metadata": {},
   "source": [
    "# Borrower2CreditScoreValue : Credit Scores are separated into a range: 1=<620, 2=620 < 660, 3=660 < 700, 4=700 < 760, 5=760 or greater, 9 = Missing, Not Applicable or No-CoBorrower"
   ]
  },
  {
   "cell_type": "code",
   "execution_count": 139,
   "metadata": {},
   "outputs": [
    {
     "data": {
      "text/plain": [
       "9    38124\n",
       "5    30887\n",
       "4    15196\n",
       "3     4202\n",
       "2     1323\n",
       "1       35\n",
       "Name: Borrower2CreditScoreValue, dtype: int64"
      ]
     },
     "execution_count": 139,
     "metadata": {},
     "output_type": "execute_result"
    }
   ],
   "source": [
    "df_2019['Borrower2CreditScoreValue'].value_counts()\n"
   ]
  },
  {
   "cell_type": "code",
   "execution_count": 140,
   "metadata": {},
   "outputs": [],
   "source": [
    "df_2019['Borrower2CreditScoreValue']=df_2019['Borrower2CreditScoreValue'].astype('category')"
   ]
  },
  {
   "cell_type": "markdown",
   "metadata": {},
   "source": [
    "# PMICoveragePercent : Percent of mortgage balance at origination covered by loan level PMI"
   ]
  },
  {
   "cell_type": "code",
   "execution_count": 141,
   "metadata": {},
   "outputs": [
    {
     "data": {
      "text/plain": [
       "count    89767.000000\n",
       "mean         4.529368\n",
       "std         10.000697\n",
       "min          0.000000\n",
       "25%          0.000000\n",
       "50%          0.000000\n",
       "75%          0.000000\n",
       "max         78.000000\n",
       "Name: PMICoveragePercent, dtype: float64"
      ]
     },
     "execution_count": 141,
     "metadata": {},
     "output_type": "execute_result"
    }
   ],
   "source": [
    "df_2019['PMICoveragePercent'].describe()"
   ]
  },
  {
   "cell_type": "markdown",
   "metadata": {},
   "source": [
    "# EmploymentBorrowerSelfEmployed : Numeric code indicating whether the borrower is selfemployed. 0=No, 1=Yes"
   ]
  },
  {
   "cell_type": "code",
   "execution_count": 143,
   "metadata": {},
   "outputs": [
    {
     "data": {
      "text/plain": [
       "0    55125\n",
       "1    34642\n",
       "Name: EmploymentBorrowerSelfEmployed, dtype: int64"
      ]
     },
     "execution_count": 143,
     "metadata": {},
     "output_type": "execute_result"
    }
   ],
   "source": [
    "df_2019['EmploymentBorrowerSelfEmployed'].value_counts()"
   ]
  },
  {
   "cell_type": "code",
   "execution_count": 144,
   "metadata": {},
   "outputs": [],
   "source": [
    "df_2019['EmploymentBorrowerSelfEmployed']=df_2019['EmploymentBorrowerSelfEmployed'].astype('category')"
   ]
  },
  {
   "cell_type": "markdown",
   "metadata": {},
   "source": [
    "# PropertyType : PT01=Single family detached; PT02=Deminimus PUD;PT03=Single family attached; PT04=Two family;PT05=Townhouse; PT06=Low-rise condo; PT07=PUD;PT08=Duplex; PT09=Three family; PT10=Four family;PT11=Hi-res condo; PT12=Manufactured home notchattel; PT13=Manufactured home chattel; PT14=Five plus multifamily"
   ]
  },
  {
   "cell_type": "code",
   "execution_count": 145,
   "metadata": {},
   "outputs": [
    {
     "data": {
      "text/plain": [
       "PT01    67614\n",
       "PT07    15800\n",
       "PT06     4773\n",
       "PT04      739\n",
       "PT03      380\n",
       "PT12      152\n",
       "PT05      113\n",
       "PT09       95\n",
       "PT11       50\n",
       "PT10       35\n",
       "PT08        9\n",
       "PT02        7\n",
       "Name: PropertyType, dtype: int64"
      ]
     },
     "execution_count": 145,
     "metadata": {},
     "output_type": "execute_result"
    }
   ],
   "source": [
    "df_2019['PropertyType'].value_counts()"
   ]
  },
  {
   "cell_type": "code",
   "execution_count": 146,
   "metadata": {},
   "outputs": [],
   "source": [
    "df_2019['PropertyType']=df_2019['PropertyType'].astype('category')"
   ]
  },
  {
   "cell_type": "code",
   "execution_count": 147,
   "metadata": {},
   "outputs": [
    {
     "data": {
      "text/plain": [
       "'category'"
      ]
     },
     "execution_count": 147,
     "metadata": {},
     "output_type": "execute_result"
    }
   ],
   "source": [
    "df_2019['PropertyType'].dtype.name"
   ]
  },
  {
   "cell_type": "markdown",
   "metadata": {},
   "source": [
    "# IndexSourceType: 01=11th District cost of funds; 02=Other cost of funds; 03=LIBOR; 04=1 year constant Treasury Rate; 99=Not an ARM"
   ]
  },
  {
   "cell_type": "code",
   "execution_count": 148,
   "metadata": {},
   "outputs": [],
   "source": [
    "def convert_to_cat(col_name,df):\n",
    "    df[col_name]=df[col_name].astype('category')\n",
    "    return df\n",
    "    "
   ]
  },
  {
   "cell_type": "code",
   "execution_count": 149,
   "metadata": {},
   "outputs": [
    {
     "data": {
      "text/plain": [
       "99    89767\n",
       "Name: IndexSourceType, dtype: int64"
      ]
     },
     "execution_count": 149,
     "metadata": {},
     "output_type": "execute_result"
    }
   ],
   "source": [
    "df_2019['IndexSourceType'].value_counts()"
   ]
  },
  {
   "cell_type": "code",
   "execution_count": 150,
   "metadata": {},
   "outputs": [],
   "source": [
    "df_2019=convert_to_cat('IndexSourceType',df_2019)"
   ]
  },
  {
   "cell_type": "code",
   "execution_count": 151,
   "metadata": {},
   "outputs": [
    {
     "data": {
      "text/plain": [
       "'category'"
      ]
     },
     "execution_count": 151,
     "metadata": {},
     "output_type": "execute_result"
    }
   ],
   "source": [
    "df_2019['IndexSourceType'].dtype.name"
   ]
  },
  {
   "cell_type": "markdown",
   "metadata": {},
   "source": [
    "# MarginRatePercent : Margin added to the index used for the calculation of the interest on an ARM. 9999=Not Applicable|"
   ]
  },
  {
   "cell_type": "code",
   "execution_count": 153,
   "metadata": {},
   "outputs": [
    {
     "data": {
      "text/plain": [
       "count    89767.000000\n",
       "mean      9366.648211\n",
       "std       2433.738427\n",
       "min          0.000000\n",
       "25%       9999.000000\n",
       "50%       9999.000000\n",
       "75%       9999.000000\n",
       "max       9999.000000\n",
       "Name: MarginRatePercent, dtype: float64"
      ]
     },
     "execution_count": 153,
     "metadata": {},
     "output_type": "execute_result"
    }
   ],
   "source": [
    "df_2019['MarginRatePercent'].describe()"
   ]
  },
  {
   "cell_type": "code",
   "execution_count": 155,
   "metadata": {},
   "outputs": [
    {
     "data": {
      "text/plain": [
       "59073    0\n",
       "59074    0\n",
       "59075    0\n",
       "59076    0\n",
       "59077    0\n",
       "        ..\n",
       "64745    0\n",
       "64746    0\n",
       "64747    0\n",
       "64748    0\n",
       "64749    0\n",
       "Name: MarginRatePercent, Length: 5677, dtype: int64"
      ]
     },
     "execution_count": 155,
     "metadata": {},
     "output_type": "execute_result"
    }
   ],
   "source": [
    "df_2019['MarginRatePercent'][df_2019['MarginRatePercent']!=9999]"
   ]
  },
  {
   "cell_type": "markdown",
   "metadata": {},
   "source": [
    "# PrepaymentPenaltyExpirationDate : Date when prepayment penalty ends; report 9999-12-31 if not applicable"
   ]
  },
  {
   "cell_type": "code",
   "execution_count": 157,
   "metadata": {},
   "outputs": [
    {
     "data": {
      "text/plain": [
       "9999-12-31    89767\n",
       "Name: PrepaymentPenaltyExpirationDate, dtype: int64"
      ]
     },
     "execution_count": 157,
     "metadata": {},
     "output_type": "execute_result"
    }
   ],
   "source": [
    "df_2019['PrepaymentPenaltyExpirationDate'].value_counts()"
   ]
  },
  {
   "cell_type": "code",
   "execution_count": 159,
   "metadata": {},
   "outputs": [],
   "source": [
    "#We can drop this columns since all the values are NA\n",
    "df_2019=df_2019.drop('PrepaymentPenaltyExpirationDate',axis=1)"
   ]
  },
  {
   "cell_type": "code",
   "execution_count": 165,
   "metadata": {},
   "outputs": [],
   "source": [
    "#Convert race and ethencities to category\n",
    "to_cat=['Borrower1EthnicityType','Borrower1Race2Type','Borrower1Race3Type','Borrower1Race4Type','Borrower1Race5Type','Borrower2EthnicityType','Borrower2Race2Type','Borrower2Race3Type','Borrower2Race4Type','Borrower2Race5Type','HOEPALoanStatusType','LienPriorityType']"
   ]
  },
  {
   "cell_type": "code",
   "execution_count": 166,
   "metadata": {},
   "outputs": [
    {
     "name": "stdout",
     "output_type": "stream",
     "text": [
      "Borrower1EthnicityType:category\n",
      "Borrower1Race2Type:category\n",
      "Borrower1Race3Type:category\n",
      "Borrower1Race4Type:category\n",
      "Borrower1Race5Type:category\n",
      "Borrower2EthnicityType:category\n",
      "Borrower2Race2Type:category\n",
      "Borrower2Race3Type:category\n",
      "Borrower2Race4Type:category\n",
      "Borrower2Race5Type:category\n",
      "HOEPALoanStatusType:category\n",
      "LienPriorityType:category\n"
     ]
    }
   ],
   "source": [
    "for col in to_cat:\n",
    "    df_2019=convert_to_cat(col,df_2019)\n",
    "    print(f'{col}:{df_2019[col].dtype.name}')"
   ]
  },
  {
   "cell_type": "code",
   "execution_count": null,
   "metadata": {},
   "outputs": [],
   "source": []
  },
  {
   "cell_type": "code",
   "execution_count": null,
   "metadata": {},
   "outputs": [],
   "source": []
  }
 ],
 "metadata": {
  "kernelspec": {
   "display_name": "Python 3",
   "language": "python",
   "name": "python3"
  },
  "language_info": {
   "codemirror_mode": {
    "name": "ipython",
    "version": 3
   },
   "file_extension": ".py",
   "mimetype": "text/x-python",
   "name": "python",
   "nbconvert_exporter": "python",
   "pygments_lexer": "ipython3",
   "version": "3.8.5"
  }
 },
 "nbformat": 4,
 "nbformat_minor": 4
}
