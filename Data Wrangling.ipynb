{
 "cells": [
  {
   "cell_type": "markdown",
   "metadata": {},
   "source": [
    "# Data Wrangling\n"
   ]
  },
  {
   "cell_type": "markdown",
   "metadata": {},
   "source": [
    "## Import relevant libraries"
   ]
  },
  {
   "cell_type": "code",
   "execution_count": 3,
   "metadata": {},
   "outputs": [],
   "source": [
    "import pandas as pd\n",
    "import numpy as np\n",
    "import matplotlib.pyplot as plt"
   ]
  },
  {
   "cell_type": "markdown",
   "metadata": {},
   "source": [
    "# 2019 data"
   ]
  },
  {
   "cell_type": "code",
   "execution_count": 4,
   "metadata": {},
   "outputs": [],
   "source": [
    "df_2019=pd.read_csv('Data/2019_data.csv')"
   ]
  },
  {
   "cell_type": "code",
   "execution_count": 5,
   "metadata": {},
   "outputs": [
    {
     "data": {
      "text/html": [
       "<div>\n",
       "<style scoped>\n",
       "    .dataframe tbody tr th:only-of-type {\n",
       "        vertical-align: middle;\n",
       "    }\n",
       "\n",
       "    .dataframe tbody tr th {\n",
       "        vertical-align: top;\n",
       "    }\n",
       "\n",
       "    .dataframe thead th {\n",
       "        text-align: right;\n",
       "    }\n",
       "</style>\n",
       "<table border=\"1\" class=\"dataframe\">\n",
       "  <thead>\n",
       "    <tr style=\"text-align: right;\">\n",
       "      <th></th>\n",
       "      <th>Year</th>\n",
       "      <th>LoanCharacteristicsID</th>\n",
       "      <th>Bank</th>\n",
       "      <th>FIPSStateNumericCode</th>\n",
       "      <th>FIPSCountyCode</th>\n",
       "      <th>CoreBasedStatisticalAreaCode</th>\n",
       "      <th>CensusTractIdentifier</th>\n",
       "      <th>CensusTractMinorityRatioPercent</th>\n",
       "      <th>CensusTractMedFamIncomeAmount</th>\n",
       "      <th>LocalAreaMedianIncomeAmount</th>\n",
       "      <th>...</th>\n",
       "      <th>Borrower1Race3Type</th>\n",
       "      <th>Borrower1Race4Type</th>\n",
       "      <th>Borrower1Race5Type</th>\n",
       "      <th>Borrower2EthnicityType</th>\n",
       "      <th>Borrower2Race2Type</th>\n",
       "      <th>Borrower2Race3Type</th>\n",
       "      <th>Borrower2Race4Type</th>\n",
       "      <th>Borrower2Race5Type</th>\n",
       "      <th>HOEPALoanStatusType</th>\n",
       "      <th>LienPriorityType</th>\n",
       "    </tr>\n",
       "  </thead>\n",
       "  <tbody>\n",
       "    <tr>\n",
       "      <th>0</th>\n",
       "      <td>2019</td>\n",
       "      <td>2407198</td>\n",
       "      <td>Boston</td>\n",
       "      <td>50</td>\n",
       "      <td>7</td>\n",
       "      <td>15540</td>\n",
       "      <td>34.0</td>\n",
       "      <td>4.577</td>\n",
       "      <td>132474</td>\n",
       "      <td>84290</td>\n",
       "      <td>...</td>\n",
       "      <td>7</td>\n",
       "      <td>7</td>\n",
       "      <td>7</td>\n",
       "      <td>5</td>\n",
       "      <td>8</td>\n",
       "      <td>8</td>\n",
       "      <td>8</td>\n",
       "      <td>8</td>\n",
       "      <td>2</td>\n",
       "      <td>1</td>\n",
       "    </tr>\n",
       "    <tr>\n",
       "      <th>1</th>\n",
       "      <td>2019</td>\n",
       "      <td>2407199</td>\n",
       "      <td>Boston</td>\n",
       "      <td>50</td>\n",
       "      <td>7</td>\n",
       "      <td>15540</td>\n",
       "      <td>29.0</td>\n",
       "      <td>3.421</td>\n",
       "      <td>100795</td>\n",
       "      <td>84290</td>\n",
       "      <td>...</td>\n",
       "      <td>7</td>\n",
       "      <td>7</td>\n",
       "      <td>7</td>\n",
       "      <td>2</td>\n",
       "      <td>7</td>\n",
       "      <td>7</td>\n",
       "      <td>7</td>\n",
       "      <td>7</td>\n",
       "      <td>2</td>\n",
       "      <td>1</td>\n",
       "    </tr>\n",
       "    <tr>\n",
       "      <th>2</th>\n",
       "      <td>2019</td>\n",
       "      <td>2407200</td>\n",
       "      <td>Boston</td>\n",
       "      <td>50</td>\n",
       "      <td>15</td>\n",
       "      <td>99999</td>\n",
       "      <td>9532.0</td>\n",
       "      <td>6.152</td>\n",
       "      <td>49625</td>\n",
       "      <td>67566</td>\n",
       "      <td>...</td>\n",
       "      <td>7</td>\n",
       "      <td>7</td>\n",
       "      <td>7</td>\n",
       "      <td>2</td>\n",
       "      <td>7</td>\n",
       "      <td>7</td>\n",
       "      <td>7</td>\n",
       "      <td>7</td>\n",
       "      <td>2</td>\n",
       "      <td>1</td>\n",
       "    </tr>\n",
       "    <tr>\n",
       "      <th>3</th>\n",
       "      <td>2019</td>\n",
       "      <td>2407201</td>\n",
       "      <td>Boston</td>\n",
       "      <td>50</td>\n",
       "      <td>17</td>\n",
       "      <td>30100</td>\n",
       "      <td>9594.0</td>\n",
       "      <td>3.935</td>\n",
       "      <td>62643</td>\n",
       "      <td>67105</td>\n",
       "      <td>...</td>\n",
       "      <td>7</td>\n",
       "      <td>7</td>\n",
       "      <td>7</td>\n",
       "      <td>2</td>\n",
       "      <td>7</td>\n",
       "      <td>7</td>\n",
       "      <td>7</td>\n",
       "      <td>7</td>\n",
       "      <td>2</td>\n",
       "      <td>1</td>\n",
       "    </tr>\n",
       "    <tr>\n",
       "      <th>4</th>\n",
       "      <td>2019</td>\n",
       "      <td>2407202</td>\n",
       "      <td>Boston</td>\n",
       "      <td>23</td>\n",
       "      <td>31</td>\n",
       "      <td>38860</td>\n",
       "      <td>254.0</td>\n",
       "      <td>6.031</td>\n",
       "      <td>87679</td>\n",
       "      <td>76445</td>\n",
       "      <td>...</td>\n",
       "      <td>7</td>\n",
       "      <td>7</td>\n",
       "      <td>7</td>\n",
       "      <td>5</td>\n",
       "      <td>8</td>\n",
       "      <td>8</td>\n",
       "      <td>8</td>\n",
       "      <td>8</td>\n",
       "      <td>2</td>\n",
       "      <td>1</td>\n",
       "    </tr>\n",
       "  </tbody>\n",
       "</table>\n",
       "<p>5 rows × 56 columns</p>\n",
       "</div>"
      ],
      "text/plain": [
       "   Year  LoanCharacteristicsID    Bank  FIPSStateNumericCode  FIPSCountyCode  \\\n",
       "0  2019                2407198  Boston                    50               7   \n",
       "1  2019                2407199  Boston                    50               7   \n",
       "2  2019                2407200  Boston                    50              15   \n",
       "3  2019                2407201  Boston                    50              17   \n",
       "4  2019                2407202  Boston                    23              31   \n",
       "\n",
       "   CoreBasedStatisticalAreaCode  CensusTractIdentifier  \\\n",
       "0                         15540                   34.0   \n",
       "1                         15540                   29.0   \n",
       "2                         99999                 9532.0   \n",
       "3                         30100                 9594.0   \n",
       "4                         38860                  254.0   \n",
       "\n",
       "   CensusTractMinorityRatioPercent  CensusTractMedFamIncomeAmount  \\\n",
       "0                            4.577                         132474   \n",
       "1                            3.421                         100795   \n",
       "2                            6.152                          49625   \n",
       "3                            3.935                          62643   \n",
       "4                            6.031                          87679   \n",
       "\n",
       "   LocalAreaMedianIncomeAmount  ...  Borrower1Race3Type  Borrower1Race4Type  \\\n",
       "0                        84290  ...                   7                   7   \n",
       "1                        84290  ...                   7                   7   \n",
       "2                        67566  ...                   7                   7   \n",
       "3                        67105  ...                   7                   7   \n",
       "4                        76445  ...                   7                   7   \n",
       "\n",
       "   Borrower1Race5Type  Borrower2EthnicityType  Borrower2Race2Type  \\\n",
       "0                   7                       5                   8   \n",
       "1                   7                       2                   7   \n",
       "2                   7                       2                   7   \n",
       "3                   7                       2                   7   \n",
       "4                   7                       5                   8   \n",
       "\n",
       "   Borrower2Race3Type  Borrower2Race4Type  Borrower2Race5Type  \\\n",
       "0                   8                   8                   8   \n",
       "1                   7                   7                   7   \n",
       "2                   7                   7                   7   \n",
       "3                   7                   7                   7   \n",
       "4                   8                   8                   8   \n",
       "\n",
       "   HOEPALoanStatusType  LienPriorityType  \n",
       "0                    2                 1  \n",
       "1                    2                 1  \n",
       "2                    2                 1  \n",
       "3                    2                 1  \n",
       "4                    2                 1  \n",
       "\n",
       "[5 rows x 56 columns]"
      ]
     },
     "execution_count": 5,
     "metadata": {},
     "output_type": "execute_result"
    }
   ],
   "source": [
    "df_2019.head()"
   ]
  },
  {
   "cell_type": "code",
   "execution_count": 6,
   "metadata": {},
   "outputs": [
    {
     "data": {
      "text/html": [
       "<div>\n",
       "<style scoped>\n",
       "    .dataframe tbody tr th:only-of-type {\n",
       "        vertical-align: middle;\n",
       "    }\n",
       "\n",
       "    .dataframe tbody tr th {\n",
       "        vertical-align: top;\n",
       "    }\n",
       "\n",
       "    .dataframe thead th {\n",
       "        text-align: right;\n",
       "    }\n",
       "</style>\n",
       "<table border=\"1\" class=\"dataframe\">\n",
       "  <thead>\n",
       "    <tr style=\"text-align: right;\">\n",
       "      <th></th>\n",
       "      <th>Year</th>\n",
       "      <th>LoanCharacteristicsID</th>\n",
       "      <th>FIPSStateNumericCode</th>\n",
       "      <th>FIPSCountyCode</th>\n",
       "      <th>CoreBasedStatisticalAreaCode</th>\n",
       "      <th>CensusTractIdentifier</th>\n",
       "      <th>CensusTractMinorityRatioPercent</th>\n",
       "      <th>CensusTractMedFamIncomeAmount</th>\n",
       "      <th>LocalAreaMedianIncomeAmount</th>\n",
       "      <th>TotalMonthlyIncomeAmount</th>\n",
       "      <th>...</th>\n",
       "      <th>Borrower1Race3Type</th>\n",
       "      <th>Borrower1Race4Type</th>\n",
       "      <th>Borrower1Race5Type</th>\n",
       "      <th>Borrower2EthnicityType</th>\n",
       "      <th>Borrower2Race2Type</th>\n",
       "      <th>Borrower2Race3Type</th>\n",
       "      <th>Borrower2Race4Type</th>\n",
       "      <th>Borrower2Race5Type</th>\n",
       "      <th>HOEPALoanStatusType</th>\n",
       "      <th>LienPriorityType</th>\n",
       "    </tr>\n",
       "  </thead>\n",
       "  <tbody>\n",
       "    <tr>\n",
       "      <th>count</th>\n",
       "      <td>89767.0</td>\n",
       "      <td>8.976700e+04</td>\n",
       "      <td>89767.000000</td>\n",
       "      <td>89767.000000</td>\n",
       "      <td>89767.000000</td>\n",
       "      <td>89767.000000</td>\n",
       "      <td>89767.000000</td>\n",
       "      <td>89767.000000</td>\n",
       "      <td>89767.000000</td>\n",
       "      <td>89767.000000</td>\n",
       "      <td>...</td>\n",
       "      <td>89767.000000</td>\n",
       "      <td>89767.000000</td>\n",
       "      <td>89767.000000</td>\n",
       "      <td>89767.000000</td>\n",
       "      <td>89767.000000</td>\n",
       "      <td>89767.000000</td>\n",
       "      <td>89767.000000</td>\n",
       "      <td>89767.000000</td>\n",
       "      <td>89767.000000</td>\n",
       "      <td>89767.0</td>\n",
       "    </tr>\n",
       "    <tr>\n",
       "      <th>mean</th>\n",
       "      <td>2019.0</td>\n",
       "      <td>2.452548e+06</td>\n",
       "      <td>29.874119</td>\n",
       "      <td>89.649270</td>\n",
       "      <td>36172.717569</td>\n",
       "      <td>2681.255339</td>\n",
       "      <td>17.844881</td>\n",
       "      <td>87799.607785</td>\n",
       "      <td>74078.453998</td>\n",
       "      <td>9837.590317</td>\n",
       "      <td>...</td>\n",
       "      <td>6.874230</td>\n",
       "      <td>6.874653</td>\n",
       "      <td>6.874676</td>\n",
       "      <td>3.302583</td>\n",
       "      <td>7.347633</td>\n",
       "      <td>7.352880</td>\n",
       "      <td>7.353103</td>\n",
       "      <td>7.353125</td>\n",
       "      <td>2.002974</td>\n",
       "      <td>1.0</td>\n",
       "    </tr>\n",
       "    <tr>\n",
       "      <th>std</th>\n",
       "      <td>0.0</td>\n",
       "      <td>2.694902e+04</td>\n",
       "      <td>15.367330</td>\n",
       "      <td>85.719173</td>\n",
       "      <td>23931.023618</td>\n",
       "      <td>3652.664758</td>\n",
       "      <td>18.600936</td>\n",
       "      <td>30551.702748</td>\n",
       "      <td>11949.849407</td>\n",
       "      <td>7843.469558</td>\n",
       "      <td>...</td>\n",
       "      <td>0.332665</td>\n",
       "      <td>0.331147</td>\n",
       "      <td>0.331088</td>\n",
       "      <td>1.479171</td>\n",
       "      <td>0.621057</td>\n",
       "      <td>0.607281</td>\n",
       "      <td>0.606711</td>\n",
       "      <td>0.606661</td>\n",
       "      <td>0.056662</td>\n",
       "      <td>0.0</td>\n",
       "    </tr>\n",
       "    <tr>\n",
       "      <th>min</th>\n",
       "      <td>2019.0</td>\n",
       "      <td>2.406119e+06</td>\n",
       "      <td>1.000000</td>\n",
       "      <td>1.000000</td>\n",
       "      <td>10100.000000</td>\n",
       "      <td>1.000000</td>\n",
       "      <td>0.000000</td>\n",
       "      <td>0.000000</td>\n",
       "      <td>0.000000</td>\n",
       "      <td>791.000000</td>\n",
       "      <td>...</td>\n",
       "      <td>2.000000</td>\n",
       "      <td>5.000000</td>\n",
       "      <td>6.000000</td>\n",
       "      <td>1.000000</td>\n",
       "      <td>1.000000</td>\n",
       "      <td>3.000000</td>\n",
       "      <td>5.000000</td>\n",
       "      <td>6.000000</td>\n",
       "      <td>1.000000</td>\n",
       "      <td>1.0</td>\n",
       "    </tr>\n",
       "    <tr>\n",
       "      <th>25%</th>\n",
       "      <td>2019.0</td>\n",
       "      <td>2.429908e+06</td>\n",
       "      <td>18.000000</td>\n",
       "      <td>33.000000</td>\n",
       "      <td>19430.000000</td>\n",
       "      <td>102.020000</td>\n",
       "      <td>5.390500</td>\n",
       "      <td>66270.000000</td>\n",
       "      <td>65829.000000</td>\n",
       "      <td>5615.000000</td>\n",
       "      <td>...</td>\n",
       "      <td>7.000000</td>\n",
       "      <td>7.000000</td>\n",
       "      <td>7.000000</td>\n",
       "      <td>2.000000</td>\n",
       "      <td>7.000000</td>\n",
       "      <td>7.000000</td>\n",
       "      <td>7.000000</td>\n",
       "      <td>7.000000</td>\n",
       "      <td>2.000000</td>\n",
       "      <td>1.0</td>\n",
       "    </tr>\n",
       "    <tr>\n",
       "      <th>50%</th>\n",
       "      <td>2019.0</td>\n",
       "      <td>2.452349e+06</td>\n",
       "      <td>27.000000</td>\n",
       "      <td>71.000000</td>\n",
       "      <td>31080.000000</td>\n",
       "      <td>414.090000</td>\n",
       "      <td>11.000000</td>\n",
       "      <td>82019.000000</td>\n",
       "      <td>73493.000000</td>\n",
       "      <td>8333.000000</td>\n",
       "      <td>...</td>\n",
       "      <td>7.000000</td>\n",
       "      <td>7.000000</td>\n",
       "      <td>7.000000</td>\n",
       "      <td>2.000000</td>\n",
       "      <td>7.000000</td>\n",
       "      <td>7.000000</td>\n",
       "      <td>7.000000</td>\n",
       "      <td>7.000000</td>\n",
       "      <td>2.000000</td>\n",
       "      <td>1.0</td>\n",
       "    </tr>\n",
       "    <tr>\n",
       "      <th>75%</th>\n",
       "      <td>2019.0</td>\n",
       "      <td>2.474790e+06</td>\n",
       "      <td>42.000000</td>\n",
       "      <td>121.000000</td>\n",
       "      <td>41180.000000</td>\n",
       "      <td>4922.015000</td>\n",
       "      <td>22.546000</td>\n",
       "      <td>104219.000000</td>\n",
       "      <td>79347.000000</td>\n",
       "      <td>11907.000000</td>\n",
       "      <td>...</td>\n",
       "      <td>7.000000</td>\n",
       "      <td>7.000000</td>\n",
       "      <td>7.000000</td>\n",
       "      <td>5.000000</td>\n",
       "      <td>8.000000</td>\n",
       "      <td>8.000000</td>\n",
       "      <td>8.000000</td>\n",
       "      <td>8.000000</td>\n",
       "      <td>2.000000</td>\n",
       "      <td>1.0</td>\n",
       "    </tr>\n",
       "    <tr>\n",
       "      <th>max</th>\n",
       "      <td>2019.0</td>\n",
       "      <td>2.521673e+06</td>\n",
       "      <td>66.000000</td>\n",
       "      <td>840.000000</td>\n",
       "      <td>99999.000000</td>\n",
       "      <td>9917.030000</td>\n",
       "      <td>99.822000</td>\n",
       "      <td>250001.000000</td>\n",
       "      <td>133523.000000</td>\n",
       "      <td>449001.000000</td>\n",
       "      <td>...</td>\n",
       "      <td>7.000000</td>\n",
       "      <td>7.000000</td>\n",
       "      <td>7.000000</td>\n",
       "      <td>5.000000</td>\n",
       "      <td>8.000000</td>\n",
       "      <td>8.000000</td>\n",
       "      <td>8.000000</td>\n",
       "      <td>8.000000</td>\n",
       "      <td>3.000000</td>\n",
       "      <td>1.0</td>\n",
       "    </tr>\n",
       "  </tbody>\n",
       "</table>\n",
       "<p>8 rows × 53 columns</p>\n",
       "</div>"
      ],
      "text/plain": [
       "          Year  LoanCharacteristicsID  FIPSStateNumericCode  FIPSCountyCode  \\\n",
       "count  89767.0           8.976700e+04          89767.000000    89767.000000   \n",
       "mean    2019.0           2.452548e+06             29.874119       89.649270   \n",
       "std        0.0           2.694902e+04             15.367330       85.719173   \n",
       "min     2019.0           2.406119e+06              1.000000        1.000000   \n",
       "25%     2019.0           2.429908e+06             18.000000       33.000000   \n",
       "50%     2019.0           2.452349e+06             27.000000       71.000000   \n",
       "75%     2019.0           2.474790e+06             42.000000      121.000000   \n",
       "max     2019.0           2.521673e+06             66.000000      840.000000   \n",
       "\n",
       "       CoreBasedStatisticalAreaCode  CensusTractIdentifier  \\\n",
       "count                  89767.000000           89767.000000   \n",
       "mean                   36172.717569            2681.255339   \n",
       "std                    23931.023618            3652.664758   \n",
       "min                    10100.000000               1.000000   \n",
       "25%                    19430.000000             102.020000   \n",
       "50%                    31080.000000             414.090000   \n",
       "75%                    41180.000000            4922.015000   \n",
       "max                    99999.000000            9917.030000   \n",
       "\n",
       "       CensusTractMinorityRatioPercent  CensusTractMedFamIncomeAmount  \\\n",
       "count                     89767.000000                   89767.000000   \n",
       "mean                         17.844881                   87799.607785   \n",
       "std                          18.600936                   30551.702748   \n",
       "min                           0.000000                       0.000000   \n",
       "25%                           5.390500                   66270.000000   \n",
       "50%                          11.000000                   82019.000000   \n",
       "75%                          22.546000                  104219.000000   \n",
       "max                          99.822000                  250001.000000   \n",
       "\n",
       "       LocalAreaMedianIncomeAmount  TotalMonthlyIncomeAmount  ...  \\\n",
       "count                 89767.000000              89767.000000  ...   \n",
       "mean                  74078.453998               9837.590317  ...   \n",
       "std                   11949.849407               7843.469558  ...   \n",
       "min                       0.000000                791.000000  ...   \n",
       "25%                   65829.000000               5615.000000  ...   \n",
       "50%                   73493.000000               8333.000000  ...   \n",
       "75%                   79347.000000              11907.000000  ...   \n",
       "max                  133523.000000             449001.000000  ...   \n",
       "\n",
       "       Borrower1Race3Type  Borrower1Race4Type  Borrower1Race5Type  \\\n",
       "count        89767.000000        89767.000000        89767.000000   \n",
       "mean             6.874230            6.874653            6.874676   \n",
       "std              0.332665            0.331147            0.331088   \n",
       "min              2.000000            5.000000            6.000000   \n",
       "25%              7.000000            7.000000            7.000000   \n",
       "50%              7.000000            7.000000            7.000000   \n",
       "75%              7.000000            7.000000            7.000000   \n",
       "max              7.000000            7.000000            7.000000   \n",
       "\n",
       "       Borrower2EthnicityType  Borrower2Race2Type  Borrower2Race3Type  \\\n",
       "count            89767.000000        89767.000000        89767.000000   \n",
       "mean                 3.302583            7.347633            7.352880   \n",
       "std                  1.479171            0.621057            0.607281   \n",
       "min                  1.000000            1.000000            3.000000   \n",
       "25%                  2.000000            7.000000            7.000000   \n",
       "50%                  2.000000            7.000000            7.000000   \n",
       "75%                  5.000000            8.000000            8.000000   \n",
       "max                  5.000000            8.000000            8.000000   \n",
       "\n",
       "       Borrower2Race4Type  Borrower2Race5Type  HOEPALoanStatusType  \\\n",
       "count        89767.000000        89767.000000         89767.000000   \n",
       "mean             7.353103            7.353125             2.002974   \n",
       "std              0.606711            0.606661             0.056662   \n",
       "min              5.000000            6.000000             1.000000   \n",
       "25%              7.000000            7.000000             2.000000   \n",
       "50%              7.000000            7.000000             2.000000   \n",
       "75%              8.000000            8.000000             2.000000   \n",
       "max              8.000000            8.000000             3.000000   \n",
       "\n",
       "       LienPriorityType  \n",
       "count           89767.0  \n",
       "mean                1.0  \n",
       "std                 0.0  \n",
       "min                 1.0  \n",
       "25%                 1.0  \n",
       "50%                 1.0  \n",
       "75%                 1.0  \n",
       "max                 1.0  \n",
       "\n",
       "[8 rows x 53 columns]"
      ]
     },
     "execution_count": 6,
     "metadata": {},
     "output_type": "execute_result"
    }
   ],
   "source": [
    "df_2019.describe()"
   ]
  },
  {
   "cell_type": "code",
   "execution_count": 11,
   "metadata": {},
   "outputs": [
    {
     "data": {
      "text/plain": [
       "(89767, 56)"
      ]
     },
     "execution_count": 11,
     "metadata": {},
     "output_type": "execute_result"
    }
   ],
   "source": [
    "df_2019.shape"
   ]
  },
  {
   "cell_type": "code",
   "execution_count": 12,
   "metadata": {},
   "outputs": [
    {
     "data": {
      "text/plain": [
       "Year                                 int64\n",
       "LoanCharacteristicsID                int64\n",
       "Bank                                object\n",
       "FIPSStateNumericCode                 int64\n",
       "FIPSCountyCode                       int64\n",
       "CoreBasedStatisticalAreaCode         int64\n",
       "CensusTractIdentifier              float64\n",
       "CensusTractMinorityRatioPercent    float64\n",
       "CensusTractMedFamIncomeAmount        int64\n",
       "LocalAreaMedianIncomeAmount          int64\n",
       "TotalMonthlyIncomeAmount             int64\n",
       "HUDMedianIncomeAmount                int64\n",
       "LoanAcquisitionActualUPBAmt          int64\n",
       "LTVRatioPercent                    float64\n",
       "NoteDate                             int64\n",
       "LoanAcquistionDate                   int64\n",
       "LoanPurposeType                      int64\n",
       "ProductCategoryName                  int64\n",
       "MortgageType                         int64\n",
       "ScheduledTotalPaymentCount           int64\n",
       "LoanAmortizationMaxTermMonths        int64\n",
       "MortgageLoanSellerInstType           int64\n",
       "BorrowerCount                        int64\n",
       "BorrowerFirstTimeHomebuyer           int64\n",
       "Borrower1Race1Type                   int64\n",
       "Borrower2Race1Type                   int64\n",
       "Borrower1GenderType                  int64\n",
       "Borrower2GenderType                  int64\n",
       "Borrower1AgeAtApplicationYears       int64\n",
       "Borrower2AgeAtApplicationYears       int64\n",
       "PropertyUsageType                    int64\n",
       "PropertyUnitCount                    int64\n",
       "NoteRatePercent                    float64\n",
       "NoteAmount                           int64\n",
       "HousingExpenseRatioPercent         float64\n",
       "TotalDebtExpenseRatioPercent       float64\n",
       "Borrower1CreditScoreValue            int64\n",
       "Borrower2CreditScoreValue            int64\n",
       "PMICoveragePercent                 float64\n",
       "EmploymentBorrowerSelfEmployed       int64\n",
       "PropertyType                        object\n",
       "IndexSourceType                      int64\n",
       "MarginRatePercent                    int64\n",
       "PrepaymentPenaltyExpirationDate     object\n",
       "Borrower1EthnicityType               int64\n",
       "Borrower1Race2Type                   int64\n",
       "Borrower1Race3Type                   int64\n",
       "Borrower1Race4Type                   int64\n",
       "Borrower1Race5Type                   int64\n",
       "Borrower2EthnicityType               int64\n",
       "Borrower2Race2Type                   int64\n",
       "Borrower2Race3Type                   int64\n",
       "Borrower2Race4Type                   int64\n",
       "Borrower2Race5Type                   int64\n",
       "HOEPALoanStatusType                  int64\n",
       "LienPriorityType                     int64\n",
       "dtype: object"
      ]
     },
     "execution_count": 12,
     "metadata": {},
     "output_type": "execute_result"
    }
   ],
   "source": [
    "df_2019.dtypes"
   ]
  },
  {
   "cell_type": "code",
   "execution_count": 16,
   "metadata": {},
   "outputs": [
    {
     "data": {
      "text/plain": [
       "0"
      ]
     },
     "execution_count": 16,
     "metadata": {},
     "output_type": "execute_result"
    }
   ],
   "source": [
    "#Verifying Year Column\n",
    "np.sum([df_2019['Year']!=2019])"
   ]
  },
  {
   "cell_type": "code",
   "execution_count": 19,
   "metadata": {
    "scrolled": true
   },
   "outputs": [
    {
     "data": {
      "text/plain": [
       "Chicago          22462\n",
       "Topeka           16093\n",
       "Des Moines       14468\n",
       "Cincinnati       11250\n",
       "Dallas            8069\n",
       "Indianapolis      5677\n",
       "Pittsburgh        4458\n",
       "Boston            2824\n",
       "San Francisco     2487\n",
       "New York          1979\n",
       "Name: Bank, dtype: int64"
      ]
     },
     "execution_count": 19,
     "metadata": {},
     "output_type": "execute_result"
    }
   ],
   "source": [
    "#Bank's City\n",
    "df_2019['Bank'].value_counts()"
   ]
  },
  {
   "cell_type": "markdown",
   "metadata": {},
   "source": [
    "## FIPSStateNumericCode column"
   ]
  },
  {
   "cell_type": "code",
   "execution_count": 30,
   "metadata": {},
   "outputs": [
    {
     "data": {
      "text/plain": [
       "Series([], Name: FIPSStateNumericCode, dtype: int64)"
      ]
     },
     "execution_count": 30,
     "metadata": {},
     "output_type": "execute_result"
    }
   ],
   "source": [
    "#verifying FIPSStateNumericCode columns (Should have 2 digits)\n",
    "df_2019['FIPSStateNumericCode'][df_2019['FIPSStateNumericCode']>99]"
   ]
  },
  {
   "cell_type": "code",
   "execution_count": 31,
   "metadata": {},
   "outputs": [
    {
     "data": {
      "text/plain": [
       "55    10747\n",
       "17     6843\n",
       "39     6748\n",
       "19     5782\n",
       "20     5004\n",
       "6      4910\n",
       "18     4409\n",
       "48     4409\n",
       "31     4403\n",
       "29     3628\n",
       "27     3471\n",
       "8      2734\n",
       "42     2300\n",
       "26     2197\n",
       "25     2077\n",
       "21     1502\n",
       "46     1451\n",
       "36     1377\n",
       "51     1243\n",
       "40     1197\n",
       "12     1085\n",
       "47      930\n",
       "34      859\n",
       "37      839\n",
       "4       839\n",
       "16      810\n",
       "22      754\n",
       "13      735\n",
       "5       730\n",
       "24      623\n",
       "53      593\n",
       "41      587\n",
       "49      577\n",
       "1       381\n",
       "9       305\n",
       "32      297\n",
       "23      275\n",
       "35      264\n",
       "45      237\n",
       "54      208\n",
       "44      187\n",
       "28      177\n",
       "38      162\n",
       "30      157\n",
       "11      151\n",
       "50      148\n",
       "33      138\n",
       "56      125\n",
       "10       85\n",
       "15       54\n",
       "2        17\n",
       "66        6\n",
       "Name: FIPSStateNumericCode, dtype: int64"
      ]
     },
     "execution_count": 31,
     "metadata": {},
     "output_type": "execute_result"
    }
   ],
   "source": [
    "#Check the columns with 999 value\n",
    "df_2019['FIPSStateNumericCode'].value_counts()"
   ]
  },
  {
   "cell_type": "markdown",
   "metadata": {},
   "source": [
    "## FIPSCountyCode column"
   ]
  },
  {
   "cell_type": "code",
   "execution_count": 25,
   "metadata": {},
   "outputs": [
    {
     "data": {
      "text/html": [
       "<div>\n",
       "<style scoped>\n",
       "    .dataframe tbody tr th:only-of-type {\n",
       "        vertical-align: middle;\n",
       "    }\n",
       "\n",
       "    .dataframe tbody tr th {\n",
       "        vertical-align: top;\n",
       "    }\n",
       "\n",
       "    .dataframe thead th {\n",
       "        text-align: right;\n",
       "    }\n",
       "</style>\n",
       "<table border=\"1\" class=\"dataframe\">\n",
       "  <thead>\n",
       "    <tr style=\"text-align: right;\">\n",
       "      <th></th>\n",
       "      <th>Year</th>\n",
       "      <th>LoanCharacteristicsID</th>\n",
       "      <th>Bank</th>\n",
       "      <th>FIPSStateNumericCode</th>\n",
       "      <th>FIPSCountyCode</th>\n",
       "      <th>CoreBasedStatisticalAreaCode</th>\n",
       "      <th>CensusTractIdentifier</th>\n",
       "      <th>CensusTractMinorityRatioPercent</th>\n",
       "      <th>CensusTractMedFamIncomeAmount</th>\n",
       "      <th>LocalAreaMedianIncomeAmount</th>\n",
       "      <th>...</th>\n",
       "      <th>Borrower1Race3Type</th>\n",
       "      <th>Borrower1Race4Type</th>\n",
       "      <th>Borrower1Race5Type</th>\n",
       "      <th>Borrower2EthnicityType</th>\n",
       "      <th>Borrower2Race2Type</th>\n",
       "      <th>Borrower2Race3Type</th>\n",
       "      <th>Borrower2Race4Type</th>\n",
       "      <th>Borrower2Race5Type</th>\n",
       "      <th>HOEPALoanStatusType</th>\n",
       "      <th>LienPriorityType</th>\n",
       "    </tr>\n",
       "  </thead>\n",
       "  <tbody>\n",
       "  </tbody>\n",
       "</table>\n",
       "<p>0 rows × 56 columns</p>\n",
       "</div>"
      ],
      "text/plain": [
       "Empty DataFrame\n",
       "Columns: [Year, LoanCharacteristicsID, Bank, FIPSStateNumericCode, FIPSCountyCode, CoreBasedStatisticalAreaCode, CensusTractIdentifier, CensusTractMinorityRatioPercent, CensusTractMedFamIncomeAmount, LocalAreaMedianIncomeAmount, TotalMonthlyIncomeAmount, HUDMedianIncomeAmount, LoanAcquisitionActualUPBAmt, LTVRatioPercent, NoteDate, LoanAcquistionDate, LoanPurposeType, ProductCategoryName, MortgageType, ScheduledTotalPaymentCount, LoanAmortizationMaxTermMonths, MortgageLoanSellerInstType, BorrowerCount, BorrowerFirstTimeHomebuyer, Borrower1Race1Type, Borrower2Race1Type, Borrower1GenderType, Borrower2GenderType, Borrower1AgeAtApplicationYears, Borrower2AgeAtApplicationYears, PropertyUsageType, PropertyUnitCount, NoteRatePercent, NoteAmount, HousingExpenseRatioPercent, TotalDebtExpenseRatioPercent, Borrower1CreditScoreValue, Borrower2CreditScoreValue, PMICoveragePercent, EmploymentBorrowerSelfEmployed, PropertyType, IndexSourceType, MarginRatePercent, PrepaymentPenaltyExpirationDate, Borrower1EthnicityType, Borrower1Race2Type, Borrower1Race3Type, Borrower1Race4Type, Borrower1Race5Type, Borrower2EthnicityType, Borrower2Race2Type, Borrower2Race3Type, Borrower2Race4Type, Borrower2Race5Type, HOEPALoanStatusType, LienPriorityType]\n",
       "Index: []\n",
       "\n",
       "[0 rows x 56 columns]"
      ]
     },
     "execution_count": 25,
     "metadata": {},
     "output_type": "execute_result"
    }
   ],
   "source": [
    "#Verifying FIPSStateNumericCode columns (should have 3 digits)\n",
    "df_2019[df_2019['FIPSCountyCode']>999]"
   ]
  },
  {
   "cell_type": "code",
   "execution_count": 32,
   "metadata": {
    "scrolled": true
   },
   "outputs": [
    {
     "data": {
      "text/plain": [
       "37     2673\n",
       "25     2623\n",
       "31     2515\n",
       "61     2148\n",
       "49     2067\n",
       "       ... \n",
       "347       1\n",
       "281       1\n",
       "790       1\n",
       "277       1\n",
       "383       1\n",
       "Name: FIPSCountyCode, Length: 219, dtype: int64"
      ]
     },
     "execution_count": 32,
     "metadata": {},
     "output_type": "execute_result"
    }
   ],
   "source": [
    "df_2019['FIPSCountyCode'].value_counts()"
   ]
  },
  {
   "cell_type": "code",
   "execution_count": 33,
   "metadata": {},
   "outputs": [
    {
     "data": {
      "text/html": [
       "<div>\n",
       "<style scoped>\n",
       "    .dataframe tbody tr th:only-of-type {\n",
       "        vertical-align: middle;\n",
       "    }\n",
       "\n",
       "    .dataframe tbody tr th {\n",
       "        vertical-align: top;\n",
       "    }\n",
       "\n",
       "    .dataframe thead th {\n",
       "        text-align: right;\n",
       "    }\n",
       "</style>\n",
       "<table border=\"1\" class=\"dataframe\">\n",
       "  <thead>\n",
       "    <tr style=\"text-align: right;\">\n",
       "      <th></th>\n",
       "      <th>Year</th>\n",
       "      <th>LoanCharacteristicsID</th>\n",
       "      <th>Bank</th>\n",
       "      <th>FIPSStateNumericCode</th>\n",
       "      <th>FIPSCountyCode</th>\n",
       "      <th>CoreBasedStatisticalAreaCode</th>\n",
       "      <th>CensusTractIdentifier</th>\n",
       "      <th>CensusTractMinorityRatioPercent</th>\n",
       "      <th>CensusTractMedFamIncomeAmount</th>\n",
       "      <th>LocalAreaMedianIncomeAmount</th>\n",
       "      <th>...</th>\n",
       "      <th>Borrower1Race3Type</th>\n",
       "      <th>Borrower1Race4Type</th>\n",
       "      <th>Borrower1Race5Type</th>\n",
       "      <th>Borrower2EthnicityType</th>\n",
       "      <th>Borrower2Race2Type</th>\n",
       "      <th>Borrower2Race3Type</th>\n",
       "      <th>Borrower2Race4Type</th>\n",
       "      <th>Borrower2Race5Type</th>\n",
       "      <th>HOEPALoanStatusType</th>\n",
       "      <th>LienPriorityType</th>\n",
       "    </tr>\n",
       "  </thead>\n",
       "  <tbody>\n",
       "  </tbody>\n",
       "</table>\n",
       "<p>0 rows × 56 columns</p>\n",
       "</div>"
      ],
      "text/plain": [
       "Empty DataFrame\n",
       "Columns: [Year, LoanCharacteristicsID, Bank, FIPSStateNumericCode, FIPSCountyCode, CoreBasedStatisticalAreaCode, CensusTractIdentifier, CensusTractMinorityRatioPercent, CensusTractMedFamIncomeAmount, LocalAreaMedianIncomeAmount, TotalMonthlyIncomeAmount, HUDMedianIncomeAmount, LoanAcquisitionActualUPBAmt, LTVRatioPercent, NoteDate, LoanAcquistionDate, LoanPurposeType, ProductCategoryName, MortgageType, ScheduledTotalPaymentCount, LoanAmortizationMaxTermMonths, MortgageLoanSellerInstType, BorrowerCount, BorrowerFirstTimeHomebuyer, Borrower1Race1Type, Borrower2Race1Type, Borrower1GenderType, Borrower2GenderType, Borrower1AgeAtApplicationYears, Borrower2AgeAtApplicationYears, PropertyUsageType, PropertyUnitCount, NoteRatePercent, NoteAmount, HousingExpenseRatioPercent, TotalDebtExpenseRatioPercent, Borrower1CreditScoreValue, Borrower2CreditScoreValue, PMICoveragePercent, EmploymentBorrowerSelfEmployed, PropertyType, IndexSourceType, MarginRatePercent, PrepaymentPenaltyExpirationDate, Borrower1EthnicityType, Borrower1Race2Type, Borrower1Race3Type, Borrower1Race4Type, Borrower1Race5Type, Borrower2EthnicityType, Borrower2Race2Type, Borrower2Race3Type, Borrower2Race4Type, Borrower2Race5Type, HOEPALoanStatusType, LienPriorityType]\n",
       "Index: []\n",
       "\n",
       "[0 rows x 56 columns]"
      ]
     },
     "execution_count": 33,
     "metadata": {},
     "output_type": "execute_result"
    }
   ],
   "source": [
    "#Check the columns with 999 value\n",
    "df_2019[df_2019['FIPSCountyCode']==999]"
   ]
  },
  {
   "cell_type": "markdown",
   "metadata": {},
   "source": [
    "## CoreBasedStatisticalAreaCode Column"
   ]
  },
  {
   "cell_type": "code",
   "execution_count": 28,
   "metadata": {},
   "outputs": [
    {
     "data": {
      "text/html": [
       "<div>\n",
       "<style scoped>\n",
       "    .dataframe tbody tr th:only-of-type {\n",
       "        vertical-align: middle;\n",
       "    }\n",
       "\n",
       "    .dataframe tbody tr th {\n",
       "        vertical-align: top;\n",
       "    }\n",
       "\n",
       "    .dataframe thead th {\n",
       "        text-align: right;\n",
       "    }\n",
       "</style>\n",
       "<table border=\"1\" class=\"dataframe\">\n",
       "  <thead>\n",
       "    <tr style=\"text-align: right;\">\n",
       "      <th></th>\n",
       "      <th>Year</th>\n",
       "      <th>LoanCharacteristicsID</th>\n",
       "      <th>Bank</th>\n",
       "      <th>FIPSStateNumericCode</th>\n",
       "      <th>FIPSCountyCode</th>\n",
       "      <th>CoreBasedStatisticalAreaCode</th>\n",
       "      <th>CensusTractIdentifier</th>\n",
       "      <th>CensusTractMinorityRatioPercent</th>\n",
       "      <th>CensusTractMedFamIncomeAmount</th>\n",
       "      <th>LocalAreaMedianIncomeAmount</th>\n",
       "      <th>...</th>\n",
       "      <th>Borrower1Race3Type</th>\n",
       "      <th>Borrower1Race4Type</th>\n",
       "      <th>Borrower1Race5Type</th>\n",
       "      <th>Borrower2EthnicityType</th>\n",
       "      <th>Borrower2Race2Type</th>\n",
       "      <th>Borrower2Race3Type</th>\n",
       "      <th>Borrower2Race4Type</th>\n",
       "      <th>Borrower2Race5Type</th>\n",
       "      <th>HOEPALoanStatusType</th>\n",
       "      <th>LienPriorityType</th>\n",
       "    </tr>\n",
       "  </thead>\n",
       "  <tbody>\n",
       "  </tbody>\n",
       "</table>\n",
       "<p>0 rows × 56 columns</p>\n",
       "</div>"
      ],
      "text/plain": [
       "Empty DataFrame\n",
       "Columns: [Year, LoanCharacteristicsID, Bank, FIPSStateNumericCode, FIPSCountyCode, CoreBasedStatisticalAreaCode, CensusTractIdentifier, CensusTractMinorityRatioPercent, CensusTractMedFamIncomeAmount, LocalAreaMedianIncomeAmount, TotalMonthlyIncomeAmount, HUDMedianIncomeAmount, LoanAcquisitionActualUPBAmt, LTVRatioPercent, NoteDate, LoanAcquistionDate, LoanPurposeType, ProductCategoryName, MortgageType, ScheduledTotalPaymentCount, LoanAmortizationMaxTermMonths, MortgageLoanSellerInstType, BorrowerCount, BorrowerFirstTimeHomebuyer, Borrower1Race1Type, Borrower2Race1Type, Borrower1GenderType, Borrower2GenderType, Borrower1AgeAtApplicationYears, Borrower2AgeAtApplicationYears, PropertyUsageType, PropertyUnitCount, NoteRatePercent, NoteAmount, HousingExpenseRatioPercent, TotalDebtExpenseRatioPercent, Borrower1CreditScoreValue, Borrower2CreditScoreValue, PMICoveragePercent, EmploymentBorrowerSelfEmployed, PropertyType, IndexSourceType, MarginRatePercent, PrepaymentPenaltyExpirationDate, Borrower1EthnicityType, Borrower1Race2Type, Borrower1Race3Type, Borrower1Race4Type, Borrower1Race5Type, Borrower2EthnicityType, Borrower2Race2Type, Borrower2Race3Type, Borrower2Race4Type, Borrower2Race5Type, HOEPALoanStatusType, LienPriorityType]\n",
       "Index: []\n",
       "\n",
       "[0 rows x 56 columns]"
      ]
     },
     "execution_count": 28,
     "metadata": {},
     "output_type": "execute_result"
    }
   ],
   "source": [
    "#CoreBasedStatisticalAreaCode should have no more than 5 digits\n",
    "df_2019[df_2019['CoreBasedStatisticalAreaCode']>99999]"
   ]
  },
  {
   "cell_type": "code",
   "execution_count": 29,
   "metadata": {},
   "outputs": [
    {
     "data": {
      "text/plain": [
       "99999    9264\n",
       "16980    3412\n",
       "17140    3373\n",
       "33340    2166\n",
       "28140    2164\n",
       "         ... \n",
       "44260       1\n",
       "15820       1\n",
       "22840       1\n",
       "31620       1\n",
       "24500       1\n",
       "Name: CoreBasedStatisticalAreaCode, Length: 811, dtype: int64"
      ]
     },
     "execution_count": 29,
     "metadata": {},
     "output_type": "execute_result"
    }
   ],
   "source": [
    "#Check \n",
    "df_2019['CoreBasedStatisticalAreaCode'].value_counts()"
   ]
  },
  {
   "cell_type": "code",
   "execution_count": 36,
   "metadata": {},
   "outputs": [
    {
     "data": {
      "image/png": "[encoded data removed]",
      "text/plain": [
       "<Figure size 432x288 with 1 Axes>"
      ]
     },
     "metadata": {
      "needs_background": "light"
     },
     "output_type": "display_data"
    }
   ],
   "source": [
    "plt.hist(df_2019['CoreBasedStatisticalAreaCode'], bins=np.arange(df_2019['CoreBasedStatisticalAreaCode'].min(), df_2019['CoreBasedStatisticalAreaCode'].max()+1))\n",
    "plt.show()"
   ]
  },
  {
   "cell_type": "markdown",
   "metadata": {},
   "source": [
    "## CensusTractIdentifier column"
   ]
  },
  {
   "cell_type": "code",
   "execution_count": 35,
   "metadata": {},
   "outputs": [
    {
     "data": {
      "text/plain": [
       "9601.00    533\n",
       "9603.00    492\n",
       "9602.00    476\n",
       "9604.00    470\n",
       "103.00     422\n",
       "          ... \n",
       "1706.01      1\n",
       "8010.02      1\n",
       "6442.00      1\n",
       "323.15       1\n",
       "4302.01      1\n",
       "Name: CensusTractIdentifier, Length: 13198, dtype: int64"
      ]
     },
     "execution_count": 35,
     "metadata": {},
     "output_type": "execute_result"
    }
   ],
   "source": [
    "df_2019['CensusTractIdentifier'].value_counts()"
   ]
  },
  {
   "cell_type": "code",
   "execution_count": 39,
   "metadata": {},
   "outputs": [],
   "source": [
    "## CensusTractMinorityRatioPercent column : The percentage of the property's census tract\n",
    "## population that is minority."
   ]
  },
  {
   "cell_type": "code",
   "execution_count": 38,
   "metadata": {},
   "outputs": [
    {
     "data": {
      "text/plain": [
       "0         4.577\n",
       "1         3.421\n",
       "2         6.152\n",
       "3         3.935\n",
       "4         6.031\n",
       "          ...  \n",
       "89762    17.119\n",
       "89763     5.698\n",
       "89764    13.887\n",
       "89765     6.373\n",
       "89766     3.080\n",
       "Name: CensusTractMinorityRatioPercent, Length: 89767, dtype: float64"
      ]
     },
     "execution_count": 38,
     "metadata": {},
     "output_type": "execute_result"
    }
   ],
   "source": [
    "df_2019['CensusTractMinorityRatioPercent']"
   ]
  },
  {
   "cell_type": "code",
   "execution_count": null,
   "metadata": {},
   "outputs": [],
   "source": []
  }
 ],
 "metadata": {
  "kernelspec": {
   "display_name": "Python 3",
   "language": "python",
   "name": "python3"
  },
  "language_info": {
   "codemirror_mode": {
    "name": "ipython",
    "version": 3
   },
   "file_extension": ".py",
   "mimetype": "text/x-python",
   "name": "python",
   "nbconvert_exporter": "python",
   "pygments_lexer": "ipython3",
   "version": "3.8.5"
  }
 },
 "nbformat": 4,
 "nbformat_minor": 4
}
