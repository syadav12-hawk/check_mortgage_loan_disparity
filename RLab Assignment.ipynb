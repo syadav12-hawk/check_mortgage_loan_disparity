{
 "cells": [
  {
   "cell_type": "code",
   "execution_count": 1,
   "metadata": {},
   "outputs": [],
   "source": [
    "import pandas as pd\n",
    "import io\n",
    "import requests\n",
    "import numpy as np"
   ]
  },
  {
   "cell_type": "markdown",
   "metadata": {},
   "source": [
    "# Data Wrangling"
   ]
  },
  {
   "cell_type": "markdown",
   "metadata": {},
   "source": [
    "## Import Position Data"
   ]
  },
  {
   "cell_type": "code",
   "execution_count": 20,
   "metadata": {},
   "outputs": [],
   "source": [
    "#Import Positions\n",
    "url=\"https://info0.s3.us-east-2.amazonaws.com/recruitment/positions.csv\"\n",
    "df_position=pd.read_csv(\"https://info0.s3.us-east-2.amazonaws.com/recruitment/positions.csv\")"
   ]
  },
  {
   "cell_type": "code",
   "execution_count": 21,
   "metadata": {},
   "outputs": [
    {
     "data": {
      "text/html": [
       "<div>\n",
       "<style scoped>\n",
       "    .dataframe tbody tr th:only-of-type {\n",
       "        vertical-align: middle;\n",
       "    }\n",
       "\n",
       "    .dataframe tbody tr th {\n",
       "        vertical-align: top;\n",
       "    }\n",
       "\n",
       "    .dataframe thead th {\n",
       "        text-align: right;\n",
       "    }\n",
       "</style>\n",
       "<table border=\"1\" class=\"dataframe\">\n",
       "  <thead>\n",
       "    <tr style=\"text-align: right;\">\n",
       "      <th></th>\n",
       "      <th>user_id</th>\n",
       "      <th>jobtitle</th>\n",
       "      <th>startdate</th>\n",
       "      <th>enddate</th>\n",
       "    </tr>\n",
       "  </thead>\n",
       "  <tbody>\n",
       "    <tr>\n",
       "      <th>0</th>\n",
       "      <td>7jc+JKlKo7zUTk6YeqfvCrE8KztNWz3qNepQVJd0smgtpB...</td>\n",
       "      <td>delivery_driver</td>\n",
       "      <td>2005-03-01</td>\n",
       "      <td>2012-07-01</td>\n",
       "    </tr>\n",
       "    <tr>\n",
       "      <th>1</th>\n",
       "      <td>01QnCDXVlvzNAnyyDWf+ew4ZM3TcQvn1bQ/jHgHWG0kf/b...</td>\n",
       "      <td>ledelsesudvikling_coaching_og_psykisk_arbejdsm...</td>\n",
       "      <td>2014-04-01</td>\n",
       "      <td>2018-01-01</td>\n",
       "    </tr>\n",
       "    <tr>\n",
       "      <th>2</th>\n",
       "      <td>Cazq5pI2ol+qKuHNY0fSUw5+2cvffV/mNepQVJd0smgtpB...</td>\n",
       "      <td>project_technician</td>\n",
       "      <td>2012-06-01</td>\n",
       "      <td>2012-09-01</td>\n",
       "    </tr>\n",
       "    <tr>\n",
       "      <th>3</th>\n",
       "      <td>4qPM2d6reWpNwSQJ3NSQVw5+2cvffV/mNepQVJd0smgtpB...</td>\n",
       "      <td>telesales</td>\n",
       "      <td>2014-08-01</td>\n",
       "      <td>2015-03-01</td>\n",
       "    </tr>\n",
       "    <tr>\n",
       "      <th>4</th>\n",
       "      <td>0k6KOTrEedq2/2VzvQ6D8Q5+2cvffV/mNepQVJd0smgtpB...</td>\n",
       "      <td>mortgage_consultant</td>\n",
       "      <td>1990-08-01</td>\n",
       "      <td>1995-12-01</td>\n",
       "    </tr>\n",
       "    <tr>\n",
       "      <th>5</th>\n",
       "      <td>efMt7IXinLRh9q75rXkg2rE8KztNWz3qNepQVJd0smgtpB...</td>\n",
       "      <td>assistant_manager</td>\n",
       "      <td>2014-06-01</td>\n",
       "      <td>2015-01-01</td>\n",
       "    </tr>\n",
       "    <tr>\n",
       "      <th>6</th>\n",
       "      <td>RjRgnH2/VOcPOAH3g9VUEXAG1BvSkUYANepQVJd0smgtpB...</td>\n",
       "      <td>dailies_clerk</td>\n",
       "      <td>2002-01-01</td>\n",
       "      <td>2004-01-01</td>\n",
       "    </tr>\n",
       "    <tr>\n",
       "      <th>7</th>\n",
       "      <td>xEXLaRB77bYr6WgJzaUQ2w5+2cvffV/mNepQVJd0smgtpB...</td>\n",
       "      <td>dept_comercial_gestión_de_traslados_privados_c...</td>\n",
       "      <td>2013-05-01</td>\n",
       "      <td>NaN</td>\n",
       "    </tr>\n",
       "    <tr>\n",
       "      <th>8</th>\n",
       "      <td>1XrNKHDAWzbX4lL5m0C8YA5+2cvffV/mNepQVJd0smgtpB...</td>\n",
       "      <td>monitor</td>\n",
       "      <td>2017-01-01</td>\n",
       "      <td>NaN</td>\n",
       "    </tr>\n",
       "    <tr>\n",
       "      <th>9</th>\n",
       "      <td>7+e+z4kCuWYcny2IeT8dFnAG1BvSkUYANepQVJd0smgtpB...</td>\n",
       "      <td>senior_vice_president</td>\n",
       "      <td>NaN</td>\n",
       "      <td>NaN</td>\n",
       "    </tr>\n",
       "  </tbody>\n",
       "</table>\n",
       "</div>"
      ],
      "text/plain": [
       "                                             user_id  \\\n",
       "0  7jc+JKlKo7zUTk6YeqfvCrE8KztNWz3qNepQVJd0smgtpB...   \n",
       "1  01QnCDXVlvzNAnyyDWf+ew4ZM3TcQvn1bQ/jHgHWG0kf/b...   \n",
       "2  Cazq5pI2ol+qKuHNY0fSUw5+2cvffV/mNepQVJd0smgtpB...   \n",
       "3  4qPM2d6reWpNwSQJ3NSQVw5+2cvffV/mNepQVJd0smgtpB...   \n",
       "4  0k6KOTrEedq2/2VzvQ6D8Q5+2cvffV/mNepQVJd0smgtpB...   \n",
       "5  efMt7IXinLRh9q75rXkg2rE8KztNWz3qNepQVJd0smgtpB...   \n",
       "6  RjRgnH2/VOcPOAH3g9VUEXAG1BvSkUYANepQVJd0smgtpB...   \n",
       "7  xEXLaRB77bYr6WgJzaUQ2w5+2cvffV/mNepQVJd0smgtpB...   \n",
       "8  1XrNKHDAWzbX4lL5m0C8YA5+2cvffV/mNepQVJd0smgtpB...   \n",
       "9  7+e+z4kCuWYcny2IeT8dFnAG1BvSkUYANepQVJd0smgtpB...   \n",
       "\n",
       "                                            jobtitle   startdate     enddate  \n",
       "0                                    delivery_driver  2005-03-01  2012-07-01  \n",
       "1  ledelsesudvikling_coaching_og_psykisk_arbejdsm...  2014-04-01  2018-01-01  \n",
       "2                                 project_technician  2012-06-01  2012-09-01  \n",
       "3                                          telesales  2014-08-01  2015-03-01  \n",
       "4                                mortgage_consultant  1990-08-01  1995-12-01  \n",
       "5                                  assistant_manager  2014-06-01  2015-01-01  \n",
       "6                                      dailies_clerk  2002-01-01  2004-01-01  \n",
       "7  dept_comercial_gestión_de_traslados_privados_c...  2013-05-01         NaN  \n",
       "8                                            monitor  2017-01-01         NaN  \n",
       "9                              senior_vice_president         NaN         NaN  "
      ]
     },
     "execution_count": 21,
     "metadata": {},
     "output_type": "execute_result"
    }
   ],
   "source": [
    "df_position.head(10)"
   ]
  },
  {
   "cell_type": "code",
   "execution_count": 22,
   "metadata": {},
   "outputs": [
    {
     "data": {
      "text/plain": [
       "(377585, 4)"
      ]
     },
     "execution_count": 22,
     "metadata": {},
     "output_type": "execute_result"
    }
   ],
   "source": [
    "df_position.shape"
   ]
  },
  {
   "cell_type": "code",
   "execution_count": 23,
   "metadata": {},
   "outputs": [
    {
     "data": {
      "text/plain": [
       "user_id           0\n",
       "jobtitle       1449\n",
       "startdate      9059\n",
       "enddate      107231\n",
       "dtype: int64"
      ]
     },
     "execution_count": 23,
     "metadata": {},
     "output_type": "execute_result"
    }
   ],
   "source": [
    "np.sum(df_position.isna())"
   ]
  },
  {
   "cell_type": "code",
   "execution_count": 24,
   "metadata": {},
   "outputs": [],
   "source": [
    "#Drop rows where jobtitile,startdate and enddate is missing.\n",
    "df_position=df_position.dropna(subset=['startdate','enddate'],how='all')"
   ]
  },
  {
   "cell_type": "code",
   "execution_count": 25,
   "metadata": {},
   "outputs": [
    {
     "data": {
      "text/html": [
       "<div>\n",
       "<style scoped>\n",
       "    .dataframe tbody tr th:only-of-type {\n",
       "        vertical-align: middle;\n",
       "    }\n",
       "\n",
       "    .dataframe tbody tr th {\n",
       "        vertical-align: top;\n",
       "    }\n",
       "\n",
       "    .dataframe thead th {\n",
       "        text-align: right;\n",
       "    }\n",
       "</style>\n",
       "<table border=\"1\" class=\"dataframe\">\n",
       "  <thead>\n",
       "    <tr style=\"text-align: right;\">\n",
       "      <th></th>\n",
       "      <th>user_id</th>\n",
       "      <th>jobtitle</th>\n",
       "      <th>startdate</th>\n",
       "      <th>enddate</th>\n",
       "    </tr>\n",
       "  </thead>\n",
       "  <tbody>\n",
       "    <tr>\n",
       "      <th>0</th>\n",
       "      <td>7jc+JKlKo7zUTk6YeqfvCrE8KztNWz3qNepQVJd0smgtpB...</td>\n",
       "      <td>delivery_driver</td>\n",
       "      <td>2005-03-01</td>\n",
       "      <td>2012-07-01</td>\n",
       "    </tr>\n",
       "    <tr>\n",
       "      <th>1</th>\n",
       "      <td>01QnCDXVlvzNAnyyDWf+ew4ZM3TcQvn1bQ/jHgHWG0kf/b...</td>\n",
       "      <td>ledelsesudvikling_coaching_og_psykisk_arbejdsm...</td>\n",
       "      <td>2014-04-01</td>\n",
       "      <td>2018-01-01</td>\n",
       "    </tr>\n",
       "    <tr>\n",
       "      <th>2</th>\n",
       "      <td>Cazq5pI2ol+qKuHNY0fSUw5+2cvffV/mNepQVJd0smgtpB...</td>\n",
       "      <td>project_technician</td>\n",
       "      <td>2012-06-01</td>\n",
       "      <td>2012-09-01</td>\n",
       "    </tr>\n",
       "    <tr>\n",
       "      <th>3</th>\n",
       "      <td>4qPM2d6reWpNwSQJ3NSQVw5+2cvffV/mNepQVJd0smgtpB...</td>\n",
       "      <td>telesales</td>\n",
       "      <td>2014-08-01</td>\n",
       "      <td>2015-03-01</td>\n",
       "    </tr>\n",
       "    <tr>\n",
       "      <th>4</th>\n",
       "      <td>0k6KOTrEedq2/2VzvQ6D8Q5+2cvffV/mNepQVJd0smgtpB...</td>\n",
       "      <td>mortgage_consultant</td>\n",
       "      <td>1990-08-01</td>\n",
       "      <td>1995-12-01</td>\n",
       "    </tr>\n",
       "    <tr>\n",
       "      <th>...</th>\n",
       "      <td>...</td>\n",
       "      <td>...</td>\n",
       "      <td>...</td>\n",
       "      <td>...</td>\n",
       "    </tr>\n",
       "    <tr>\n",
       "      <th>377580</th>\n",
       "      <td>vxU1qJyHb2gVbsEWViOpxzr+/k0/DTn/+K+fv+DIJSUQ20...</td>\n",
       "      <td>senior_technical_lead_|_information_technology...</td>\n",
       "      <td>2016-01-01</td>\n",
       "      <td>2017-08-01</td>\n",
       "    </tr>\n",
       "    <tr>\n",
       "      <th>377581</th>\n",
       "      <td>z4kOplYyJGBhbalIOi394nAG1BvSkUYANepQVJd0smgtpB...</td>\n",
       "      <td>sr_software_test_engineer_|_information_techno...</td>\n",
       "      <td>2006-10-01</td>\n",
       "      <td>2010-06-01</td>\n",
       "    </tr>\n",
       "    <tr>\n",
       "      <th>377582</th>\n",
       "      <td>+TxsWIH6AJDd9axCsVyrVnAG1BvSkUYANepQVJd0smgtpB...</td>\n",
       "      <td>technical_lead</td>\n",
       "      <td>2010-11-01</td>\n",
       "      <td>2017-07-01</td>\n",
       "    </tr>\n",
       "    <tr>\n",
       "      <th>377583</th>\n",
       "      <td>FDyRxqAHag1OKApMgaEwKA5+2cvffV/mNepQVJd0smgtpB...</td>\n",
       "      <td>senior_software_engineer_|_information_technol...</td>\n",
       "      <td>2017-01-01</td>\n",
       "      <td>NaN</td>\n",
       "    </tr>\n",
       "    <tr>\n",
       "      <th>377584</th>\n",
       "      <td>TkjOfaO2yBim6BWT+BHiPw5+2cvffV/mNepQVJd0smgtpB...</td>\n",
       "      <td>business_analyst</td>\n",
       "      <td>2013-05-01</td>\n",
       "      <td>NaN</td>\n",
       "    </tr>\n",
       "  </tbody>\n",
       "</table>\n",
       "<p>368575 rows × 4 columns</p>\n",
       "</div>"
      ],
      "text/plain": [
       "                                                  user_id  \\\n",
       "0       7jc+JKlKo7zUTk6YeqfvCrE8KztNWz3qNepQVJd0smgtpB...   \n",
       "1       01QnCDXVlvzNAnyyDWf+ew4ZM3TcQvn1bQ/jHgHWG0kf/b...   \n",
       "2       Cazq5pI2ol+qKuHNY0fSUw5+2cvffV/mNepQVJd0smgtpB...   \n",
       "3       4qPM2d6reWpNwSQJ3NSQVw5+2cvffV/mNepQVJd0smgtpB...   \n",
       "4       0k6KOTrEedq2/2VzvQ6D8Q5+2cvffV/mNepQVJd0smgtpB...   \n",
       "...                                                   ...   \n",
       "377580  vxU1qJyHb2gVbsEWViOpxzr+/k0/DTn/+K+fv+DIJSUQ20...   \n",
       "377581  z4kOplYyJGBhbalIOi394nAG1BvSkUYANepQVJd0smgtpB...   \n",
       "377582  +TxsWIH6AJDd9axCsVyrVnAG1BvSkUYANepQVJd0smgtpB...   \n",
       "377583  FDyRxqAHag1OKApMgaEwKA5+2cvffV/mNepQVJd0smgtpB...   \n",
       "377584  TkjOfaO2yBim6BWT+BHiPw5+2cvffV/mNepQVJd0smgtpB...   \n",
       "\n",
       "                                                 jobtitle   startdate  \\\n",
       "0                                         delivery_driver  2005-03-01   \n",
       "1       ledelsesudvikling_coaching_og_psykisk_arbejdsm...  2014-04-01   \n",
       "2                                      project_technician  2012-06-01   \n",
       "3                                               telesales  2014-08-01   \n",
       "4                                     mortgage_consultant  1990-08-01   \n",
       "...                                                   ...         ...   \n",
       "377580  senior_technical_lead_|_information_technology...  2016-01-01   \n",
       "377581  sr_software_test_engineer_|_information_techno...  2006-10-01   \n",
       "377582                                     technical_lead  2010-11-01   \n",
       "377583  senior_software_engineer_|_information_technol...  2017-01-01   \n",
       "377584                                   business_analyst  2013-05-01   \n",
       "\n",
       "           enddate  \n",
       "0       2012-07-01  \n",
       "1       2018-01-01  \n",
       "2       2012-09-01  \n",
       "3       2015-03-01  \n",
       "4       1995-12-01  \n",
       "...            ...  \n",
       "377580  2017-08-01  \n",
       "377581  2010-06-01  \n",
       "377582  2017-07-01  \n",
       "377583         NaN  \n",
       "377584         NaN  \n",
       "\n",
       "[368575 rows x 4 columns]"
      ]
     },
     "execution_count": 25,
     "metadata": {},
     "output_type": "execute_result"
    }
   ],
   "source": [
    "df_position"
   ]
  },
  {
   "cell_type": "code",
   "execution_count": 26,
   "metadata": {},
   "outputs": [
    {
     "data": {
      "text/plain": [
       "user_id          0\n",
       "jobtitle      1277\n",
       "startdate       49\n",
       "enddate      98221\n",
       "dtype: int64"
      ]
     },
     "execution_count": 26,
     "metadata": {},
     "output_type": "execute_result"
    }
   ],
   "source": [
    "np.sum(df_position.isna())"
   ]
  },
  {
   "cell_type": "code",
   "execution_count": 27,
   "metadata": {},
   "outputs": [
    {
     "data": {
      "text/html": [
       "<div>\n",
       "<style scoped>\n",
       "    .dataframe tbody tr th:only-of-type {\n",
       "        vertical-align: middle;\n",
       "    }\n",
       "\n",
       "    .dataframe tbody tr th {\n",
       "        vertical-align: top;\n",
       "    }\n",
       "\n",
       "    .dataframe thead th {\n",
       "        text-align: right;\n",
       "    }\n",
       "</style>\n",
       "<table border=\"1\" class=\"dataframe\">\n",
       "  <thead>\n",
       "    <tr style=\"text-align: right;\">\n",
       "      <th></th>\n",
       "      <th>user_id</th>\n",
       "      <th>jobtitle</th>\n",
       "      <th>startdate</th>\n",
       "      <th>enddate</th>\n",
       "    </tr>\n",
       "  </thead>\n",
       "  <tbody>\n",
       "    <tr>\n",
       "      <th>0</th>\n",
       "      <td>7jc+JKlKo7zUTk6YeqfvCrE8KztNWz3qNepQVJd0smgtpB...</td>\n",
       "      <td>delivery_driver</td>\n",
       "      <td>2005-03-01</td>\n",
       "      <td>2012-07-01</td>\n",
       "    </tr>\n",
       "    <tr>\n",
       "      <th>1</th>\n",
       "      <td>01QnCDXVlvzNAnyyDWf+ew4ZM3TcQvn1bQ/jHgHWG0kf/b...</td>\n",
       "      <td>ledelsesudvikling_coaching_og_psykisk_arbejdsm...</td>\n",
       "      <td>2014-04-01</td>\n",
       "      <td>2018-01-01</td>\n",
       "    </tr>\n",
       "    <tr>\n",
       "      <th>2</th>\n",
       "      <td>Cazq5pI2ol+qKuHNY0fSUw5+2cvffV/mNepQVJd0smgtpB...</td>\n",
       "      <td>project_technician</td>\n",
       "      <td>2012-06-01</td>\n",
       "      <td>2012-09-01</td>\n",
       "    </tr>\n",
       "    <tr>\n",
       "      <th>3</th>\n",
       "      <td>4qPM2d6reWpNwSQJ3NSQVw5+2cvffV/mNepQVJd0smgtpB...</td>\n",
       "      <td>telesales</td>\n",
       "      <td>2014-08-01</td>\n",
       "      <td>2015-03-01</td>\n",
       "    </tr>\n",
       "    <tr>\n",
       "      <th>4</th>\n",
       "      <td>0k6KOTrEedq2/2VzvQ6D8Q5+2cvffV/mNepQVJd0smgtpB...</td>\n",
       "      <td>mortgage_consultant</td>\n",
       "      <td>1990-08-01</td>\n",
       "      <td>1995-12-01</td>\n",
       "    </tr>\n",
       "    <tr>\n",
       "      <th>...</th>\n",
       "      <td>...</td>\n",
       "      <td>...</td>\n",
       "      <td>...</td>\n",
       "      <td>...</td>\n",
       "    </tr>\n",
       "    <tr>\n",
       "      <th>377580</th>\n",
       "      <td>vxU1qJyHb2gVbsEWViOpxzr+/k0/DTn/+K+fv+DIJSUQ20...</td>\n",
       "      <td>senior_technical_lead_|_information_technology...</td>\n",
       "      <td>2016-01-01</td>\n",
       "      <td>2017-08-01</td>\n",
       "    </tr>\n",
       "    <tr>\n",
       "      <th>377581</th>\n",
       "      <td>z4kOplYyJGBhbalIOi394nAG1BvSkUYANepQVJd0smgtpB...</td>\n",
       "      <td>sr_software_test_engineer_|_information_techno...</td>\n",
       "      <td>2006-10-01</td>\n",
       "      <td>2010-06-01</td>\n",
       "    </tr>\n",
       "    <tr>\n",
       "      <th>377582</th>\n",
       "      <td>+TxsWIH6AJDd9axCsVyrVnAG1BvSkUYANepQVJd0smgtpB...</td>\n",
       "      <td>technical_lead</td>\n",
       "      <td>2010-11-01</td>\n",
       "      <td>2017-07-01</td>\n",
       "    </tr>\n",
       "    <tr>\n",
       "      <th>377583</th>\n",
       "      <td>FDyRxqAHag1OKApMgaEwKA5+2cvffV/mNepQVJd0smgtpB...</td>\n",
       "      <td>senior_software_engineer_|_information_technol...</td>\n",
       "      <td>2017-01-01</td>\n",
       "      <td>NaN</td>\n",
       "    </tr>\n",
       "    <tr>\n",
       "      <th>377584</th>\n",
       "      <td>TkjOfaO2yBim6BWT+BHiPw5+2cvffV/mNepQVJd0smgtpB...</td>\n",
       "      <td>business_analyst</td>\n",
       "      <td>2013-05-01</td>\n",
       "      <td>NaN</td>\n",
       "    </tr>\n",
       "  </tbody>\n",
       "</table>\n",
       "<p>368575 rows × 4 columns</p>\n",
       "</div>"
      ],
      "text/plain": [
       "                                                  user_id  \\\n",
       "0       7jc+JKlKo7zUTk6YeqfvCrE8KztNWz3qNepQVJd0smgtpB...   \n",
       "1       01QnCDXVlvzNAnyyDWf+ew4ZM3TcQvn1bQ/jHgHWG0kf/b...   \n",
       "2       Cazq5pI2ol+qKuHNY0fSUw5+2cvffV/mNepQVJd0smgtpB...   \n",
       "3       4qPM2d6reWpNwSQJ3NSQVw5+2cvffV/mNepQVJd0smgtpB...   \n",
       "4       0k6KOTrEedq2/2VzvQ6D8Q5+2cvffV/mNepQVJd0smgtpB...   \n",
       "...                                                   ...   \n",
       "377580  vxU1qJyHb2gVbsEWViOpxzr+/k0/DTn/+K+fv+DIJSUQ20...   \n",
       "377581  z4kOplYyJGBhbalIOi394nAG1BvSkUYANepQVJd0smgtpB...   \n",
       "377582  +TxsWIH6AJDd9axCsVyrVnAG1BvSkUYANepQVJd0smgtpB...   \n",
       "377583  FDyRxqAHag1OKApMgaEwKA5+2cvffV/mNepQVJd0smgtpB...   \n",
       "377584  TkjOfaO2yBim6BWT+BHiPw5+2cvffV/mNepQVJd0smgtpB...   \n",
       "\n",
       "                                                 jobtitle   startdate  \\\n",
       "0                                         delivery_driver  2005-03-01   \n",
       "1       ledelsesudvikling_coaching_og_psykisk_arbejdsm...  2014-04-01   \n",
       "2                                      project_technician  2012-06-01   \n",
       "3                                               telesales  2014-08-01   \n",
       "4                                     mortgage_consultant  1990-08-01   \n",
       "...                                                   ...         ...   \n",
       "377580  senior_technical_lead_|_information_technology...  2016-01-01   \n",
       "377581  sr_software_test_engineer_|_information_techno...  2006-10-01   \n",
       "377582                                     technical_lead  2010-11-01   \n",
       "377583  senior_software_engineer_|_information_technol...  2017-01-01   \n",
       "377584                                   business_analyst  2013-05-01   \n",
       "\n",
       "           enddate  \n",
       "0       2012-07-01  \n",
       "1       2018-01-01  \n",
       "2       2012-09-01  \n",
       "3       2015-03-01  \n",
       "4       1995-12-01  \n",
       "...            ...  \n",
       "377580  2017-08-01  \n",
       "377581  2010-06-01  \n",
       "377582  2017-07-01  \n",
       "377583         NaN  \n",
       "377584         NaN  \n",
       "\n",
       "[368575 rows x 4 columns]"
      ]
     },
     "execution_count": 27,
     "metadata": {},
     "output_type": "execute_result"
    }
   ],
   "source": [
    "df_position"
   ]
  },
  {
   "cell_type": "markdown",
   "metadata": {},
   "source": [
    "## Education"
   ]
  },
  {
   "cell_type": "code",
   "execution_count": 66,
   "metadata": {},
   "outputs": [],
   "source": [
    "#Import Education\n",
    "url=\"https://info0.s3.us-east-2.amazonaws.com/recruitment/education.csv\"\n",
    "df_edu=pd.read_csv(url)"
   ]
  },
  {
   "cell_type": "code",
   "execution_count": 67,
   "metadata": {},
   "outputs": [
    {
     "data": {
      "text/html": [
       "<div>\n",
       "<style scoped>\n",
       "    .dataframe tbody tr th:only-of-type {\n",
       "        vertical-align: middle;\n",
       "    }\n",
       "\n",
       "    .dataframe tbody tr th {\n",
       "        vertical-align: top;\n",
       "    }\n",
       "\n",
       "    .dataframe thead th {\n",
       "        text-align: right;\n",
       "    }\n",
       "</style>\n",
       "<table border=\"1\" class=\"dataframe\">\n",
       "  <thead>\n",
       "    <tr style=\"text-align: right;\">\n",
       "      <th></th>\n",
       "      <th>user_id</th>\n",
       "      <th>major</th>\n",
       "      <th>startdate</th>\n",
       "      <th>enddate</th>\n",
       "    </tr>\n",
       "  </thead>\n",
       "  <tbody>\n",
       "    <tr>\n",
       "      <th>0</th>\n",
       "      <td>hqSv727UD4f0Cr8QyA8+8g5+2cvffV/mNepQVJd0smgtpB...</td>\n",
       "      <td>Master of Viticulture</td>\n",
       "      <td>2006-01-01</td>\n",
       "      <td>2008-01-01</td>\n",
       "    </tr>\n",
       "    <tr>\n",
       "      <th>1</th>\n",
       "      <td>hqSv727UD4f0Cr8QyA8+8g5+2cvffV/mNepQVJd0smgtpB...</td>\n",
       "      <td>Bachelor of horticulture</td>\n",
       "      <td>2001-01-01</td>\n",
       "      <td>2005-01-01</td>\n",
       "    </tr>\n",
       "    <tr>\n",
       "      <th>2</th>\n",
       "      <td>hqSv727UD4f0Cr8QyA8+8g5+2cvffV/mNepQVJd0smgtpB...</td>\n",
       "      <td>WSET Level 3</td>\n",
       "      <td>2015-01-01</td>\n",
       "      <td>2015-01-01</td>\n",
       "    </tr>\n",
       "    <tr>\n",
       "      <th>3</th>\n",
       "      <td>hqSv727UD4f0Cr8QyA8+8g5+2cvffV/mNepQVJd0smgtpB...</td>\n",
       "      <td>Graduated Diploma</td>\n",
       "      <td>2008-01-01</td>\n",
       "      <td>2009-01-01</td>\n",
       "    </tr>\n",
       "    <tr>\n",
       "      <th>4</th>\n",
       "      <td>H2fZcOtCvd7DXFbzglIkpA5+2cvffV/mNepQVJd0smgtpB...</td>\n",
       "      <td>Lingüística Aplicada en la Enseñanza del Inglé...</td>\n",
       "      <td>2013-01-01</td>\n",
       "      <td>2016-01-01</td>\n",
       "    </tr>\n",
       "  </tbody>\n",
       "</table>\n",
       "</div>"
      ],
      "text/plain": [
       "                                             user_id  \\\n",
       "0  hqSv727UD4f0Cr8QyA8+8g5+2cvffV/mNepQVJd0smgtpB...   \n",
       "1  hqSv727UD4f0Cr8QyA8+8g5+2cvffV/mNepQVJd0smgtpB...   \n",
       "2  hqSv727UD4f0Cr8QyA8+8g5+2cvffV/mNepQVJd0smgtpB...   \n",
       "3  hqSv727UD4f0Cr8QyA8+8g5+2cvffV/mNepQVJd0smgtpB...   \n",
       "4  H2fZcOtCvd7DXFbzglIkpA5+2cvffV/mNepQVJd0smgtpB...   \n",
       "\n",
       "                                               major   startdate     enddate  \n",
       "0                              Master of Viticulture  2006-01-01  2008-01-01  \n",
       "1                           Bachelor of horticulture  2001-01-01  2005-01-01  \n",
       "2                                       WSET Level 3  2015-01-01  2015-01-01  \n",
       "3                                  Graduated Diploma  2008-01-01  2009-01-01  \n",
       "4  Lingüística Aplicada en la Enseñanza del Inglé...  2013-01-01  2016-01-01  "
      ]
     },
     "execution_count": 67,
     "metadata": {},
     "output_type": "execute_result"
    }
   ],
   "source": [
    "df_edu.head()"
   ]
  },
  {
   "cell_type": "code",
   "execution_count": 68,
   "metadata": {},
   "outputs": [
    {
     "data": {
      "text/plain": [
       "(226184, 4)"
      ]
     },
     "execution_count": 68,
     "metadata": {},
     "output_type": "execute_result"
    }
   ],
   "source": [
    "df_edu.shape"
   ]
  },
  {
   "cell_type": "code",
   "execution_count": 69,
   "metadata": {},
   "outputs": [
    {
     "data": {
      "text/plain": [
       "user_id          0\n",
       "major        63838\n",
       "startdate    28628\n",
       "enddate      35526\n",
       "dtype: int64"
      ]
     },
     "execution_count": 69,
     "metadata": {},
     "output_type": "execute_result"
    }
   ],
   "source": [
    "np.sum(df_edu.isna())"
   ]
  },
  {
   "cell_type": "code",
   "execution_count": 70,
   "metadata": {},
   "outputs": [],
   "source": [
    "#Drop rows where startdate or enddate is missing.\n",
    "df_edu=df_edu.dropna(subset=['startdate','enddate'],how='all')"
   ]
  },
  {
   "cell_type": "code",
   "execution_count": 71,
   "metadata": {},
   "outputs": [
    {
     "data": {
      "text/plain": [
       "user_id          0\n",
       "major        52919\n",
       "startdate     1412\n",
       "enddate       8310\n",
       "dtype: int64"
      ]
     },
     "execution_count": 71,
     "metadata": {},
     "output_type": "execute_result"
    }
   ],
   "source": [
    "np.sum(df_edu.isna())"
   ]
  },
  {
   "cell_type": "code",
   "execution_count": 72,
   "metadata": {},
   "outputs": [],
   "source": [
    "#str1=\"Bachelor's of Tech\"\n",
    "#'Bach' in str1"
   ]
  },
  {
   "cell_type": "code",
   "execution_count": 73,
   "metadata": {},
   "outputs": [
    {
     "data": {
      "text/plain": [
       "'\\ndef mojor_clr(major):\\n    bach = [\\'b.\\', \\'bachelor\\',\\'bs\\',\\'bsc\\',\\'bach\\']\\n    master=[\\'master\\',\\'mba\\',\\'ms\\',\\'ma\\']\\n    doc=[\\'doc\\',\\'ph.\\',\\'post doc\\']\\n    str = \"one two three four five\"\\n    if any(x in major.lower() for x in bach):\\n        return \\'Bachelor\\'\\n    else:\\n        print (\"Not a match\")\\n'"
      ]
     },
     "execution_count": 73,
     "metadata": {},
     "output_type": "execute_result"
    }
   ],
   "source": [
    "\"\"\"\n",
    "def mojor_clr(major):\n",
    "    bach = ['b.', 'bachelor','bs','bsc','bach']\n",
    "    master=['master','mba','ms','ma']\n",
    "    doc=['doc','ph.','post doc']\n",
    "    str = \"one two three four five\"\n",
    "    if any(x in major.lower() for x in bach):\n",
    "        return 'Bachelor'\n",
    "    else:\n",
    "        print (\"Not a match\")\n",
    "\"\"\""
   ]
  },
  {
   "cell_type": "code",
   "execution_count": 74,
   "metadata": {},
   "outputs": [],
   "source": [
    "#Convert Major into another []\n",
    "#df_edu['major'].apply()"
   ]
  },
  {
   "cell_type": "code",
   "execution_count": null,
   "metadata": {},
   "outputs": [],
   "source": []
  },
  {
   "cell_type": "code",
   "execution_count": null,
   "metadata": {},
   "outputs": [],
   "source": []
  },
  {
   "cell_type": "code",
   "execution_count": null,
   "metadata": {},
   "outputs": [],
   "source": []
  },
  {
   "cell_type": "code",
   "execution_count": null,
   "metadata": {},
   "outputs": [],
   "source": []
  },
  {
   "cell_type": "code",
   "execution_count": null,
   "metadata": {},
   "outputs": [],
   "source": []
  },
  {
   "cell_type": "code",
   "execution_count": null,
   "metadata": {},
   "outputs": [],
   "source": []
  },
  {
   "cell_type": "code",
   "execution_count": 75,
   "metadata": {},
   "outputs": [],
   "source": [
    "df_edu['enddate']=pd.to_datetime(df_edu['enddate']).copy()\n",
    "df_edu['startdate']=pd.to_datetime(df_edu['startdate']).copy()"
   ]
  },
  {
   "cell_type": "code",
   "execution_count": 76,
   "metadata": {},
   "outputs": [],
   "source": [
    "df_edu['education_days']=df_edu['enddate']-df_edu['startdate'].copy()"
   ]
  },
  {
   "cell_type": "code",
   "execution_count": 77,
   "metadata": {},
   "outputs": [],
   "source": [
    "#Convert days to years\n",
    "df_edu['education_years']=df_edu['education_days'].dt.days//365"
   ]
  },
  {
   "cell_type": "code",
   "execution_count": 78,
   "metadata": {},
   "outputs": [
    {
     "data": {
      "text/html": [
       "<div>\n",
       "<style scoped>\n",
       "    .dataframe tbody tr th:only-of-type {\n",
       "        vertical-align: middle;\n",
       "    }\n",
       "\n",
       "    .dataframe tbody tr th {\n",
       "        vertical-align: top;\n",
       "    }\n",
       "\n",
       "    .dataframe thead th {\n",
       "        text-align: right;\n",
       "    }\n",
       "</style>\n",
       "<table border=\"1\" class=\"dataframe\">\n",
       "  <thead>\n",
       "    <tr style=\"text-align: right;\">\n",
       "      <th></th>\n",
       "      <th>user_id</th>\n",
       "      <th>major</th>\n",
       "      <th>startdate</th>\n",
       "      <th>enddate</th>\n",
       "      <th>education_days</th>\n",
       "      <th>education_years</th>\n",
       "    </tr>\n",
       "  </thead>\n",
       "  <tbody>\n",
       "    <tr>\n",
       "      <th>0</th>\n",
       "      <td>hqSv727UD4f0Cr8QyA8+8g5+2cvffV/mNepQVJd0smgtpB...</td>\n",
       "      <td>Master of Viticulture</td>\n",
       "      <td>2006-01-01</td>\n",
       "      <td>2008-01-01</td>\n",
       "      <td>730 days</td>\n",
       "      <td>2.0</td>\n",
       "    </tr>\n",
       "    <tr>\n",
       "      <th>1</th>\n",
       "      <td>hqSv727UD4f0Cr8QyA8+8g5+2cvffV/mNepQVJd0smgtpB...</td>\n",
       "      <td>Bachelor of horticulture</td>\n",
       "      <td>2001-01-01</td>\n",
       "      <td>2005-01-01</td>\n",
       "      <td>1461 days</td>\n",
       "      <td>4.0</td>\n",
       "    </tr>\n",
       "    <tr>\n",
       "      <th>2</th>\n",
       "      <td>hqSv727UD4f0Cr8QyA8+8g5+2cvffV/mNepQVJd0smgtpB...</td>\n",
       "      <td>WSET Level 3</td>\n",
       "      <td>2015-01-01</td>\n",
       "      <td>2015-01-01</td>\n",
       "      <td>0 days</td>\n",
       "      <td>0.0</td>\n",
       "    </tr>\n",
       "    <tr>\n",
       "      <th>3</th>\n",
       "      <td>hqSv727UD4f0Cr8QyA8+8g5+2cvffV/mNepQVJd0smgtpB...</td>\n",
       "      <td>Graduated Diploma</td>\n",
       "      <td>2008-01-01</td>\n",
       "      <td>2009-01-01</td>\n",
       "      <td>366 days</td>\n",
       "      <td>1.0</td>\n",
       "    </tr>\n",
       "    <tr>\n",
       "      <th>4</th>\n",
       "      <td>H2fZcOtCvd7DXFbzglIkpA5+2cvffV/mNepQVJd0smgtpB...</td>\n",
       "      <td>Lingüística Aplicada en la Enseñanza del Inglé...</td>\n",
       "      <td>2013-01-01</td>\n",
       "      <td>2016-01-01</td>\n",
       "      <td>1095 days</td>\n",
       "      <td>3.0</td>\n",
       "    </tr>\n",
       "  </tbody>\n",
       "</table>\n",
       "</div>"
      ],
      "text/plain": [
       "                                             user_id  \\\n",
       "0  hqSv727UD4f0Cr8QyA8+8g5+2cvffV/mNepQVJd0smgtpB...   \n",
       "1  hqSv727UD4f0Cr8QyA8+8g5+2cvffV/mNepQVJd0smgtpB...   \n",
       "2  hqSv727UD4f0Cr8QyA8+8g5+2cvffV/mNepQVJd0smgtpB...   \n",
       "3  hqSv727UD4f0Cr8QyA8+8g5+2cvffV/mNepQVJd0smgtpB...   \n",
       "4  H2fZcOtCvd7DXFbzglIkpA5+2cvffV/mNepQVJd0smgtpB...   \n",
       "\n",
       "                                               major  startdate    enddate  \\\n",
       "0                              Master of Viticulture 2006-01-01 2008-01-01   \n",
       "1                           Bachelor of horticulture 2001-01-01 2005-01-01   \n",
       "2                                       WSET Level 3 2015-01-01 2015-01-01   \n",
       "3                                  Graduated Diploma 2008-01-01 2009-01-01   \n",
       "4  Lingüística Aplicada en la Enseñanza del Inglé... 2013-01-01 2016-01-01   \n",
       "\n",
       "  education_days  education_years  \n",
       "0       730 days              2.0  \n",
       "1      1461 days              4.0  \n",
       "2         0 days              0.0  \n",
       "3       366 days              1.0  \n",
       "4      1095 days              3.0  "
      ]
     },
     "execution_count": 78,
     "metadata": {},
     "output_type": "execute_result"
    }
   ],
   "source": [
    "df_edu.head()"
   ]
  },
  {
   "cell_type": "code",
   "execution_count": 79,
   "metadata": {},
   "outputs": [],
   "source": [
    "#Calculate total numbers of years of education completed by users.\n",
    "df_edu_years=df_edu.groupby(by=[\"user_id\"]).sum()"
   ]
  },
  {
   "cell_type": "code",
   "execution_count": 80,
   "metadata": {},
   "outputs": [
    {
     "data": {
      "text/html": [
       "<div>\n",
       "<style scoped>\n",
       "    .dataframe tbody tr th:only-of-type {\n",
       "        vertical-align: middle;\n",
       "    }\n",
       "\n",
       "    .dataframe tbody tr th {\n",
       "        vertical-align: top;\n",
       "    }\n",
       "\n",
       "    .dataframe thead th {\n",
       "        text-align: right;\n",
       "    }\n",
       "</style>\n",
       "<table border=\"1\" class=\"dataframe\">\n",
       "  <thead>\n",
       "    <tr style=\"text-align: right;\">\n",
       "      <th></th>\n",
       "      <th>education_years</th>\n",
       "    </tr>\n",
       "    <tr>\n",
       "      <th>user_id</th>\n",
       "      <th></th>\n",
       "    </tr>\n",
       "  </thead>\n",
       "  <tbody>\n",
       "    <tr>\n",
       "      <th>++5SW5MI5/h8X1hMA3QnmQ4ZM3TcQvn1bQ/jHgHWG0kf/bHrn17MPg==</th>\n",
       "      <td>4.0</td>\n",
       "    </tr>\n",
       "    <tr>\n",
       "      <th>++5qk2+uEmkI/3Z4FrBwDw4ZM3TcQvn1bQ/jHgHWG0kf/bHrn17MPg==</th>\n",
       "      <td>8.0</td>\n",
       "    </tr>\n",
       "    <tr>\n",
       "      <th>++6+hv3i5RAVsrWO8q5JEQ5+2cvffV/mNepQVJd0smgtpBr4MGMFJQ==</th>\n",
       "      <td>3.0</td>\n",
       "    </tr>\n",
       "    <tr>\n",
       "      <th>++6zEVtPCi83vpPTHSY2Vg5+2cvffV/mNepQVJd0smgtpBr4MGMFJQ==</th>\n",
       "      <td>5.0</td>\n",
       "    </tr>\n",
       "    <tr>\n",
       "      <th>++7kB6m0hI1TgAPmyY1X6A5+2cvffV/mNepQVJd0smgtpBr4MGMFJQ==</th>\n",
       "      <td>2.0</td>\n",
       "    </tr>\n",
       "  </tbody>\n",
       "</table>\n",
       "</div>"
      ],
      "text/plain": [
       "                                                    education_years\n",
       "user_id                                                            \n",
       "++5SW5MI5/h8X1hMA3QnmQ4ZM3TcQvn1bQ/jHgHWG0kf/bH...              4.0\n",
       "++5qk2+uEmkI/3Z4FrBwDw4ZM3TcQvn1bQ/jHgHWG0kf/bH...              8.0\n",
       "++6+hv3i5RAVsrWO8q5JEQ5+2cvffV/mNepQVJd0smgtpBr...              3.0\n",
       "++6zEVtPCi83vpPTHSY2Vg5+2cvffV/mNepQVJd0smgtpBr...              5.0\n",
       "++7kB6m0hI1TgAPmyY1X6A5+2cvffV/mNepQVJd0smgtpBr...              2.0"
      ]
     },
     "execution_count": 80,
     "metadata": {},
     "output_type": "execute_result"
    }
   ],
   "source": [
    "df_edu_years.head()"
   ]
  },
  {
   "cell_type": "code",
   "execution_count": 81,
   "metadata": {},
   "outputs": [
    {
     "data": {
      "text/plain": [
       "education_years\n",
       " 4.0               15042\n",
       " 5.0               11892\n",
       " 6.0               10378\n",
       " 3.0                7611\n",
       " 8.0                7220\n",
       "                   ...  \n",
       " 73.0                  1\n",
       " 62.0                  1\n",
       " 60.0                  1\n",
       " 58.0                  1\n",
       "-56.0                  1\n",
       "Length: 109, dtype: int64"
      ]
     },
     "execution_count": 81,
     "metadata": {},
     "output_type": "execute_result"
    }
   ],
   "source": [
    "#View Typical total years of education values.\n",
    "df_edu_years.value_counts()"
   ]
  },
  {
   "cell_type": "markdown",
   "metadata": {},
   "source": [
    "From the above values we there are few incorrect or outlier values. Lets remove it using boxplot and IQR."
   ]
  },
  {
   "cell_type": "code",
   "execution_count": 82,
   "metadata": {},
   "outputs": [
    {
     "data": {
      "image/png": "[encoded data removed]",
      "text/plain": [
       "<Figure size 432x288 with 1 Axes>"
      ]
     },
     "metadata": {
      "needs_background": "light"
     },
     "output_type": "display_data"
    }
   ],
   "source": [
    "import matplotlib.pyplot as plt\n",
    "# Creating plot\n",
    "plt.boxplot(df_edu_years.education_years)\n",
    "plt.show()"
   ]
  },
  {
   "cell_type": "markdown",
   "metadata": {},
   "source": [
    "From the above boxplot we see that there are lot of ouliers. Lets remove it using IQR."
   ]
  },
  {
   "cell_type": "code",
   "execution_count": 83,
   "metadata": {},
   "outputs": [
    {
     "data": {
      "text/plain": [
       "array([4., 5., 8.])"
      ]
     },
     "execution_count": 83,
     "metadata": {},
     "output_type": "execute_result"
    }
   ],
   "source": [
    "#Calculate 25th,50th and 75th percentile.\n",
    "np.percentile(df_edu_years,[25,50,75])"
   ]
  },
  {
   "cell_type": "code",
   "execution_count": 84,
   "metadata": {},
   "outputs": [],
   "source": [
    "#Calculate IQR , lower limit as Q1–1.5*IQR and upper limit as Q3+1.5*IQR.\n",
    "IQR=8-4\n",
    "lower_limit=4-1.5*IQR\n",
    "upper_limit=8+1.5*IQR"
   ]
  },
  {
   "cell_type": "code",
   "execution_count": 85,
   "metadata": {},
   "outputs": [
    {
     "data": {
      "text/plain": [
       "-2.0"
      ]
     },
     "execution_count": 85,
     "metadata": {},
     "output_type": "execute_result"
    }
   ],
   "source": [
    "lower_limit"
   ]
  },
  {
   "cell_type": "code",
   "execution_count": 86,
   "metadata": {},
   "outputs": [
    {
     "data": {
      "text/plain": [
       "14.0"
      ]
     },
     "execution_count": 86,
     "metadata": {},
     "output_type": "execute_result"
    }
   ],
   "source": [
    "upper_limit"
   ]
  },
  {
   "cell_type": "code",
   "execution_count": 87,
   "metadata": {},
   "outputs": [],
   "source": [
    "#Since years of education can't be less than zero. lower limit is 0.\n",
    "df_edu_years=df_edu_years[df_edu_years.education_years>=0]\n",
    "df_edu_years=df_edu_years[df_edu_years.education_years<=upper_limit]"
   ]
  },
  {
   "cell_type": "code",
   "execution_count": 88,
   "metadata": {},
   "outputs": [
    {
     "data": {
      "text/plain": [
       "4.0     15042\n",
       "5.0     11892\n",
       "6.0     10378\n",
       "3.0      7611\n",
       "8.0      7220\n",
       "7.0      7081\n",
       "2.0      5956\n",
       "0.0      4860\n",
       "10.0     3978\n",
       "9.0      3857\n",
       "1.0      2343\n",
       "11.0     2197\n",
       "12.0     2190\n",
       "14.0     1215\n",
       "13.0     1129\n",
       "Name: education_years, dtype: int64"
      ]
     },
     "execution_count": 88,
     "metadata": {},
     "output_type": "execute_result"
    }
   ],
   "source": [
    "#Les check the typical yers of education.\n",
    "df_edu_years.education_years.value_counts()"
   ]
  },
  {
   "cell_type": "code",
   "execution_count": 89,
   "metadata": {},
   "outputs": [
    {
     "data": {
      "text/html": [
       "<div>\n",
       "<style scoped>\n",
       "    .dataframe tbody tr th:only-of-type {\n",
       "        vertical-align: middle;\n",
       "    }\n",
       "\n",
       "    .dataframe tbody tr th {\n",
       "        vertical-align: top;\n",
       "    }\n",
       "\n",
       "    .dataframe thead th {\n",
       "        text-align: right;\n",
       "    }\n",
       "</style>\n",
       "<table border=\"1\" class=\"dataframe\">\n",
       "  <thead>\n",
       "    <tr style=\"text-align: right;\">\n",
       "      <th></th>\n",
       "      <th>education_years</th>\n",
       "    </tr>\n",
       "    <tr>\n",
       "      <th>user_id</th>\n",
       "      <th></th>\n",
       "    </tr>\n",
       "  </thead>\n",
       "  <tbody>\n",
       "    <tr>\n",
       "      <th>++5SW5MI5/h8X1hMA3QnmQ4ZM3TcQvn1bQ/jHgHWG0kf/bHrn17MPg==</th>\n",
       "      <td>4.0</td>\n",
       "    </tr>\n",
       "    <tr>\n",
       "      <th>++5qk2+uEmkI/3Z4FrBwDw4ZM3TcQvn1bQ/jHgHWG0kf/bHrn17MPg==</th>\n",
       "      <td>8.0</td>\n",
       "    </tr>\n",
       "    <tr>\n",
       "      <th>++6+hv3i5RAVsrWO8q5JEQ5+2cvffV/mNepQVJd0smgtpBr4MGMFJQ==</th>\n",
       "      <td>3.0</td>\n",
       "    </tr>\n",
       "    <tr>\n",
       "      <th>++6zEVtPCi83vpPTHSY2Vg5+2cvffV/mNepQVJd0smgtpBr4MGMFJQ==</th>\n",
       "      <td>5.0</td>\n",
       "    </tr>\n",
       "    <tr>\n",
       "      <th>++7kB6m0hI1TgAPmyY1X6A5+2cvffV/mNepQVJd0smgtpBr4MGMFJQ==</th>\n",
       "      <td>2.0</td>\n",
       "    </tr>\n",
       "  </tbody>\n",
       "</table>\n",
       "</div>"
      ],
      "text/plain": [
       "                                                    education_years\n",
       "user_id                                                            \n",
       "++5SW5MI5/h8X1hMA3QnmQ4ZM3TcQvn1bQ/jHgHWG0kf/bH...              4.0\n",
       "++5qk2+uEmkI/3Z4FrBwDw4ZM3TcQvn1bQ/jHgHWG0kf/bH...              8.0\n",
       "++6+hv3i5RAVsrWO8q5JEQ5+2cvffV/mNepQVJd0smgtpBr...              3.0\n",
       "++6zEVtPCi83vpPTHSY2Vg5+2cvffV/mNepQVJd0smgtpBr...              5.0\n",
       "++7kB6m0hI1TgAPmyY1X6A5+2cvffV/mNepQVJd0smgtpBr...              2.0"
      ]
     },
     "execution_count": 89,
     "metadata": {},
     "output_type": "execute_result"
    }
   ],
   "source": [
    "#Check our final education data\n",
    "df_edu_years.head()"
   ]
  },
  {
   "cell_type": "code",
   "execution_count": 90,
   "metadata": {},
   "outputs": [
    {
     "data": {
      "text/plain": [
       "(86949, 1)"
      ]
     },
     "execution_count": 90,
     "metadata": {},
     "output_type": "execute_result"
    }
   ],
   "source": [
    "df_edu_years.shape"
   ]
  },
  {
   "cell_type": "markdown",
   "metadata": {},
   "source": [
    "## Job Title Seniority"
   ]
  },
  {
   "cell_type": "code",
   "execution_count": 91,
   "metadata": {},
   "outputs": [],
   "source": [
    "#Import jobtitle_seniority\n",
    "url=\"https://info0.s3.us-east-2.amazonaws.com/recruitment/jobtitle_seniority.csv\"\n",
    "df_jobtitle_senority=pd.read_csv(url)"
   ]
  },
  {
   "cell_type": "code",
   "execution_count": 92,
   "metadata": {},
   "outputs": [
    {
     "data": {
      "text/html": [
       "<div>\n",
       "<style scoped>\n",
       "    .dataframe tbody tr th:only-of-type {\n",
       "        vertical-align: middle;\n",
       "    }\n",
       "\n",
       "    .dataframe tbody tr th {\n",
       "        vertical-align: top;\n",
       "    }\n",
       "\n",
       "    .dataframe thead th {\n",
       "        text-align: right;\n",
       "    }\n",
       "</style>\n",
       "<table border=\"1\" class=\"dataframe\">\n",
       "  <thead>\n",
       "    <tr style=\"text-align: right;\">\n",
       "      <th></th>\n",
       "      <th>user_id</th>\n",
       "      <th>jobtitle</th>\n",
       "      <th>seniority</th>\n",
       "    </tr>\n",
       "  </thead>\n",
       "  <tbody>\n",
       "    <tr>\n",
       "      <th>0</th>\n",
       "      <td>SbYa9XFYmy40AbpQIbr4cw5+2cvffV/mNepQVJd0smgtpB...</td>\n",
       "      <td>ict_manager</td>\n",
       "      <td>5.181348</td>\n",
       "    </tr>\n",
       "    <tr>\n",
       "      <th>1</th>\n",
       "      <td>5NTieg1m6jKFiY8Py3K+2jr+/k0/DTn/+K+fv+DIJSUQ20...</td>\n",
       "      <td>emergency_room_physician_assistant_banner_chur...</td>\n",
       "      <td>2.866780</td>\n",
       "    </tr>\n",
       "    <tr>\n",
       "      <th>2</th>\n",
       "      <td>R58XldIpOAmT8Tt3/x+2/w5+2cvffV/mNepQVJd0smgtpB...</td>\n",
       "      <td>marketing_promotions</td>\n",
       "      <td>3.559404</td>\n",
       "    </tr>\n",
       "    <tr>\n",
       "      <th>3</th>\n",
       "      <td>Ks30ggQyMuLYOykWc4EoXGEWBgzjpZvPNepQVJd0smgtpB...</td>\n",
       "      <td>central_billing_assistant_development_manager</td>\n",
       "      <td>4.175832</td>\n",
       "    </tr>\n",
       "    <tr>\n",
       "      <th>4</th>\n",
       "      <td>MLsEj4gLE8oHM+mWTMnRMg5+2cvffV/mNepQVJd0smgtpB...</td>\n",
       "      <td>navegador</td>\n",
       "      <td>3.767998</td>\n",
       "    </tr>\n",
       "  </tbody>\n",
       "</table>\n",
       "</div>"
      ],
      "text/plain": [
       "                                             user_id  \\\n",
       "0  SbYa9XFYmy40AbpQIbr4cw5+2cvffV/mNepQVJd0smgtpB...   \n",
       "1  5NTieg1m6jKFiY8Py3K+2jr+/k0/DTn/+K+fv+DIJSUQ20...   \n",
       "2  R58XldIpOAmT8Tt3/x+2/w5+2cvffV/mNepQVJd0smgtpB...   \n",
       "3  Ks30ggQyMuLYOykWc4EoXGEWBgzjpZvPNepQVJd0smgtpB...   \n",
       "4  MLsEj4gLE8oHM+mWTMnRMg5+2cvffV/mNepQVJd0smgtpB...   \n",
       "\n",
       "                                            jobtitle  seniority  \n",
       "0                                        ict_manager   5.181348  \n",
       "1  emergency_room_physician_assistant_banner_chur...   2.866780  \n",
       "2                               marketing_promotions   3.559404  \n",
       "3      central_billing_assistant_development_manager   4.175832  \n",
       "4                                          navegador   3.767998  "
      ]
     },
     "execution_count": 92,
     "metadata": {},
     "output_type": "execute_result"
    }
   ],
   "source": [
    "df_jobtitle_senority.head()"
   ]
  },
  {
   "cell_type": "code",
   "execution_count": 93,
   "metadata": {},
   "outputs": [
    {
     "data": {
      "text/plain": [
       "(416295, 3)"
      ]
     },
     "execution_count": 93,
     "metadata": {},
     "output_type": "execute_result"
    }
   ],
   "source": [
    "df_jobtitle_senority.shape"
   ]
  },
  {
   "cell_type": "code",
   "execution_count": 94,
   "metadata": {},
   "outputs": [
    {
     "data": {
      "text/plain": [
       "user_id         0\n",
       "jobtitle     2005\n",
       "seniority       0\n",
       "dtype: int64"
      ]
     },
     "execution_count": 94,
     "metadata": {},
     "output_type": "execute_result"
    }
   ],
   "source": [
    "np.sum(df_jobtitle_senority.isna())"
   ]
  },
  {
   "cell_type": "markdown",
   "metadata": {},
   "source": [
    "## Merge Position and Seniority Level"
   ]
  },
  {
   "cell_type": "code",
   "execution_count": 95,
   "metadata": {},
   "outputs": [
    {
     "data": {
      "text/html": [
       "<div>\n",
       "<style scoped>\n",
       "    .dataframe tbody tr th:only-of-type {\n",
       "        vertical-align: middle;\n",
       "    }\n",
       "\n",
       "    .dataframe tbody tr th {\n",
       "        vertical-align: top;\n",
       "    }\n",
       "\n",
       "    .dataframe thead th {\n",
       "        text-align: right;\n",
       "    }\n",
       "</style>\n",
       "<table border=\"1\" class=\"dataframe\">\n",
       "  <thead>\n",
       "    <tr style=\"text-align: right;\">\n",
       "      <th></th>\n",
       "      <th>user_id</th>\n",
       "      <th>jobtitle</th>\n",
       "      <th>seniority</th>\n",
       "      <th>startdate</th>\n",
       "      <th>enddate</th>\n",
       "    </tr>\n",
       "  </thead>\n",
       "  <tbody>\n",
       "    <tr>\n",
       "      <th>0</th>\n",
       "      <td>SbYa9XFYmy40AbpQIbr4cw5+2cvffV/mNepQVJd0smgtpB...</td>\n",
       "      <td>ict_manager</td>\n",
       "      <td>5.181348</td>\n",
       "      <td>2017-01-01</td>\n",
       "      <td>NaN</td>\n",
       "    </tr>\n",
       "    <tr>\n",
       "      <th>1</th>\n",
       "      <td>5NTieg1m6jKFiY8Py3K+2jr+/k0/DTn/+K+fv+DIJSUQ20...</td>\n",
       "      <td>emergency_room_physician_assistant_banner_chur...</td>\n",
       "      <td>2.866780</td>\n",
       "      <td>2013-01-01</td>\n",
       "      <td>2013-11-01</td>\n",
       "    </tr>\n",
       "    <tr>\n",
       "      <th>2</th>\n",
       "      <td>R58XldIpOAmT8Tt3/x+2/w5+2cvffV/mNepQVJd0smgtpB...</td>\n",
       "      <td>marketing_promotions</td>\n",
       "      <td>3.559404</td>\n",
       "      <td>1990-01-01</td>\n",
       "      <td>1996-01-01</td>\n",
       "    </tr>\n",
       "    <tr>\n",
       "      <th>3</th>\n",
       "      <td>Ks30ggQyMuLYOykWc4EoXGEWBgzjpZvPNepQVJd0smgtpB...</td>\n",
       "      <td>central_billing_assistant_development_manager</td>\n",
       "      <td>4.175832</td>\n",
       "      <td>2008-09-01</td>\n",
       "      <td>2011-06-01</td>\n",
       "    </tr>\n",
       "    <tr>\n",
       "      <th>4</th>\n",
       "      <td>MLsEj4gLE8oHM+mWTMnRMg5+2cvffV/mNepQVJd0smgtpB...</td>\n",
       "      <td>navegador</td>\n",
       "      <td>3.767998</td>\n",
       "      <td>2000-03-01</td>\n",
       "      <td>NaN</td>\n",
       "    </tr>\n",
       "    <tr>\n",
       "      <th>...</th>\n",
       "      <td>...</td>\n",
       "      <td>...</td>\n",
       "      <td>...</td>\n",
       "      <td>...</td>\n",
       "      <td>...</td>\n",
       "    </tr>\n",
       "    <tr>\n",
       "      <th>447884</th>\n",
       "      <td>JCTVICf4OMLB8+5ExhH0UA5+2cvffV/mNepQVJd0smgtpB...</td>\n",
       "      <td>mission_de_recherche_documentaire_en_cinéma_po...</td>\n",
       "      <td>NaN</td>\n",
       "      <td>2014-10-01</td>\n",
       "      <td>2014-12-01</td>\n",
       "    </tr>\n",
       "    <tr>\n",
       "      <th>447885</th>\n",
       "      <td>OCwWc4skdHzrbG+Ff3goAQ5+2cvffV/mNepQVJd0smgtpB...</td>\n",
       "      <td>çukurova_region_manager_|_farming</td>\n",
       "      <td>NaN</td>\n",
       "      <td>2014-10-01</td>\n",
       "      <td>NaN</td>\n",
       "    </tr>\n",
       "    <tr>\n",
       "      <th>447886</th>\n",
       "      <td>/q8kbGxmi5VrWb3RCGYqYw5+2cvffV/mNepQVJd0smgtpB...</td>\n",
       "      <td>intern_chief</td>\n",
       "      <td>NaN</td>\n",
       "      <td>2018-06-01</td>\n",
       "      <td>NaN</td>\n",
       "    </tr>\n",
       "    <tr>\n",
       "      <th>447887</th>\n",
       "      <td>rYWuo2ENnkpSiJthsVNVeg5+2cvffV/mNepQVJd0smgtpB...</td>\n",
       "      <td>academic_officer_head_central_pharmaceuticals_...</td>\n",
       "      <td>NaN</td>\n",
       "      <td>2007-10-01</td>\n",
       "      <td>2009-11-01</td>\n",
       "    </tr>\n",
       "    <tr>\n",
       "      <th>447888</th>\n",
       "      <td>5JMGpQSvieyReGdYIeGUmA5+2cvffV/mNepQVJd0smgtpB...</td>\n",
       "      <td>co_owner</td>\n",
       "      <td>NaN</td>\n",
       "      <td>1998-01-01</td>\n",
       "      <td>2008-11-01</td>\n",
       "    </tr>\n",
       "  </tbody>\n",
       "</table>\n",
       "<p>447889 rows × 5 columns</p>\n",
       "</div>"
      ],
      "text/plain": [
       "                                                  user_id  \\\n",
       "0       SbYa9XFYmy40AbpQIbr4cw5+2cvffV/mNepQVJd0smgtpB...   \n",
       "1       5NTieg1m6jKFiY8Py3K+2jr+/k0/DTn/+K+fv+DIJSUQ20...   \n",
       "2       R58XldIpOAmT8Tt3/x+2/w5+2cvffV/mNepQVJd0smgtpB...   \n",
       "3       Ks30ggQyMuLYOykWc4EoXGEWBgzjpZvPNepQVJd0smgtpB...   \n",
       "4       MLsEj4gLE8oHM+mWTMnRMg5+2cvffV/mNepQVJd0smgtpB...   \n",
       "...                                                   ...   \n",
       "447884  JCTVICf4OMLB8+5ExhH0UA5+2cvffV/mNepQVJd0smgtpB...   \n",
       "447885  OCwWc4skdHzrbG+Ff3goAQ5+2cvffV/mNepQVJd0smgtpB...   \n",
       "447886  /q8kbGxmi5VrWb3RCGYqYw5+2cvffV/mNepQVJd0smgtpB...   \n",
       "447887  rYWuo2ENnkpSiJthsVNVeg5+2cvffV/mNepQVJd0smgtpB...   \n",
       "447888  5JMGpQSvieyReGdYIeGUmA5+2cvffV/mNepQVJd0smgtpB...   \n",
       "\n",
       "                                                 jobtitle  seniority  \\\n",
       "0                                             ict_manager   5.181348   \n",
       "1       emergency_room_physician_assistant_banner_chur...   2.866780   \n",
       "2                                    marketing_promotions   3.559404   \n",
       "3           central_billing_assistant_development_manager   4.175832   \n",
       "4                                               navegador   3.767998   \n",
       "...                                                   ...        ...   \n",
       "447884  mission_de_recherche_documentaire_en_cinéma_po...        NaN   \n",
       "447885                  çukurova_region_manager_|_farming        NaN   \n",
       "447886                                       intern_chief        NaN   \n",
       "447887  academic_officer_head_central_pharmaceuticals_...        NaN   \n",
       "447888                                           co_owner        NaN   \n",
       "\n",
       "         startdate     enddate  \n",
       "0       2017-01-01         NaN  \n",
       "1       2013-01-01  2013-11-01  \n",
       "2       1990-01-01  1996-01-01  \n",
       "3       2008-09-01  2011-06-01  \n",
       "4       2000-03-01         NaN  \n",
       "...            ...         ...  \n",
       "447884  2014-10-01  2014-12-01  \n",
       "447885  2014-10-01         NaN  \n",
       "447886  2018-06-01         NaN  \n",
       "447887  2007-10-01  2009-11-01  \n",
       "447888  1998-01-01  2008-11-01  \n",
       "\n",
       "[447889 rows x 5 columns]"
      ]
     },
     "execution_count": 95,
     "metadata": {},
     "output_type": "execute_result"
    }
   ],
   "source": [
    "pd.merge(df_jobtitle_senority,df_position,on=['user_id','jobtitle'],how='outer')"
   ]
  },
  {
   "cell_type": "code",
   "execution_count": 96,
   "metadata": {},
   "outputs": [],
   "source": [
    "df_jobtitle_position=pd.merge(df_jobtitle_senority,df_position,on=['user_id','jobtitle'],how='outer')"
   ]
  },
  {
   "cell_type": "code",
   "execution_count": 97,
   "metadata": {},
   "outputs": [
    {
     "data": {
      "text/html": [
       "<div>\n",
       "<style scoped>\n",
       "    .dataframe tbody tr th:only-of-type {\n",
       "        vertical-align: middle;\n",
       "    }\n",
       "\n",
       "    .dataframe tbody tr th {\n",
       "        vertical-align: top;\n",
       "    }\n",
       "\n",
       "    .dataframe thead th {\n",
       "        text-align: right;\n",
       "    }\n",
       "</style>\n",
       "<table border=\"1\" class=\"dataframe\">\n",
       "  <thead>\n",
       "    <tr style=\"text-align: right;\">\n",
       "      <th></th>\n",
       "      <th>user_id</th>\n",
       "      <th>jobtitle</th>\n",
       "      <th>seniority</th>\n",
       "      <th>startdate</th>\n",
       "      <th>enddate</th>\n",
       "    </tr>\n",
       "  </thead>\n",
       "  <tbody>\n",
       "    <tr>\n",
       "      <th>0</th>\n",
       "      <td>SbYa9XFYmy40AbpQIbr4cw5+2cvffV/mNepQVJd0smgtpB...</td>\n",
       "      <td>ict_manager</td>\n",
       "      <td>5.181348</td>\n",
       "      <td>2017-01-01</td>\n",
       "      <td>NaN</td>\n",
       "    </tr>\n",
       "    <tr>\n",
       "      <th>1</th>\n",
       "      <td>5NTieg1m6jKFiY8Py3K+2jr+/k0/DTn/+K+fv+DIJSUQ20...</td>\n",
       "      <td>emergency_room_physician_assistant_banner_chur...</td>\n",
       "      <td>2.866780</td>\n",
       "      <td>2013-01-01</td>\n",
       "      <td>2013-11-01</td>\n",
       "    </tr>\n",
       "    <tr>\n",
       "      <th>2</th>\n",
       "      <td>R58XldIpOAmT8Tt3/x+2/w5+2cvffV/mNepQVJd0smgtpB...</td>\n",
       "      <td>marketing_promotions</td>\n",
       "      <td>3.559404</td>\n",
       "      <td>1990-01-01</td>\n",
       "      <td>1996-01-01</td>\n",
       "    </tr>\n",
       "    <tr>\n",
       "      <th>3</th>\n",
       "      <td>Ks30ggQyMuLYOykWc4EoXGEWBgzjpZvPNepQVJd0smgtpB...</td>\n",
       "      <td>central_billing_assistant_development_manager</td>\n",
       "      <td>4.175832</td>\n",
       "      <td>2008-09-01</td>\n",
       "      <td>2011-06-01</td>\n",
       "    </tr>\n",
       "    <tr>\n",
       "      <th>4</th>\n",
       "      <td>MLsEj4gLE8oHM+mWTMnRMg5+2cvffV/mNepQVJd0smgtpB...</td>\n",
       "      <td>navegador</td>\n",
       "      <td>3.767998</td>\n",
       "      <td>2000-03-01</td>\n",
       "      <td>NaN</td>\n",
       "    </tr>\n",
       "  </tbody>\n",
       "</table>\n",
       "</div>"
      ],
      "text/plain": [
       "                                             user_id  \\\n",
       "0  SbYa9XFYmy40AbpQIbr4cw5+2cvffV/mNepQVJd0smgtpB...   \n",
       "1  5NTieg1m6jKFiY8Py3K+2jr+/k0/DTn/+K+fv+DIJSUQ20...   \n",
       "2  R58XldIpOAmT8Tt3/x+2/w5+2cvffV/mNepQVJd0smgtpB...   \n",
       "3  Ks30ggQyMuLYOykWc4EoXGEWBgzjpZvPNepQVJd0smgtpB...   \n",
       "4  MLsEj4gLE8oHM+mWTMnRMg5+2cvffV/mNepQVJd0smgtpB...   \n",
       "\n",
       "                                            jobtitle  seniority   startdate  \\\n",
       "0                                        ict_manager   5.181348  2017-01-01   \n",
       "1  emergency_room_physician_assistant_banner_chur...   2.866780  2013-01-01   \n",
       "2                               marketing_promotions   3.559404  1990-01-01   \n",
       "3      central_billing_assistant_development_manager   4.175832  2008-09-01   \n",
       "4                                          navegador   3.767998  2000-03-01   \n",
       "\n",
       "      enddate  \n",
       "0         NaN  \n",
       "1  2013-11-01  \n",
       "2  1996-01-01  \n",
       "3  2011-06-01  \n",
       "4         NaN  "
      ]
     },
     "execution_count": 97,
     "metadata": {},
     "output_type": "execute_result"
    }
   ],
   "source": [
    "df_jobtitle_position.head()"
   ]
  },
  {
   "cell_type": "code",
   "execution_count": 98,
   "metadata": {},
   "outputs": [
    {
     "data": {
      "text/plain": [
       "(447889, 5)"
      ]
     },
     "execution_count": 98,
     "metadata": {},
     "output_type": "execute_result"
    }
   ],
   "source": [
    "#Check Shape\n",
    "df_jobtitle_position.shape"
   ]
  },
  {
   "cell_type": "code",
   "execution_count": 99,
   "metadata": {},
   "outputs": [
    {
     "data": {
      "text/plain": [
       "user_id           0\n",
       "jobtitle       2540\n",
       "seniority      8805\n",
       "startdate     79363\n",
       "enddate      177535\n",
       "dtype: int64"
      ]
     },
     "execution_count": 99,
     "metadata": {},
     "output_type": "execute_result"
    }
   ],
   "source": [
    "#Check Count of Missing Values\n",
    "np.sum(df_jobtitle_position.isna())"
   ]
  },
  {
   "cell_type": "markdown",
   "metadata": {},
   "source": [
    "### Drop rows where jobtitile,startdate and enddate is missing."
   ]
  },
  {
   "cell_type": "code",
   "execution_count": 100,
   "metadata": {},
   "outputs": [
    {
     "data": {
      "text/html": [
       "<div>\n",
       "<style scoped>\n",
       "    .dataframe tbody tr th:only-of-type {\n",
       "        vertical-align: middle;\n",
       "    }\n",
       "\n",
       "    .dataframe tbody tr th {\n",
       "        vertical-align: top;\n",
       "    }\n",
       "\n",
       "    .dataframe thead th {\n",
       "        text-align: right;\n",
       "    }\n",
       "</style>\n",
       "<table border=\"1\" class=\"dataframe\">\n",
       "  <thead>\n",
       "    <tr style=\"text-align: right;\">\n",
       "      <th></th>\n",
       "      <th>user_id</th>\n",
       "      <th>jobtitle</th>\n",
       "      <th>seniority</th>\n",
       "      <th>startdate</th>\n",
       "      <th>enddate</th>\n",
       "    </tr>\n",
       "  </thead>\n",
       "  <tbody>\n",
       "    <tr>\n",
       "      <th>91173</th>\n",
       "      <td>hQ3zf+SyzbtujJmXhml+A7E8KztNWz3qNepQVJd0smgtpB...</td>\n",
       "      <td>NaN</td>\n",
       "      <td>4.307247</td>\n",
       "      <td>NaN</td>\n",
       "      <td>NaN</td>\n",
       "    </tr>\n",
       "    <tr>\n",
       "      <th>91174</th>\n",
       "      <td>S76Bs9K9sWduLop2L7kYJHAG1BvSkUYANepQVJd0smgtpB...</td>\n",
       "      <td>NaN</td>\n",
       "      <td>4.307247</td>\n",
       "      <td>NaN</td>\n",
       "      <td>NaN</td>\n",
       "    </tr>\n",
       "    <tr>\n",
       "      <th>91177</th>\n",
       "      <td>nZg33AJaiJveETDVOfVQNWPJk/UbaWlNNepQVJd0smgtpB...</td>\n",
       "      <td>NaN</td>\n",
       "      <td>4.307247</td>\n",
       "      <td>NaN</td>\n",
       "      <td>NaN</td>\n",
       "    </tr>\n",
       "    <tr>\n",
       "      <th>91178</th>\n",
       "      <td>O/UtXrbsgViUYg64VkYVDLE8KztNWz3qNepQVJd0smgtpB...</td>\n",
       "      <td>NaN</td>\n",
       "      <td>4.307247</td>\n",
       "      <td>NaN</td>\n",
       "      <td>NaN</td>\n",
       "    </tr>\n",
       "    <tr>\n",
       "      <th>91179</th>\n",
       "      <td>e/SUr1SWoMYlWK3d2M9TFXAG1BvSkUYANepQVJd0smgtpB...</td>\n",
       "      <td>NaN</td>\n",
       "      <td>4.307247</td>\n",
       "      <td>NaN</td>\n",
       "      <td>NaN</td>\n",
       "    </tr>\n",
       "    <tr>\n",
       "      <th>...</th>\n",
       "      <td>...</td>\n",
       "      <td>...</td>\n",
       "      <td>...</td>\n",
       "      <td>...</td>\n",
       "      <td>...</td>\n",
       "    </tr>\n",
       "    <tr>\n",
       "      <th>438820</th>\n",
       "      <td>Zplm8C2GANXvVMEmK5zUUnAG1BvSkUYANepQVJd0smgtpB...</td>\n",
       "      <td>NaN</td>\n",
       "      <td>4.307247</td>\n",
       "      <td>NaN</td>\n",
       "      <td>NaN</td>\n",
       "    </tr>\n",
       "    <tr>\n",
       "      <th>438821</th>\n",
       "      <td>K4sulcapUzamBK2HkAJBfXAG1BvSkUYANepQVJd0smgtpB...</td>\n",
       "      <td>NaN</td>\n",
       "      <td>4.307247</td>\n",
       "      <td>NaN</td>\n",
       "      <td>NaN</td>\n",
       "    </tr>\n",
       "    <tr>\n",
       "      <th>438822</th>\n",
       "      <td>ZE9x3TYkf4CBobmfgVUARA4ZM3TcQvn1bQ/jHgHWG0kf/b...</td>\n",
       "      <td>NaN</td>\n",
       "      <td>4.307247</td>\n",
       "      <td>NaN</td>\n",
       "      <td>NaN</td>\n",
       "    </tr>\n",
       "    <tr>\n",
       "      <th>438823</th>\n",
       "      <td>sPOapJvjpb2kV6VGFUCF5rE8KztNWz3qNepQVJd0smgtpB...</td>\n",
       "      <td>NaN</td>\n",
       "      <td>4.307247</td>\n",
       "      <td>NaN</td>\n",
       "      <td>NaN</td>\n",
       "    </tr>\n",
       "    <tr>\n",
       "      <th>438825</th>\n",
       "      <td>IbQ85I4ihAwPDZg098L60g4ZM3TcQvn1bQ/jHgHWG0kf/b...</td>\n",
       "      <td>NaN</td>\n",
       "      <td>4.307247</td>\n",
       "      <td>NaN</td>\n",
       "      <td>NaN</td>\n",
       "    </tr>\n",
       "  </tbody>\n",
       "</table>\n",
       "<p>1263 rows × 5 columns</p>\n",
       "</div>"
      ],
      "text/plain": [
       "                                                  user_id jobtitle  seniority  \\\n",
       "91173   hQ3zf+SyzbtujJmXhml+A7E8KztNWz3qNepQVJd0smgtpB...      NaN   4.307247   \n",
       "91174   S76Bs9K9sWduLop2L7kYJHAG1BvSkUYANepQVJd0smgtpB...      NaN   4.307247   \n",
       "91177   nZg33AJaiJveETDVOfVQNWPJk/UbaWlNNepQVJd0smgtpB...      NaN   4.307247   \n",
       "91178   O/UtXrbsgViUYg64VkYVDLE8KztNWz3qNepQVJd0smgtpB...      NaN   4.307247   \n",
       "91179   e/SUr1SWoMYlWK3d2M9TFXAG1BvSkUYANepQVJd0smgtpB...      NaN   4.307247   \n",
       "...                                                   ...      ...        ...   \n",
       "438820  Zplm8C2GANXvVMEmK5zUUnAG1BvSkUYANepQVJd0smgtpB...      NaN   4.307247   \n",
       "438821  K4sulcapUzamBK2HkAJBfXAG1BvSkUYANepQVJd0smgtpB...      NaN   4.307247   \n",
       "438822  ZE9x3TYkf4CBobmfgVUARA4ZM3TcQvn1bQ/jHgHWG0kf/b...      NaN   4.307247   \n",
       "438823  sPOapJvjpb2kV6VGFUCF5rE8KztNWz3qNepQVJd0smgtpB...      NaN   4.307247   \n",
       "438825  IbQ85I4ihAwPDZg098L60g4ZM3TcQvn1bQ/jHgHWG0kf/b...      NaN   4.307247   \n",
       "\n",
       "       startdate enddate  \n",
       "91173        NaN     NaN  \n",
       "91174        NaN     NaN  \n",
       "91177        NaN     NaN  \n",
       "91178        NaN     NaN  \n",
       "91179        NaN     NaN  \n",
       "...          ...     ...  \n",
       "438820       NaN     NaN  \n",
       "438821       NaN     NaN  \n",
       "438822       NaN     NaN  \n",
       "438823       NaN     NaN  \n",
       "438825       NaN     NaN  \n",
       "\n",
       "[1263 rows x 5 columns]"
      ]
     },
     "execution_count": 100,
     "metadata": {},
     "output_type": "execute_result"
    }
   ],
   "source": [
    "df_jobtitle_position[df_jobtitle_position[['jobtitle','startdate','enddate']].isna().apply(lambda x: all(x), axis=1)]"
   ]
  },
  {
   "cell_type": "code",
   "execution_count": 101,
   "metadata": {},
   "outputs": [],
   "source": [
    "#Drop rows where jobtitile,startdate and enddate is missing.\n",
    "df_jobtitle_position=df_jobtitle_position.dropna(subset=['jobtitle','startdate','enddate'],how='all')"
   ]
  },
  {
   "cell_type": "code",
   "execution_count": 102,
   "metadata": {},
   "outputs": [
    {
     "data": {
      "text/plain": [
       "(446626, 5)"
      ]
     },
     "execution_count": 102,
     "metadata": {},
     "output_type": "execute_result"
    }
   ],
   "source": [
    "df_jobtitle_position.shape"
   ]
  },
  {
   "cell_type": "code",
   "execution_count": 103,
   "metadata": {},
   "outputs": [
    {
     "data": {
      "text/plain": [
       "user_id           0\n",
       "jobtitle       1277\n",
       "seniority      8805\n",
       "startdate     78100\n",
       "enddate      176272\n",
       "dtype: int64"
      ]
     },
     "execution_count": 103,
     "metadata": {},
     "output_type": "execute_result"
    }
   ],
   "source": [
    "np.sum(df_jobtitle_position.isna())"
   ]
  },
  {
   "cell_type": "markdown",
   "metadata": {},
   "source": [
    "### Drop rows where start date is missing."
   ]
  },
  {
   "cell_type": "code",
   "execution_count": 104,
   "metadata": {},
   "outputs": [],
   "source": [
    "df_jobtitle_position=df_jobtitle_position.dropna(subset=['startdate'])"
   ]
  },
  {
   "cell_type": "code",
   "execution_count": 105,
   "metadata": {},
   "outputs": [
    {
     "data": {
      "text/plain": [
       "(368526, 5)"
      ]
     },
     "execution_count": 105,
     "metadata": {},
     "output_type": "execute_result"
    }
   ],
   "source": [
    "df_jobtitle_position.shape"
   ]
  },
  {
   "cell_type": "code",
   "execution_count": 106,
   "metadata": {},
   "outputs": [
    {
     "data": {
      "text/plain": [
       "user_id          0\n",
       "jobtitle      1277\n",
       "seniority     8805\n",
       "startdate        0\n",
       "enddate      98221\n",
       "dtype: int64"
      ]
     },
     "execution_count": 106,
     "metadata": {},
     "output_type": "execute_result"
    }
   ],
   "source": [
    "np.sum(df_jobtitle_position.isna())"
   ]
  },
  {
   "cell_type": "code",
   "execution_count": 107,
   "metadata": {},
   "outputs": [
    {
     "data": {
      "text/html": [
       "<div>\n",
       "<style scoped>\n",
       "    .dataframe tbody tr th:only-of-type {\n",
       "        vertical-align: middle;\n",
       "    }\n",
       "\n",
       "    .dataframe tbody tr th {\n",
       "        vertical-align: top;\n",
       "    }\n",
       "\n",
       "    .dataframe thead th {\n",
       "        text-align: right;\n",
       "    }\n",
       "</style>\n",
       "<table border=\"1\" class=\"dataframe\">\n",
       "  <thead>\n",
       "    <tr style=\"text-align: right;\">\n",
       "      <th></th>\n",
       "      <th>user_id</th>\n",
       "      <th>jobtitle</th>\n",
       "      <th>seniority</th>\n",
       "      <th>startdate</th>\n",
       "      <th>enddate</th>\n",
       "    </tr>\n",
       "  </thead>\n",
       "  <tbody>\n",
       "    <tr>\n",
       "      <th>0</th>\n",
       "      <td>SbYa9XFYmy40AbpQIbr4cw5+2cvffV/mNepQVJd0smgtpB...</td>\n",
       "      <td>ict_manager</td>\n",
       "      <td>5.181348</td>\n",
       "      <td>2017-01-01</td>\n",
       "      <td>NaN</td>\n",
       "    </tr>\n",
       "    <tr>\n",
       "      <th>1</th>\n",
       "      <td>5NTieg1m6jKFiY8Py3K+2jr+/k0/DTn/+K+fv+DIJSUQ20...</td>\n",
       "      <td>emergency_room_physician_assistant_banner_chur...</td>\n",
       "      <td>2.866780</td>\n",
       "      <td>2013-01-01</td>\n",
       "      <td>2013-11-01</td>\n",
       "    </tr>\n",
       "    <tr>\n",
       "      <th>2</th>\n",
       "      <td>R58XldIpOAmT8Tt3/x+2/w5+2cvffV/mNepQVJd0smgtpB...</td>\n",
       "      <td>marketing_promotions</td>\n",
       "      <td>3.559404</td>\n",
       "      <td>1990-01-01</td>\n",
       "      <td>1996-01-01</td>\n",
       "    </tr>\n",
       "    <tr>\n",
       "      <th>3</th>\n",
       "      <td>Ks30ggQyMuLYOykWc4EoXGEWBgzjpZvPNepQVJd0smgtpB...</td>\n",
       "      <td>central_billing_assistant_development_manager</td>\n",
       "      <td>4.175832</td>\n",
       "      <td>2008-09-01</td>\n",
       "      <td>2011-06-01</td>\n",
       "    </tr>\n",
       "    <tr>\n",
       "      <th>4</th>\n",
       "      <td>MLsEj4gLE8oHM+mWTMnRMg5+2cvffV/mNepQVJd0smgtpB...</td>\n",
       "      <td>navegador</td>\n",
       "      <td>3.767998</td>\n",
       "      <td>2000-03-01</td>\n",
       "      <td>NaN</td>\n",
       "    </tr>\n",
       "  </tbody>\n",
       "</table>\n",
       "</div>"
      ],
      "text/plain": [
       "                                             user_id  \\\n",
       "0  SbYa9XFYmy40AbpQIbr4cw5+2cvffV/mNepQVJd0smgtpB...   \n",
       "1  5NTieg1m6jKFiY8Py3K+2jr+/k0/DTn/+K+fv+DIJSUQ20...   \n",
       "2  R58XldIpOAmT8Tt3/x+2/w5+2cvffV/mNepQVJd0smgtpB...   \n",
       "3  Ks30ggQyMuLYOykWc4EoXGEWBgzjpZvPNepQVJd0smgtpB...   \n",
       "4  MLsEj4gLE8oHM+mWTMnRMg5+2cvffV/mNepQVJd0smgtpB...   \n",
       "\n",
       "                                            jobtitle  seniority   startdate  \\\n",
       "0                                        ict_manager   5.181348  2017-01-01   \n",
       "1  emergency_room_physician_assistant_banner_chur...   2.866780  2013-01-01   \n",
       "2                               marketing_promotions   3.559404  1990-01-01   \n",
       "3      central_billing_assistant_development_manager   4.175832  2008-09-01   \n",
       "4                                          navegador   3.767998  2000-03-01   \n",
       "\n",
       "      enddate  \n",
       "0         NaN  \n",
       "1  2013-11-01  \n",
       "2  1996-01-01  \n",
       "3  2011-06-01  \n",
       "4         NaN  "
      ]
     },
     "execution_count": 107,
     "metadata": {},
     "output_type": "execute_result"
    }
   ],
   "source": [
    "df_jobtitle_position.head()"
   ]
  },
  {
   "cell_type": "markdown",
   "metadata": {},
   "source": [
    "### Now lets find out the users with missing End Date. Assuming this means users is currently working in this position. This may provide a good heuristic about age of the person if we include total year of education. We can not make this assumption about the users where there is no missing end date because it means either users have not updated their current role or they are retired. We will treat missing end date users as train data and users with non missing end dates as test data. "
   ]
  },
  {
   "cell_type": "code",
   "execution_count": 108,
   "metadata": {},
   "outputs": [
    {
     "data": {
      "text/plain": [
       "user_id          0\n",
       "jobtitle      1277\n",
       "seniority     8805\n",
       "startdate        0\n",
       "enddate      98221\n",
       "dtype: int64"
      ]
     },
     "execution_count": 108,
     "metadata": {},
     "output_type": "execute_result"
    }
   ],
   "source": [
    "np.sum(df_jobtitle_position.isna())"
   ]
  },
  {
   "cell_type": "code",
   "execution_count": 109,
   "metadata": {},
   "outputs": [
    {
     "data": {
      "text/html": [
       "<div>\n",
       "<style scoped>\n",
       "    .dataframe tbody tr th:only-of-type {\n",
       "        vertical-align: middle;\n",
       "    }\n",
       "\n",
       "    .dataframe tbody tr th {\n",
       "        vertical-align: top;\n",
       "    }\n",
       "\n",
       "    .dataframe thead th {\n",
       "        text-align: right;\n",
       "    }\n",
       "</style>\n",
       "<table border=\"1\" class=\"dataframe\">\n",
       "  <thead>\n",
       "    <tr style=\"text-align: right;\">\n",
       "      <th></th>\n",
       "      <th>user_id</th>\n",
       "      <th>jobtitle</th>\n",
       "      <th>seniority</th>\n",
       "      <th>startdate</th>\n",
       "      <th>enddate</th>\n",
       "    </tr>\n",
       "  </thead>\n",
       "  <tbody>\n",
       "    <tr>\n",
       "      <th>0</th>\n",
       "      <td>SbYa9XFYmy40AbpQIbr4cw5+2cvffV/mNepQVJd0smgtpB...</td>\n",
       "      <td>ict_manager</td>\n",
       "      <td>5.181348</td>\n",
       "      <td>2017-01-01</td>\n",
       "      <td>NaN</td>\n",
       "    </tr>\n",
       "    <tr>\n",
       "      <th>4</th>\n",
       "      <td>MLsEj4gLE8oHM+mWTMnRMg5+2cvffV/mNepQVJd0smgtpB...</td>\n",
       "      <td>navegador</td>\n",
       "      <td>3.767998</td>\n",
       "      <td>2000-03-01</td>\n",
       "      <td>NaN</td>\n",
       "    </tr>\n",
       "    <tr>\n",
       "      <th>6</th>\n",
       "      <td>8PIyD6H0uUaVw2xJbzOsNw4ZM3TcQvn1bQ/jHgHWG0kf/b...</td>\n",
       "      <td>inspector_contract</td>\n",
       "      <td>3.518455</td>\n",
       "      <td>2011-01-01</td>\n",
       "      <td>NaN</td>\n",
       "    </tr>\n",
       "    <tr>\n",
       "      <th>7</th>\n",
       "      <td>hnoZEnM4ZRQYFdCUIyyLYA5+2cvffV/mNepQVJd0smgtpB...</td>\n",
       "      <td>technical_compliance_manager_|_financial_services</td>\n",
       "      <td>5.208761</td>\n",
       "      <td>2017-11-01</td>\n",
       "      <td>NaN</td>\n",
       "    </tr>\n",
       "    <tr>\n",
       "      <th>10</th>\n",
       "      <td>z/zrOtw7haln9I1/X7SBrA5+2cvffV/mNepQVJd0smgtpB...</td>\n",
       "      <td>architect</td>\n",
       "      <td>6.949267</td>\n",
       "      <td>2010-09-01</td>\n",
       "      <td>NaN</td>\n",
       "    </tr>\n",
       "    <tr>\n",
       "      <th>...</th>\n",
       "      <td>...</td>\n",
       "      <td>...</td>\n",
       "      <td>...</td>\n",
       "      <td>...</td>\n",
       "      <td>...</td>\n",
       "    </tr>\n",
       "    <tr>\n",
       "      <th>447874</th>\n",
       "      <td>+337q2USs9hkiLlEsqhAvg5+2cvffV/mNepQVJd0smgtpB...</td>\n",
       "      <td>regional_sales_manager_|_financial_services</td>\n",
       "      <td>NaN</td>\n",
       "      <td>2015-11-01</td>\n",
       "      <td>NaN</td>\n",
       "    </tr>\n",
       "    <tr>\n",
       "      <th>447879</th>\n",
       "      <td>rYWuo2ENnkpSiJthsVNVeg5+2cvffV/mNepQVJd0smgtpB...</td>\n",
       "      <td>retail_pharmacist_|_hospital_health_care</td>\n",
       "      <td>NaN</td>\n",
       "      <td>2017-03-01</td>\n",
       "      <td>NaN</td>\n",
       "    </tr>\n",
       "    <tr>\n",
       "      <th>447880</th>\n",
       "      <td>HVYRooiApLViYTdkMceDCw5+2cvffV/mNepQVJd0smgtpB...</td>\n",
       "      <td>profesor_traductor_de_inglés</td>\n",
       "      <td>NaN</td>\n",
       "      <td>2014-01-01</td>\n",
       "      <td>NaN</td>\n",
       "    </tr>\n",
       "    <tr>\n",
       "      <th>447885</th>\n",
       "      <td>OCwWc4skdHzrbG+Ff3goAQ5+2cvffV/mNepQVJd0smgtpB...</td>\n",
       "      <td>çukurova_region_manager_|_farming</td>\n",
       "      <td>NaN</td>\n",
       "      <td>2014-10-01</td>\n",
       "      <td>NaN</td>\n",
       "    </tr>\n",
       "    <tr>\n",
       "      <th>447886</th>\n",
       "      <td>/q8kbGxmi5VrWb3RCGYqYw5+2cvffV/mNepQVJd0smgtpB...</td>\n",
       "      <td>intern_chief</td>\n",
       "      <td>NaN</td>\n",
       "      <td>2018-06-01</td>\n",
       "      <td>NaN</td>\n",
       "    </tr>\n",
       "  </tbody>\n",
       "</table>\n",
       "<p>98221 rows × 5 columns</p>\n",
       "</div>"
      ],
      "text/plain": [
       "                                                  user_id  \\\n",
       "0       SbYa9XFYmy40AbpQIbr4cw5+2cvffV/mNepQVJd0smgtpB...   \n",
       "4       MLsEj4gLE8oHM+mWTMnRMg5+2cvffV/mNepQVJd0smgtpB...   \n",
       "6       8PIyD6H0uUaVw2xJbzOsNw4ZM3TcQvn1bQ/jHgHWG0kf/b...   \n",
       "7       hnoZEnM4ZRQYFdCUIyyLYA5+2cvffV/mNepQVJd0smgtpB...   \n",
       "10      z/zrOtw7haln9I1/X7SBrA5+2cvffV/mNepQVJd0smgtpB...   \n",
       "...                                                   ...   \n",
       "447874  +337q2USs9hkiLlEsqhAvg5+2cvffV/mNepQVJd0smgtpB...   \n",
       "447879  rYWuo2ENnkpSiJthsVNVeg5+2cvffV/mNepQVJd0smgtpB...   \n",
       "447880  HVYRooiApLViYTdkMceDCw5+2cvffV/mNepQVJd0smgtpB...   \n",
       "447885  OCwWc4skdHzrbG+Ff3goAQ5+2cvffV/mNepQVJd0smgtpB...   \n",
       "447886  /q8kbGxmi5VrWb3RCGYqYw5+2cvffV/mNepQVJd0smgtpB...   \n",
       "\n",
       "                                                 jobtitle  seniority  \\\n",
       "0                                             ict_manager   5.181348   \n",
       "4                                               navegador   3.767998   \n",
       "6                                      inspector_contract   3.518455   \n",
       "7       technical_compliance_manager_|_financial_services   5.208761   \n",
       "10                                              architect   6.949267   \n",
       "...                                                   ...        ...   \n",
       "447874        regional_sales_manager_|_financial_services        NaN   \n",
       "447879           retail_pharmacist_|_hospital_health_care        NaN   \n",
       "447880                       profesor_traductor_de_inglés        NaN   \n",
       "447885                  çukurova_region_manager_|_farming        NaN   \n",
       "447886                                       intern_chief        NaN   \n",
       "\n",
       "         startdate enddate  \n",
       "0       2017-01-01     NaN  \n",
       "4       2000-03-01     NaN  \n",
       "6       2011-01-01     NaN  \n",
       "7       2017-11-01     NaN  \n",
       "10      2010-09-01     NaN  \n",
       "...            ...     ...  \n",
       "447874  2015-11-01     NaN  \n",
       "447879  2017-03-01     NaN  \n",
       "447880  2014-01-01     NaN  \n",
       "447885  2014-10-01     NaN  \n",
       "447886  2018-06-01     NaN  \n",
       "\n",
       "[98221 rows x 5 columns]"
      ]
     },
     "execution_count": 109,
     "metadata": {},
     "output_type": "execute_result"
    }
   ],
   "source": [
    "df_jobtitle_position[df_jobtitle_position['enddate'].isna()]"
   ]
  },
  {
   "cell_type": "code",
   "execution_count": 110,
   "metadata": {},
   "outputs": [
    {
     "data": {
      "text/plain": [
       "array(['SbYa9XFYmy40AbpQIbr4cw5+2cvffV/mNepQVJd0smgtpBr4MGMFJQ==',\n",
       "       'MLsEj4gLE8oHM+mWTMnRMg5+2cvffV/mNepQVJd0smgtpBr4MGMFJQ==',\n",
       "       '8PIyD6H0uUaVw2xJbzOsNw4ZM3TcQvn1bQ/jHgHWG0kf/bHrn17MPg==', ...,\n",
       "       'cY6VXOzF255rukMLdH8unA4ZM3TcQvn1bQ/jHgHWG0kf/bHrn17MPg==',\n",
       "       'ohJh/hEBI8kKox8MCm2KbA4ZM3TcQvn1bQ/jHgHWG0kf/bHrn17MPg==',\n",
       "       'AyaTO5HVjAIrE+VCT3EHyA4ZM3TcQvn1bQ/jHgHWG0kf/bHrn17MPg=='],\n",
       "      dtype=object)"
      ]
     },
     "execution_count": 110,
     "metadata": {},
     "output_type": "execute_result"
    }
   ],
   "source": [
    "#Get User IDs with Missing End date . This users will be our training data. Since missing end date means user is currently working in this\n",
    "#position \n",
    "df_jobtitle_position[df_jobtitle_position['enddate'].isna()]['user_id'].unique()"
   ]
  },
  {
   "cell_type": "code",
   "execution_count": 111,
   "metadata": {},
   "outputs": [],
   "source": [
    "train_user_ids=df_jobtitle_position[df_jobtitle_position['enddate'].isna()]['user_id'].unique()"
   ]
  },
  {
   "cell_type": "code",
   "execution_count": 112,
   "metadata": {},
   "outputs": [
    {
     "data": {
      "text/plain": [
       "69486"
      ]
     },
     "execution_count": 112,
     "metadata": {},
     "output_type": "execute_result"
    }
   ],
   "source": [
    "len(train_user_ids)"
   ]
  },
  {
   "cell_type": "markdown",
   "metadata": {},
   "source": [
    "Similarly Calculate test user IDS."
   ]
  },
  {
   "cell_type": "code",
   "execution_count": 113,
   "metadata": {},
   "outputs": [
    {
     "data": {
      "text/plain": [
       "array(['jezdW1GO7A9poKrnCMLNLw5+2cvffV/mNepQVJd0smgtpBr4MGMFJQ==',\n",
       "       'unGg9E3H1jdMsZg+qSqB9A4ZM3TcQvn1bQ/jHgHWG0kf/bHrn17MPg==',\n",
       "       'kjYQBz5HP+/3Yt1QHljr/WEWBgzjpZvPNepQVJd0smgtpBr4MGMFJQ==', ...,\n",
       "       'fnDiqbNZR1Z7kwyH1sRKg8tFfPCg/a+UNepQVJd0smgtpBr4MGMFJQ==',\n",
       "       '94V+qeh06awvbcbgvgr5cg4ZM3TcQvn1bQ/jHgHWG0kf/bHrn17MPg==',\n",
       "       'OjFGVllzQUiQct4bJhv4gA5+2cvffV/mNepQVJd0smgtpBr4MGMFJQ=='],\n",
       "      dtype=object)"
      ]
     },
     "execution_count": 113,
     "metadata": {},
     "output_type": "execute_result"
    }
   ],
   "source": [
    "#Get Unique user IDs which are not in train IDs\n",
    "df_jobtitle_position[~df_jobtitle_position['user_id'].isin(train_user_ids)]['user_id'].unique()"
   ]
  },
  {
   "cell_type": "code",
   "execution_count": 114,
   "metadata": {},
   "outputs": [],
   "source": [
    "test_user_ids=df_jobtitle_position[~df_jobtitle_position['user_id'].isin(train_user_ids)]['user_id'].unique()"
   ]
  },
  {
   "cell_type": "code",
   "execution_count": 115,
   "metadata": {},
   "outputs": [
    {
     "data": {
      "text/plain": [
       "9719"
      ]
     },
     "execution_count": 115,
     "metadata": {},
     "output_type": "execute_result"
    }
   ],
   "source": [
    "len(test_user_ids)"
   ]
  },
  {
   "cell_type": "code",
   "execution_count": 116,
   "metadata": {},
   "outputs": [
    {
     "data": {
      "text/plain": [
       "79205"
      ]
     },
     "execution_count": 116,
     "metadata": {},
     "output_type": "execute_result"
    }
   ],
   "source": [
    "#Get All the unique IDs that are avilable in the data set.\n",
    "len(df_jobtitle_position['user_id'].unique())"
   ]
  },
  {
   "cell_type": "code",
   "execution_count": 117,
   "metadata": {},
   "outputs": [
    {
     "data": {
      "text/plain": [
       "79205"
      ]
     },
     "execution_count": 117,
     "metadata": {},
     "output_type": "execute_result"
    }
   ],
   "source": [
    "#Sum Train and Test User IDs to check verify our calculation.Total IDs are sum of train and test IDs hence our calculation make.\n",
    "# sense.\n",
    "69486+9719"
   ]
  },
  {
   "cell_type": "markdown",
   "metadata": {},
   "source": [
    "### Asssuming missing end date means user is currently working in this position, lets replace NA with current date."
   ]
  },
  {
   "cell_type": "code",
   "execution_count": 118,
   "metadata": {},
   "outputs": [],
   "source": [
    "import datetime"
   ]
  },
  {
   "cell_type": "code",
   "execution_count": 119,
   "metadata": {},
   "outputs": [],
   "source": [
    "from datetime import date\n",
    "today = date.today()"
   ]
  },
  {
   "cell_type": "code",
   "execution_count": 120,
   "metadata": {},
   "outputs": [
    {
     "data": {
      "text/plain": [
       "datetime.date(2021, 11, 7)"
      ]
     },
     "execution_count": 120,
     "metadata": {},
     "output_type": "execute_result"
    }
   ],
   "source": [
    "today"
   ]
  },
  {
   "cell_type": "code",
   "execution_count": 121,
   "metadata": {},
   "outputs": [
    {
     "data": {
      "text/html": [
       "<div>\n",
       "<style scoped>\n",
       "    .dataframe tbody tr th:only-of-type {\n",
       "        vertical-align: middle;\n",
       "    }\n",
       "\n",
       "    .dataframe tbody tr th {\n",
       "        vertical-align: top;\n",
       "    }\n",
       "\n",
       "    .dataframe thead th {\n",
       "        text-align: right;\n",
       "    }\n",
       "</style>\n",
       "<table border=\"1\" class=\"dataframe\">\n",
       "  <thead>\n",
       "    <tr style=\"text-align: right;\">\n",
       "      <th></th>\n",
       "      <th>user_id</th>\n",
       "      <th>jobtitle</th>\n",
       "      <th>seniority</th>\n",
       "      <th>startdate</th>\n",
       "      <th>enddate</th>\n",
       "    </tr>\n",
       "  </thead>\n",
       "  <tbody>\n",
       "    <tr>\n",
       "      <th>0</th>\n",
       "      <td>SbYa9XFYmy40AbpQIbr4cw5+2cvffV/mNepQVJd0smgtpB...</td>\n",
       "      <td>ict_manager</td>\n",
       "      <td>5.181348</td>\n",
       "      <td>2017-01-01</td>\n",
       "      <td>NaN</td>\n",
       "    </tr>\n",
       "    <tr>\n",
       "      <th>1</th>\n",
       "      <td>5NTieg1m6jKFiY8Py3K+2jr+/k0/DTn/+K+fv+DIJSUQ20...</td>\n",
       "      <td>emergency_room_physician_assistant_banner_chur...</td>\n",
       "      <td>2.866780</td>\n",
       "      <td>2013-01-01</td>\n",
       "      <td>2013-11-01</td>\n",
       "    </tr>\n",
       "    <tr>\n",
       "      <th>2</th>\n",
       "      <td>R58XldIpOAmT8Tt3/x+2/w5+2cvffV/mNepQVJd0smgtpB...</td>\n",
       "      <td>marketing_promotions</td>\n",
       "      <td>3.559404</td>\n",
       "      <td>1990-01-01</td>\n",
       "      <td>1996-01-01</td>\n",
       "    </tr>\n",
       "    <tr>\n",
       "      <th>3</th>\n",
       "      <td>Ks30ggQyMuLYOykWc4EoXGEWBgzjpZvPNepQVJd0smgtpB...</td>\n",
       "      <td>central_billing_assistant_development_manager</td>\n",
       "      <td>4.175832</td>\n",
       "      <td>2008-09-01</td>\n",
       "      <td>2011-06-01</td>\n",
       "    </tr>\n",
       "    <tr>\n",
       "      <th>4</th>\n",
       "      <td>MLsEj4gLE8oHM+mWTMnRMg5+2cvffV/mNepQVJd0smgtpB...</td>\n",
       "      <td>navegador</td>\n",
       "      <td>3.767998</td>\n",
       "      <td>2000-03-01</td>\n",
       "      <td>NaN</td>\n",
       "    </tr>\n",
       "  </tbody>\n",
       "</table>\n",
       "</div>"
      ],
      "text/plain": [
       "                                             user_id  \\\n",
       "0  SbYa9XFYmy40AbpQIbr4cw5+2cvffV/mNepQVJd0smgtpB...   \n",
       "1  5NTieg1m6jKFiY8Py3K+2jr+/k0/DTn/+K+fv+DIJSUQ20...   \n",
       "2  R58XldIpOAmT8Tt3/x+2/w5+2cvffV/mNepQVJd0smgtpB...   \n",
       "3  Ks30ggQyMuLYOykWc4EoXGEWBgzjpZvPNepQVJd0smgtpB...   \n",
       "4  MLsEj4gLE8oHM+mWTMnRMg5+2cvffV/mNepQVJd0smgtpB...   \n",
       "\n",
       "                                            jobtitle  seniority   startdate  \\\n",
       "0                                        ict_manager   5.181348  2017-01-01   \n",
       "1  emergency_room_physician_assistant_banner_chur...   2.866780  2013-01-01   \n",
       "2                               marketing_promotions   3.559404  1990-01-01   \n",
       "3      central_billing_assistant_development_manager   4.175832  2008-09-01   \n",
       "4                                          navegador   3.767998  2000-03-01   \n",
       "\n",
       "      enddate  \n",
       "0         NaN  \n",
       "1  2013-11-01  \n",
       "2  1996-01-01  \n",
       "3  2011-06-01  \n",
       "4         NaN  "
      ]
     },
     "execution_count": 121,
     "metadata": {},
     "output_type": "execute_result"
    }
   ],
   "source": [
    "#Check our data before imputation\n",
    "df_jobtitle_position.head()"
   ]
  },
  {
   "cell_type": "code",
   "execution_count": 122,
   "metadata": {},
   "outputs": [],
   "source": [
    "df_jobtitle_position['enddate']=df_jobtitle_position['enddate'].fillna(date.today()).copy()"
   ]
  },
  {
   "cell_type": "code",
   "execution_count": 123,
   "metadata": {},
   "outputs": [
    {
     "data": {
      "text/html": [
       "<div>\n",
       "<style scoped>\n",
       "    .dataframe tbody tr th:only-of-type {\n",
       "        vertical-align: middle;\n",
       "    }\n",
       "\n",
       "    .dataframe tbody tr th {\n",
       "        vertical-align: top;\n",
       "    }\n",
       "\n",
       "    .dataframe thead th {\n",
       "        text-align: right;\n",
       "    }\n",
       "</style>\n",
       "<table border=\"1\" class=\"dataframe\">\n",
       "  <thead>\n",
       "    <tr style=\"text-align: right;\">\n",
       "      <th></th>\n",
       "      <th>user_id</th>\n",
       "      <th>jobtitle</th>\n",
       "      <th>seniority</th>\n",
       "      <th>startdate</th>\n",
       "      <th>enddate</th>\n",
       "    </tr>\n",
       "  </thead>\n",
       "  <tbody>\n",
       "    <tr>\n",
       "      <th>0</th>\n",
       "      <td>SbYa9XFYmy40AbpQIbr4cw5+2cvffV/mNepQVJd0smgtpB...</td>\n",
       "      <td>ict_manager</td>\n",
       "      <td>5.181348</td>\n",
       "      <td>2017-01-01</td>\n",
       "      <td>2021-11-07</td>\n",
       "    </tr>\n",
       "    <tr>\n",
       "      <th>1</th>\n",
       "      <td>5NTieg1m6jKFiY8Py3K+2jr+/k0/DTn/+K+fv+DIJSUQ20...</td>\n",
       "      <td>emergency_room_physician_assistant_banner_chur...</td>\n",
       "      <td>2.866780</td>\n",
       "      <td>2013-01-01</td>\n",
       "      <td>2013-11-01</td>\n",
       "    </tr>\n",
       "    <tr>\n",
       "      <th>2</th>\n",
       "      <td>R58XldIpOAmT8Tt3/x+2/w5+2cvffV/mNepQVJd0smgtpB...</td>\n",
       "      <td>marketing_promotions</td>\n",
       "      <td>3.559404</td>\n",
       "      <td>1990-01-01</td>\n",
       "      <td>1996-01-01</td>\n",
       "    </tr>\n",
       "    <tr>\n",
       "      <th>3</th>\n",
       "      <td>Ks30ggQyMuLYOykWc4EoXGEWBgzjpZvPNepQVJd0smgtpB...</td>\n",
       "      <td>central_billing_assistant_development_manager</td>\n",
       "      <td>4.175832</td>\n",
       "      <td>2008-09-01</td>\n",
       "      <td>2011-06-01</td>\n",
       "    </tr>\n",
       "    <tr>\n",
       "      <th>4</th>\n",
       "      <td>MLsEj4gLE8oHM+mWTMnRMg5+2cvffV/mNepQVJd0smgtpB...</td>\n",
       "      <td>navegador</td>\n",
       "      <td>3.767998</td>\n",
       "      <td>2000-03-01</td>\n",
       "      <td>2021-11-07</td>\n",
       "    </tr>\n",
       "  </tbody>\n",
       "</table>\n",
       "</div>"
      ],
      "text/plain": [
       "                                             user_id  \\\n",
       "0  SbYa9XFYmy40AbpQIbr4cw5+2cvffV/mNepQVJd0smgtpB...   \n",
       "1  5NTieg1m6jKFiY8Py3K+2jr+/k0/DTn/+K+fv+DIJSUQ20...   \n",
       "2  R58XldIpOAmT8Tt3/x+2/w5+2cvffV/mNepQVJd0smgtpB...   \n",
       "3  Ks30ggQyMuLYOykWc4EoXGEWBgzjpZvPNepQVJd0smgtpB...   \n",
       "4  MLsEj4gLE8oHM+mWTMnRMg5+2cvffV/mNepQVJd0smgtpB...   \n",
       "\n",
       "                                            jobtitle  seniority   startdate  \\\n",
       "0                                        ict_manager   5.181348  2017-01-01   \n",
       "1  emergency_room_physician_assistant_banner_chur...   2.866780  2013-01-01   \n",
       "2                               marketing_promotions   3.559404  1990-01-01   \n",
       "3      central_billing_assistant_development_manager   4.175832  2008-09-01   \n",
       "4                                          navegador   3.767998  2000-03-01   \n",
       "\n",
       "      enddate  \n",
       "0  2021-11-07  \n",
       "1  2013-11-01  \n",
       "2  1996-01-01  \n",
       "3  2011-06-01  \n",
       "4  2021-11-07  "
      ]
     },
     "execution_count": 123,
     "metadata": {},
     "output_type": "execute_result"
    }
   ],
   "source": [
    "#Check the data after date imputation\n",
    "df_jobtitle_position.head()"
   ]
  },
  {
   "cell_type": "code",
   "execution_count": 124,
   "metadata": {},
   "outputs": [
    {
     "data": {
      "text/plain": [
       "user_id         0\n",
       "jobtitle     1277\n",
       "seniority    8805\n",
       "startdate       0\n",
       "enddate         0\n",
       "dtype: int64"
      ]
     },
     "execution_count": 124,
     "metadata": {},
     "output_type": "execute_result"
    }
   ],
   "source": [
    "#Check for Null values.\n",
    "np.sum(df_jobtitle_position.isna())"
   ]
  },
  {
   "cell_type": "markdown",
   "metadata": {},
   "source": [
    "### Calculate the number of days user have spent in his/her current role."
   ]
  },
  {
   "cell_type": "code",
   "execution_count": 125,
   "metadata": {},
   "outputs": [],
   "source": [
    "df_jobtitle_position['enddate']=pd.to_datetime(df_jobtitle_position['enddate']).copy()"
   ]
  },
  {
   "cell_type": "code",
   "execution_count": 126,
   "metadata": {},
   "outputs": [],
   "source": [
    "df_jobtitle_position['startdate']=pd.to_datetime(df_jobtitle_position['startdate']).copy()"
   ]
  },
  {
   "cell_type": "code",
   "execution_count": 127,
   "metadata": {},
   "outputs": [],
   "source": [
    "df_jobtitle_position['days_in_current_role']=df_jobtitle_position['enddate']-df_jobtitle_position['startdate'].copy()"
   ]
  },
  {
   "cell_type": "code",
   "execution_count": 128,
   "metadata": {},
   "outputs": [
    {
     "data": {
      "text/html": [
       "<div>\n",
       "<style scoped>\n",
       "    .dataframe tbody tr th:only-of-type {\n",
       "        vertical-align: middle;\n",
       "    }\n",
       "\n",
       "    .dataframe tbody tr th {\n",
       "        vertical-align: top;\n",
       "    }\n",
       "\n",
       "    .dataframe thead th {\n",
       "        text-align: right;\n",
       "    }\n",
       "</style>\n",
       "<table border=\"1\" class=\"dataframe\">\n",
       "  <thead>\n",
       "    <tr style=\"text-align: right;\">\n",
       "      <th></th>\n",
       "      <th>user_id</th>\n",
       "      <th>jobtitle</th>\n",
       "      <th>seniority</th>\n",
       "      <th>startdate</th>\n",
       "      <th>enddate</th>\n",
       "      <th>days_in_current_role</th>\n",
       "    </tr>\n",
       "  </thead>\n",
       "  <tbody>\n",
       "    <tr>\n",
       "      <th>0</th>\n",
       "      <td>SbYa9XFYmy40AbpQIbr4cw5+2cvffV/mNepQVJd0smgtpB...</td>\n",
       "      <td>ict_manager</td>\n",
       "      <td>5.181348</td>\n",
       "      <td>2017-01-01</td>\n",
       "      <td>2021-11-07</td>\n",
       "      <td>1771 days</td>\n",
       "    </tr>\n",
       "    <tr>\n",
       "      <th>1</th>\n",
       "      <td>5NTieg1m6jKFiY8Py3K+2jr+/k0/DTn/+K+fv+DIJSUQ20...</td>\n",
       "      <td>emergency_room_physician_assistant_banner_chur...</td>\n",
       "      <td>2.866780</td>\n",
       "      <td>2013-01-01</td>\n",
       "      <td>2013-11-01</td>\n",
       "      <td>304 days</td>\n",
       "    </tr>\n",
       "    <tr>\n",
       "      <th>2</th>\n",
       "      <td>R58XldIpOAmT8Tt3/x+2/w5+2cvffV/mNepQVJd0smgtpB...</td>\n",
       "      <td>marketing_promotions</td>\n",
       "      <td>3.559404</td>\n",
       "      <td>1990-01-01</td>\n",
       "      <td>1996-01-01</td>\n",
       "      <td>2191 days</td>\n",
       "    </tr>\n",
       "    <tr>\n",
       "      <th>3</th>\n",
       "      <td>Ks30ggQyMuLYOykWc4EoXGEWBgzjpZvPNepQVJd0smgtpB...</td>\n",
       "      <td>central_billing_assistant_development_manager</td>\n",
       "      <td>4.175832</td>\n",
       "      <td>2008-09-01</td>\n",
       "      <td>2011-06-01</td>\n",
       "      <td>1003 days</td>\n",
       "    </tr>\n",
       "    <tr>\n",
       "      <th>4</th>\n",
       "      <td>MLsEj4gLE8oHM+mWTMnRMg5+2cvffV/mNepQVJd0smgtpB...</td>\n",
       "      <td>navegador</td>\n",
       "      <td>3.767998</td>\n",
       "      <td>2000-03-01</td>\n",
       "      <td>2021-11-07</td>\n",
       "      <td>7921 days</td>\n",
       "    </tr>\n",
       "  </tbody>\n",
       "</table>\n",
       "</div>"
      ],
      "text/plain": [
       "                                             user_id  \\\n",
       "0  SbYa9XFYmy40AbpQIbr4cw5+2cvffV/mNepQVJd0smgtpB...   \n",
       "1  5NTieg1m6jKFiY8Py3K+2jr+/k0/DTn/+K+fv+DIJSUQ20...   \n",
       "2  R58XldIpOAmT8Tt3/x+2/w5+2cvffV/mNepQVJd0smgtpB...   \n",
       "3  Ks30ggQyMuLYOykWc4EoXGEWBgzjpZvPNepQVJd0smgtpB...   \n",
       "4  MLsEj4gLE8oHM+mWTMnRMg5+2cvffV/mNepQVJd0smgtpB...   \n",
       "\n",
       "                                            jobtitle  seniority  startdate  \\\n",
       "0                                        ict_manager   5.181348 2017-01-01   \n",
       "1  emergency_room_physician_assistant_banner_chur...   2.866780 2013-01-01   \n",
       "2                               marketing_promotions   3.559404 1990-01-01   \n",
       "3      central_billing_assistant_development_manager   4.175832 2008-09-01   \n",
       "4                                          navegador   3.767998 2000-03-01   \n",
       "\n",
       "     enddate days_in_current_role  \n",
       "0 2021-11-07            1771 days  \n",
       "1 2013-11-01             304 days  \n",
       "2 1996-01-01            2191 days  \n",
       "3 2011-06-01            1003 days  \n",
       "4 2021-11-07            7921 days  "
      ]
     },
     "execution_count": 128,
     "metadata": {},
     "output_type": "execute_result"
    }
   ],
   "source": [
    "df_jobtitle_position.head()"
   ]
  },
  {
   "cell_type": "code",
   "execution_count": 129,
   "metadata": {},
   "outputs": [],
   "source": [
    "#Convert Days to Years\n",
    "#df_jobtitle_position['working_exp_years']=df_jobtitle_position['days_in_current_role'].dt.days//365"
   ]
  },
  {
   "cell_type": "code",
   "execution_count": 130,
   "metadata": {},
   "outputs": [],
   "source": [
    "#View The Data\n",
    "#df_jobtitle_position.head()"
   ]
  },
  {
   "cell_type": "code",
   "execution_count": null,
   "metadata": {},
   "outputs": [],
   "source": []
  },
  {
   "cell_type": "code",
   "execution_count": null,
   "metadata": {},
   "outputs": [],
   "source": []
  },
  {
   "cell_type": "code",
   "execution_count": null,
   "metadata": {},
   "outputs": [],
   "source": []
  },
  {
   "cell_type": "code",
   "execution_count": 131,
   "metadata": {},
   "outputs": [],
   "source": [
    "#df_jobtitle_position[df_jobtitle_position['days_in_current_role']>pd.Timedelta(14600,'D')]"
   ]
  },
  {
   "cell_type": "code",
   "execution_count": 132,
   "metadata": {},
   "outputs": [],
   "source": [
    "#df_jobtitle_position=df_jobtitle_position[df_jobtitle_position['days_in_current_role']<pd.Timedelta(14600,'D')]"
   ]
  },
  {
   "cell_type": "markdown",
   "metadata": {},
   "source": [
    "### Now lets calculate total number of days that user have worked"
   ]
  },
  {
   "cell_type": "code",
   "execution_count": 133,
   "metadata": {},
   "outputs": [],
   "source": [
    "df_jobtitle_position[\"days_in_current_role\"]=df_jobtitle_position[\"days_in_current_role\"].dt.days"
   ]
  },
  {
   "cell_type": "code",
   "execution_count": 134,
   "metadata": {},
   "outputs": [],
   "source": [
    "# GrouBy UserIds to get total number of days user have worked.\n",
    "df_total_exp=df_jobtitle_position.groupby(by=[\"user_id\"]).sum()"
   ]
  },
  {
   "cell_type": "code",
   "execution_count": 135,
   "metadata": {},
   "outputs": [
    {
     "data": {
      "text/html": [
       "<div>\n",
       "<style scoped>\n",
       "    .dataframe tbody tr th:only-of-type {\n",
       "        vertical-align: middle;\n",
       "    }\n",
       "\n",
       "    .dataframe tbody tr th {\n",
       "        vertical-align: top;\n",
       "    }\n",
       "\n",
       "    .dataframe thead th {\n",
       "        text-align: right;\n",
       "    }\n",
       "</style>\n",
       "<table border=\"1\" class=\"dataframe\">\n",
       "  <thead>\n",
       "    <tr style=\"text-align: right;\">\n",
       "      <th></th>\n",
       "      <th>seniority</th>\n",
       "      <th>days_in_current_role</th>\n",
       "    </tr>\n",
       "    <tr>\n",
       "      <th>user_id</th>\n",
       "      <th></th>\n",
       "      <th></th>\n",
       "    </tr>\n",
       "  </thead>\n",
       "  <tbody>\n",
       "    <tr>\n",
       "      <th>++5SW5MI5/h8X1hMA3QnmQ4ZM3TcQvn1bQ/jHgHWG0kf/bHrn17MPg==</th>\n",
       "      <td>7.064817</td>\n",
       "      <td>25147</td>\n",
       "    </tr>\n",
       "    <tr>\n",
       "      <th>++5qk2+uEmkI/3Z4FrBwDw4ZM3TcQvn1bQ/jHgHWG0kf/bHrn17MPg==</th>\n",
       "      <td>10.665753</td>\n",
       "      <td>12059</td>\n",
       "    </tr>\n",
       "    <tr>\n",
       "      <th>++6+hv3i5RAVsrWO8q5JEQ5+2cvffV/mNepQVJd0smgtpBr4MGMFJQ==</th>\n",
       "      <td>34.692158</td>\n",
       "      <td>3329</td>\n",
       "    </tr>\n",
       "    <tr>\n",
       "      <th>++6zEVtPCi83vpPTHSY2Vg5+2cvffV/mNepQVJd0smgtpBr4MGMFJQ==</th>\n",
       "      <td>5.002740</td>\n",
       "      <td>822</td>\n",
       "    </tr>\n",
       "    <tr>\n",
       "      <th>++7kB6m0hI1TgAPmyY1X6A5+2cvffV/mNepQVJd0smgtpBr4MGMFJQ==</th>\n",
       "      <td>37.294685</td>\n",
       "      <td>8468</td>\n",
       "    </tr>\n",
       "  </tbody>\n",
       "</table>\n",
       "</div>"
      ],
      "text/plain": [
       "                                                    seniority  \\\n",
       "user_id                                                         \n",
       "++5SW5MI5/h8X1hMA3QnmQ4ZM3TcQvn1bQ/jHgHWG0kf/bH...   7.064817   \n",
       "++5qk2+uEmkI/3Z4FrBwDw4ZM3TcQvn1bQ/jHgHWG0kf/bH...  10.665753   \n",
       "++6+hv3i5RAVsrWO8q5JEQ5+2cvffV/mNepQVJd0smgtpBr...  34.692158   \n",
       "++6zEVtPCi83vpPTHSY2Vg5+2cvffV/mNepQVJd0smgtpBr...   5.002740   \n",
       "++7kB6m0hI1TgAPmyY1X6A5+2cvffV/mNepQVJd0smgtpBr...  37.294685   \n",
       "\n",
       "                                                    days_in_current_role  \n",
       "user_id                                                                   \n",
       "++5SW5MI5/h8X1hMA3QnmQ4ZM3TcQvn1bQ/jHgHWG0kf/bH...                 25147  \n",
       "++5qk2+uEmkI/3Z4FrBwDw4ZM3TcQvn1bQ/jHgHWG0kf/bH...                 12059  \n",
       "++6+hv3i5RAVsrWO8q5JEQ5+2cvffV/mNepQVJd0smgtpBr...                  3329  \n",
       "++6zEVtPCi83vpPTHSY2Vg5+2cvffV/mNepQVJd0smgtpBr...                   822  \n",
       "++7kB6m0hI1TgAPmyY1X6A5+2cvffV/mNepQVJd0smgtpBr...                  8468  "
      ]
     },
     "execution_count": 135,
     "metadata": {},
     "output_type": "execute_result"
    }
   ],
   "source": [
    "#View the data\n",
    "df_total_exp.head()"
   ]
  },
  {
   "cell_type": "code",
   "execution_count": 136,
   "metadata": {},
   "outputs": [
    {
     "data": {
      "text/plain": [
       "79205"
      ]
     },
     "execution_count": 136,
     "metadata": {},
     "output_type": "execute_result"
    }
   ],
   "source": [
    "len(df_total_exp.index)"
   ]
  },
  {
   "cell_type": "code",
   "execution_count": 137,
   "metadata": {},
   "outputs": [],
   "source": [
    "df_total_exp['working_exp_years']=df_total_exp['days_in_current_role']/365"
   ]
  },
  {
   "cell_type": "code",
   "execution_count": 138,
   "metadata": {},
   "outputs": [
    {
     "data": {
      "text/html": [
       "<div>\n",
       "<style scoped>\n",
       "    .dataframe tbody tr th:only-of-type {\n",
       "        vertical-align: middle;\n",
       "    }\n",
       "\n",
       "    .dataframe tbody tr th {\n",
       "        vertical-align: top;\n",
       "    }\n",
       "\n",
       "    .dataframe thead th {\n",
       "        text-align: right;\n",
       "    }\n",
       "</style>\n",
       "<table border=\"1\" class=\"dataframe\">\n",
       "  <thead>\n",
       "    <tr style=\"text-align: right;\">\n",
       "      <th></th>\n",
       "      <th>seniority</th>\n",
       "      <th>days_in_current_role</th>\n",
       "      <th>working_exp_years</th>\n",
       "    </tr>\n",
       "    <tr>\n",
       "      <th>user_id</th>\n",
       "      <th></th>\n",
       "      <th></th>\n",
       "      <th></th>\n",
       "    </tr>\n",
       "  </thead>\n",
       "  <tbody>\n",
       "    <tr>\n",
       "      <th>++5SW5MI5/h8X1hMA3QnmQ4ZM3TcQvn1bQ/jHgHWG0kf/bHrn17MPg==</th>\n",
       "      <td>7.064817</td>\n",
       "      <td>25147</td>\n",
       "      <td>68.895890</td>\n",
       "    </tr>\n",
       "    <tr>\n",
       "      <th>++5qk2+uEmkI/3Z4FrBwDw4ZM3TcQvn1bQ/jHgHWG0kf/bHrn17MPg==</th>\n",
       "      <td>10.665753</td>\n",
       "      <td>12059</td>\n",
       "      <td>33.038356</td>\n",
       "    </tr>\n",
       "    <tr>\n",
       "      <th>++6+hv3i5RAVsrWO8q5JEQ5+2cvffV/mNepQVJd0smgtpBr4MGMFJQ==</th>\n",
       "      <td>34.692158</td>\n",
       "      <td>3329</td>\n",
       "      <td>9.120548</td>\n",
       "    </tr>\n",
       "    <tr>\n",
       "      <th>++6zEVtPCi83vpPTHSY2Vg5+2cvffV/mNepQVJd0smgtpBr4MGMFJQ==</th>\n",
       "      <td>5.002740</td>\n",
       "      <td>822</td>\n",
       "      <td>2.252055</td>\n",
       "    </tr>\n",
       "    <tr>\n",
       "      <th>++7kB6m0hI1TgAPmyY1X6A5+2cvffV/mNepQVJd0smgtpBr4MGMFJQ==</th>\n",
       "      <td>37.294685</td>\n",
       "      <td>8468</td>\n",
       "      <td>23.200000</td>\n",
       "    </tr>\n",
       "  </tbody>\n",
       "</table>\n",
       "</div>"
      ],
      "text/plain": [
       "                                                    seniority  \\\n",
       "user_id                                                         \n",
       "++5SW5MI5/h8X1hMA3QnmQ4ZM3TcQvn1bQ/jHgHWG0kf/bH...   7.064817   \n",
       "++5qk2+uEmkI/3Z4FrBwDw4ZM3TcQvn1bQ/jHgHWG0kf/bH...  10.665753   \n",
       "++6+hv3i5RAVsrWO8q5JEQ5+2cvffV/mNepQVJd0smgtpBr...  34.692158   \n",
       "++6zEVtPCi83vpPTHSY2Vg5+2cvffV/mNepQVJd0smgtpBr...   5.002740   \n",
       "++7kB6m0hI1TgAPmyY1X6A5+2cvffV/mNepQVJd0smgtpBr...  37.294685   \n",
       "\n",
       "                                                    days_in_current_role  \\\n",
       "user_id                                                                    \n",
       "++5SW5MI5/h8X1hMA3QnmQ4ZM3TcQvn1bQ/jHgHWG0kf/bH...                 25147   \n",
       "++5qk2+uEmkI/3Z4FrBwDw4ZM3TcQvn1bQ/jHgHWG0kf/bH...                 12059   \n",
       "++6+hv3i5RAVsrWO8q5JEQ5+2cvffV/mNepQVJd0smgtpBr...                  3329   \n",
       "++6zEVtPCi83vpPTHSY2Vg5+2cvffV/mNepQVJd0smgtpBr...                   822   \n",
       "++7kB6m0hI1TgAPmyY1X6A5+2cvffV/mNepQVJd0smgtpBr...                  8468   \n",
       "\n",
       "                                                    working_exp_years  \n",
       "user_id                                                                \n",
       "++5SW5MI5/h8X1hMA3QnmQ4ZM3TcQvn1bQ/jHgHWG0kf/bH...          68.895890  \n",
       "++5qk2+uEmkI/3Z4FrBwDw4ZM3TcQvn1bQ/jHgHWG0kf/bH...          33.038356  \n",
       "++6+hv3i5RAVsrWO8q5JEQ5+2cvffV/mNepQVJd0smgtpBr...           9.120548  \n",
       "++6zEVtPCi83vpPTHSY2Vg5+2cvffV/mNepQVJd0smgtpBr...           2.252055  \n",
       "++7kB6m0hI1TgAPmyY1X6A5+2cvffV/mNepQVJd0smgtpBr...          23.200000  "
      ]
     },
     "execution_count": 138,
     "metadata": {},
     "output_type": "execute_result"
    }
   ],
   "source": [
    "df_total_exp.head()"
   ]
  },
  {
   "cell_type": "markdown",
   "metadata": {},
   "source": [
    "## Lets remove Outliers in Work Experience and Seniority levels."
   ]
  },
  {
   "cell_type": "code",
   "execution_count": 139,
   "metadata": {},
   "outputs": [
    {
     "data": {
      "text/html": [
       "<div>\n",
       "<style scoped>\n",
       "    .dataframe tbody tr th:only-of-type {\n",
       "        vertical-align: middle;\n",
       "    }\n",
       "\n",
       "    .dataframe tbody tr th {\n",
       "        vertical-align: top;\n",
       "    }\n",
       "\n",
       "    .dataframe thead th {\n",
       "        text-align: right;\n",
       "    }\n",
       "</style>\n",
       "<table border=\"1\" class=\"dataframe\">\n",
       "  <thead>\n",
       "    <tr style=\"text-align: right;\">\n",
       "      <th></th>\n",
       "      <th>seniority</th>\n",
       "      <th>days_in_current_role</th>\n",
       "      <th>working_exp_years</th>\n",
       "    </tr>\n",
       "    <tr>\n",
       "      <th>user_id</th>\n",
       "      <th></th>\n",
       "      <th></th>\n",
       "      <th></th>\n",
       "    </tr>\n",
       "  </thead>\n",
       "  <tbody>\n",
       "    <tr>\n",
       "      <th>++5SW5MI5/h8X1hMA3QnmQ4ZM3TcQvn1bQ/jHgHWG0kf/bHrn17MPg==</th>\n",
       "      <td>7.064817</td>\n",
       "      <td>25147</td>\n",
       "      <td>68.895890</td>\n",
       "    </tr>\n",
       "    <tr>\n",
       "      <th>++XOt+UqpCnbnNoSx+ZCYQ5+2cvffV/mNepQVJd0smgtpBr4MGMFJQ==</th>\n",
       "      <td>13.783282</td>\n",
       "      <td>24815</td>\n",
       "      <td>67.986301</td>\n",
       "    </tr>\n",
       "    <tr>\n",
       "      <th>+/4Mfwaqzbpv8OhmFjPIUQ4ZM3TcQvn1bQ/jHgHWG0kf/bHrn17MPg==</th>\n",
       "      <td>51.870501</td>\n",
       "      <td>25378</td>\n",
       "      <td>69.528767</td>\n",
       "    </tr>\n",
       "    <tr>\n",
       "      <th>+/bzU/BUXuqA2cR+P3JoHQ5+2cvffV/mNepQVJd0smgtpBr4MGMFJQ==</th>\n",
       "      <td>40.109254</td>\n",
       "      <td>23321</td>\n",
       "      <td>63.893151</td>\n",
       "    </tr>\n",
       "    <tr>\n",
       "      <th>+337q2USs9hkiLlEsqhAvg5+2cvffV/mNepQVJd0smgtpBr4MGMFJQ==</th>\n",
       "      <td>58.024050</td>\n",
       "      <td>24651</td>\n",
       "      <td>67.536986</td>\n",
       "    </tr>\n",
       "    <tr>\n",
       "      <th>...</th>\n",
       "      <td>...</td>\n",
       "      <td>...</td>\n",
       "      <td>...</td>\n",
       "    </tr>\n",
       "    <tr>\n",
       "      <th>zuA4o3mxIAHZ5Sd/mG+rH7bJBBZhf6frbQ/jHgHWG0kf/bHrn17MPg==</th>\n",
       "      <td>72.271520</td>\n",
       "      <td>34100</td>\n",
       "      <td>93.424658</td>\n",
       "    </tr>\n",
       "    <tr>\n",
       "      <th>zuIgtLT5m7PTI2RP0fwEYw5+2cvffV/mNepQVJd0smgtpBr4MGMFJQ==</th>\n",
       "      <td>13.628035</td>\n",
       "      <td>23875</td>\n",
       "      <td>65.410959</td>\n",
       "    </tr>\n",
       "    <tr>\n",
       "      <th>zv3GWoxtS4KjLgiJ159hmQ5+2cvffV/mNepQVJd0smgtpBr4MGMFJQ==</th>\n",
       "      <td>27.549041</td>\n",
       "      <td>23008</td>\n",
       "      <td>63.035616</td>\n",
       "    </tr>\n",
       "    <tr>\n",
       "      <th>zvXrHCmMHww9hhxkHghkjg4ZM3TcQvn1bQ/jHgHWG0kf/bHrn17MPg==</th>\n",
       "      <td>17.554795</td>\n",
       "      <td>18885</td>\n",
       "      <td>51.739726</td>\n",
       "    </tr>\n",
       "    <tr>\n",
       "      <th>zyCVnSdSSdqgkxMGPVuFfA4ZM3TcQvn1bQ/jHgHWG0kf/bHrn17MPg==</th>\n",
       "      <td>32.973794</td>\n",
       "      <td>46912</td>\n",
       "      <td>128.526027</td>\n",
       "    </tr>\n",
       "  </tbody>\n",
       "</table>\n",
       "<p>3250 rows × 3 columns</p>\n",
       "</div>"
      ],
      "text/plain": [
       "                                                    seniority  \\\n",
       "user_id                                                         \n",
       "++5SW5MI5/h8X1hMA3QnmQ4ZM3TcQvn1bQ/jHgHWG0kf/bH...   7.064817   \n",
       "++XOt+UqpCnbnNoSx+ZCYQ5+2cvffV/mNepQVJd0smgtpBr...  13.783282   \n",
       "+/4Mfwaqzbpv8OhmFjPIUQ4ZM3TcQvn1bQ/jHgHWG0kf/bH...  51.870501   \n",
       "+/bzU/BUXuqA2cR+P3JoHQ5+2cvffV/mNepQVJd0smgtpBr...  40.109254   \n",
       "+337q2USs9hkiLlEsqhAvg5+2cvffV/mNepQVJd0smgtpBr...  58.024050   \n",
       "...                                                       ...   \n",
       "zuA4o3mxIAHZ5Sd/mG+rH7bJBBZhf6frbQ/jHgHWG0kf/bH...  72.271520   \n",
       "zuIgtLT5m7PTI2RP0fwEYw5+2cvffV/mNepQVJd0smgtpBr...  13.628035   \n",
       "zv3GWoxtS4KjLgiJ159hmQ5+2cvffV/mNepQVJd0smgtpBr...  27.549041   \n",
       "zvXrHCmMHww9hhxkHghkjg4ZM3TcQvn1bQ/jHgHWG0kf/bH...  17.554795   \n",
       "zyCVnSdSSdqgkxMGPVuFfA4ZM3TcQvn1bQ/jHgHWG0kf/bH...  32.973794   \n",
       "\n",
       "                                                    days_in_current_role  \\\n",
       "user_id                                                                    \n",
       "++5SW5MI5/h8X1hMA3QnmQ4ZM3TcQvn1bQ/jHgHWG0kf/bH...                 25147   \n",
       "++XOt+UqpCnbnNoSx+ZCYQ5+2cvffV/mNepQVJd0smgtpBr...                 24815   \n",
       "+/4Mfwaqzbpv8OhmFjPIUQ4ZM3TcQvn1bQ/jHgHWG0kf/bH...                 25378   \n",
       "+/bzU/BUXuqA2cR+P3JoHQ5+2cvffV/mNepQVJd0smgtpBr...                 23321   \n",
       "+337q2USs9hkiLlEsqhAvg5+2cvffV/mNepQVJd0smgtpBr...                 24651   \n",
       "...                                                                  ...   \n",
       "zuA4o3mxIAHZ5Sd/mG+rH7bJBBZhf6frbQ/jHgHWG0kf/bH...                 34100   \n",
       "zuIgtLT5m7PTI2RP0fwEYw5+2cvffV/mNepQVJd0smgtpBr...                 23875   \n",
       "zv3GWoxtS4KjLgiJ159hmQ5+2cvffV/mNepQVJd0smgtpBr...                 23008   \n",
       "zvXrHCmMHww9hhxkHghkjg4ZM3TcQvn1bQ/jHgHWG0kf/bH...                 18885   \n",
       "zyCVnSdSSdqgkxMGPVuFfA4ZM3TcQvn1bQ/jHgHWG0kf/bH...                 46912   \n",
       "\n",
       "                                                    working_exp_years  \n",
       "user_id                                                                \n",
       "++5SW5MI5/h8X1hMA3QnmQ4ZM3TcQvn1bQ/jHgHWG0kf/bH...          68.895890  \n",
       "++XOt+UqpCnbnNoSx+ZCYQ5+2cvffV/mNepQVJd0smgtpBr...          67.986301  \n",
       "+/4Mfwaqzbpv8OhmFjPIUQ4ZM3TcQvn1bQ/jHgHWG0kf/bH...          69.528767  \n",
       "+/bzU/BUXuqA2cR+P3JoHQ5+2cvffV/mNepQVJd0smgtpBr...          63.893151  \n",
       "+337q2USs9hkiLlEsqhAvg5+2cvffV/mNepQVJd0smgtpBr...          67.536986  \n",
       "...                                                               ...  \n",
       "zuA4o3mxIAHZ5Sd/mG+rH7bJBBZhf6frbQ/jHgHWG0kf/bH...          93.424658  \n",
       "zuIgtLT5m7PTI2RP0fwEYw5+2cvffV/mNepQVJd0smgtpBr...          65.410959  \n",
       "zv3GWoxtS4KjLgiJ159hmQ5+2cvffV/mNepQVJd0smgtpBr...          63.035616  \n",
       "zvXrHCmMHww9hhxkHghkjg4ZM3TcQvn1bQ/jHgHWG0kf/bH...          51.739726  \n",
       "zyCVnSdSSdqgkxMGPVuFfA4ZM3TcQvn1bQ/jHgHWG0kf/bH...         128.526027  \n",
       "\n",
       "[3250 rows x 3 columns]"
      ]
     },
     "execution_count": 139,
     "metadata": {},
     "output_type": "execute_result"
    }
   ],
   "source": [
    "# Check number of years to worked to see the incorrect or outlier values\n",
    "df_total_exp[df_total_exp['working_exp_years']>50]"
   ]
  },
  {
   "cell_type": "code",
   "execution_count": 140,
   "metadata": {},
   "outputs": [
    {
     "data": {
      "image/png": "[encoded data removed]",
      "text/plain": [
       "<Figure size 432x288 with 1 Axes>"
      ]
     },
     "metadata": {
      "needs_background": "light"
     },
     "output_type": "display_data"
    }
   ],
   "source": [
    "#See Boxplot for Outliers.\n",
    "plt.boxplot(df_total_exp['working_exp_years'])\n",
    "plt.show()"
   ]
  },
  {
   "cell_type": "markdown",
   "metadata": {},
   "source": [
    "Hence we see that there are users with work experience greater than 60 years. These are outliers. Hecne let's do some outlier removal processing."
   ]
  },
  {
   "cell_type": "code",
   "execution_count": 142,
   "metadata": {},
   "outputs": [],
   "source": [
    "#Calculate 25th,50th and 75th percentile.\n",
    "per_25,per_50,per_75=np.percentile(df_total_exp['working_exp_years'],[25,50,75])"
   ]
  },
  {
   "cell_type": "code",
   "execution_count": 143,
   "metadata": {},
   "outputs": [],
   "source": [
    "#Calculate IQR, upper limit , lower limit.\n",
    "IQR=per_75-per_25\n",
    "upper_limit=per_75+1.5*IQR\n",
    "lower_limit=per_25-1.5*IQR"
   ]
  },
  {
   "cell_type": "code",
   "execution_count": 144,
   "metadata": {},
   "outputs": [],
   "source": [
    "#Drop Outliers\n",
    "df_total_exp=df_total_exp[df_total_exp['working_exp_years']>=0] #Since Work Exp can't be negative\n",
    "df_total_exp=df_total_exp[df_total_exp['working_exp_years']<=upper_limit]"
   ]
  },
  {
   "cell_type": "code",
   "execution_count": 145,
   "metadata": {},
   "outputs": [
    {
     "data": {
      "text/plain": [
       "(75597,)"
      ]
     },
     "execution_count": 145,
     "metadata": {},
     "output_type": "execute_result"
    }
   ],
   "source": [
    "#Check shape to verify if the rows are removed.\n",
    "df_total_exp['working_exp_years'].shape"
   ]
  },
  {
   "cell_type": "code",
   "execution_count": 146,
   "metadata": {},
   "outputs": [
    {
     "data": {
      "image/png": "[encoded data removed]",
      "text/plain": [
       "<Figure size 432x288 with 1 Axes>"
      ]
     },
     "metadata": {
      "needs_background": "light"
     },
     "output_type": "display_data"
    }
   ],
   "source": [
    "#See Boxplot After removing Outlier.\n",
    "plt.boxplot(df_total_exp['working_exp_years'])\n",
    "plt.show()"
   ]
  },
  {
   "cell_type": "markdown",
   "metadata": {},
   "source": [
    "### Seniority "
   ]
  },
  {
   "cell_type": "code",
   "execution_count": 147,
   "metadata": {},
   "outputs": [
    {
     "data": {
      "image/png": "[encoded data removed]",
      "text/plain": [
       "<Figure size 432x288 with 1 Axes>"
      ]
     },
     "metadata": {
      "needs_background": "light"
     },
     "output_type": "display_data"
    }
   ],
   "source": [
    "# CHeck if Seniority  has any outlier\n",
    "plt.boxplot(df_total_exp['seniority'])\n",
    "plt.show()"
   ]
  },
  {
   "cell_type": "markdown",
   "metadata": {},
   "source": [
    "Hence there are few Outlier in Seniority. Let find IQR and remove outlier."
   ]
  },
  {
   "cell_type": "code",
   "execution_count": 148,
   "metadata": {},
   "outputs": [],
   "source": [
    "#Calculate 25th,50th and 75th percentile.\n",
    "per_25,per_50,per_75=np.percentile(df_total_exp['seniority'],[25,50,75])"
   ]
  },
  {
   "cell_type": "code",
   "execution_count": 149,
   "metadata": {},
   "outputs": [
    {
     "data": {
      "text/plain": [
       "(8.495850168350168, 15.144704151622028, 24.570091324200913)"
      ]
     },
     "execution_count": 149,
     "metadata": {},
     "output_type": "execute_result"
    }
   ],
   "source": [
    "(per_25,per_50,per_75)\n"
   ]
  },
  {
   "cell_type": "code",
   "execution_count": 150,
   "metadata": {},
   "outputs": [],
   "source": [
    "#Calculate IQR, upper limit , lower limit.\n",
    "IQR=per_75-per_25\n",
    "upper_limit=per_75+1.5*IQR\n",
    "lower_limit=per_25-1.5*IQR"
   ]
  },
  {
   "cell_type": "code",
   "execution_count": 151,
   "metadata": {},
   "outputs": [],
   "source": [
    "#Drop Outliers\n",
    "df_total_exp=df_total_exp[df_total_exp['seniority']>=lower_limit] #Since Work Exp can't be negative\n",
    "df_total_exp=df_total_exp[df_total_exp['seniority']<=upper_limit]"
   ]
  },
  {
   "cell_type": "code",
   "execution_count": 152,
   "metadata": {},
   "outputs": [
    {
     "data": {
      "image/png": "[encoded data removed]",
      "text/plain": [
       "<Figure size 432x288 with 1 Axes>"
      ]
     },
     "metadata": {
      "needs_background": "light"
     },
     "output_type": "display_data"
    }
   ],
   "source": [
    "# Check the Boxplot after Outlier removal\n",
    "plt.boxplot(df_total_exp['seniority'])\n",
    "plt.show()"
   ]
  },
  {
   "cell_type": "code",
   "execution_count": 153,
   "metadata": {},
   "outputs": [
    {
     "data": {
      "text/html": [
       "<div>\n",
       "<style scoped>\n",
       "    .dataframe tbody tr th:only-of-type {\n",
       "        vertical-align: middle;\n",
       "    }\n",
       "\n",
       "    .dataframe tbody tr th {\n",
       "        vertical-align: top;\n",
       "    }\n",
       "\n",
       "    .dataframe thead th {\n",
       "        text-align: right;\n",
       "    }\n",
       "</style>\n",
       "<table border=\"1\" class=\"dataframe\">\n",
       "  <thead>\n",
       "    <tr style=\"text-align: right;\">\n",
       "      <th></th>\n",
       "      <th>seniority</th>\n",
       "      <th>days_in_current_role</th>\n",
       "      <th>working_exp_years</th>\n",
       "    </tr>\n",
       "    <tr>\n",
       "      <th>user_id</th>\n",
       "      <th></th>\n",
       "      <th></th>\n",
       "      <th></th>\n",
       "    </tr>\n",
       "  </thead>\n",
       "  <tbody>\n",
       "    <tr>\n",
       "      <th>++5qk2+uEmkI/3Z4FrBwDw4ZM3TcQvn1bQ/jHgHWG0kf/bHrn17MPg==</th>\n",
       "      <td>10.665753</td>\n",
       "      <td>12059</td>\n",
       "      <td>33.038356</td>\n",
       "    </tr>\n",
       "    <tr>\n",
       "      <th>++6+hv3i5RAVsrWO8q5JEQ5+2cvffV/mNepQVJd0smgtpBr4MGMFJQ==</th>\n",
       "      <td>34.692158</td>\n",
       "      <td>3329</td>\n",
       "      <td>9.120548</td>\n",
       "    </tr>\n",
       "    <tr>\n",
       "      <th>++6zEVtPCi83vpPTHSY2Vg5+2cvffV/mNepQVJd0smgtpBr4MGMFJQ==</th>\n",
       "      <td>5.002740</td>\n",
       "      <td>822</td>\n",
       "      <td>2.252055</td>\n",
       "    </tr>\n",
       "    <tr>\n",
       "      <th>++7kB6m0hI1TgAPmyY1X6A5+2cvffV/mNepQVJd0smgtpBr4MGMFJQ==</th>\n",
       "      <td>37.294685</td>\n",
       "      <td>8468</td>\n",
       "      <td>23.200000</td>\n",
       "    </tr>\n",
       "    <tr>\n",
       "      <th>++9DtAOTiRRvECoMIpKbmg4ZM3TcQvn1bQ/jHgHWG0kf/bHrn17MPg==</th>\n",
       "      <td>14.120908</td>\n",
       "      <td>5393</td>\n",
       "      <td>14.775342</td>\n",
       "    </tr>\n",
       "  </tbody>\n",
       "</table>\n",
       "</div>"
      ],
      "text/plain": [
       "                                                    seniority  \\\n",
       "user_id                                                         \n",
       "++5qk2+uEmkI/3Z4FrBwDw4ZM3TcQvn1bQ/jHgHWG0kf/bH...  10.665753   \n",
       "++6+hv3i5RAVsrWO8q5JEQ5+2cvffV/mNepQVJd0smgtpBr...  34.692158   \n",
       "++6zEVtPCi83vpPTHSY2Vg5+2cvffV/mNepQVJd0smgtpBr...   5.002740   \n",
       "++7kB6m0hI1TgAPmyY1X6A5+2cvffV/mNepQVJd0smgtpBr...  37.294685   \n",
       "++9DtAOTiRRvECoMIpKbmg4ZM3TcQvn1bQ/jHgHWG0kf/bH...  14.120908   \n",
       "\n",
       "                                                    days_in_current_role  \\\n",
       "user_id                                                                    \n",
       "++5qk2+uEmkI/3Z4FrBwDw4ZM3TcQvn1bQ/jHgHWG0kf/bH...                 12059   \n",
       "++6+hv3i5RAVsrWO8q5JEQ5+2cvffV/mNepQVJd0smgtpBr...                  3329   \n",
       "++6zEVtPCi83vpPTHSY2Vg5+2cvffV/mNepQVJd0smgtpBr...                   822   \n",
       "++7kB6m0hI1TgAPmyY1X6A5+2cvffV/mNepQVJd0smgtpBr...                  8468   \n",
       "++9DtAOTiRRvECoMIpKbmg4ZM3TcQvn1bQ/jHgHWG0kf/bH...                  5393   \n",
       "\n",
       "                                                    working_exp_years  \n",
       "user_id                                                                \n",
       "++5qk2+uEmkI/3Z4FrBwDw4ZM3TcQvn1bQ/jHgHWG0kf/bH...          33.038356  \n",
       "++6+hv3i5RAVsrWO8q5JEQ5+2cvffV/mNepQVJd0smgtpBr...           9.120548  \n",
       "++6zEVtPCi83vpPTHSY2Vg5+2cvffV/mNepQVJd0smgtpBr...           2.252055  \n",
       "++7kB6m0hI1TgAPmyY1X6A5+2cvffV/mNepQVJd0smgtpBr...          23.200000  \n",
       "++9DtAOTiRRvECoMIpKbmg4ZM3TcQvn1bQ/jHgHWG0kf/bH...          14.775342  "
      ]
     },
     "execution_count": 153,
     "metadata": {},
     "output_type": "execute_result"
    }
   ],
   "source": [
    "df_total_exp.head()"
   ]
  },
  {
   "cell_type": "code",
   "execution_count": 154,
   "metadata": {},
   "outputs": [
    {
     "data": {
      "text/plain": [
       "(73078, 3)"
      ]
     },
     "execution_count": 154,
     "metadata": {},
     "output_type": "execute_result"
    }
   ],
   "source": [
    "df_total_exp.shape"
   ]
  },
  {
   "cell_type": "markdown",
   "metadata": {},
   "source": [
    "## Merge Total Experience and Senority Data with Education."
   ]
  },
  {
   "cell_type": "code",
   "execution_count": 155,
   "metadata": {},
   "outputs": [
    {
     "data": {
      "text/html": [
       "<div>\n",
       "<style scoped>\n",
       "    .dataframe tbody tr th:only-of-type {\n",
       "        vertical-align: middle;\n",
       "    }\n",
       "\n",
       "    .dataframe tbody tr th {\n",
       "        vertical-align: top;\n",
       "    }\n",
       "\n",
       "    .dataframe thead th {\n",
       "        text-align: right;\n",
       "    }\n",
       "</style>\n",
       "<table border=\"1\" class=\"dataframe\">\n",
       "  <thead>\n",
       "    <tr style=\"text-align: right;\">\n",
       "      <th></th>\n",
       "      <th>education_years</th>\n",
       "    </tr>\n",
       "    <tr>\n",
       "      <th>user_id</th>\n",
       "      <th></th>\n",
       "    </tr>\n",
       "  </thead>\n",
       "  <tbody>\n",
       "    <tr>\n",
       "      <th>++5SW5MI5/h8X1hMA3QnmQ4ZM3TcQvn1bQ/jHgHWG0kf/bHrn17MPg==</th>\n",
       "      <td>4.0</td>\n",
       "    </tr>\n",
       "    <tr>\n",
       "      <th>++5qk2+uEmkI/3Z4FrBwDw4ZM3TcQvn1bQ/jHgHWG0kf/bHrn17MPg==</th>\n",
       "      <td>8.0</td>\n",
       "    </tr>\n",
       "    <tr>\n",
       "      <th>++6+hv3i5RAVsrWO8q5JEQ5+2cvffV/mNepQVJd0smgtpBr4MGMFJQ==</th>\n",
       "      <td>3.0</td>\n",
       "    </tr>\n",
       "    <tr>\n",
       "      <th>++6zEVtPCi83vpPTHSY2Vg5+2cvffV/mNepQVJd0smgtpBr4MGMFJQ==</th>\n",
       "      <td>5.0</td>\n",
       "    </tr>\n",
       "    <tr>\n",
       "      <th>++7kB6m0hI1TgAPmyY1X6A5+2cvffV/mNepQVJd0smgtpBr4MGMFJQ==</th>\n",
       "      <td>2.0</td>\n",
       "    </tr>\n",
       "  </tbody>\n",
       "</table>\n",
       "</div>"
      ],
      "text/plain": [
       "                                                    education_years\n",
       "user_id                                                            \n",
       "++5SW5MI5/h8X1hMA3QnmQ4ZM3TcQvn1bQ/jHgHWG0kf/bH...              4.0\n",
       "++5qk2+uEmkI/3Z4FrBwDw4ZM3TcQvn1bQ/jHgHWG0kf/bH...              8.0\n",
       "++6+hv3i5RAVsrWO8q5JEQ5+2cvffV/mNepQVJd0smgtpBr...              3.0\n",
       "++6zEVtPCi83vpPTHSY2Vg5+2cvffV/mNepQVJd0smgtpBr...              5.0\n",
       "++7kB6m0hI1TgAPmyY1X6A5+2cvffV/mNepQVJd0smgtpBr...              2.0"
      ]
     },
     "execution_count": 155,
     "metadata": {},
     "output_type": "execute_result"
    }
   ],
   "source": [
    "#Education Years Data\n",
    "df_edu_years.head()"
   ]
  },
  {
   "cell_type": "code",
   "execution_count": 156,
   "metadata": {},
   "outputs": [],
   "source": [
    "#Convert UserID index to Column\n",
    "df_edu_years.reset_index(inplace=True)"
   ]
  },
  {
   "cell_type": "code",
   "execution_count": 157,
   "metadata": {},
   "outputs": [
    {
     "data": {
      "text/html": [
       "<div>\n",
       "<style scoped>\n",
       "    .dataframe tbody tr th:only-of-type {\n",
       "        vertical-align: middle;\n",
       "    }\n",
       "\n",
       "    .dataframe tbody tr th {\n",
       "        vertical-align: top;\n",
       "    }\n",
       "\n",
       "    .dataframe thead th {\n",
       "        text-align: right;\n",
       "    }\n",
       "</style>\n",
       "<table border=\"1\" class=\"dataframe\">\n",
       "  <thead>\n",
       "    <tr style=\"text-align: right;\">\n",
       "      <th></th>\n",
       "      <th>user_id</th>\n",
       "      <th>education_years</th>\n",
       "    </tr>\n",
       "  </thead>\n",
       "  <tbody>\n",
       "    <tr>\n",
       "      <th>0</th>\n",
       "      <td>++5SW5MI5/h8X1hMA3QnmQ4ZM3TcQvn1bQ/jHgHWG0kf/b...</td>\n",
       "      <td>4.0</td>\n",
       "    </tr>\n",
       "    <tr>\n",
       "      <th>1</th>\n",
       "      <td>++5qk2+uEmkI/3Z4FrBwDw4ZM3TcQvn1bQ/jHgHWG0kf/b...</td>\n",
       "      <td>8.0</td>\n",
       "    </tr>\n",
       "    <tr>\n",
       "      <th>2</th>\n",
       "      <td>++6+hv3i5RAVsrWO8q5JEQ5+2cvffV/mNepQVJd0smgtpB...</td>\n",
       "      <td>3.0</td>\n",
       "    </tr>\n",
       "    <tr>\n",
       "      <th>3</th>\n",
       "      <td>++6zEVtPCi83vpPTHSY2Vg5+2cvffV/mNepQVJd0smgtpB...</td>\n",
       "      <td>5.0</td>\n",
       "    </tr>\n",
       "    <tr>\n",
       "      <th>4</th>\n",
       "      <td>++7kB6m0hI1TgAPmyY1X6A5+2cvffV/mNepQVJd0smgtpB...</td>\n",
       "      <td>2.0</td>\n",
       "    </tr>\n",
       "  </tbody>\n",
       "</table>\n",
       "</div>"
      ],
      "text/plain": [
       "                                             user_id  education_years\n",
       "0  ++5SW5MI5/h8X1hMA3QnmQ4ZM3TcQvn1bQ/jHgHWG0kf/b...              4.0\n",
       "1  ++5qk2+uEmkI/3Z4FrBwDw4ZM3TcQvn1bQ/jHgHWG0kf/b...              8.0\n",
       "2  ++6+hv3i5RAVsrWO8q5JEQ5+2cvffV/mNepQVJd0smgtpB...              3.0\n",
       "3  ++6zEVtPCi83vpPTHSY2Vg5+2cvffV/mNepQVJd0smgtpB...              5.0\n",
       "4  ++7kB6m0hI1TgAPmyY1X6A5+2cvffV/mNepQVJd0smgtpB...              2.0"
      ]
     },
     "execution_count": 157,
     "metadata": {},
     "output_type": "execute_result"
    }
   ],
   "source": [
    "#Verify the Reset Operation.\n",
    "df_edu_years.head()"
   ]
  },
  {
   "cell_type": "code",
   "execution_count": 158,
   "metadata": {},
   "outputs": [
    {
     "data": {
      "text/plain": [
       "(86949, 2)"
      ]
     },
     "execution_count": 158,
     "metadata": {},
     "output_type": "execute_result"
    }
   ],
   "source": [
    "df_edu_years.shape"
   ]
  },
  {
   "cell_type": "code",
   "execution_count": 159,
   "metadata": {},
   "outputs": [],
   "source": [
    "#Similarly reset Work Experience Data.\n",
    "df_total_exp.reset_index(inplace=True)"
   ]
  },
  {
   "cell_type": "code",
   "execution_count": 160,
   "metadata": {},
   "outputs": [
    {
     "data": {
      "text/html": [
       "<div>\n",
       "<style scoped>\n",
       "    .dataframe tbody tr th:only-of-type {\n",
       "        vertical-align: middle;\n",
       "    }\n",
       "\n",
       "    .dataframe tbody tr th {\n",
       "        vertical-align: top;\n",
       "    }\n",
       "\n",
       "    .dataframe thead th {\n",
       "        text-align: right;\n",
       "    }\n",
       "</style>\n",
       "<table border=\"1\" class=\"dataframe\">\n",
       "  <thead>\n",
       "    <tr style=\"text-align: right;\">\n",
       "      <th></th>\n",
       "      <th>user_id</th>\n",
       "      <th>seniority</th>\n",
       "      <th>days_in_current_role</th>\n",
       "      <th>working_exp_years</th>\n",
       "    </tr>\n",
       "  </thead>\n",
       "  <tbody>\n",
       "    <tr>\n",
       "      <th>0</th>\n",
       "      <td>++5qk2+uEmkI/3Z4FrBwDw4ZM3TcQvn1bQ/jHgHWG0kf/b...</td>\n",
       "      <td>10.665753</td>\n",
       "      <td>12059</td>\n",
       "      <td>33.038356</td>\n",
       "    </tr>\n",
       "    <tr>\n",
       "      <th>1</th>\n",
       "      <td>++6+hv3i5RAVsrWO8q5JEQ5+2cvffV/mNepQVJd0smgtpB...</td>\n",
       "      <td>34.692158</td>\n",
       "      <td>3329</td>\n",
       "      <td>9.120548</td>\n",
       "    </tr>\n",
       "    <tr>\n",
       "      <th>2</th>\n",
       "      <td>++6zEVtPCi83vpPTHSY2Vg5+2cvffV/mNepQVJd0smgtpB...</td>\n",
       "      <td>5.002740</td>\n",
       "      <td>822</td>\n",
       "      <td>2.252055</td>\n",
       "    </tr>\n",
       "    <tr>\n",
       "      <th>3</th>\n",
       "      <td>++7kB6m0hI1TgAPmyY1X6A5+2cvffV/mNepQVJd0smgtpB...</td>\n",
       "      <td>37.294685</td>\n",
       "      <td>8468</td>\n",
       "      <td>23.200000</td>\n",
       "    </tr>\n",
       "    <tr>\n",
       "      <th>4</th>\n",
       "      <td>++9DtAOTiRRvECoMIpKbmg4ZM3TcQvn1bQ/jHgHWG0kf/b...</td>\n",
       "      <td>14.120908</td>\n",
       "      <td>5393</td>\n",
       "      <td>14.775342</td>\n",
       "    </tr>\n",
       "  </tbody>\n",
       "</table>\n",
       "</div>"
      ],
      "text/plain": [
       "                                             user_id  seniority  \\\n",
       "0  ++5qk2+uEmkI/3Z4FrBwDw4ZM3TcQvn1bQ/jHgHWG0kf/b...  10.665753   \n",
       "1  ++6+hv3i5RAVsrWO8q5JEQ5+2cvffV/mNepQVJd0smgtpB...  34.692158   \n",
       "2  ++6zEVtPCi83vpPTHSY2Vg5+2cvffV/mNepQVJd0smgtpB...   5.002740   \n",
       "3  ++7kB6m0hI1TgAPmyY1X6A5+2cvffV/mNepQVJd0smgtpB...  37.294685   \n",
       "4  ++9DtAOTiRRvECoMIpKbmg4ZM3TcQvn1bQ/jHgHWG0kf/b...  14.120908   \n",
       "\n",
       "   days_in_current_role  working_exp_years  \n",
       "0                 12059          33.038356  \n",
       "1                  3329           9.120548  \n",
       "2                   822           2.252055  \n",
       "3                  8468          23.200000  \n",
       "4                  5393          14.775342  "
      ]
     },
     "execution_count": 160,
     "metadata": {},
     "output_type": "execute_result"
    }
   ],
   "source": [
    "#Verify the Reset Operation.\n",
    "df_total_exp.head()"
   ]
  },
  {
   "cell_type": "code",
   "execution_count": 161,
   "metadata": {},
   "outputs": [
    {
     "data": {
      "text/plain": [
       "(73078, 4)"
      ]
     },
     "execution_count": 161,
     "metadata": {},
     "output_type": "execute_result"
    }
   ],
   "source": [
    "df_total_exp.shape"
   ]
  },
  {
   "cell_type": "code",
   "execution_count": 162,
   "metadata": {},
   "outputs": [],
   "source": [
    "#Lets Merge Education and Total Experience Data\n",
    "df_all=pd.merge(df_total_exp,df_edu_years,on=['user_id'],how='inner')"
   ]
  },
  {
   "cell_type": "code",
   "execution_count": 163,
   "metadata": {},
   "outputs": [
    {
     "data": {
      "text/html": [
       "<div>\n",
       "<style scoped>\n",
       "    .dataframe tbody tr th:only-of-type {\n",
       "        vertical-align: middle;\n",
       "    }\n",
       "\n",
       "    .dataframe tbody tr th {\n",
       "        vertical-align: top;\n",
       "    }\n",
       "\n",
       "    .dataframe thead th {\n",
       "        text-align: right;\n",
       "    }\n",
       "</style>\n",
       "<table border=\"1\" class=\"dataframe\">\n",
       "  <thead>\n",
       "    <tr style=\"text-align: right;\">\n",
       "      <th></th>\n",
       "      <th>user_id</th>\n",
       "      <th>seniority</th>\n",
       "      <th>days_in_current_role</th>\n",
       "      <th>working_exp_years</th>\n",
       "      <th>education_years</th>\n",
       "    </tr>\n",
       "  </thead>\n",
       "  <tbody>\n",
       "    <tr>\n",
       "      <th>0</th>\n",
       "      <td>++5qk2+uEmkI/3Z4FrBwDw4ZM3TcQvn1bQ/jHgHWG0kf/b...</td>\n",
       "      <td>10.665753</td>\n",
       "      <td>12059</td>\n",
       "      <td>33.038356</td>\n",
       "      <td>8.0</td>\n",
       "    </tr>\n",
       "    <tr>\n",
       "      <th>1</th>\n",
       "      <td>++6+hv3i5RAVsrWO8q5JEQ5+2cvffV/mNepQVJd0smgtpB...</td>\n",
       "      <td>34.692158</td>\n",
       "      <td>3329</td>\n",
       "      <td>9.120548</td>\n",
       "      <td>3.0</td>\n",
       "    </tr>\n",
       "    <tr>\n",
       "      <th>2</th>\n",
       "      <td>++6zEVtPCi83vpPTHSY2Vg5+2cvffV/mNepQVJd0smgtpB...</td>\n",
       "      <td>5.002740</td>\n",
       "      <td>822</td>\n",
       "      <td>2.252055</td>\n",
       "      <td>5.0</td>\n",
       "    </tr>\n",
       "    <tr>\n",
       "      <th>3</th>\n",
       "      <td>++7kB6m0hI1TgAPmyY1X6A5+2cvffV/mNepQVJd0smgtpB...</td>\n",
       "      <td>37.294685</td>\n",
       "      <td>8468</td>\n",
       "      <td>23.200000</td>\n",
       "      <td>2.0</td>\n",
       "    </tr>\n",
       "    <tr>\n",
       "      <th>4</th>\n",
       "      <td>++9DtAOTiRRvECoMIpKbmg4ZM3TcQvn1bQ/jHgHWG0kf/b...</td>\n",
       "      <td>14.120908</td>\n",
       "      <td>5393</td>\n",
       "      <td>14.775342</td>\n",
       "      <td>5.0</td>\n",
       "    </tr>\n",
       "  </tbody>\n",
       "</table>\n",
       "</div>"
      ],
      "text/plain": [
       "                                             user_id  seniority  \\\n",
       "0  ++5qk2+uEmkI/3Z4FrBwDw4ZM3TcQvn1bQ/jHgHWG0kf/b...  10.665753   \n",
       "1  ++6+hv3i5RAVsrWO8q5JEQ5+2cvffV/mNepQVJd0smgtpB...  34.692158   \n",
       "2  ++6zEVtPCi83vpPTHSY2Vg5+2cvffV/mNepQVJd0smgtpB...   5.002740   \n",
       "3  ++7kB6m0hI1TgAPmyY1X6A5+2cvffV/mNepQVJd0smgtpB...  37.294685   \n",
       "4  ++9DtAOTiRRvECoMIpKbmg4ZM3TcQvn1bQ/jHgHWG0kf/b...  14.120908   \n",
       "\n",
       "   days_in_current_role  working_exp_years  education_years  \n",
       "0                 12059          33.038356              8.0  \n",
       "1                  3329           9.120548              3.0  \n",
       "2                   822           2.252055              5.0  \n",
       "3                  8468          23.200000              2.0  \n",
       "4                  5393          14.775342              5.0  "
      ]
     },
     "execution_count": 163,
     "metadata": {},
     "output_type": "execute_result"
    }
   ],
   "source": [
    "df_all.head()"
   ]
  },
  {
   "cell_type": "code",
   "execution_count": 164,
   "metadata": {},
   "outputs": [
    {
     "data": {
      "text/plain": [
       "(63858, 5)"
      ]
     },
     "execution_count": 164,
     "metadata": {},
     "output_type": "execute_result"
    }
   ],
   "source": [
    "df_all.shape"
   ]
  },
  {
   "cell_type": "code",
   "execution_count": 165,
   "metadata": {},
   "outputs": [
    {
     "data": {
      "text/plain": [
       "user_id                 0\n",
       "seniority               0\n",
       "days_in_current_role    0\n",
       "working_exp_years       0\n",
       "education_years         0\n",
       "dtype: int64"
      ]
     },
     "execution_count": 165,
     "metadata": {},
     "output_type": "execute_result"
    }
   ],
   "source": [
    "#Check if there is any missing values\n",
    "np.sum(df_all.isna())"
   ]
  },
  {
   "cell_type": "markdown",
   "metadata": {},
   "source": [
    "## Train Test Split"
   ]
  },
  {
   "cell_type": "code",
   "execution_count": 166,
   "metadata": {},
   "outputs": [],
   "source": [
    "# Get Train Data\n",
    "train=df_all[df_all['user_id'].isin(train_user_ids)]"
   ]
  },
  {
   "cell_type": "code",
   "execution_count": 167,
   "metadata": {},
   "outputs": [
    {
     "data": {
      "text/html": [
       "<div>\n",
       "<style scoped>\n",
       "    .dataframe tbody tr th:only-of-type {\n",
       "        vertical-align: middle;\n",
       "    }\n",
       "\n",
       "    .dataframe tbody tr th {\n",
       "        vertical-align: top;\n",
       "    }\n",
       "\n",
       "    .dataframe thead th {\n",
       "        text-align: right;\n",
       "    }\n",
       "</style>\n",
       "<table border=\"1\" class=\"dataframe\">\n",
       "  <thead>\n",
       "    <tr style=\"text-align: right;\">\n",
       "      <th></th>\n",
       "      <th>user_id</th>\n",
       "      <th>seniority</th>\n",
       "      <th>days_in_current_role</th>\n",
       "      <th>working_exp_years</th>\n",
       "      <th>education_years</th>\n",
       "    </tr>\n",
       "  </thead>\n",
       "  <tbody>\n",
       "    <tr>\n",
       "      <th>0</th>\n",
       "      <td>++5qk2+uEmkI/3Z4FrBwDw4ZM3TcQvn1bQ/jHgHWG0kf/b...</td>\n",
       "      <td>10.665753</td>\n",
       "      <td>12059</td>\n",
       "      <td>33.038356</td>\n",
       "      <td>8.0</td>\n",
       "    </tr>\n",
       "    <tr>\n",
       "      <th>1</th>\n",
       "      <td>++6+hv3i5RAVsrWO8q5JEQ5+2cvffV/mNepQVJd0smgtpB...</td>\n",
       "      <td>34.692158</td>\n",
       "      <td>3329</td>\n",
       "      <td>9.120548</td>\n",
       "      <td>3.0</td>\n",
       "    </tr>\n",
       "    <tr>\n",
       "      <th>3</th>\n",
       "      <td>++7kB6m0hI1TgAPmyY1X6A5+2cvffV/mNepQVJd0smgtpB...</td>\n",
       "      <td>37.294685</td>\n",
       "      <td>8468</td>\n",
       "      <td>23.200000</td>\n",
       "      <td>2.0</td>\n",
       "    </tr>\n",
       "    <tr>\n",
       "      <th>4</th>\n",
       "      <td>++9DtAOTiRRvECoMIpKbmg4ZM3TcQvn1bQ/jHgHWG0kf/b...</td>\n",
       "      <td>14.120908</td>\n",
       "      <td>5393</td>\n",
       "      <td>14.775342</td>\n",
       "      <td>5.0</td>\n",
       "    </tr>\n",
       "    <tr>\n",
       "      <th>5</th>\n",
       "      <td>++Bu40VW3TpqnNRejHUsow5+2cvffV/mNepQVJd0smgtpB...</td>\n",
       "      <td>25.268493</td>\n",
       "      <td>2287</td>\n",
       "      <td>6.265753</td>\n",
       "      <td>6.0</td>\n",
       "    </tr>\n",
       "  </tbody>\n",
       "</table>\n",
       "</div>"
      ],
      "text/plain": [
       "                                             user_id  seniority  \\\n",
       "0  ++5qk2+uEmkI/3Z4FrBwDw4ZM3TcQvn1bQ/jHgHWG0kf/b...  10.665753   \n",
       "1  ++6+hv3i5RAVsrWO8q5JEQ5+2cvffV/mNepQVJd0smgtpB...  34.692158   \n",
       "3  ++7kB6m0hI1TgAPmyY1X6A5+2cvffV/mNepQVJd0smgtpB...  37.294685   \n",
       "4  ++9DtAOTiRRvECoMIpKbmg4ZM3TcQvn1bQ/jHgHWG0kf/b...  14.120908   \n",
       "5  ++Bu40VW3TpqnNRejHUsow5+2cvffV/mNepQVJd0smgtpB...  25.268493   \n",
       "\n",
       "   days_in_current_role  working_exp_years  education_years  \n",
       "0                 12059          33.038356              8.0  \n",
       "1                  3329           9.120548              3.0  \n",
       "3                  8468          23.200000              2.0  \n",
       "4                  5393          14.775342              5.0  \n",
       "5                  2287           6.265753              6.0  "
      ]
     },
     "execution_count": 167,
     "metadata": {},
     "output_type": "execute_result"
    }
   ],
   "source": [
    "train.head()"
   ]
  },
  {
   "cell_type": "code",
   "execution_count": 168,
   "metadata": {},
   "outputs": [
    {
     "data": {
      "text/plain": [
       "(55684, 5)"
      ]
     },
     "execution_count": 168,
     "metadata": {},
     "output_type": "execute_result"
    }
   ],
   "source": [
    "train.shape"
   ]
  },
  {
   "cell_type": "code",
   "execution_count": 169,
   "metadata": {},
   "outputs": [
    {
     "data": {
      "text/plain": [
       "0         True\n",
       "1         True\n",
       "2        False\n",
       "3         True\n",
       "4         True\n",
       "         ...  \n",
       "63853     True\n",
       "63854    False\n",
       "63855     True\n",
       "63856     True\n",
       "63857     True\n",
       "Name: user_id, Length: 63858, dtype: bool"
      ]
     },
     "execution_count": 169,
     "metadata": {},
     "output_type": "execute_result"
    }
   ],
   "source": [
    "df_all['user_id'].isin(train_user_ids)"
   ]
  },
  {
   "cell_type": "code",
   "execution_count": 170,
   "metadata": {},
   "outputs": [],
   "source": [
    "# Get Test Data\n",
    "test=df_all[df_all['user_id'].isin(test_user_ids)]"
   ]
  },
  {
   "cell_type": "code",
   "execution_count": 171,
   "metadata": {},
   "outputs": [
    {
     "data": {
      "text/html": [
       "<div>\n",
       "<style scoped>\n",
       "    .dataframe tbody tr th:only-of-type {\n",
       "        vertical-align: middle;\n",
       "    }\n",
       "\n",
       "    .dataframe tbody tr th {\n",
       "        vertical-align: top;\n",
       "    }\n",
       "\n",
       "    .dataframe thead th {\n",
       "        text-align: right;\n",
       "    }\n",
       "</style>\n",
       "<table border=\"1\" class=\"dataframe\">\n",
       "  <thead>\n",
       "    <tr style=\"text-align: right;\">\n",
       "      <th></th>\n",
       "      <th>user_id</th>\n",
       "      <th>seniority</th>\n",
       "      <th>days_in_current_role</th>\n",
       "      <th>working_exp_years</th>\n",
       "      <th>education_years</th>\n",
       "    </tr>\n",
       "  </thead>\n",
       "  <tbody>\n",
       "    <tr>\n",
       "      <th>2</th>\n",
       "      <td>++6zEVtPCi83vpPTHSY2Vg5+2cvffV/mNepQVJd0smgtpB...</td>\n",
       "      <td>5.002740</td>\n",
       "      <td>822</td>\n",
       "      <td>2.252055</td>\n",
       "      <td>5.0</td>\n",
       "    </tr>\n",
       "    <tr>\n",
       "      <th>13</th>\n",
       "      <td>++UVtBJpXMa1E+IOQobfrQ5+2cvffV/mNepQVJd0smgtpB...</td>\n",
       "      <td>25.901599</td>\n",
       "      <td>2558</td>\n",
       "      <td>7.008219</td>\n",
       "      <td>3.0</td>\n",
       "    </tr>\n",
       "    <tr>\n",
       "      <th>21</th>\n",
       "      <td>++ezojV5y6oN+zgZrWd8Rw+/8VEIFuQmbQ/jHgHWG0kf/b...</td>\n",
       "      <td>14.927184</td>\n",
       "      <td>5390</td>\n",
       "      <td>14.767123</td>\n",
       "      <td>10.0</td>\n",
       "    </tr>\n",
       "    <tr>\n",
       "      <th>37</th>\n",
       "      <td>+/NxmNuPQQEhv6xszCovjQ4ZM3TcQvn1bQ/jHgHWG0kf/b...</td>\n",
       "      <td>14.027426</td>\n",
       "      <td>2161</td>\n",
       "      <td>5.920548</td>\n",
       "      <td>0.0</td>\n",
       "    </tr>\n",
       "    <tr>\n",
       "      <th>38</th>\n",
       "      <td>+/Sp4G4/k1aErLOmAoPHkA5+2cvffV/mNepQVJd0smgtpB...</td>\n",
       "      <td>3.501003</td>\n",
       "      <td>730</td>\n",
       "      <td>2.000000</td>\n",
       "      <td>2.0</td>\n",
       "    </tr>\n",
       "  </tbody>\n",
       "</table>\n",
       "</div>"
      ],
      "text/plain": [
       "                                              user_id  seniority  \\\n",
       "2   ++6zEVtPCi83vpPTHSY2Vg5+2cvffV/mNepQVJd0smgtpB...   5.002740   \n",
       "13  ++UVtBJpXMa1E+IOQobfrQ5+2cvffV/mNepQVJd0smgtpB...  25.901599   \n",
       "21  ++ezojV5y6oN+zgZrWd8Rw+/8VEIFuQmbQ/jHgHWG0kf/b...  14.927184   \n",
       "37  +/NxmNuPQQEhv6xszCovjQ4ZM3TcQvn1bQ/jHgHWG0kf/b...  14.027426   \n",
       "38  +/Sp4G4/k1aErLOmAoPHkA5+2cvffV/mNepQVJd0smgtpB...   3.501003   \n",
       "\n",
       "    days_in_current_role  working_exp_years  education_years  \n",
       "2                    822           2.252055              5.0  \n",
       "13                  2558           7.008219              3.0  \n",
       "21                  5390          14.767123             10.0  \n",
       "37                  2161           5.920548              0.0  \n",
       "38                   730           2.000000              2.0  "
      ]
     },
     "execution_count": 171,
     "metadata": {},
     "output_type": "execute_result"
    }
   ],
   "source": [
    "test.head()"
   ]
  },
  {
   "cell_type": "code",
   "execution_count": 172,
   "metadata": {},
   "outputs": [
    {
     "data": {
      "text/plain": [
       "(8174, 5)"
      ]
     },
     "execution_count": 172,
     "metadata": {},
     "output_type": "execute_result"
    }
   ],
   "source": [
    "test.shape"
   ]
  },
  {
   "cell_type": "markdown",
   "metadata": {},
   "source": [
    "## Now lets calculate the labels for X_train data assuming the average age of the person at start of education is 18 years. "
   ]
  },
  {
   "cell_type": "code",
   "execution_count": 173,
   "metadata": {},
   "outputs": [],
   "source": [
    "def generate_age(row):\n",
    "    random_number=np.random.normal(18, 1)\n",
    "    return row['working_exp_years']+row['education_years']+random_number"
   ]
  },
  {
   "cell_type": "code",
   "execution_count": 174,
   "metadata": {},
   "outputs": [
    {
     "name": "stderr",
     "output_type": "stream",
     "text": [
      "<ipython-input-174-eac096d52615>:1: SettingWithCopyWarning: \n",
      "A value is trying to be set on a copy of a slice from a DataFrame.\n",
      "Try using .loc[row_indexer,col_indexer] = value instead\n",
      "\n",
      "See the caveats in the documentation: https://pandas.pydata.org/pandas-docs/stable/user_guide/indexing.html#returning-a-view-versus-a-copy\n",
      "  train['age']=train.apply(generate_age,axis=1)\n"
     ]
    }
   ],
   "source": [
    "train['age']=train.apply(generate_age,axis=1)"
   ]
  },
  {
   "cell_type": "code",
   "execution_count": 175,
   "metadata": {},
   "outputs": [],
   "source": [
    "#train['age']=train['working_exp_years']+train['education_years']+18"
   ]
  },
  {
   "cell_type": "code",
   "execution_count": 176,
   "metadata": {},
   "outputs": [
    {
     "data": {
      "text/html": [
       "<div>\n",
       "<style scoped>\n",
       "    .dataframe tbody tr th:only-of-type {\n",
       "        vertical-align: middle;\n",
       "    }\n",
       "\n",
       "    .dataframe tbody tr th {\n",
       "        vertical-align: top;\n",
       "    }\n",
       "\n",
       "    .dataframe thead th {\n",
       "        text-align: right;\n",
       "    }\n",
       "</style>\n",
       "<table border=\"1\" class=\"dataframe\">\n",
       "  <thead>\n",
       "    <tr style=\"text-align: right;\">\n",
       "      <th></th>\n",
       "      <th>user_id</th>\n",
       "      <th>seniority</th>\n",
       "      <th>days_in_current_role</th>\n",
       "      <th>working_exp_years</th>\n",
       "      <th>education_years</th>\n",
       "      <th>age</th>\n",
       "    </tr>\n",
       "  </thead>\n",
       "  <tbody>\n",
       "    <tr>\n",
       "      <th>0</th>\n",
       "      <td>++5qk2+uEmkI/3Z4FrBwDw4ZM3TcQvn1bQ/jHgHWG0kf/b...</td>\n",
       "      <td>10.665753</td>\n",
       "      <td>12059</td>\n",
       "      <td>33.038356</td>\n",
       "      <td>8.0</td>\n",
       "      <td>58.428763</td>\n",
       "    </tr>\n",
       "    <tr>\n",
       "      <th>1</th>\n",
       "      <td>++6+hv3i5RAVsrWO8q5JEQ5+2cvffV/mNepQVJd0smgtpB...</td>\n",
       "      <td>34.692158</td>\n",
       "      <td>3329</td>\n",
       "      <td>9.120548</td>\n",
       "      <td>3.0</td>\n",
       "      <td>29.965596</td>\n",
       "    </tr>\n",
       "    <tr>\n",
       "      <th>3</th>\n",
       "      <td>++7kB6m0hI1TgAPmyY1X6A5+2cvffV/mNepQVJd0smgtpB...</td>\n",
       "      <td>37.294685</td>\n",
       "      <td>8468</td>\n",
       "      <td>23.200000</td>\n",
       "      <td>2.0</td>\n",
       "      <td>45.358842</td>\n",
       "    </tr>\n",
       "    <tr>\n",
       "      <th>4</th>\n",
       "      <td>++9DtAOTiRRvECoMIpKbmg4ZM3TcQvn1bQ/jHgHWG0kf/b...</td>\n",
       "      <td>14.120908</td>\n",
       "      <td>5393</td>\n",
       "      <td>14.775342</td>\n",
       "      <td>5.0</td>\n",
       "      <td>35.579407</td>\n",
       "    </tr>\n",
       "    <tr>\n",
       "      <th>5</th>\n",
       "      <td>++Bu40VW3TpqnNRejHUsow5+2cvffV/mNepQVJd0smgtpB...</td>\n",
       "      <td>25.268493</td>\n",
       "      <td>2287</td>\n",
       "      <td>6.265753</td>\n",
       "      <td>6.0</td>\n",
       "      <td>32.097088</td>\n",
       "    </tr>\n",
       "    <tr>\n",
       "      <th>...</th>\n",
       "      <td>...</td>\n",
       "      <td>...</td>\n",
       "      <td>...</td>\n",
       "      <td>...</td>\n",
       "      <td>...</td>\n",
       "      <td>...</td>\n",
       "    </tr>\n",
       "    <tr>\n",
       "      <th>63852</th>\n",
       "      <td>zzP74CTnQ3lKvQa4Z8m3Vw4ZM3TcQvn1bQ/jHgHWG0kf/b...</td>\n",
       "      <td>21.166360</td>\n",
       "      <td>7342</td>\n",
       "      <td>20.115068</td>\n",
       "      <td>7.0</td>\n",
       "      <td>45.344348</td>\n",
       "    </tr>\n",
       "    <tr>\n",
       "      <th>63853</th>\n",
       "      <td>zzP7zTK3JaSeTqz9AtikLg5+2cvffV/mNepQVJd0smgtpB...</td>\n",
       "      <td>22.559653</td>\n",
       "      <td>2901</td>\n",
       "      <td>7.947945</td>\n",
       "      <td>12.0</td>\n",
       "      <td>38.133356</td>\n",
       "    </tr>\n",
       "    <tr>\n",
       "      <th>63855</th>\n",
       "      <td>zzZdW3VGODRxRl2025ZR2w5+2cvffV/mNepQVJd0smgtpB...</td>\n",
       "      <td>14.064917</td>\n",
       "      <td>6123</td>\n",
       "      <td>16.775342</td>\n",
       "      <td>5.0</td>\n",
       "      <td>39.465042</td>\n",
       "    </tr>\n",
       "    <tr>\n",
       "      <th>63856</th>\n",
       "      <td>zzrNxfUzwZXNkSs15haLyA4ZM3TcQvn1bQ/jHgHWG0kf/b...</td>\n",
       "      <td>4.610625</td>\n",
       "      <td>10903</td>\n",
       "      <td>29.871233</td>\n",
       "      <td>5.0</td>\n",
       "      <td>52.869437</td>\n",
       "    </tr>\n",
       "    <tr>\n",
       "      <th>63857</th>\n",
       "      <td>zzvZxBSf81furoFl3PcSuHAG1BvSkUYANepQVJd0smgtpB...</td>\n",
       "      <td>13.246241</td>\n",
       "      <td>2411</td>\n",
       "      <td>6.605479</td>\n",
       "      <td>4.0</td>\n",
       "      <td>29.071636</td>\n",
       "    </tr>\n",
       "  </tbody>\n",
       "</table>\n",
       "<p>55439 rows × 6 columns</p>\n",
       "</div>"
      ],
      "text/plain": [
       "                                                 user_id  seniority  \\\n",
       "0      ++5qk2+uEmkI/3Z4FrBwDw4ZM3TcQvn1bQ/jHgHWG0kf/b...  10.665753   \n",
       "1      ++6+hv3i5RAVsrWO8q5JEQ5+2cvffV/mNepQVJd0smgtpB...  34.692158   \n",
       "3      ++7kB6m0hI1TgAPmyY1X6A5+2cvffV/mNepQVJd0smgtpB...  37.294685   \n",
       "4      ++9DtAOTiRRvECoMIpKbmg4ZM3TcQvn1bQ/jHgHWG0kf/b...  14.120908   \n",
       "5      ++Bu40VW3TpqnNRejHUsow5+2cvffV/mNepQVJd0smgtpB...  25.268493   \n",
       "...                                                  ...        ...   \n",
       "63852  zzP74CTnQ3lKvQa4Z8m3Vw4ZM3TcQvn1bQ/jHgHWG0kf/b...  21.166360   \n",
       "63853  zzP7zTK3JaSeTqz9AtikLg5+2cvffV/mNepQVJd0smgtpB...  22.559653   \n",
       "63855  zzZdW3VGODRxRl2025ZR2w5+2cvffV/mNepQVJd0smgtpB...  14.064917   \n",
       "63856  zzrNxfUzwZXNkSs15haLyA4ZM3TcQvn1bQ/jHgHWG0kf/b...   4.610625   \n",
       "63857  zzvZxBSf81furoFl3PcSuHAG1BvSkUYANepQVJd0smgtpB...  13.246241   \n",
       "\n",
       "       days_in_current_role  working_exp_years  education_years        age  \n",
       "0                     12059          33.038356              8.0  58.428763  \n",
       "1                      3329           9.120548              3.0  29.965596  \n",
       "3                      8468          23.200000              2.0  45.358842  \n",
       "4                      5393          14.775342              5.0  35.579407  \n",
       "5                      2287           6.265753              6.0  32.097088  \n",
       "...                     ...                ...              ...        ...  \n",
       "63852                  7342          20.115068              7.0  45.344348  \n",
       "63853                  2901           7.947945             12.0  38.133356  \n",
       "63855                  6123          16.775342              5.0  39.465042  \n",
       "63856                 10903          29.871233              5.0  52.869437  \n",
       "63857                  2411           6.605479              4.0  29.071636  \n",
       "\n",
       "[55439 rows x 6 columns]"
      ]
     },
     "execution_count": 176,
     "metadata": {},
     "output_type": "execute_result"
    }
   ],
   "source": [
    "train[train['age']>25]"
   ]
  },
  {
   "cell_type": "code",
   "execution_count": 177,
   "metadata": {},
   "outputs": [],
   "source": [
    "#Get X and Y labels\n",
    "#X=train[['seniority','working_exp_years','education_years']]\n",
    "#y=train['age']"
   ]
  },
  {
   "cell_type": "markdown",
   "metadata": {},
   "source": [
    "# Exploratory Data Analysis\n",
    "Let find pattern in the data to see if there is relationship between age and other varibles."
   ]
  },
  {
   "cell_type": "code",
   "execution_count": 178,
   "metadata": {},
   "outputs": [
    {
     "data": {
      "image/png": "[encoded data removed]",
      "text/plain": [
       "<Figure size 432x288 with 1 Axes>"
      ]
     },
     "metadata": {
      "needs_background": "light"
     },
     "output_type": "display_data"
    }
   ],
   "source": [
    "#Lets Visualize Distribuation of Seniority\n",
    "plt.hist(train['seniority'])\n",
    "plt.show()"
   ]
  },
  {
   "cell_type": "markdown",
   "metadata": {},
   "source": [
    "Hence the data is right skewed. We expect most statistical models to not perform well on this data. However,tree based models are not affected by skewness."
   ]
  },
  {
   "cell_type": "code",
   "execution_count": 179,
   "metadata": {},
   "outputs": [
    {
     "data": {
      "image/png": "[encoded data removed]",
      "text/plain": [
       "<Figure size 432x288 with 1 Axes>"
      ]
     },
     "metadata": {
      "needs_background": "light"
     },
     "output_type": "display_data"
    }
   ],
   "source": [
    "# Scatter plot between seniority and age to see any pattern.\n",
    "plt.scatter(x=train['seniority'], y=train['age'])\n",
    "plt.xlabel(\"Seniority\")\n",
    "plt.ylabel(\"Age\")\n",
    "plt.show()"
   ]
  },
  {
   "cell_type": "code",
   "execution_count": 207,
   "metadata": {},
   "outputs": [
    {
     "data": {
      "image/png": "[encoded data removed]",
      "text/plain": [
       "<Figure size 432x288 with 1 Axes>"
      ]
     },
     "metadata": {
      "needs_background": "light"
     },
     "output_type": "display_data"
    }
   ],
   "source": [
    "# Scatter plot between Work Exp and age to see any pattern.\n",
    "plt.scatter(x=train['working_exp_years'], y=train['age'])\n",
    "plt.xlabel(\"Work Exp\")\n",
    "plt.ylabel(\"Age\")\n",
    "plt.show()"
   ]
  },
  {
   "cell_type": "code",
   "execution_count": 180,
   "metadata": {},
   "outputs": [
    {
     "data": {
      "image/png": "[encoded data removed]",
      "text/plain": [
       "<Figure size 360x360 with 1 Axes>"
      ]
     },
     "metadata": {
      "needs_background": "light"
     },
     "output_type": "display_data"
    }
   ],
   "source": [
    "# Lets Visualize the relationship between Education Years and Age.\n",
    "import seaborn as sns\n",
    "sns.catplot(x=\"education_years\", y=\"age\", kind=\"box\", data=train)\n",
    "plt.show()"
   ]
  },
  {
   "cell_type": "code",
   "execution_count": 181,
   "metadata": {},
   "outputs": [
    {
     "data": {
      "text/html": [
       "<div>\n",
       "<style scoped>\n",
       "    .dataframe tbody tr th:only-of-type {\n",
       "        vertical-align: middle;\n",
       "    }\n",
       "\n",
       "    .dataframe tbody tr th {\n",
       "        vertical-align: top;\n",
       "    }\n",
       "\n",
       "    .dataframe thead th {\n",
       "        text-align: right;\n",
       "    }\n",
       "</style>\n",
       "<table border=\"1\" class=\"dataframe\">\n",
       "  <thead>\n",
       "    <tr style=\"text-align: right;\">\n",
       "      <th></th>\n",
       "      <th>user_id</th>\n",
       "      <th>seniority</th>\n",
       "      <th>days_in_current_role</th>\n",
       "      <th>working_exp_years</th>\n",
       "      <th>education_years</th>\n",
       "      <th>age</th>\n",
       "    </tr>\n",
       "  </thead>\n",
       "  <tbody>\n",
       "    <tr>\n",
       "      <th>1</th>\n",
       "      <td>++6+hv3i5RAVsrWO8q5JEQ5+2cvffV/mNepQVJd0smgtpB...</td>\n",
       "      <td>34.692158</td>\n",
       "      <td>3329</td>\n",
       "      <td>9.120548</td>\n",
       "      <td>3.0</td>\n",
       "      <td>29.965596</td>\n",
       "    </tr>\n",
       "    <tr>\n",
       "      <th>3</th>\n",
       "      <td>++7kB6m0hI1TgAPmyY1X6A5+2cvffV/mNepQVJd0smgtpB...</td>\n",
       "      <td>37.294685</td>\n",
       "      <td>8468</td>\n",
       "      <td>23.200000</td>\n",
       "      <td>2.0</td>\n",
       "      <td>45.358842</td>\n",
       "    </tr>\n",
       "    <tr>\n",
       "      <th>9</th>\n",
       "      <td>++P3GpkLINRrbYEiFplujg5+2cvffV/mNepQVJd0smgtpB...</td>\n",
       "      <td>19.866703</td>\n",
       "      <td>5759</td>\n",
       "      <td>15.778082</td>\n",
       "      <td>4.0</td>\n",
       "      <td>37.001852</td>\n",
       "    </tr>\n",
       "    <tr>\n",
       "      <th>12</th>\n",
       "      <td>++UCk5ifkH5O/0rIOu/CmQ4ZM3TcQvn1bQ/jHgHWG0kf/b...</td>\n",
       "      <td>6.088053</td>\n",
       "      <td>5546</td>\n",
       "      <td>15.194521</td>\n",
       "      <td>4.0</td>\n",
       "      <td>38.596617</td>\n",
       "    </tr>\n",
       "    <tr>\n",
       "      <th>15</th>\n",
       "      <td>++WZyqFWZRHYw7/i9E9vNL4xbHqlXxy8NepQVJd0smgtpB...</td>\n",
       "      <td>9.435151</td>\n",
       "      <td>4846</td>\n",
       "      <td>13.276712</td>\n",
       "      <td>3.0</td>\n",
       "      <td>35.011967</td>\n",
       "    </tr>\n",
       "    <tr>\n",
       "      <th>...</th>\n",
       "      <td>...</td>\n",
       "      <td>...</td>\n",
       "      <td>...</td>\n",
       "      <td>...</td>\n",
       "      <td>...</td>\n",
       "      <td>...</td>\n",
       "    </tr>\n",
       "    <tr>\n",
       "      <th>63835</th>\n",
       "      <td>zyEvCcxvFAaA3cuRdKq5QQ5+2cvffV/mNepQVJd0smgtpB...</td>\n",
       "      <td>18.528498</td>\n",
       "      <td>12568</td>\n",
       "      <td>34.432877</td>\n",
       "      <td>3.0</td>\n",
       "      <td>55.119639</td>\n",
       "    </tr>\n",
       "    <tr>\n",
       "      <th>63840</th>\n",
       "      <td>zyVtxcpbvfTqAln6wxdj5HAG1BvSkUYANepQVJd0smgtpB...</td>\n",
       "      <td>17.553183</td>\n",
       "      <td>3507</td>\n",
       "      <td>9.608219</td>\n",
       "      <td>4.0</td>\n",
       "      <td>33.904175</td>\n",
       "    </tr>\n",
       "    <tr>\n",
       "      <th>63842</th>\n",
       "      <td>zyYCXsnvi/tZtlqA71iJEXAG1BvSkUYANepQVJd0smgtpB...</td>\n",
       "      <td>19.506673</td>\n",
       "      <td>3597</td>\n",
       "      <td>9.854795</td>\n",
       "      <td>4.0</td>\n",
       "      <td>31.112421</td>\n",
       "    </tr>\n",
       "    <tr>\n",
       "      <th>63847</th>\n",
       "      <td>zz2BMqQH14Xqzav244kzbw5+2cvffV/mNepQVJd0smgtpB...</td>\n",
       "      <td>3.288025</td>\n",
       "      <td>3263</td>\n",
       "      <td>8.939726</td>\n",
       "      <td>4.0</td>\n",
       "      <td>31.270692</td>\n",
       "    </tr>\n",
       "    <tr>\n",
       "      <th>63857</th>\n",
       "      <td>zzvZxBSf81furoFl3PcSuHAG1BvSkUYANepQVJd0smgtpB...</td>\n",
       "      <td>13.246241</td>\n",
       "      <td>2411</td>\n",
       "      <td>6.605479</td>\n",
       "      <td>4.0</td>\n",
       "      <td>29.071636</td>\n",
       "    </tr>\n",
       "  </tbody>\n",
       "</table>\n",
       "<p>21655 rows × 6 columns</p>\n",
       "</div>"
      ],
      "text/plain": [
       "                                                 user_id  seniority  \\\n",
       "1      ++6+hv3i5RAVsrWO8q5JEQ5+2cvffV/mNepQVJd0smgtpB...  34.692158   \n",
       "3      ++7kB6m0hI1TgAPmyY1X6A5+2cvffV/mNepQVJd0smgtpB...  37.294685   \n",
       "9      ++P3GpkLINRrbYEiFplujg5+2cvffV/mNepQVJd0smgtpB...  19.866703   \n",
       "12     ++UCk5ifkH5O/0rIOu/CmQ4ZM3TcQvn1bQ/jHgHWG0kf/b...   6.088053   \n",
       "15     ++WZyqFWZRHYw7/i9E9vNL4xbHqlXxy8NepQVJd0smgtpB...   9.435151   \n",
       "...                                                  ...        ...   \n",
       "63835  zyEvCcxvFAaA3cuRdKq5QQ5+2cvffV/mNepQVJd0smgtpB...  18.528498   \n",
       "63840  zyVtxcpbvfTqAln6wxdj5HAG1BvSkUYANepQVJd0smgtpB...  17.553183   \n",
       "63842  zyYCXsnvi/tZtlqA71iJEXAG1BvSkUYANepQVJd0smgtpB...  19.506673   \n",
       "63847  zz2BMqQH14Xqzav244kzbw5+2cvffV/mNepQVJd0smgtpB...   3.288025   \n",
       "63857  zzvZxBSf81furoFl3PcSuHAG1BvSkUYANepQVJd0smgtpB...  13.246241   \n",
       "\n",
       "       days_in_current_role  working_exp_years  education_years        age  \n",
       "1                      3329           9.120548              3.0  29.965596  \n",
       "3                      8468          23.200000              2.0  45.358842  \n",
       "9                      5759          15.778082              4.0  37.001852  \n",
       "12                     5546          15.194521              4.0  38.596617  \n",
       "15                     4846          13.276712              3.0  35.011967  \n",
       "...                     ...                ...              ...        ...  \n",
       "63835                 12568          34.432877              3.0  55.119639  \n",
       "63840                  3507           9.608219              4.0  33.904175  \n",
       "63842                  3597           9.854795              4.0  31.112421  \n",
       "63847                  3263           8.939726              4.0  31.270692  \n",
       "63857                  2411           6.605479              4.0  29.071636  \n",
       "\n",
       "[21655 rows x 6 columns]"
      ]
     },
     "execution_count": 181,
     "metadata": {},
     "output_type": "execute_result"
    }
   ],
   "source": [
    "# Lets reduce to level of categories in the education_years columns as follows:\n",
    "# 0-5 years= Bachelors or below level degree = Low Level Degree\n",
    "# 5-12 years= Masters or Phd = Master = Mid Level Degree\n",
    "# >12 years = Post Doct or equivalent degree = Higher Level Degree\n",
    "train[train['education_years']<5]"
   ]
  },
  {
   "cell_type": "code",
   "execution_count": 208,
   "metadata": {},
   "outputs": [],
   "source": [
    "def degree_level(ed_year):\n",
    "    if ed_year<5:\n",
    "        return 'Low'\n",
    "    elif ed_year<=12:\n",
    "        return 'Mid'\n",
    "    else:\n",
    "        return 'High'"
   ]
  },
  {
   "cell_type": "code",
   "execution_count": 209,
   "metadata": {},
   "outputs": [
    {
     "name": "stderr",
     "output_type": "stream",
     "text": [
      "<ipython-input-209-c2260dbc66e3>:1: SettingWithCopyWarning: \n",
      "A value is trying to be set on a copy of a slice from a DataFrame.\n",
      "Try using .loc[row_indexer,col_indexer] = value instead\n",
      "\n",
      "See the caveats in the documentation: https://pandas.pydata.org/pandas-docs/stable/user_guide/indexing.html#returning-a-view-versus-a-copy\n",
      "  train['DegreeLevel']=train['education_years'].apply(degree_level)\n"
     ]
    }
   ],
   "source": [
    "train['DegreeLevel']=train['education_years'].apply(degree_level)"
   ]
  },
  {
   "cell_type": "code",
   "execution_count": 184,
   "metadata": {},
   "outputs": [
    {
     "data": {
      "text/html": [
       "<div>\n",
       "<style scoped>\n",
       "    .dataframe tbody tr th:only-of-type {\n",
       "        vertical-align: middle;\n",
       "    }\n",
       "\n",
       "    .dataframe tbody tr th {\n",
       "        vertical-align: top;\n",
       "    }\n",
       "\n",
       "    .dataframe thead th {\n",
       "        text-align: right;\n",
       "    }\n",
       "</style>\n",
       "<table border=\"1\" class=\"dataframe\">\n",
       "  <thead>\n",
       "    <tr style=\"text-align: right;\">\n",
       "      <th></th>\n",
       "      <th>user_id</th>\n",
       "      <th>seniority</th>\n",
       "      <th>days_in_current_role</th>\n",
       "      <th>working_exp_years</th>\n",
       "      <th>education_years</th>\n",
       "      <th>age</th>\n",
       "      <th>DegreeLevel</th>\n",
       "    </tr>\n",
       "  </thead>\n",
       "  <tbody>\n",
       "    <tr>\n",
       "      <th>0</th>\n",
       "      <td>++5qk2+uEmkI/3Z4FrBwDw4ZM3TcQvn1bQ/jHgHWG0kf/b...</td>\n",
       "      <td>10.665753</td>\n",
       "      <td>12059</td>\n",
       "      <td>33.038356</td>\n",
       "      <td>8.0</td>\n",
       "      <td>58.428763</td>\n",
       "      <td>Mid</td>\n",
       "    </tr>\n",
       "    <tr>\n",
       "      <th>1</th>\n",
       "      <td>++6+hv3i5RAVsrWO8q5JEQ5+2cvffV/mNepQVJd0smgtpB...</td>\n",
       "      <td>34.692158</td>\n",
       "      <td>3329</td>\n",
       "      <td>9.120548</td>\n",
       "      <td>3.0</td>\n",
       "      <td>29.965596</td>\n",
       "      <td>Low</td>\n",
       "    </tr>\n",
       "    <tr>\n",
       "      <th>3</th>\n",
       "      <td>++7kB6m0hI1TgAPmyY1X6A5+2cvffV/mNepQVJd0smgtpB...</td>\n",
       "      <td>37.294685</td>\n",
       "      <td>8468</td>\n",
       "      <td>23.200000</td>\n",
       "      <td>2.0</td>\n",
       "      <td>45.358842</td>\n",
       "      <td>Low</td>\n",
       "    </tr>\n",
       "    <tr>\n",
       "      <th>4</th>\n",
       "      <td>++9DtAOTiRRvECoMIpKbmg4ZM3TcQvn1bQ/jHgHWG0kf/b...</td>\n",
       "      <td>14.120908</td>\n",
       "      <td>5393</td>\n",
       "      <td>14.775342</td>\n",
       "      <td>5.0</td>\n",
       "      <td>35.579407</td>\n",
       "      <td>Mid</td>\n",
       "    </tr>\n",
       "    <tr>\n",
       "      <th>5</th>\n",
       "      <td>++Bu40VW3TpqnNRejHUsow5+2cvffV/mNepQVJd0smgtpB...</td>\n",
       "      <td>25.268493</td>\n",
       "      <td>2287</td>\n",
       "      <td>6.265753</td>\n",
       "      <td>6.0</td>\n",
       "      <td>32.097088</td>\n",
       "      <td>Mid</td>\n",
       "    </tr>\n",
       "  </tbody>\n",
       "</table>\n",
       "</div>"
      ],
      "text/plain": [
       "                                             user_id  seniority  \\\n",
       "0  ++5qk2+uEmkI/3Z4FrBwDw4ZM3TcQvn1bQ/jHgHWG0kf/b...  10.665753   \n",
       "1  ++6+hv3i5RAVsrWO8q5JEQ5+2cvffV/mNepQVJd0smgtpB...  34.692158   \n",
       "3  ++7kB6m0hI1TgAPmyY1X6A5+2cvffV/mNepQVJd0smgtpB...  37.294685   \n",
       "4  ++9DtAOTiRRvECoMIpKbmg4ZM3TcQvn1bQ/jHgHWG0kf/b...  14.120908   \n",
       "5  ++Bu40VW3TpqnNRejHUsow5+2cvffV/mNepQVJd0smgtpB...  25.268493   \n",
       "\n",
       "   days_in_current_role  working_exp_years  education_years        age  \\\n",
       "0                 12059          33.038356              8.0  58.428763   \n",
       "1                  3329           9.120548              3.0  29.965596   \n",
       "3                  8468          23.200000              2.0  45.358842   \n",
       "4                  5393          14.775342              5.0  35.579407   \n",
       "5                  2287           6.265753              6.0  32.097088   \n",
       "\n",
       "  DegreeLevel  \n",
       "0         Mid  \n",
       "1         Low  \n",
       "3         Low  \n",
       "4         Mid  \n",
       "5         Mid  "
      ]
     },
     "execution_count": 184,
     "metadata": {},
     "output_type": "execute_result"
    }
   ],
   "source": [
    "train.head()"
   ]
  },
  {
   "cell_type": "code",
   "execution_count": 185,
   "metadata": {},
   "outputs": [
    {
     "name": "stderr",
     "output_type": "stream",
     "text": [
      "<ipython-input-185-5ac4743d81f5>:2: SettingWithCopyWarning: \n",
      "A value is trying to be set on a copy of a slice from a DataFrame.\n",
      "Try using .loc[row_indexer,col_indexer] = value instead\n",
      "\n",
      "See the caveats in the documentation: https://pandas.pydata.org/pandas-docs/stable/user_guide/indexing.html#returning-a-view-versus-a-copy\n",
      "  test['DegreeLevel']=test['education_years'].apply(degree_level)\n"
     ]
    }
   ],
   "source": [
    "#Do Similar Operation on Test\n",
    "test['DegreeLevel']=test['education_years'].apply(degree_level)"
   ]
  },
  {
   "cell_type": "code",
   "execution_count": 186,
   "metadata": {},
   "outputs": [
    {
     "data": {
      "image/png": "[encoded data removed]",
      "text/plain": [
       "<Figure size 360x360 with 1 Axes>"
      ]
     },
     "metadata": {
      "needs_background": "light"
     },
     "output_type": "display_data"
    }
   ],
   "source": [
    "# Lets Visualize the relationship between Education Years and Age.\n",
    "#import seaborn as sns\n",
    "sns.catplot(x=\"DegreeLevel\", y=\"age\", kind=\"box\", data=train)\n",
    "plt.show()"
   ]
  },
  {
   "cell_type": "code",
   "execution_count": 187,
   "metadata": {},
   "outputs": [
    {
     "data": {
      "text/html": [
       "<div>\n",
       "<style scoped>\n",
       "    .dataframe tbody tr th:only-of-type {\n",
       "        vertical-align: middle;\n",
       "    }\n",
       "\n",
       "    .dataframe tbody tr th {\n",
       "        vertical-align: top;\n",
       "    }\n",
       "\n",
       "    .dataframe thead th {\n",
       "        text-align: right;\n",
       "    }\n",
       "</style>\n",
       "<table border=\"1\" class=\"dataframe\">\n",
       "  <thead>\n",
       "    <tr style=\"text-align: right;\">\n",
       "      <th></th>\n",
       "      <th>seniority</th>\n",
       "      <th>age</th>\n",
       "    </tr>\n",
       "  </thead>\n",
       "  <tbody>\n",
       "    <tr>\n",
       "      <th>seniority</th>\n",
       "      <td>1.000000</td>\n",
       "      <td>0.388661</td>\n",
       "    </tr>\n",
       "    <tr>\n",
       "      <th>age</th>\n",
       "      <td>0.388661</td>\n",
       "      <td>1.000000</td>\n",
       "    </tr>\n",
       "  </tbody>\n",
       "</table>\n",
       "</div>"
      ],
      "text/plain": [
       "           seniority       age\n",
       "seniority   1.000000  0.388661\n",
       "age         0.388661  1.000000"
      ]
     },
     "execution_count": 187,
     "metadata": {},
     "output_type": "execute_result"
    }
   ],
   "source": [
    "#Check Correlation matrix.\n",
    "train[[\"DegreeLevel\",'seniority','age']].corr()"
   ]
  },
  {
   "cell_type": "code",
   "execution_count": 188,
   "metadata": {},
   "outputs": [
    {
     "data": {
      "image/png": "[encoded data removed]",
      "text/plain": [
       "<Figure size 432x288 with 1 Axes>"
      ]
     },
     "metadata": {
      "needs_background": "light"
     },
     "output_type": "display_data"
    }
   ],
   "source": [
    "# create regression plot\n",
    "ax = sns.regplot(x='seniority', y='age',data=train,scatter_kws={\"color\": 'r'},ci=95)"
   ]
  },
  {
   "cell_type": "markdown",
   "metadata": {},
   "source": [
    "# Data Modelling\n",
    "Lets use sklearn package to model the data using various Machine Learning Algorithms."
   ]
  },
  {
   "cell_type": "code",
   "execution_count": 189,
   "metadata": {},
   "outputs": [
    {
     "data": {
      "text/plain": [
       "(55684, 7)"
      ]
     },
     "execution_count": 189,
     "metadata": {},
     "output_type": "execute_result"
    }
   ],
   "source": [
    "train.shape"
   ]
  },
  {
   "cell_type": "code",
   "execution_count": 190,
   "metadata": {},
   "outputs": [
    {
     "name": "stdout",
     "output_type": "stream",
     "text": [
      "<class 'pandas.core.frame.DataFrame'>\n",
      "Int64Index: 55684 entries, 0 to 63857\n",
      "Data columns (total 7 columns):\n",
      " #   Column                Non-Null Count  Dtype  \n",
      "---  ------                --------------  -----  \n",
      " 0   user_id               55684 non-null  object \n",
      " 1   seniority             55684 non-null  float64\n",
      " 2   days_in_current_role  55684 non-null  int64  \n",
      " 3   working_exp_years     55684 non-null  float64\n",
      " 4   education_years       55684 non-null  float64\n",
      " 5   age                   55684 non-null  float64\n",
      " 6   DegreeLevel           55684 non-null  object \n",
      "dtypes: float64(4), int64(1), object(2)\n",
      "memory usage: 5.9+ MB\n"
     ]
    }
   ],
   "source": [
    "train.info()"
   ]
  },
  {
   "cell_type": "code",
   "execution_count": 191,
   "metadata": {},
   "outputs": [],
   "source": [
    "#Import Libraries\n",
    "from sklearn.model_selection import train_test_split\n",
    "from sklearn.preprocessing import StandardScaler\n",
    "from sklearn.model_selection import train_test_split\n",
    "from sklearn.pipeline import Pipeline\n",
    "from sklearn.preprocessing import OneHotEncoder\n",
    "from sklearn.linear_model import LinearRegression\n",
    "from sklearn.model_selection import cross_val_score"
   ]
  },
  {
   "cell_type": "code",
   "execution_count": 210,
   "metadata": {},
   "outputs": [],
   "source": [
    "#Get X and Y labels\n",
    "X=train[['seniority','DegreeLevel','working_exp_years']]\n",
    "y=train['age']"
   ]
  },
  {
   "cell_type": "code",
   "execution_count": 211,
   "metadata": {},
   "outputs": [],
   "source": [
    "# Train Test Split.\n",
    "X_train, X_test, y_train, y_test = train_test_split(X, y,random_state=0)"
   ]
  },
  {
   "cell_type": "code",
   "execution_count": 212,
   "metadata": {},
   "outputs": [
    {
     "data": {
      "text/html": [
       "<div>\n",
       "<style scoped>\n",
       "    .dataframe tbody tr th:only-of-type {\n",
       "        vertical-align: middle;\n",
       "    }\n",
       "\n",
       "    .dataframe tbody tr th {\n",
       "        vertical-align: top;\n",
       "    }\n",
       "\n",
       "    .dataframe thead th {\n",
       "        text-align: right;\n",
       "    }\n",
       "</style>\n",
       "<table border=\"1\" class=\"dataframe\">\n",
       "  <thead>\n",
       "    <tr style=\"text-align: right;\">\n",
       "      <th></th>\n",
       "      <th>seniority</th>\n",
       "      <th>DegreeLevel</th>\n",
       "      <th>working_exp_years</th>\n",
       "    </tr>\n",
       "  </thead>\n",
       "  <tbody>\n",
       "    <tr>\n",
       "      <th>53572</th>\n",
       "      <td>7.355976</td>\n",
       "      <td>Mid</td>\n",
       "      <td>15.109589</td>\n",
       "    </tr>\n",
       "    <tr>\n",
       "      <th>23729</th>\n",
       "      <td>27.333592</td>\n",
       "      <td>Mid</td>\n",
       "      <td>24.780822</td>\n",
       "    </tr>\n",
       "    <tr>\n",
       "      <th>46613</th>\n",
       "      <td>8.043836</td>\n",
       "      <td>Mid</td>\n",
       "      <td>8.208219</td>\n",
       "    </tr>\n",
       "    <tr>\n",
       "      <th>8236</th>\n",
       "      <td>9.666135</td>\n",
       "      <td>Mid</td>\n",
       "      <td>20.030137</td>\n",
       "    </tr>\n",
       "    <tr>\n",
       "      <th>49653</th>\n",
       "      <td>29.626249</td>\n",
       "      <td>Mid</td>\n",
       "      <td>17.183562</td>\n",
       "    </tr>\n",
       "  </tbody>\n",
       "</table>\n",
       "</div>"
      ],
      "text/plain": [
       "       seniority DegreeLevel  working_exp_years\n",
       "53572   7.355976         Mid          15.109589\n",
       "23729  27.333592         Mid          24.780822\n",
       "46613   8.043836         Mid           8.208219\n",
       "8236    9.666135         Mid          20.030137\n",
       "49653  29.626249         Mid          17.183562"
      ]
     },
     "execution_count": 212,
     "metadata": {},
     "output_type": "execute_result"
    }
   ],
   "source": [
    "X_train.head()"
   ]
  },
  {
   "cell_type": "code",
   "execution_count": 213,
   "metadata": {},
   "outputs": [],
   "source": [
    "#Transform Numerical and Categorical Columns using ColumnTransformer\n",
    "from sklearn.compose import ColumnTransformer\n",
    "preprocessor = ColumnTransformer(transformers=[\n",
    "    ('numerical', StandardScaler(), ['seniority','working_exp_years']),\n",
    "    ('categorical', OneHotEncoder(handle_unknown='ignore'), ['DegreeLevel']),\n",
    "    \n",
    "])"
   ]
  },
  {
   "cell_type": "code",
   "execution_count": 214,
   "metadata": {},
   "outputs": [],
   "source": [
    "#Transform Numerical and Categorical Columns using ColumnTransformer\n",
    "from sklearn.compose import ColumnTransformer\n",
    "preprocessor_1 = ColumnTransformer(transformers=[\n",
    "    #('numerical', StandardScaler(), ['seniority']),\n",
    "    ('categorical', OneHotEncoder(handle_unknown='ignore'), ['DegreeLevel']),\n",
    "    \n",
    "])"
   ]
  },
  {
   "cell_type": "markdown",
   "metadata": {},
   "source": [
    "## Lets use Linear Regression to Model the Data."
   ]
  },
  {
   "cell_type": "code",
   "execution_count": 215,
   "metadata": {},
   "outputs": [],
   "source": [
    "#Bulid Pipeline \n",
    "pipe = Pipeline([('preprocessor',preprocessor),('log_re', LinearRegression())])"
   ]
  },
  {
   "cell_type": "code",
   "execution_count": 216,
   "metadata": {},
   "outputs": [
    {
     "data": {
      "text/plain": [
       "array([0.96045438, 0.95964055, 0.96134538, 0.96107827, 0.95985475])"
      ]
     },
     "execution_count": 216,
     "metadata": {},
     "output_type": "execute_result"
    }
   ],
   "source": [
    "#Use cross validation to fit the data\n",
    "scores=cross_val_score(pipe, X_train, y_train, cv=5)\n",
    "scores"
   ]
  },
  {
   "cell_type": "markdown",
   "metadata": {},
   "source": [
    "## Lets use Decision Tree"
   ]
  },
  {
   "cell_type": "code",
   "execution_count": 213,
   "metadata": {},
   "outputs": [],
   "source": [
    "from sklearn.tree import DecisionTreeRegressor"
   ]
  },
  {
   "cell_type": "code",
   "execution_count": 227,
   "metadata": {},
   "outputs": [],
   "source": [
    "preprocessor_tree = ColumnTransformer(transformers=[\n",
    "    ('numerical', StandardScaler(), ['seniority']),\n",
    "    ('categorical', OneHotEncoder(handle_unknown='ignore'), ['DegreeLevel']),\n",
    "    \n",
    "])"
   ]
  },
  {
   "cell_type": "code",
   "execution_count": 228,
   "metadata": {},
   "outputs": [],
   "source": [
    "#Bulid Pipeline \n",
    "pipe_tree = Pipeline([('preprocessor',preprocessor_tree),('d_tree', DecisionTreeRegressor(max_depth=5))])"
   ]
  },
  {
   "cell_type": "code",
   "execution_count": 229,
   "metadata": {},
   "outputs": [
    {
     "data": {
      "text/plain": [
       "array([0.19220516, 0.1996101 , 0.19434214, 0.20990107, 0.19106546])"
      ]
     },
     "execution_count": 229,
     "metadata": {},
     "output_type": "execute_result"
    }
   ],
   "source": [
    "#Use cross validation to fit the data\n",
    "scores=cross_val_score(pipe_tree, X_train, y_train, cv=5)\n",
    "scores"
   ]
  },
  {
   "cell_type": "code",
   "execution_count": null,
   "metadata": {},
   "outputs": [],
   "source": []
  }
 ],
 "metadata": {
  "kernelspec": {
   "display_name": "Python 3",
   "language": "python",
   "name": "python3"
  },
  "language_info": {
   "codemirror_mode": {
    "name": "ipython",
    "version": 3
   },
   "file_extension": ".py",
   "mimetype": "text/x-python",
   "name": "python",
   "nbconvert_exporter": "python",
   "pygments_lexer": "ipython3",
   "version": "3.8.5"
  }
 },
 "nbformat": 4,
 "nbformat_minor": 4
}
