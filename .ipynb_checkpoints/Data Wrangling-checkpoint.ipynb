{
 "cells": [
  {
   "cell_type": "markdown",
   "metadata": {},
   "source": [
    "# Data Wrangling"
   ]
  },
  {
   "cell_type": "markdown",
   "metadata": {},
   "source": [
    "# Changes made (July 20,2021) :\n",
    "\n",
    "1.Used Transpose\n",
    "\n",
    "2.Added Descriptions of the features at the start.\n",
    "\n",
    "3.Removed the Duplicate use of Describe\n",
    "\n",
    "4.Checked and corrected the median family income. Add comments on the columns. \n",
    "\n",
    "5.Added textual Commentary\n",
    "\n",
    "This will be removed after your review\n"
   ]
  },
  {
   "cell_type": "markdown",
   "metadata": {},
   "source": [
    "# Introduction\n",
    "\n",
    "We are going to check each columns according to its description and verify if the data in the columns satisfy the constraints as mentioned in the descriptions. We are also going to check null values. There are few columns present as integers but they are categorical so we are going to convert these into categorical. Apart from these we are going to perform few sanity test on each column according to its description and verify if values satisfy this constraints."
   ]
  },
  {
   "cell_type": "markdown",
   "metadata": {},
   "source": [
    "## Import relevant libraries"
   ]
  },
  {
   "cell_type": "code",
   "execution_count": 2,
   "metadata": {},
   "outputs": [],
   "source": [
    "#Load packages\n",
    "import pandas as pd\n",
    "import numpy as np\n",
    "import matplotlib.pyplot as plt"
   ]
  },
  {
   "cell_type": "markdown",
   "metadata": {},
   "source": [
    "# 2019 data"
   ]
  },
  {
   "cell_type": "markdown",
   "metadata": {},
   "source": [
    "## Overview of Columns and their descriptions\n",
    "\n",
    "Load the columns and its meaning. "
   ]
  },
  {
   "cell_type": "code",
   "execution_count": 3,
   "metadata": {
    "scrolled": false
   },
   "outputs": [
    {
     "data": {
      "text/html": [
       "<div>\n",
       "<style scoped>\n",
       "    .dataframe tbody tr th:only-of-type {\n",
       "        vertical-align: middle;\n",
       "    }\n",
       "\n",
       "    .dataframe tbody tr th {\n",
       "        vertical-align: top;\n",
       "    }\n",
       "\n",
       "    .dataframe thead th {\n",
       "        text-align: right;\n",
       "    }\n",
       "</style>\n",
       "<table border=\"1\" class=\"dataframe\">\n",
       "  <thead>\n",
       "    <tr style=\"text-align: right;\">\n",
       "      <th></th>\n",
       "      <th>Column Names</th>\n",
       "      <th>Description</th>\n",
       "    </tr>\n",
       "  </thead>\n",
       "  <tbody>\n",
       "    <tr>\n",
       "      <th>0</th>\n",
       "      <td>Year</td>\n",
       "      <td>Year Loan Was Reported</td>\n",
       "    </tr>\n",
       "    <tr>\n",
       "      <th>1</th>\n",
       "      <td>LoanCharacteristicsID</td>\n",
       "      <td>Unique Record ID (not actual loan number)</td>\n",
       "    </tr>\n",
       "    <tr>\n",
       "      <th>2</th>\n",
       "      <td>Bank</td>\n",
       "      <td>Name of Federal Home Loan Bank District</td>\n",
       "    </tr>\n",
       "    <tr>\n",
       "      <th>3</th>\n",
       "      <td>FIPSStateNumericCode</td>\n",
       "      <td>2 Digit FIPS State Code</td>\n",
       "    </tr>\n",
       "    <tr>\n",
       "      <th>4</th>\n",
       "      <td>FIPSCountyCode</td>\n",
       "      <td>3 Digit FIPS County Code</td>\n",
       "    </tr>\n",
       "    <tr>\n",
       "      <th>5</th>\n",
       "      <td>CoreBasedStatisticalAreaCode</td>\n",
       "      <td>The Property's Five Digit numeric CBSA; 99999 ...</td>\n",
       "    </tr>\n",
       "    <tr>\n",
       "      <th>6</th>\n",
       "      <td>CensusTractIdentifier</td>\n",
       "      <td>The property's Census Tract of Block Numbering...</td>\n",
       "    </tr>\n",
       "    <tr>\n",
       "      <th>7</th>\n",
       "      <td>CensusTractMinorityRatioPercent</td>\n",
       "      <td>The percentage of the property's census tract ...</td>\n",
       "    </tr>\n",
       "    <tr>\n",
       "      <th>8</th>\n",
       "      <td>CensusTractMedFamIncomeAmount</td>\n",
       "      <td>The property's census tract median family income.</td>\n",
       "    </tr>\n",
       "    <tr>\n",
       "      <th>9</th>\n",
       "      <td>LocalAreaMedianIncomeAmount</td>\n",
       "      <td>The property's median income for the area base...</td>\n",
       "    </tr>\n",
       "    <tr>\n",
       "      <th>10</th>\n",
       "      <td>TotalMonthlyIncomeAmount</td>\n",
       "      <td>The total monthly qualifying income used for u...</td>\n",
       "    </tr>\n",
       "    <tr>\n",
       "      <th>11</th>\n",
       "      <td>HUDMedianIncomeAmount</td>\n",
       "      <td>Current median income for a family of four for...</td>\n",
       "    </tr>\n",
       "    <tr>\n",
       "      <th>12</th>\n",
       "      <td>LoanAcquisitionActualUPBAmt</td>\n",
       "      <td>The Amount of unpaid principal balance in whol...</td>\n",
       "    </tr>\n",
       "    <tr>\n",
       "      <th>13</th>\n",
       "      <td>LTVRatioPercent</td>\n",
       "      <td>The loan-to-value ratio of the mortgage at tim...</td>\n",
       "    </tr>\n",
       "    <tr>\n",
       "      <th>14</th>\n",
       "      <td>NoteDate</td>\n",
       "      <td>Year the mortgage was originated.</td>\n",
       "    </tr>\n",
       "    <tr>\n",
       "      <th>15</th>\n",
       "      <td>LoanAcquistionDate</td>\n",
       "      <td>Year the mortgage was acquired.</td>\n",
       "    </tr>\n",
       "    <tr>\n",
       "      <th>16</th>\n",
       "      <td>LoanPurposeType</td>\n",
       "      <td>Purpose of Loan: 1 = Purchase, 2 = No-Cash Out...</td>\n",
       "    </tr>\n",
       "    <tr>\n",
       "      <th>17</th>\n",
       "      <td>ProductCategoryName</td>\n",
       "      <td>Product type of Mortgage: 01=Fixed Rate, 02=AR...</td>\n",
       "    </tr>\n",
       "    <tr>\n",
       "      <th>18</th>\n",
       "      <td>MortgageType</td>\n",
       "      <td>Type of Mortgage and whether the mortgage is g...</td>\n",
       "    </tr>\n",
       "    <tr>\n",
       "      <th>19</th>\n",
       "      <td>ScheduledTotalPaymentCount</td>\n",
       "      <td>Term of the Mortgage in Months</td>\n",
       "    </tr>\n",
       "    <tr>\n",
       "      <th>20</th>\n",
       "      <td>LoanAmortizationMaxTermMonths</td>\n",
       "      <td>For Amortizing Mortgages, term of amortization...</td>\n",
       "    </tr>\n",
       "    <tr>\n",
       "      <th>21</th>\n",
       "      <td>MortgageLoanSellerInstType</td>\n",
       "      <td>Type of Institution from which the FHLBank acq...</td>\n",
       "    </tr>\n",
       "    <tr>\n",
       "      <th>22</th>\n",
       "      <td>BorrowerCount</td>\n",
       "      <td>Number of Borrowers</td>\n",
       "    </tr>\n",
       "    <tr>\n",
       "      <th>23</th>\n",
       "      <td>BorrowerFirstTimeHomebuyer</td>\n",
       "      <td>Numeric code indicating whether borrower</td>\n",
       "    </tr>\n",
       "    <tr>\n",
       "      <th>24</th>\n",
       "      <td>Borrower1Race1Type</td>\n",
       "      <td>Numeric code indicating the race of the Borrow...</td>\n",
       "    </tr>\n",
       "    <tr>\n",
       "      <th>25</th>\n",
       "      <td>Borrower2Race1Type</td>\n",
       "      <td>Numeric code indicating the race of the Co-Bor...</td>\n",
       "    </tr>\n",
       "    <tr>\n",
       "      <th>26</th>\n",
       "      <td>Borrower1GenderType</td>\n",
       "      <td>Numeric code indicating the sex of the first o...</td>\n",
       "    </tr>\n",
       "    <tr>\n",
       "      <th>27</th>\n",
       "      <td>Borrower2GenderType</td>\n",
       "      <td>Numeric code indicating the sex of the co-borr...</td>\n",
       "    </tr>\n",
       "    <tr>\n",
       "      <th>28</th>\n",
       "      <td>Borrower1AgeAtApplicationYears</td>\n",
       "      <td>Age in years of the borrower at time applicati...</td>\n",
       "    </tr>\n",
       "    <tr>\n",
       "      <th>29</th>\n",
       "      <td>Borrower2AgeAtApplicationYears</td>\n",
       "      <td>Age in years of the borrower at time applicati...</td>\n",
       "    </tr>\n",
       "    <tr>\n",
       "      <th>30</th>\n",
       "      <td>PropertyUsageType</td>\n",
       "      <td>Numeric code indicating whether property is ow...</td>\n",
       "    </tr>\n",
       "    <tr>\n",
       "      <th>31</th>\n",
       "      <td>PropertyUnitCount</td>\n",
       "      <td>Total number of units in the property</td>\n",
       "    </tr>\n",
       "    <tr>\n",
       "      <th>32</th>\n",
       "      <td>NoteRatePercent</td>\n",
       "      <td>Interest rate on the mortgage at acquisition</td>\n",
       "    </tr>\n",
       "    <tr>\n",
       "      <th>33</th>\n",
       "      <td>NoteAmount</td>\n",
       "      <td>Mortgage balance at origination</td>\n",
       "    </tr>\n",
       "    <tr>\n",
       "      <th>34</th>\n",
       "      <td>HousingExpenseRatioPercent</td>\n",
       "      <td>Ratio of mortgage principal and interest and h...</td>\n",
       "    </tr>\n",
       "    <tr>\n",
       "      <th>35</th>\n",
       "      <td>TotalDebtExpenseRatioPercent</td>\n",
       "      <td>Ratio of all debt payments to total borrower i...</td>\n",
       "    </tr>\n",
       "    <tr>\n",
       "      <th>36</th>\n",
       "      <td>Borrower1CreditScoreValue</td>\n",
       "      <td>Credit Scores are separated into a range: 1=&lt; ...</td>\n",
       "    </tr>\n",
       "    <tr>\n",
       "      <th>37</th>\n",
       "      <td>Borrower2CreditScoreValue</td>\n",
       "      <td>Credit Scores are separated into a range: 1=&lt; ...</td>\n",
       "    </tr>\n",
       "    <tr>\n",
       "      <th>38</th>\n",
       "      <td>PMICoveragePercent</td>\n",
       "      <td>Percent of mortgage balance at origination cov...</td>\n",
       "    </tr>\n",
       "    <tr>\n",
       "      <th>39</th>\n",
       "      <td>EmploymentBorrowerSelfEmployed</td>\n",
       "      <td>Numeric code indicating whether the borrower ...</td>\n",
       "    </tr>\n",
       "    <tr>\n",
       "      <th>40</th>\n",
       "      <td>PropertyType</td>\n",
       "      <td>PT01=Single family detached; PT02=Deminimus PU...</td>\n",
       "    </tr>\n",
       "    <tr>\n",
       "      <th>41</th>\n",
       "      <td>IndexSourceType</td>\n",
       "      <td>01=11th District cost of funds; 02=Other cost ...</td>\n",
       "    </tr>\n",
       "    <tr>\n",
       "      <th>42</th>\n",
       "      <td>MarginRatePercent</td>\n",
       "      <td>Margin added to the index used for the calcula...</td>\n",
       "    </tr>\n",
       "    <tr>\n",
       "      <th>43</th>\n",
       "      <td>PrepaymentPenaltyExpirationDate</td>\n",
       "      <td>Date when prepayment penalty ends; report 9999...</td>\n",
       "    </tr>\n",
       "    <tr>\n",
       "      <th>44</th>\n",
       "      <td>Borrower1EthnicityType</td>\n",
       "      <td>1=Hispanic or Latino; 2=Not Hispanic or Latino...</td>\n",
       "    </tr>\n",
       "    <tr>\n",
       "      <th>45</th>\n",
       "      <td>Borrower1Race2Type</td>\n",
       "      <td>1=American Indian or Alaska Native; 2=Asian; 3...</td>\n",
       "    </tr>\n",
       "    <tr>\n",
       "      <th>46</th>\n",
       "      <td>Borrower1Race3Type</td>\n",
       "      <td>1=American Indian or Alaska Native; 2=Asian; 3...</td>\n",
       "    </tr>\n",
       "    <tr>\n",
       "      <th>47</th>\n",
       "      <td>Borrower1Race4Type</td>\n",
       "      <td>1=American Indian or Alaska Native; 2=Asian; 3...</td>\n",
       "    </tr>\n",
       "    <tr>\n",
       "      <th>48</th>\n",
       "      <td>Borrower1Race5Type</td>\n",
       "      <td>1=American Indian or Alaska Native; 2=Asian; 3...</td>\n",
       "    </tr>\n",
       "    <tr>\n",
       "      <th>49</th>\n",
       "      <td>Borrower2EthnicityType</td>\n",
       "      <td>1=Hispanic or Latino; 2=Not Hispanic or Latino...</td>\n",
       "    </tr>\n",
       "    <tr>\n",
       "      <th>50</th>\n",
       "      <td>Borrower2Race2Type</td>\n",
       "      <td>1=American Indian or Alaska Native; 2=Asian; 3...</td>\n",
       "    </tr>\n",
       "    <tr>\n",
       "      <th>51</th>\n",
       "      <td>Borrower2Race3Type</td>\n",
       "      <td>1=American Indian or Alaska Native; 2=Asian; 3...</td>\n",
       "    </tr>\n",
       "    <tr>\n",
       "      <th>52</th>\n",
       "      <td>Borrower2Race4Type</td>\n",
       "      <td>1=American Indian or Alaska Native; 2=Asian; 3...</td>\n",
       "    </tr>\n",
       "    <tr>\n",
       "      <th>53</th>\n",
       "      <td>Borrower2Race5Type</td>\n",
       "      <td>1=American Indian or Alaska Native; 2=Asian; 3...</td>\n",
       "    </tr>\n",
       "    <tr>\n",
       "      <th>54</th>\n",
       "      <td>HOEPALoanStatusType</td>\n",
       "      <td>1=HOEPA: High-Cost Mortgage; 2=HOEPA: Not a Hi...</td>\n",
       "    </tr>\n",
       "    <tr>\n",
       "      <th>55</th>\n",
       "      <td>LienPriorityType</td>\n",
       "      <td>1=Secured by first lien; 2=Secured by a subord...</td>\n",
       "    </tr>\n",
       "  </tbody>\n",
       "</table>\n",
       "</div>"
      ],
      "text/plain": [
       "                       Column Names  \\\n",
       "0                              Year   \n",
       "1             LoanCharacteristicsID   \n",
       "2                              Bank   \n",
       "3              FIPSStateNumericCode   \n",
       "4                    FIPSCountyCode   \n",
       "5      CoreBasedStatisticalAreaCode   \n",
       "6             CensusTractIdentifier   \n",
       "7   CensusTractMinorityRatioPercent   \n",
       "8     CensusTractMedFamIncomeAmount   \n",
       "9       LocalAreaMedianIncomeAmount   \n",
       "10         TotalMonthlyIncomeAmount   \n",
       "11            HUDMedianIncomeAmount   \n",
       "12      LoanAcquisitionActualUPBAmt   \n",
       "13                  LTVRatioPercent   \n",
       "14                         NoteDate   \n",
       "15               LoanAcquistionDate   \n",
       "16                  LoanPurposeType   \n",
       "17              ProductCategoryName   \n",
       "18                     MortgageType   \n",
       "19       ScheduledTotalPaymentCount   \n",
       "20    LoanAmortizationMaxTermMonths   \n",
       "21       MortgageLoanSellerInstType   \n",
       "22                    BorrowerCount   \n",
       "23       BorrowerFirstTimeHomebuyer   \n",
       "24               Borrower1Race1Type   \n",
       "25               Borrower2Race1Type   \n",
       "26              Borrower1GenderType   \n",
       "27              Borrower2GenderType   \n",
       "28   Borrower1AgeAtApplicationYears   \n",
       "29   Borrower2AgeAtApplicationYears   \n",
       "30                PropertyUsageType   \n",
       "31                PropertyUnitCount   \n",
       "32                  NoteRatePercent   \n",
       "33                       NoteAmount   \n",
       "34       HousingExpenseRatioPercent   \n",
       "35     TotalDebtExpenseRatioPercent   \n",
       "36        Borrower1CreditScoreValue   \n",
       "37        Borrower2CreditScoreValue   \n",
       "38               PMICoveragePercent   \n",
       "39   EmploymentBorrowerSelfEmployed   \n",
       "40                     PropertyType   \n",
       "41                  IndexSourceType   \n",
       "42                MarginRatePercent   \n",
       "43  PrepaymentPenaltyExpirationDate   \n",
       "44           Borrower1EthnicityType   \n",
       "45               Borrower1Race2Type   \n",
       "46               Borrower1Race3Type   \n",
       "47               Borrower1Race4Type   \n",
       "48               Borrower1Race5Type   \n",
       "49           Borrower2EthnicityType   \n",
       "50               Borrower2Race2Type   \n",
       "51               Borrower2Race3Type   \n",
       "52               Borrower2Race4Type   \n",
       "53               Borrower2Race5Type   \n",
       "54              HOEPALoanStatusType   \n",
       "55                 LienPriorityType   \n",
       "\n",
       "                                          Description  \n",
       "0                              Year Loan Was Reported  \n",
       "1           Unique Record ID (not actual loan number)  \n",
       "2             Name of Federal Home Loan Bank District  \n",
       "3                             2 Digit FIPS State Code  \n",
       "4                            3 Digit FIPS County Code  \n",
       "5   The Property's Five Digit numeric CBSA; 99999 ...  \n",
       "6   The property's Census Tract of Block Numbering...  \n",
       "7   The percentage of the property's census tract ...  \n",
       "8   The property's census tract median family income.  \n",
       "9   The property's median income for the area base...  \n",
       "10  The total monthly qualifying income used for u...  \n",
       "11  Current median income for a family of four for...  \n",
       "12  The Amount of unpaid principal balance in whol...  \n",
       "13  The loan-to-value ratio of the mortgage at tim...  \n",
       "14                  Year the mortgage was originated.  \n",
       "15                    Year the mortgage was acquired.  \n",
       "16  Purpose of Loan: 1 = Purchase, 2 = No-Cash Out...  \n",
       "17  Product type of Mortgage: 01=Fixed Rate, 02=AR...  \n",
       "18  Type of Mortgage and whether the mortgage is g...  \n",
       "19                     Term of the Mortgage in Months  \n",
       "20  For Amortizing Mortgages, term of amortization...  \n",
       "21  Type of Institution from which the FHLBank acq...  \n",
       "22                                Number of Borrowers  \n",
       "23           Numeric code indicating whether borrower  \n",
       "24  Numeric code indicating the race of the Borrow...  \n",
       "25  Numeric code indicating the race of the Co-Bor...  \n",
       "26  Numeric code indicating the sex of the first o...  \n",
       "27  Numeric code indicating the sex of the co-borr...  \n",
       "28  Age in years of the borrower at time applicati...  \n",
       "29  Age in years of the borrower at time applicati...  \n",
       "30  Numeric code indicating whether property is ow...  \n",
       "31              Total number of units in the property  \n",
       "32       Interest rate on the mortgage at acquisition  \n",
       "33                    Mortgage balance at origination  \n",
       "34  Ratio of mortgage principal and interest and h...  \n",
       "35  Ratio of all debt payments to total borrower i...  \n",
       "36  Credit Scores are separated into a range: 1=< ...  \n",
       "37  Credit Scores are separated into a range: 1=< ...  \n",
       "38  Percent of mortgage balance at origination cov...  \n",
       "39   Numeric code indicating whether the borrower ...  \n",
       "40  PT01=Single family detached; PT02=Deminimus PU...  \n",
       "41  01=11th District cost of funds; 02=Other cost ...  \n",
       "42  Margin added to the index used for the calcula...  \n",
       "43  Date when prepayment penalty ends; report 9999...  \n",
       "44  1=Hispanic or Latino; 2=Not Hispanic or Latino...  \n",
       "45  1=American Indian or Alaska Native; 2=Asian; 3...  \n",
       "46  1=American Indian or Alaska Native; 2=Asian; 3...  \n",
       "47  1=American Indian or Alaska Native; 2=Asian; 3...  \n",
       "48  1=American Indian or Alaska Native; 2=Asian; 3...  \n",
       "49  1=Hispanic or Latino; 2=Not Hispanic or Latino...  \n",
       "50  1=American Indian or Alaska Native; 2=Asian; 3...  \n",
       "51  1=American Indian or Alaska Native; 2=Asian; 3...  \n",
       "52  1=American Indian or Alaska Native; 2=Asian; 3...  \n",
       "53  1=American Indian or Alaska Native; 2=Asian; 3...  \n",
       "54  1=HOEPA: High-Cost Mortgage; 2=HOEPA: Not a Hi...  \n",
       "55  1=Secured by first lien; 2=Secured by a subord...  "
      ]
     },
     "execution_count": 3,
     "metadata": {},
     "output_type": "execute_result"
    }
   ],
   "source": [
    "#Load the columns and their description\n",
    "col_des=pd.read_csv('Data/col_des_2019.csv')\n",
    "col_des"
   ]
  },
  {
   "cell_type": "markdown",
   "metadata": {},
   "source": [
    "**Load the data and apply some functions to get overview of the data**"
   ]
  },
  {
   "cell_type": "code",
   "execution_count": 4,
   "metadata": {},
   "outputs": [],
   "source": [
    "#Load the data\n",
    "df_2019=pd.read_csv('Data/2019_data.csv')"
   ]
  },
  {
   "cell_type": "code",
   "execution_count": 5,
   "metadata": {},
   "outputs": [
    {
     "data": {
      "text/html": [
       "<div>\n",
       "<style scoped>\n",
       "    .dataframe tbody tr th:only-of-type {\n",
       "        vertical-align: middle;\n",
       "    }\n",
       "\n",
       "    .dataframe tbody tr th {\n",
       "        vertical-align: top;\n",
       "    }\n",
       "\n",
       "    .dataframe thead th {\n",
       "        text-align: right;\n",
       "    }\n",
       "</style>\n",
       "<table border=\"1\" class=\"dataframe\">\n",
       "  <thead>\n",
       "    <tr style=\"text-align: right;\">\n",
       "      <th></th>\n",
       "      <th>0</th>\n",
       "      <th>1</th>\n",
       "      <th>2</th>\n",
       "      <th>3</th>\n",
       "      <th>4</th>\n",
       "    </tr>\n",
       "  </thead>\n",
       "  <tbody>\n",
       "    <tr>\n",
       "      <th>Year</th>\n",
       "      <td>2019</td>\n",
       "      <td>2019</td>\n",
       "      <td>2019</td>\n",
       "      <td>2019</td>\n",
       "      <td>2019</td>\n",
       "    </tr>\n",
       "    <tr>\n",
       "      <th>LoanCharacteristicsID</th>\n",
       "      <td>2407198</td>\n",
       "      <td>2407199</td>\n",
       "      <td>2407200</td>\n",
       "      <td>2407201</td>\n",
       "      <td>2407202</td>\n",
       "    </tr>\n",
       "    <tr>\n",
       "      <th>Bank</th>\n",
       "      <td>Boston</td>\n",
       "      <td>Boston</td>\n",
       "      <td>Boston</td>\n",
       "      <td>Boston</td>\n",
       "      <td>Boston</td>\n",
       "    </tr>\n",
       "    <tr>\n",
       "      <th>FIPSStateNumericCode</th>\n",
       "      <td>50</td>\n",
       "      <td>50</td>\n",
       "      <td>50</td>\n",
       "      <td>50</td>\n",
       "      <td>23</td>\n",
       "    </tr>\n",
       "    <tr>\n",
       "      <th>FIPSCountyCode</th>\n",
       "      <td>7</td>\n",
       "      <td>7</td>\n",
       "      <td>15</td>\n",
       "      <td>17</td>\n",
       "      <td>31</td>\n",
       "    </tr>\n",
       "    <tr>\n",
       "      <th>CoreBasedStatisticalAreaCode</th>\n",
       "      <td>15540</td>\n",
       "      <td>15540</td>\n",
       "      <td>99999</td>\n",
       "      <td>30100</td>\n",
       "      <td>38860</td>\n",
       "    </tr>\n",
       "    <tr>\n",
       "      <th>CensusTractIdentifier</th>\n",
       "      <td>34</td>\n",
       "      <td>29</td>\n",
       "      <td>9532</td>\n",
       "      <td>9594</td>\n",
       "      <td>254</td>\n",
       "    </tr>\n",
       "    <tr>\n",
       "      <th>CensusTractMinorityRatioPercent</th>\n",
       "      <td>4.577</td>\n",
       "      <td>3.421</td>\n",
       "      <td>6.152</td>\n",
       "      <td>3.935</td>\n",
       "      <td>6.031</td>\n",
       "    </tr>\n",
       "    <tr>\n",
       "      <th>CensusTractMedFamIncomeAmount</th>\n",
       "      <td>132474</td>\n",
       "      <td>100795</td>\n",
       "      <td>49625</td>\n",
       "      <td>62643</td>\n",
       "      <td>87679</td>\n",
       "    </tr>\n",
       "    <tr>\n",
       "      <th>LocalAreaMedianIncomeAmount</th>\n",
       "      <td>84290</td>\n",
       "      <td>84290</td>\n",
       "      <td>67566</td>\n",
       "      <td>67105</td>\n",
       "      <td>76445</td>\n",
       "    </tr>\n",
       "    <tr>\n",
       "      <th>TotalMonthlyIncomeAmount</th>\n",
       "      <td>7308</td>\n",
       "      <td>7416</td>\n",
       "      <td>5143</td>\n",
       "      <td>8866</td>\n",
       "      <td>15240</td>\n",
       "    </tr>\n",
       "    <tr>\n",
       "      <th>HUDMedianIncomeAmount</th>\n",
       "      <td>93000</td>\n",
       "      <td>93000</td>\n",
       "      <td>71900</td>\n",
       "      <td>71900</td>\n",
       "      <td>90100</td>\n",
       "    </tr>\n",
       "    <tr>\n",
       "      <th>LoanAcquisitionActualUPBAmt</th>\n",
       "      <td>319113</td>\n",
       "      <td>248005</td>\n",
       "      <td>211105</td>\n",
       "      <td>210000</td>\n",
       "      <td>233200</td>\n",
       "    </tr>\n",
       "    <tr>\n",
       "      <th>LTVRatioPercent</th>\n",
       "      <td>99</td>\n",
       "      <td>97</td>\n",
       "      <td>99</td>\n",
       "      <td>100</td>\n",
       "      <td>80</td>\n",
       "    </tr>\n",
       "    <tr>\n",
       "      <th>NoteDate</th>\n",
       "      <td>2018</td>\n",
       "      <td>2019</td>\n",
       "      <td>2018</td>\n",
       "      <td>2018</td>\n",
       "      <td>2018</td>\n",
       "    </tr>\n",
       "    <tr>\n",
       "      <th>LoanAcquistionDate</th>\n",
       "      <td>2019</td>\n",
       "      <td>2019</td>\n",
       "      <td>2019</td>\n",
       "      <td>2019</td>\n",
       "      <td>2019</td>\n",
       "    </tr>\n",
       "    <tr>\n",
       "      <th>LoanPurposeType</th>\n",
       "      <td>1</td>\n",
       "      <td>1</td>\n",
       "      <td>1</td>\n",
       "      <td>1</td>\n",
       "      <td>1</td>\n",
       "    </tr>\n",
       "    <tr>\n",
       "      <th>ProductCategoryName</th>\n",
       "      <td>1</td>\n",
       "      <td>1</td>\n",
       "      <td>1</td>\n",
       "      <td>1</td>\n",
       "      <td>1</td>\n",
       "    </tr>\n",
       "    <tr>\n",
       "      <th>MortgageType</th>\n",
       "      <td>1</td>\n",
       "      <td>1</td>\n",
       "      <td>1</td>\n",
       "      <td>2</td>\n",
       "      <td>0</td>\n",
       "    </tr>\n",
       "    <tr>\n",
       "      <th>ScheduledTotalPaymentCount</th>\n",
       "      <td>360</td>\n",
       "      <td>360</td>\n",
       "      <td>360</td>\n",
       "      <td>360</td>\n",
       "      <td>180</td>\n",
       "    </tr>\n",
       "    <tr>\n",
       "      <th>LoanAmortizationMaxTermMonths</th>\n",
       "      <td>360</td>\n",
       "      <td>360</td>\n",
       "      <td>360</td>\n",
       "      <td>360</td>\n",
       "      <td>180</td>\n",
       "    </tr>\n",
       "    <tr>\n",
       "      <th>MortgageLoanSellerInstType</th>\n",
       "      <td>1</td>\n",
       "      <td>1</td>\n",
       "      <td>1</td>\n",
       "      <td>1</td>\n",
       "      <td>1</td>\n",
       "    </tr>\n",
       "    <tr>\n",
       "      <th>BorrowerCount</th>\n",
       "      <td>1</td>\n",
       "      <td>2</td>\n",
       "      <td>2</td>\n",
       "      <td>2</td>\n",
       "      <td>1</td>\n",
       "    </tr>\n",
       "    <tr>\n",
       "      <th>BorrowerFirstTimeHomebuyer</th>\n",
       "      <td>1</td>\n",
       "      <td>0</td>\n",
       "      <td>0</td>\n",
       "      <td>0</td>\n",
       "      <td>1</td>\n",
       "    </tr>\n",
       "    <tr>\n",
       "      <th>Borrower1Race1Type</th>\n",
       "      <td>5</td>\n",
       "      <td>5</td>\n",
       "      <td>5</td>\n",
       "      <td>5</td>\n",
       "      <td>5</td>\n",
       "    </tr>\n",
       "    <tr>\n",
       "      <th>Borrower2Race1Type</th>\n",
       "      <td>8</td>\n",
       "      <td>5</td>\n",
       "      <td>5</td>\n",
       "      <td>5</td>\n",
       "      <td>8</td>\n",
       "    </tr>\n",
       "    <tr>\n",
       "      <th>Borrower1GenderType</th>\n",
       "      <td>2</td>\n",
       "      <td>2</td>\n",
       "      <td>1</td>\n",
       "      <td>1</td>\n",
       "      <td>2</td>\n",
       "    </tr>\n",
       "    <tr>\n",
       "      <th>Borrower2GenderType</th>\n",
       "      <td>4</td>\n",
       "      <td>1</td>\n",
       "      <td>2</td>\n",
       "      <td>2</td>\n",
       "      <td>4</td>\n",
       "    </tr>\n",
       "    <tr>\n",
       "      <th>Borrower1AgeAtApplicationYears</th>\n",
       "      <td>34</td>\n",
       "      <td>36</td>\n",
       "      <td>34</td>\n",
       "      <td>42</td>\n",
       "      <td>66</td>\n",
       "    </tr>\n",
       "    <tr>\n",
       "      <th>Borrower2AgeAtApplicationYears</th>\n",
       "      <td>998</td>\n",
       "      <td>33</td>\n",
       "      <td>36</td>\n",
       "      <td>43</td>\n",
       "      <td>998</td>\n",
       "    </tr>\n",
       "    <tr>\n",
       "      <th>PropertyUsageType</th>\n",
       "      <td>1</td>\n",
       "      <td>1</td>\n",
       "      <td>1</td>\n",
       "      <td>1</td>\n",
       "      <td>1</td>\n",
       "    </tr>\n",
       "    <tr>\n",
       "      <th>PropertyUnitCount</th>\n",
       "      <td>1</td>\n",
       "      <td>1</td>\n",
       "      <td>1</td>\n",
       "      <td>1</td>\n",
       "      <td>1</td>\n",
       "    </tr>\n",
       "    <tr>\n",
       "      <th>NoteRatePercent</th>\n",
       "      <td>4</td>\n",
       "      <td>4.25</td>\n",
       "      <td>4.25</td>\n",
       "      <td>4.875</td>\n",
       "      <td>4.625</td>\n",
       "    </tr>\n",
       "    <tr>\n",
       "      <th>NoteAmount</th>\n",
       "      <td>319113</td>\n",
       "      <td>248005</td>\n",
       "      <td>211105</td>\n",
       "      <td>210000</td>\n",
       "      <td>233200</td>\n",
       "    </tr>\n",
       "    <tr>\n",
       "      <th>HousingExpenseRatioPercent</th>\n",
       "      <td>30.17</td>\n",
       "      <td>25.42</td>\n",
       "      <td>28.42</td>\n",
       "      <td>17.46</td>\n",
       "      <td>14.85</td>\n",
       "    </tr>\n",
       "    <tr>\n",
       "      <th>TotalDebtExpenseRatioPercent</th>\n",
       "      <td>40.46</td>\n",
       "      <td>45.67</td>\n",
       "      <td>46.23</td>\n",
       "      <td>36.88</td>\n",
       "      <td>34.95</td>\n",
       "    </tr>\n",
       "    <tr>\n",
       "      <th>Borrower1CreditScoreValue</th>\n",
       "      <td>1</td>\n",
       "      <td>3</td>\n",
       "      <td>2</td>\n",
       "      <td>4</td>\n",
       "      <td>5</td>\n",
       "    </tr>\n",
       "    <tr>\n",
       "      <th>Borrower2CreditScoreValue</th>\n",
       "      <td>9</td>\n",
       "      <td>2</td>\n",
       "      <td>3</td>\n",
       "      <td>2</td>\n",
       "      <td>9</td>\n",
       "    </tr>\n",
       "    <tr>\n",
       "      <th>PMICoveragePercent</th>\n",
       "      <td>0</td>\n",
       "      <td>0</td>\n",
       "      <td>0</td>\n",
       "      <td>0</td>\n",
       "      <td>0</td>\n",
       "    </tr>\n",
       "    <tr>\n",
       "      <th>EmploymentBorrowerSelfEmployed</th>\n",
       "      <td>1</td>\n",
       "      <td>1</td>\n",
       "      <td>1</td>\n",
       "      <td>1</td>\n",
       "      <td>1</td>\n",
       "    </tr>\n",
       "    <tr>\n",
       "      <th>PropertyType</th>\n",
       "      <td>PT01</td>\n",
       "      <td>PT01</td>\n",
       "      <td>PT01</td>\n",
       "      <td>PT01</td>\n",
       "      <td>PT01</td>\n",
       "    </tr>\n",
       "    <tr>\n",
       "      <th>IndexSourceType</th>\n",
       "      <td>99</td>\n",
       "      <td>99</td>\n",
       "      <td>99</td>\n",
       "      <td>99</td>\n",
       "      <td>99</td>\n",
       "    </tr>\n",
       "    <tr>\n",
       "      <th>MarginRatePercent</th>\n",
       "      <td>9999</td>\n",
       "      <td>9999</td>\n",
       "      <td>9999</td>\n",
       "      <td>9999</td>\n",
       "      <td>9999</td>\n",
       "    </tr>\n",
       "    <tr>\n",
       "      <th>PrepaymentPenaltyExpirationDate</th>\n",
       "      <td>12/31/9999</td>\n",
       "      <td>12/31/9999</td>\n",
       "      <td>12/31/9999</td>\n",
       "      <td>12/31/9999</td>\n",
       "      <td>12/31/9999</td>\n",
       "    </tr>\n",
       "    <tr>\n",
       "      <th>Borrower1EthnicityType</th>\n",
       "      <td>2</td>\n",
       "      <td>2</td>\n",
       "      <td>2</td>\n",
       "      <td>2</td>\n",
       "      <td>2</td>\n",
       "    </tr>\n",
       "    <tr>\n",
       "      <th>Borrower1Race2Type</th>\n",
       "      <td>7</td>\n",
       "      <td>7</td>\n",
       "      <td>7</td>\n",
       "      <td>7</td>\n",
       "      <td>7</td>\n",
       "    </tr>\n",
       "    <tr>\n",
       "      <th>Borrower1Race3Type</th>\n",
       "      <td>7</td>\n",
       "      <td>7</td>\n",
       "      <td>7</td>\n",
       "      <td>7</td>\n",
       "      <td>7</td>\n",
       "    </tr>\n",
       "    <tr>\n",
       "      <th>Borrower1Race4Type</th>\n",
       "      <td>7</td>\n",
       "      <td>7</td>\n",
       "      <td>7</td>\n",
       "      <td>7</td>\n",
       "      <td>7</td>\n",
       "    </tr>\n",
       "    <tr>\n",
       "      <th>Borrower1Race5Type</th>\n",
       "      <td>7</td>\n",
       "      <td>7</td>\n",
       "      <td>7</td>\n",
       "      <td>7</td>\n",
       "      <td>7</td>\n",
       "    </tr>\n",
       "    <tr>\n",
       "      <th>Borrower2EthnicityType</th>\n",
       "      <td>5</td>\n",
       "      <td>2</td>\n",
       "      <td>2</td>\n",
       "      <td>2</td>\n",
       "      <td>5</td>\n",
       "    </tr>\n",
       "    <tr>\n",
       "      <th>Borrower2Race2Type</th>\n",
       "      <td>8</td>\n",
       "      <td>7</td>\n",
       "      <td>7</td>\n",
       "      <td>7</td>\n",
       "      <td>8</td>\n",
       "    </tr>\n",
       "    <tr>\n",
       "      <th>Borrower2Race3Type</th>\n",
       "      <td>8</td>\n",
       "      <td>7</td>\n",
       "      <td>7</td>\n",
       "      <td>7</td>\n",
       "      <td>8</td>\n",
       "    </tr>\n",
       "    <tr>\n",
       "      <th>Borrower2Race4Type</th>\n",
       "      <td>8</td>\n",
       "      <td>7</td>\n",
       "      <td>7</td>\n",
       "      <td>7</td>\n",
       "      <td>8</td>\n",
       "    </tr>\n",
       "    <tr>\n",
       "      <th>Borrower2Race5Type</th>\n",
       "      <td>8</td>\n",
       "      <td>7</td>\n",
       "      <td>7</td>\n",
       "      <td>7</td>\n",
       "      <td>8</td>\n",
       "    </tr>\n",
       "    <tr>\n",
       "      <th>HOEPALoanStatusType</th>\n",
       "      <td>2</td>\n",
       "      <td>2</td>\n",
       "      <td>2</td>\n",
       "      <td>2</td>\n",
       "      <td>2</td>\n",
       "    </tr>\n",
       "    <tr>\n",
       "      <th>LienPriorityType</th>\n",
       "      <td>1</td>\n",
       "      <td>1</td>\n",
       "      <td>1</td>\n",
       "      <td>1</td>\n",
       "      <td>1</td>\n",
       "    </tr>\n",
       "  </tbody>\n",
       "</table>\n",
       "</div>"
      ],
      "text/plain": [
       "                                          0           1           2  \\\n",
       "Year                                   2019        2019        2019   \n",
       "LoanCharacteristicsID               2407198     2407199     2407200   \n",
       "Bank                                 Boston      Boston      Boston   \n",
       "FIPSStateNumericCode                     50          50          50   \n",
       "FIPSCountyCode                            7           7          15   \n",
       "CoreBasedStatisticalAreaCode          15540       15540       99999   \n",
       "CensusTractIdentifier                    34          29        9532   \n",
       "CensusTractMinorityRatioPercent       4.577       3.421       6.152   \n",
       "CensusTractMedFamIncomeAmount        132474      100795       49625   \n",
       "LocalAreaMedianIncomeAmount           84290       84290       67566   \n",
       "TotalMonthlyIncomeAmount               7308        7416        5143   \n",
       "HUDMedianIncomeAmount                 93000       93000       71900   \n",
       "LoanAcquisitionActualUPBAmt          319113      248005      211105   \n",
       "LTVRatioPercent                          99          97          99   \n",
       "NoteDate                               2018        2019        2018   \n",
       "LoanAcquistionDate                     2019        2019        2019   \n",
       "LoanPurposeType                           1           1           1   \n",
       "ProductCategoryName                       1           1           1   \n",
       "MortgageType                              1           1           1   \n",
       "ScheduledTotalPaymentCount              360         360         360   \n",
       "LoanAmortizationMaxTermMonths           360         360         360   \n",
       "MortgageLoanSellerInstType                1           1           1   \n",
       "BorrowerCount                             1           2           2   \n",
       "BorrowerFirstTimeHomebuyer                1           0           0   \n",
       "Borrower1Race1Type                        5           5           5   \n",
       "Borrower2Race1Type                        8           5           5   \n",
       "Borrower1GenderType                       2           2           1   \n",
       "Borrower2GenderType                       4           1           2   \n",
       "Borrower1AgeAtApplicationYears           34          36          34   \n",
       "Borrower2AgeAtApplicationYears          998          33          36   \n",
       "PropertyUsageType                         1           1           1   \n",
       "PropertyUnitCount                         1           1           1   \n",
       "NoteRatePercent                           4        4.25        4.25   \n",
       "NoteAmount                           319113      248005      211105   \n",
       "HousingExpenseRatioPercent            30.17       25.42       28.42   \n",
       "TotalDebtExpenseRatioPercent          40.46       45.67       46.23   \n",
       "Borrower1CreditScoreValue                 1           3           2   \n",
       "Borrower2CreditScoreValue                 9           2           3   \n",
       "PMICoveragePercent                        0           0           0   \n",
       "EmploymentBorrowerSelfEmployed            1           1           1   \n",
       "PropertyType                           PT01        PT01        PT01   \n",
       "IndexSourceType                          99          99          99   \n",
       "MarginRatePercent                      9999        9999        9999   \n",
       "PrepaymentPenaltyExpirationDate  12/31/9999  12/31/9999  12/31/9999   \n",
       "Borrower1EthnicityType                    2           2           2   \n",
       "Borrower1Race2Type                        7           7           7   \n",
       "Borrower1Race3Type                        7           7           7   \n",
       "Borrower1Race4Type                        7           7           7   \n",
       "Borrower1Race5Type                        7           7           7   \n",
       "Borrower2EthnicityType                    5           2           2   \n",
       "Borrower2Race2Type                        8           7           7   \n",
       "Borrower2Race3Type                        8           7           7   \n",
       "Borrower2Race4Type                        8           7           7   \n",
       "Borrower2Race5Type                        8           7           7   \n",
       "HOEPALoanStatusType                       2           2           2   \n",
       "LienPriorityType                          1           1           1   \n",
       "\n",
       "                                          3           4  \n",
       "Year                                   2019        2019  \n",
       "LoanCharacteristicsID               2407201     2407202  \n",
       "Bank                                 Boston      Boston  \n",
       "FIPSStateNumericCode                     50          23  \n",
       "FIPSCountyCode                           17          31  \n",
       "CoreBasedStatisticalAreaCode          30100       38860  \n",
       "CensusTractIdentifier                  9594         254  \n",
       "CensusTractMinorityRatioPercent       3.935       6.031  \n",
       "CensusTractMedFamIncomeAmount         62643       87679  \n",
       "LocalAreaMedianIncomeAmount           67105       76445  \n",
       "TotalMonthlyIncomeAmount               8866       15240  \n",
       "HUDMedianIncomeAmount                 71900       90100  \n",
       "LoanAcquisitionActualUPBAmt          210000      233200  \n",
       "LTVRatioPercent                         100          80  \n",
       "NoteDate                               2018        2018  \n",
       "LoanAcquistionDate                     2019        2019  \n",
       "LoanPurposeType                           1           1  \n",
       "ProductCategoryName                       1           1  \n",
       "MortgageType                              2           0  \n",
       "ScheduledTotalPaymentCount              360         180  \n",
       "LoanAmortizationMaxTermMonths           360         180  \n",
       "MortgageLoanSellerInstType                1           1  \n",
       "BorrowerCount                             2           1  \n",
       "BorrowerFirstTimeHomebuyer                0           1  \n",
       "Borrower1Race1Type                        5           5  \n",
       "Borrower2Race1Type                        5           8  \n",
       "Borrower1GenderType                       1           2  \n",
       "Borrower2GenderType                       2           4  \n",
       "Borrower1AgeAtApplicationYears           42          66  \n",
       "Borrower2AgeAtApplicationYears           43         998  \n",
       "PropertyUsageType                         1           1  \n",
       "PropertyUnitCount                         1           1  \n",
       "NoteRatePercent                       4.875       4.625  \n",
       "NoteAmount                           210000      233200  \n",
       "HousingExpenseRatioPercent            17.46       14.85  \n",
       "TotalDebtExpenseRatioPercent          36.88       34.95  \n",
       "Borrower1CreditScoreValue                 4           5  \n",
       "Borrower2CreditScoreValue                 2           9  \n",
       "PMICoveragePercent                        0           0  \n",
       "EmploymentBorrowerSelfEmployed            1           1  \n",
       "PropertyType                           PT01        PT01  \n",
       "IndexSourceType                          99          99  \n",
       "MarginRatePercent                      9999        9999  \n",
       "PrepaymentPenaltyExpirationDate  12/31/9999  12/31/9999  \n",
       "Borrower1EthnicityType                    2           2  \n",
       "Borrower1Race2Type                        7           7  \n",
       "Borrower1Race3Type                        7           7  \n",
       "Borrower1Race4Type                        7           7  \n",
       "Borrower1Race5Type                        7           7  \n",
       "Borrower2EthnicityType                    2           5  \n",
       "Borrower2Race2Type                        7           8  \n",
       "Borrower2Race3Type                        7           8  \n",
       "Borrower2Race4Type                        7           8  \n",
       "Borrower2Race5Type                        7           8  \n",
       "HOEPALoanStatusType                       2           2  \n",
       "LienPriorityType                          1           1  "
      ]
     },
     "execution_count": 5,
     "metadata": {},
     "output_type": "execute_result"
    }
   ],
   "source": [
    "#View the header\n",
    "df_2019.head().T"
   ]
  },
  {
   "cell_type": "code",
   "execution_count": 6,
   "metadata": {},
   "outputs": [
    {
     "data": {
      "text/html": [
       "<div>\n",
       "<style scoped>\n",
       "    .dataframe tbody tr th:only-of-type {\n",
       "        vertical-align: middle;\n",
       "    }\n",
       "\n",
       "    .dataframe tbody tr th {\n",
       "        vertical-align: top;\n",
       "    }\n",
       "\n",
       "    .dataframe thead th {\n",
       "        text-align: right;\n",
       "    }\n",
       "</style>\n",
       "<table border=\"1\" class=\"dataframe\">\n",
       "  <thead>\n",
       "    <tr style=\"text-align: right;\">\n",
       "      <th></th>\n",
       "      <th>count</th>\n",
       "      <th>mean</th>\n",
       "      <th>std</th>\n",
       "      <th>min</th>\n",
       "      <th>25%</th>\n",
       "      <th>50%</th>\n",
       "      <th>75%</th>\n",
       "      <th>max</th>\n",
       "    </tr>\n",
       "  </thead>\n",
       "  <tbody>\n",
       "    <tr>\n",
       "      <th>Year</th>\n",
       "      <td>89767.0</td>\n",
       "      <td>2.019000e+03</td>\n",
       "      <td>0.000000</td>\n",
       "      <td>2019.00</td>\n",
       "      <td>2.019000e+03</td>\n",
       "      <td>2019.000</td>\n",
       "      <td>2019.000</td>\n",
       "      <td>2019.000</td>\n",
       "    </tr>\n",
       "    <tr>\n",
       "      <th>LoanCharacteristicsID</th>\n",
       "      <td>89767.0</td>\n",
       "      <td>2.452548e+06</td>\n",
       "      <td>26949.017034</td>\n",
       "      <td>2406119.00</td>\n",
       "      <td>2.429908e+06</td>\n",
       "      <td>2452349.000</td>\n",
       "      <td>2474790.500</td>\n",
       "      <td>2521673.000</td>\n",
       "    </tr>\n",
       "    <tr>\n",
       "      <th>FIPSStateNumericCode</th>\n",
       "      <td>89767.0</td>\n",
       "      <td>2.987412e+01</td>\n",
       "      <td>15.367330</td>\n",
       "      <td>1.00</td>\n",
       "      <td>1.800000e+01</td>\n",
       "      <td>27.000</td>\n",
       "      <td>42.000</td>\n",
       "      <td>66.000</td>\n",
       "    </tr>\n",
       "    <tr>\n",
       "      <th>FIPSCountyCode</th>\n",
       "      <td>89767.0</td>\n",
       "      <td>8.964927e+01</td>\n",
       "      <td>85.719173</td>\n",
       "      <td>1.00</td>\n",
       "      <td>3.300000e+01</td>\n",
       "      <td>71.000</td>\n",
       "      <td>121.000</td>\n",
       "      <td>840.000</td>\n",
       "    </tr>\n",
       "    <tr>\n",
       "      <th>CoreBasedStatisticalAreaCode</th>\n",
       "      <td>89767.0</td>\n",
       "      <td>3.617272e+04</td>\n",
       "      <td>23931.023618</td>\n",
       "      <td>10100.00</td>\n",
       "      <td>1.943000e+04</td>\n",
       "      <td>31080.000</td>\n",
       "      <td>41180.000</td>\n",
       "      <td>99999.000</td>\n",
       "    </tr>\n",
       "    <tr>\n",
       "      <th>CensusTractIdentifier</th>\n",
       "      <td>89767.0</td>\n",
       "      <td>2.681255e+03</td>\n",
       "      <td>3652.664758</td>\n",
       "      <td>1.00</td>\n",
       "      <td>1.020200e+02</td>\n",
       "      <td>414.090</td>\n",
       "      <td>4922.015</td>\n",
       "      <td>9917.030</td>\n",
       "    </tr>\n",
       "    <tr>\n",
       "      <th>CensusTractMinorityRatioPercent</th>\n",
       "      <td>89767.0</td>\n",
       "      <td>1.784488e+01</td>\n",
       "      <td>18.600936</td>\n",
       "      <td>0.00</td>\n",
       "      <td>5.390500e+00</td>\n",
       "      <td>11.000</td>\n",
       "      <td>22.546</td>\n",
       "      <td>99.822</td>\n",
       "    </tr>\n",
       "    <tr>\n",
       "      <th>CensusTractMedFamIncomeAmount</th>\n",
       "      <td>89767.0</td>\n",
       "      <td>8.779961e+04</td>\n",
       "      <td>30551.702748</td>\n",
       "      <td>0.00</td>\n",
       "      <td>6.627000e+04</td>\n",
       "      <td>82019.000</td>\n",
       "      <td>104219.000</td>\n",
       "      <td>250001.000</td>\n",
       "    </tr>\n",
       "    <tr>\n",
       "      <th>LocalAreaMedianIncomeAmount</th>\n",
       "      <td>89767.0</td>\n",
       "      <td>7.407845e+04</td>\n",
       "      <td>11949.849407</td>\n",
       "      <td>0.00</td>\n",
       "      <td>6.582900e+04</td>\n",
       "      <td>73493.000</td>\n",
       "      <td>79347.000</td>\n",
       "      <td>133523.000</td>\n",
       "    </tr>\n",
       "    <tr>\n",
       "      <th>TotalMonthlyIncomeAmount</th>\n",
       "      <td>89767.0</td>\n",
       "      <td>9.837590e+03</td>\n",
       "      <td>7843.469558</td>\n",
       "      <td>791.00</td>\n",
       "      <td>5.615000e+03</td>\n",
       "      <td>8333.000</td>\n",
       "      <td>11907.000</td>\n",
       "      <td>449001.000</td>\n",
       "    </tr>\n",
       "    <tr>\n",
       "      <th>HUDMedianIncomeAmount</th>\n",
       "      <td>89767.0</td>\n",
       "      <td>7.903644e+04</td>\n",
       "      <td>13119.438254</td>\n",
       "      <td>38900.00</td>\n",
       "      <td>6.970000e+04</td>\n",
       "      <td>78000.000</td>\n",
       "      <td>86100.000</td>\n",
       "      <td>135500.000</td>\n",
       "    </tr>\n",
       "    <tr>\n",
       "      <th>LoanAcquisitionActualUPBAmt</th>\n",
       "      <td>89767.0</td>\n",
       "      <td>2.438158e+05</td>\n",
       "      <td>129566.034695</td>\n",
       "      <td>12800.00</td>\n",
       "      <td>1.480000e+05</td>\n",
       "      <td>220000.000</td>\n",
       "      <td>316214.000</td>\n",
       "      <td>1290000.000</td>\n",
       "    </tr>\n",
       "    <tr>\n",
       "      <th>LTVRatioPercent</th>\n",
       "      <td>89767.0</td>\n",
       "      <td>7.475098e+01</td>\n",
       "      <td>15.130832</td>\n",
       "      <td>5.00</td>\n",
       "      <td>6.800000e+01</td>\n",
       "      <td>80.000</td>\n",
       "      <td>80.000</td>\n",
       "      <td>112.000</td>\n",
       "    </tr>\n",
       "    <tr>\n",
       "      <th>NoteDate</th>\n",
       "      <td>89767.0</td>\n",
       "      <td>2.018956e+03</td>\n",
       "      <td>0.226514</td>\n",
       "      <td>2014.00</td>\n",
       "      <td>2.019000e+03</td>\n",
       "      <td>2019.000</td>\n",
       "      <td>2019.000</td>\n",
       "      <td>2019.000</td>\n",
       "    </tr>\n",
       "    <tr>\n",
       "      <th>LoanAcquistionDate</th>\n",
       "      <td>89767.0</td>\n",
       "      <td>2.019000e+03</td>\n",
       "      <td>0.000000</td>\n",
       "      <td>2019.00</td>\n",
       "      <td>2.019000e+03</td>\n",
       "      <td>2019.000</td>\n",
       "      <td>2019.000</td>\n",
       "      <td>2019.000</td>\n",
       "    </tr>\n",
       "    <tr>\n",
       "      <th>LoanPurposeType</th>\n",
       "      <td>89767.0</td>\n",
       "      <td>2.743402e+00</td>\n",
       "      <td>2.161045</td>\n",
       "      <td>1.00</td>\n",
       "      <td>1.000000e+00</td>\n",
       "      <td>2.000</td>\n",
       "      <td>6.000</td>\n",
       "      <td>6.000</td>\n",
       "    </tr>\n",
       "    <tr>\n",
       "      <th>ProductCategoryName</th>\n",
       "      <td>89767.0</td>\n",
       "      <td>1.000000e+00</td>\n",
       "      <td>0.000000</td>\n",
       "      <td>1.00</td>\n",
       "      <td>1.000000e+00</td>\n",
       "      <td>1.000</td>\n",
       "      <td>1.000</td>\n",
       "      <td>1.000</td>\n",
       "    </tr>\n",
       "    <tr>\n",
       "      <th>MortgageType</th>\n",
       "      <td>89767.0</td>\n",
       "      <td>7.676540e-02</td>\n",
       "      <td>0.422898</td>\n",
       "      <td>0.00</td>\n",
       "      <td>0.000000e+00</td>\n",
       "      <td>0.000</td>\n",
       "      <td>0.000</td>\n",
       "      <td>3.000</td>\n",
       "    </tr>\n",
       "    <tr>\n",
       "      <th>ScheduledTotalPaymentCount</th>\n",
       "      <td>89767.0</td>\n",
       "      <td>3.334423e+02</td>\n",
       "      <td>59.921873</td>\n",
       "      <td>60.00</td>\n",
       "      <td>3.600000e+02</td>\n",
       "      <td>360.000</td>\n",
       "      <td>360.000</td>\n",
       "      <td>360.000</td>\n",
       "    </tr>\n",
       "    <tr>\n",
       "      <th>LoanAmortizationMaxTermMonths</th>\n",
       "      <td>89767.0</td>\n",
       "      <td>3.334423e+02</td>\n",
       "      <td>59.921873</td>\n",
       "      <td>60.00</td>\n",
       "      <td>3.600000e+02</td>\n",
       "      <td>360.000</td>\n",
       "      <td>360.000</td>\n",
       "      <td>360.000</td>\n",
       "    </tr>\n",
       "    <tr>\n",
       "      <th>MortgageLoanSellerInstType</th>\n",
       "      <td>89767.0</td>\n",
       "      <td>1.020408e+00</td>\n",
       "      <td>0.403550</td>\n",
       "      <td>1.00</td>\n",
       "      <td>1.000000e+00</td>\n",
       "      <td>1.000</td>\n",
       "      <td>1.000</td>\n",
       "      <td>9.000</td>\n",
       "    </tr>\n",
       "    <tr>\n",
       "      <th>BorrowerCount</th>\n",
       "      <td>89767.0</td>\n",
       "      <td>1.584034e+00</td>\n",
       "      <td>0.507500</td>\n",
       "      <td>1.00</td>\n",
       "      <td>1.000000e+00</td>\n",
       "      <td>2.000</td>\n",
       "      <td>2.000</td>\n",
       "      <td>5.000</td>\n",
       "    </tr>\n",
       "    <tr>\n",
       "      <th>BorrowerFirstTimeHomebuyer</th>\n",
       "      <td>89767.0</td>\n",
       "      <td>3.561554e-01</td>\n",
       "      <td>0.478865</td>\n",
       "      <td>0.00</td>\n",
       "      <td>0.000000e+00</td>\n",
       "      <td>0.000</td>\n",
       "      <td>1.000</td>\n",
       "      <td>1.000</td>\n",
       "    </tr>\n",
       "    <tr>\n",
       "      <th>Borrower1Race1Type</th>\n",
       "      <td>89767.0</td>\n",
       "      <td>4.915760e+00</td>\n",
       "      <td>0.745901</td>\n",
       "      <td>1.00</td>\n",
       "      <td>5.000000e+00</td>\n",
       "      <td>5.000</td>\n",
       "      <td>5.000</td>\n",
       "      <td>6.000</td>\n",
       "    </tr>\n",
       "    <tr>\n",
       "      <th>Borrower2Race1Type</th>\n",
       "      <td>89767.0</td>\n",
       "      <td>6.242461e+00</td>\n",
       "      <td>1.592354</td>\n",
       "      <td>1.00</td>\n",
       "      <td>5.000000e+00</td>\n",
       "      <td>5.000</td>\n",
       "      <td>8.000</td>\n",
       "      <td>8.000</td>\n",
       "    </tr>\n",
       "    <tr>\n",
       "      <th>Borrower1GenderType</th>\n",
       "      <td>89767.0</td>\n",
       "      <td>1.377009e+00</td>\n",
       "      <td>0.585549</td>\n",
       "      <td>1.00</td>\n",
       "      <td>1.000000e+00</td>\n",
       "      <td>1.000</td>\n",
       "      <td>2.000</td>\n",
       "      <td>6.000</td>\n",
       "    </tr>\n",
       "    <tr>\n",
       "      <th>Borrower2GenderType</th>\n",
       "      <td>89767.0</td>\n",
       "      <td>2.760235e+00</td>\n",
       "      <td>1.127613</td>\n",
       "      <td>1.00</td>\n",
       "      <td>2.000000e+00</td>\n",
       "      <td>2.000</td>\n",
       "      <td>4.000</td>\n",
       "      <td>6.000</td>\n",
       "    </tr>\n",
       "    <tr>\n",
       "      <th>Borrower1AgeAtApplicationYears</th>\n",
       "      <td>89767.0</td>\n",
       "      <td>4.437039e+01</td>\n",
       "      <td>13.328550</td>\n",
       "      <td>18.00</td>\n",
       "      <td>3.400000e+01</td>\n",
       "      <td>42.000</td>\n",
       "      <td>54.000</td>\n",
       "      <td>98.000</td>\n",
       "    </tr>\n",
       "    <tr>\n",
       "      <th>Borrower2AgeAtApplicationYears</th>\n",
       "      <td>89767.0</td>\n",
       "      <td>4.474362e+02</td>\n",
       "      <td>471.482475</td>\n",
       "      <td>18.00</td>\n",
       "      <td>3.900000e+01</td>\n",
       "      <td>61.000</td>\n",
       "      <td>998.000</td>\n",
       "      <td>999.000</td>\n",
       "    </tr>\n",
       "    <tr>\n",
       "      <th>PropertyUsageType</th>\n",
       "      <td>89767.0</td>\n",
       "      <td>1.028095e+00</td>\n",
       "      <td>0.165245</td>\n",
       "      <td>1.00</td>\n",
       "      <td>1.000000e+00</td>\n",
       "      <td>1.000</td>\n",
       "      <td>1.000</td>\n",
       "      <td>2.000</td>\n",
       "    </tr>\n",
       "    <tr>\n",
       "      <th>PropertyUnitCount</th>\n",
       "      <td>89767.0</td>\n",
       "      <td>1.011619e+00</td>\n",
       "      <td>0.126254</td>\n",
       "      <td>1.00</td>\n",
       "      <td>1.000000e+00</td>\n",
       "      <td>1.000</td>\n",
       "      <td>1.000</td>\n",
       "      <td>4.000</td>\n",
       "    </tr>\n",
       "    <tr>\n",
       "      <th>NoteRatePercent</th>\n",
       "      <td>89767.0</td>\n",
       "      <td>3.965140e+00</td>\n",
       "      <td>0.511299</td>\n",
       "      <td>2.50</td>\n",
       "      <td>3.625000e+00</td>\n",
       "      <td>3.875</td>\n",
       "      <td>4.300</td>\n",
       "      <td>6.250</td>\n",
       "    </tr>\n",
       "    <tr>\n",
       "      <th>NoteAmount</th>\n",
       "      <td>89767.0</td>\n",
       "      <td>2.440618e+05</td>\n",
       "      <td>129646.820656</td>\n",
       "      <td>12800.00</td>\n",
       "      <td>1.480000e+05</td>\n",
       "      <td>220000.000</td>\n",
       "      <td>316848.500</td>\n",
       "      <td>1290000.000</td>\n",
       "    </tr>\n",
       "    <tr>\n",
       "      <th>HousingExpenseRatioPercent</th>\n",
       "      <td>89767.0</td>\n",
       "      <td>2.069573e+01</td>\n",
       "      <td>8.956895</td>\n",
       "      <td>0.00</td>\n",
       "      <td>1.476000e+01</td>\n",
       "      <td>19.510</td>\n",
       "      <td>25.590</td>\n",
       "      <td>999.000</td>\n",
       "    </tr>\n",
       "    <tr>\n",
       "      <th>TotalDebtExpenseRatioPercent</th>\n",
       "      <td>89767.0</td>\n",
       "      <td>3.154895e+01</td>\n",
       "      <td>9.561842</td>\n",
       "      <td>0.27</td>\n",
       "      <td>2.441000e+01</td>\n",
       "      <td>31.820</td>\n",
       "      <td>39.050</td>\n",
       "      <td>78.040</td>\n",
       "    </tr>\n",
       "    <tr>\n",
       "      <th>Borrower1CreditScoreValue</th>\n",
       "      <td>89767.0</td>\n",
       "      <td>4.393652e+00</td>\n",
       "      <td>0.826616</td>\n",
       "      <td>1.00</td>\n",
       "      <td>4.000000e+00</td>\n",
       "      <td>5.000</td>\n",
       "      <td>5.000</td>\n",
       "      <td>9.000</td>\n",
       "    </tr>\n",
       "    <tr>\n",
       "      <th>Borrower2CreditScoreValue</th>\n",
       "      <td>89767.0</td>\n",
       "      <td>6.390121e+00</td>\n",
       "      <td>2.314783</td>\n",
       "      <td>1.00</td>\n",
       "      <td>5.000000e+00</td>\n",
       "      <td>5.000</td>\n",
       "      <td>9.000</td>\n",
       "      <td>9.000</td>\n",
       "    </tr>\n",
       "    <tr>\n",
       "      <th>PMICoveragePercent</th>\n",
       "      <td>89767.0</td>\n",
       "      <td>4.529368e+00</td>\n",
       "      <td>10.000697</td>\n",
       "      <td>0.00</td>\n",
       "      <td>0.000000e+00</td>\n",
       "      <td>0.000</td>\n",
       "      <td>0.000</td>\n",
       "      <td>78.000</td>\n",
       "    </tr>\n",
       "    <tr>\n",
       "      <th>EmploymentBorrowerSelfEmployed</th>\n",
       "      <td>89767.0</td>\n",
       "      <td>3.859102e-01</td>\n",
       "      <td>0.486812</td>\n",
       "      <td>0.00</td>\n",
       "      <td>0.000000e+00</td>\n",
       "      <td>0.000</td>\n",
       "      <td>1.000</td>\n",
       "      <td>1.000</td>\n",
       "    </tr>\n",
       "    <tr>\n",
       "      <th>IndexSourceType</th>\n",
       "      <td>89767.0</td>\n",
       "      <td>9.900000e+01</td>\n",
       "      <td>0.000000</td>\n",
       "      <td>99.00</td>\n",
       "      <td>9.900000e+01</td>\n",
       "      <td>99.000</td>\n",
       "      <td>99.000</td>\n",
       "      <td>99.000</td>\n",
       "    </tr>\n",
       "    <tr>\n",
       "      <th>MarginRatePercent</th>\n",
       "      <td>89767.0</td>\n",
       "      <td>9.366648e+03</td>\n",
       "      <td>2433.738427</td>\n",
       "      <td>0.00</td>\n",
       "      <td>9.999000e+03</td>\n",
       "      <td>9999.000</td>\n",
       "      <td>9999.000</td>\n",
       "      <td>9999.000</td>\n",
       "    </tr>\n",
       "    <tr>\n",
       "      <th>Borrower1EthnicityType</th>\n",
       "      <td>89767.0</td>\n",
       "      <td>2.044916e+00</td>\n",
       "      <td>0.363468</td>\n",
       "      <td>1.00</td>\n",
       "      <td>2.000000e+00</td>\n",
       "      <td>2.000</td>\n",
       "      <td>2.000</td>\n",
       "      <td>4.000</td>\n",
       "    </tr>\n",
       "    <tr>\n",
       "      <th>Borrower1Race2Type</th>\n",
       "      <td>89767.0</td>\n",
       "      <td>6.863045e+00</td>\n",
       "      <td>0.369085</td>\n",
       "      <td>1.00</td>\n",
       "      <td>7.000000e+00</td>\n",
       "      <td>7.000</td>\n",
       "      <td>7.000</td>\n",
       "      <td>7.000</td>\n",
       "    </tr>\n",
       "    <tr>\n",
       "      <th>Borrower1Race3Type</th>\n",
       "      <td>89767.0</td>\n",
       "      <td>6.874230e+00</td>\n",
       "      <td>0.332665</td>\n",
       "      <td>2.00</td>\n",
       "      <td>7.000000e+00</td>\n",
       "      <td>7.000</td>\n",
       "      <td>7.000</td>\n",
       "      <td>7.000</td>\n",
       "    </tr>\n",
       "    <tr>\n",
       "      <th>Borrower1Race4Type</th>\n",
       "      <td>89767.0</td>\n",
       "      <td>6.874653e+00</td>\n",
       "      <td>0.331147</td>\n",
       "      <td>5.00</td>\n",
       "      <td>7.000000e+00</td>\n",
       "      <td>7.000</td>\n",
       "      <td>7.000</td>\n",
       "      <td>7.000</td>\n",
       "    </tr>\n",
       "    <tr>\n",
       "      <th>Borrower1Race5Type</th>\n",
       "      <td>89767.0</td>\n",
       "      <td>6.874676e+00</td>\n",
       "      <td>0.331088</td>\n",
       "      <td>6.00</td>\n",
       "      <td>7.000000e+00</td>\n",
       "      <td>7.000</td>\n",
       "      <td>7.000</td>\n",
       "      <td>7.000</td>\n",
       "    </tr>\n",
       "    <tr>\n",
       "      <th>Borrower2EthnicityType</th>\n",
       "      <td>89767.0</td>\n",
       "      <td>3.302583e+00</td>\n",
       "      <td>1.479171</td>\n",
       "      <td>1.00</td>\n",
       "      <td>2.000000e+00</td>\n",
       "      <td>2.000</td>\n",
       "      <td>5.000</td>\n",
       "      <td>5.000</td>\n",
       "    </tr>\n",
       "    <tr>\n",
       "      <th>Borrower2Race2Type</th>\n",
       "      <td>89767.0</td>\n",
       "      <td>7.347633e+00</td>\n",
       "      <td>0.621057</td>\n",
       "      <td>1.00</td>\n",
       "      <td>7.000000e+00</td>\n",
       "      <td>7.000</td>\n",
       "      <td>8.000</td>\n",
       "      <td>8.000</td>\n",
       "    </tr>\n",
       "    <tr>\n",
       "      <th>Borrower2Race3Type</th>\n",
       "      <td>89767.0</td>\n",
       "      <td>7.352880e+00</td>\n",
       "      <td>0.607281</td>\n",
       "      <td>3.00</td>\n",
       "      <td>7.000000e+00</td>\n",
       "      <td>7.000</td>\n",
       "      <td>8.000</td>\n",
       "      <td>8.000</td>\n",
       "    </tr>\n",
       "    <tr>\n",
       "      <th>Borrower2Race4Type</th>\n",
       "      <td>89767.0</td>\n",
       "      <td>7.353103e+00</td>\n",
       "      <td>0.606711</td>\n",
       "      <td>5.00</td>\n",
       "      <td>7.000000e+00</td>\n",
       "      <td>7.000</td>\n",
       "      <td>8.000</td>\n",
       "      <td>8.000</td>\n",
       "    </tr>\n",
       "    <tr>\n",
       "      <th>Borrower2Race5Type</th>\n",
       "      <td>89767.0</td>\n",
       "      <td>7.353125e+00</td>\n",
       "      <td>0.606661</td>\n",
       "      <td>6.00</td>\n",
       "      <td>7.000000e+00</td>\n",
       "      <td>7.000</td>\n",
       "      <td>8.000</td>\n",
       "      <td>8.000</td>\n",
       "    </tr>\n",
       "    <tr>\n",
       "      <th>HOEPALoanStatusType</th>\n",
       "      <td>89767.0</td>\n",
       "      <td>2.002974e+00</td>\n",
       "      <td>0.056662</td>\n",
       "      <td>1.00</td>\n",
       "      <td>2.000000e+00</td>\n",
       "      <td>2.000</td>\n",
       "      <td>2.000</td>\n",
       "      <td>3.000</td>\n",
       "    </tr>\n",
       "    <tr>\n",
       "      <th>LienPriorityType</th>\n",
       "      <td>89767.0</td>\n",
       "      <td>1.000000e+00</td>\n",
       "      <td>0.000000</td>\n",
       "      <td>1.00</td>\n",
       "      <td>1.000000e+00</td>\n",
       "      <td>1.000</td>\n",
       "      <td>1.000</td>\n",
       "      <td>1.000</td>\n",
       "    </tr>\n",
       "  </tbody>\n",
       "</table>\n",
       "</div>"
      ],
      "text/plain": [
       "                                   count          mean            std  \\\n",
       "Year                             89767.0  2.019000e+03       0.000000   \n",
       "LoanCharacteristicsID            89767.0  2.452548e+06   26949.017034   \n",
       "FIPSStateNumericCode             89767.0  2.987412e+01      15.367330   \n",
       "FIPSCountyCode                   89767.0  8.964927e+01      85.719173   \n",
       "CoreBasedStatisticalAreaCode     89767.0  3.617272e+04   23931.023618   \n",
       "CensusTractIdentifier            89767.0  2.681255e+03    3652.664758   \n",
       "CensusTractMinorityRatioPercent  89767.0  1.784488e+01      18.600936   \n",
       "CensusTractMedFamIncomeAmount    89767.0  8.779961e+04   30551.702748   \n",
       "LocalAreaMedianIncomeAmount      89767.0  7.407845e+04   11949.849407   \n",
       "TotalMonthlyIncomeAmount         89767.0  9.837590e+03    7843.469558   \n",
       "HUDMedianIncomeAmount            89767.0  7.903644e+04   13119.438254   \n",
       "LoanAcquisitionActualUPBAmt      89767.0  2.438158e+05  129566.034695   \n",
       "LTVRatioPercent                  89767.0  7.475098e+01      15.130832   \n",
       "NoteDate                         89767.0  2.018956e+03       0.226514   \n",
       "LoanAcquistionDate               89767.0  2.019000e+03       0.000000   \n",
       "LoanPurposeType                  89767.0  2.743402e+00       2.161045   \n",
       "ProductCategoryName              89767.0  1.000000e+00       0.000000   \n",
       "MortgageType                     89767.0  7.676540e-02       0.422898   \n",
       "ScheduledTotalPaymentCount       89767.0  3.334423e+02      59.921873   \n",
       "LoanAmortizationMaxTermMonths    89767.0  3.334423e+02      59.921873   \n",
       "MortgageLoanSellerInstType       89767.0  1.020408e+00       0.403550   \n",
       "BorrowerCount                    89767.0  1.584034e+00       0.507500   \n",
       "BorrowerFirstTimeHomebuyer       89767.0  3.561554e-01       0.478865   \n",
       "Borrower1Race1Type               89767.0  4.915760e+00       0.745901   \n",
       "Borrower2Race1Type               89767.0  6.242461e+00       1.592354   \n",
       "Borrower1GenderType              89767.0  1.377009e+00       0.585549   \n",
       "Borrower2GenderType              89767.0  2.760235e+00       1.127613   \n",
       "Borrower1AgeAtApplicationYears   89767.0  4.437039e+01      13.328550   \n",
       "Borrower2AgeAtApplicationYears   89767.0  4.474362e+02     471.482475   \n",
       "PropertyUsageType                89767.0  1.028095e+00       0.165245   \n",
       "PropertyUnitCount                89767.0  1.011619e+00       0.126254   \n",
       "NoteRatePercent                  89767.0  3.965140e+00       0.511299   \n",
       "NoteAmount                       89767.0  2.440618e+05  129646.820656   \n",
       "HousingExpenseRatioPercent       89767.0  2.069573e+01       8.956895   \n",
       "TotalDebtExpenseRatioPercent     89767.0  3.154895e+01       9.561842   \n",
       "Borrower1CreditScoreValue        89767.0  4.393652e+00       0.826616   \n",
       "Borrower2CreditScoreValue        89767.0  6.390121e+00       2.314783   \n",
       "PMICoveragePercent               89767.0  4.529368e+00      10.000697   \n",
       "EmploymentBorrowerSelfEmployed   89767.0  3.859102e-01       0.486812   \n",
       "IndexSourceType                  89767.0  9.900000e+01       0.000000   \n",
       "MarginRatePercent                89767.0  9.366648e+03    2433.738427   \n",
       "Borrower1EthnicityType           89767.0  2.044916e+00       0.363468   \n",
       "Borrower1Race2Type               89767.0  6.863045e+00       0.369085   \n",
       "Borrower1Race3Type               89767.0  6.874230e+00       0.332665   \n",
       "Borrower1Race4Type               89767.0  6.874653e+00       0.331147   \n",
       "Borrower1Race5Type               89767.0  6.874676e+00       0.331088   \n",
       "Borrower2EthnicityType           89767.0  3.302583e+00       1.479171   \n",
       "Borrower2Race2Type               89767.0  7.347633e+00       0.621057   \n",
       "Borrower2Race3Type               89767.0  7.352880e+00       0.607281   \n",
       "Borrower2Race4Type               89767.0  7.353103e+00       0.606711   \n",
       "Borrower2Race5Type               89767.0  7.353125e+00       0.606661   \n",
       "HOEPALoanStatusType              89767.0  2.002974e+00       0.056662   \n",
       "LienPriorityType                 89767.0  1.000000e+00       0.000000   \n",
       "\n",
       "                                        min           25%          50%  \\\n",
       "Year                                2019.00  2.019000e+03     2019.000   \n",
       "LoanCharacteristicsID            2406119.00  2.429908e+06  2452349.000   \n",
       "FIPSStateNumericCode                   1.00  1.800000e+01       27.000   \n",
       "FIPSCountyCode                         1.00  3.300000e+01       71.000   \n",
       "CoreBasedStatisticalAreaCode       10100.00  1.943000e+04    31080.000   \n",
       "CensusTractIdentifier                  1.00  1.020200e+02      414.090   \n",
       "CensusTractMinorityRatioPercent        0.00  5.390500e+00       11.000   \n",
       "CensusTractMedFamIncomeAmount          0.00  6.627000e+04    82019.000   \n",
       "LocalAreaMedianIncomeAmount            0.00  6.582900e+04    73493.000   \n",
       "TotalMonthlyIncomeAmount             791.00  5.615000e+03     8333.000   \n",
       "HUDMedianIncomeAmount              38900.00  6.970000e+04    78000.000   \n",
       "LoanAcquisitionActualUPBAmt        12800.00  1.480000e+05   220000.000   \n",
       "LTVRatioPercent                        5.00  6.800000e+01       80.000   \n",
       "NoteDate                            2014.00  2.019000e+03     2019.000   \n",
       "LoanAcquistionDate                  2019.00  2.019000e+03     2019.000   \n",
       "LoanPurposeType                        1.00  1.000000e+00        2.000   \n",
       "ProductCategoryName                    1.00  1.000000e+00        1.000   \n",
       "MortgageType                           0.00  0.000000e+00        0.000   \n",
       "ScheduledTotalPaymentCount            60.00  3.600000e+02      360.000   \n",
       "LoanAmortizationMaxTermMonths         60.00  3.600000e+02      360.000   \n",
       "MortgageLoanSellerInstType             1.00  1.000000e+00        1.000   \n",
       "BorrowerCount                          1.00  1.000000e+00        2.000   \n",
       "BorrowerFirstTimeHomebuyer             0.00  0.000000e+00        0.000   \n",
       "Borrower1Race1Type                     1.00  5.000000e+00        5.000   \n",
       "Borrower2Race1Type                     1.00  5.000000e+00        5.000   \n",
       "Borrower1GenderType                    1.00  1.000000e+00        1.000   \n",
       "Borrower2GenderType                    1.00  2.000000e+00        2.000   \n",
       "Borrower1AgeAtApplicationYears        18.00  3.400000e+01       42.000   \n",
       "Borrower2AgeAtApplicationYears        18.00  3.900000e+01       61.000   \n",
       "PropertyUsageType                      1.00  1.000000e+00        1.000   \n",
       "PropertyUnitCount                      1.00  1.000000e+00        1.000   \n",
       "NoteRatePercent                        2.50  3.625000e+00        3.875   \n",
       "NoteAmount                         12800.00  1.480000e+05   220000.000   \n",
       "HousingExpenseRatioPercent             0.00  1.476000e+01       19.510   \n",
       "TotalDebtExpenseRatioPercent           0.27  2.441000e+01       31.820   \n",
       "Borrower1CreditScoreValue              1.00  4.000000e+00        5.000   \n",
       "Borrower2CreditScoreValue              1.00  5.000000e+00        5.000   \n",
       "PMICoveragePercent                     0.00  0.000000e+00        0.000   \n",
       "EmploymentBorrowerSelfEmployed         0.00  0.000000e+00        0.000   \n",
       "IndexSourceType                       99.00  9.900000e+01       99.000   \n",
       "MarginRatePercent                      0.00  9.999000e+03     9999.000   \n",
       "Borrower1EthnicityType                 1.00  2.000000e+00        2.000   \n",
       "Borrower1Race2Type                     1.00  7.000000e+00        7.000   \n",
       "Borrower1Race3Type                     2.00  7.000000e+00        7.000   \n",
       "Borrower1Race4Type                     5.00  7.000000e+00        7.000   \n",
       "Borrower1Race5Type                     6.00  7.000000e+00        7.000   \n",
       "Borrower2EthnicityType                 1.00  2.000000e+00        2.000   \n",
       "Borrower2Race2Type                     1.00  7.000000e+00        7.000   \n",
       "Borrower2Race3Type                     3.00  7.000000e+00        7.000   \n",
       "Borrower2Race4Type                     5.00  7.000000e+00        7.000   \n",
       "Borrower2Race5Type                     6.00  7.000000e+00        7.000   \n",
       "HOEPALoanStatusType                    1.00  2.000000e+00        2.000   \n",
       "LienPriorityType                       1.00  1.000000e+00        1.000   \n",
       "\n",
       "                                         75%          max  \n",
       "Year                                2019.000     2019.000  \n",
       "LoanCharacteristicsID            2474790.500  2521673.000  \n",
       "FIPSStateNumericCode                  42.000       66.000  \n",
       "FIPSCountyCode                       121.000      840.000  \n",
       "CoreBasedStatisticalAreaCode       41180.000    99999.000  \n",
       "CensusTractIdentifier               4922.015     9917.030  \n",
       "CensusTractMinorityRatioPercent       22.546       99.822  \n",
       "CensusTractMedFamIncomeAmount     104219.000   250001.000  \n",
       "LocalAreaMedianIncomeAmount        79347.000   133523.000  \n",
       "TotalMonthlyIncomeAmount           11907.000   449001.000  \n",
       "HUDMedianIncomeAmount              86100.000   135500.000  \n",
       "LoanAcquisitionActualUPBAmt       316214.000  1290000.000  \n",
       "LTVRatioPercent                       80.000      112.000  \n",
       "NoteDate                            2019.000     2019.000  \n",
       "LoanAcquistionDate                  2019.000     2019.000  \n",
       "LoanPurposeType                        6.000        6.000  \n",
       "ProductCategoryName                    1.000        1.000  \n",
       "MortgageType                           0.000        3.000  \n",
       "ScheduledTotalPaymentCount           360.000      360.000  \n",
       "LoanAmortizationMaxTermMonths        360.000      360.000  \n",
       "MortgageLoanSellerInstType             1.000        9.000  \n",
       "BorrowerCount                          2.000        5.000  \n",
       "BorrowerFirstTimeHomebuyer             1.000        1.000  \n",
       "Borrower1Race1Type                     5.000        6.000  \n",
       "Borrower2Race1Type                     8.000        8.000  \n",
       "Borrower1GenderType                    2.000        6.000  \n",
       "Borrower2GenderType                    4.000        6.000  \n",
       "Borrower1AgeAtApplicationYears        54.000       98.000  \n",
       "Borrower2AgeAtApplicationYears       998.000      999.000  \n",
       "PropertyUsageType                      1.000        2.000  \n",
       "PropertyUnitCount                      1.000        4.000  \n",
       "NoteRatePercent                        4.300        6.250  \n",
       "NoteAmount                        316848.500  1290000.000  \n",
       "HousingExpenseRatioPercent            25.590      999.000  \n",
       "TotalDebtExpenseRatioPercent          39.050       78.040  \n",
       "Borrower1CreditScoreValue              5.000        9.000  \n",
       "Borrower2CreditScoreValue              9.000        9.000  \n",
       "PMICoveragePercent                     0.000       78.000  \n",
       "EmploymentBorrowerSelfEmployed         1.000        1.000  \n",
       "IndexSourceType                       99.000       99.000  \n",
       "MarginRatePercent                   9999.000     9999.000  \n",
       "Borrower1EthnicityType                 2.000        4.000  \n",
       "Borrower1Race2Type                     7.000        7.000  \n",
       "Borrower1Race3Type                     7.000        7.000  \n",
       "Borrower1Race4Type                     7.000        7.000  \n",
       "Borrower1Race5Type                     7.000        7.000  \n",
       "Borrower2EthnicityType                 5.000        5.000  \n",
       "Borrower2Race2Type                     8.000        8.000  \n",
       "Borrower2Race3Type                     8.000        8.000  \n",
       "Borrower2Race4Type                     8.000        8.000  \n",
       "Borrower2Race5Type                     8.000        8.000  \n",
       "HOEPALoanStatusType                    2.000        3.000  \n",
       "LienPriorityType                       1.000        1.000  "
      ]
     },
     "execution_count": 6,
     "metadata": {},
     "output_type": "execute_result"
    }
   ],
   "source": [
    "#View Statiscal Summary of the Columns\n",
    "df_2019.describe().T"
   ]
  },
  {
   "cell_type": "code",
   "execution_count": 7,
   "metadata": {},
   "outputs": [
    {
     "data": {
      "text/plain": [
       "(89767, 56)"
      ]
     },
     "execution_count": 7,
     "metadata": {},
     "output_type": "execute_result"
    }
   ],
   "source": [
    "#Check the shape of DataFrame\n",
    "df_2019.shape"
   ]
  },
  {
   "cell_type": "code",
   "execution_count": 8,
   "metadata": {
    "scrolled": false
   },
   "outputs": [
    {
     "data": {
      "text/plain": [
       "Year                                 int64\n",
       "LoanCharacteristicsID                int64\n",
       "Bank                                object\n",
       "FIPSStateNumericCode                 int64\n",
       "FIPSCountyCode                       int64\n",
       "CoreBasedStatisticalAreaCode         int64\n",
       "CensusTractIdentifier              float64\n",
       "CensusTractMinorityRatioPercent    float64\n",
       "CensusTractMedFamIncomeAmount        int64\n",
       "LocalAreaMedianIncomeAmount          int64\n",
       "TotalMonthlyIncomeAmount             int64\n",
       "HUDMedianIncomeAmount                int64\n",
       "LoanAcquisitionActualUPBAmt          int64\n",
       "LTVRatioPercent                    float64\n",
       "NoteDate                             int64\n",
       "LoanAcquistionDate                   int64\n",
       "LoanPurposeType                      int64\n",
       "ProductCategoryName                  int64\n",
       "MortgageType                         int64\n",
       "ScheduledTotalPaymentCount           int64\n",
       "LoanAmortizationMaxTermMonths        int64\n",
       "MortgageLoanSellerInstType           int64\n",
       "BorrowerCount                        int64\n",
       "BorrowerFirstTimeHomebuyer           int64\n",
       "Borrower1Race1Type                   int64\n",
       "Borrower2Race1Type                   int64\n",
       "Borrower1GenderType                  int64\n",
       "Borrower2GenderType                  int64\n",
       "Borrower1AgeAtApplicationYears       int64\n",
       "Borrower2AgeAtApplicationYears       int64\n",
       "PropertyUsageType                    int64\n",
       "PropertyUnitCount                    int64\n",
       "NoteRatePercent                    float64\n",
       "NoteAmount                           int64\n",
       "HousingExpenseRatioPercent         float64\n",
       "TotalDebtExpenseRatioPercent       float64\n",
       "Borrower1CreditScoreValue            int64\n",
       "Borrower2CreditScoreValue            int64\n",
       "PMICoveragePercent                 float64\n",
       "EmploymentBorrowerSelfEmployed       int64\n",
       "PropertyType                        object\n",
       "IndexSourceType                      int64\n",
       "MarginRatePercent                    int64\n",
       "PrepaymentPenaltyExpirationDate     object\n",
       "Borrower1EthnicityType               int64\n",
       "Borrower1Race2Type                   int64\n",
       "Borrower1Race3Type                   int64\n",
       "Borrower1Race4Type                   int64\n",
       "Borrower1Race5Type                   int64\n",
       "Borrower2EthnicityType               int64\n",
       "Borrower2Race2Type                   int64\n",
       "Borrower2Race3Type                   int64\n",
       "Borrower2Race4Type                   int64\n",
       "Borrower2Race5Type                   int64\n",
       "HOEPALoanStatusType                  int64\n",
       "LienPriorityType                     int64\n",
       "dtype: object"
      ]
     },
     "execution_count": 8,
     "metadata": {},
     "output_type": "execute_result"
    }
   ],
   "source": [
    "#View the datatypes of the columns\n",
    "df_2019.dtypes"
   ]
  },
  {
   "cell_type": "markdown",
   "metadata": {},
   "source": [
    "# Year : Year Loan Was Reported"
   ]
  },
  {
   "cell_type": "markdown",
   "metadata": {},
   "source": [
    "**Verify and check if all the data are from 2019** \n",
    "\n",
    "We achieve this by counting all the rows where year is not equal to 2019. This test also verify there is no missing values in the column. "
   ]
  },
  {
   "cell_type": "code",
   "execution_count": 9,
   "metadata": {},
   "outputs": [
    {
     "data": {
      "text/plain": [
       "0"
      ]
     },
     "execution_count": 9,
     "metadata": {},
     "output_type": "execute_result"
    }
   ],
   "source": [
    "#Verifying Year Column\n",
    "np.sum([df_2019['Year']!=2019])"
   ]
  },
  {
   "cell_type": "markdown",
   "metadata": {},
   "source": [
    "# LoanCharacteristicsID : Unique Record ID (not actual loan number)\n",
    "\n",
    "Check if there is any missing value in the columns.Also check if there is any duplicate values since the record ID should be Unique"
   ]
  },
  {
   "cell_type": "markdown",
   "metadata": {},
   "source": [
    "**Check Missing Values**\n",
    "\n",
    "We can use isnull() function to do this test. "
   ]
  },
  {
   "cell_type": "code",
   "execution_count": 10,
   "metadata": {},
   "outputs": [
    {
     "data": {
      "text/plain": [
       "0"
      ]
     },
     "execution_count": 10,
     "metadata": {},
     "output_type": "execute_result"
    }
   ],
   "source": [
    "np.sum(df_2019['LoanCharacteristicsID'].isnull())"
   ]
  },
  {
   "cell_type": "markdown",
   "metadata": {},
   "source": [
    "Hence there is no missing values. "
   ]
  },
  {
   "cell_type": "markdown",
   "metadata": {},
   "source": [
    "**Check if the values are unique**\n",
    "\n",
    "This can be achived by getting the length of the unique value and comparing with the number of rows of the original dataframe."
   ]
  },
  {
   "cell_type": "code",
   "execution_count": 11,
   "metadata": {},
   "outputs": [
    {
     "data": {
      "text/plain": [
       "True"
      ]
     },
     "execution_count": 11,
     "metadata": {},
     "output_type": "execute_result"
    }
   ],
   "source": [
    "len(df_2019['LoanCharacteristicsID'].unique())==89767"
   ]
  },
  {
   "cell_type": "markdown",
   "metadata": {},
   "source": [
    "# Bank : Name of Federal Home Loan Bank District\n",
    "\n",
    "Check the number of Bank in each city.We also convert this into categorical variable. "
   ]
  },
  {
   "cell_type": "markdown",
   "metadata": {},
   "source": [
    "**Check the numbers of Banks in each City**\n",
    "\n",
    "We achieve this by using value_counts() function"
   ]
  },
  {
   "cell_type": "code",
   "execution_count": 12,
   "metadata": {
    "scrolled": true
   },
   "outputs": [
    {
     "data": {
      "text/plain": [
       "Chicago          22462\n",
       "Topeka           16093\n",
       "Des Moines       14468\n",
       "Cincinnati       11250\n",
       "Dallas            8069\n",
       "Indianapolis      5677\n",
       "Pittsburgh        4458\n",
       "Boston            2824\n",
       "San Francisco     2487\n",
       "New York          1979\n",
       "Name: Bank, dtype: int64"
      ]
     },
     "execution_count": 12,
     "metadata": {},
     "output_type": "execute_result"
    }
   ],
   "source": [
    "#Bank's City\n",
    "df_2019['Bank'].value_counts()"
   ]
  },
  {
   "cell_type": "markdown",
   "metadata": {},
   "source": [
    "*Hence Chicago and Topeka has maximum numbers of Banks*"
   ]
  },
  {
   "cell_type": "markdown",
   "metadata": {},
   "source": [
    "**Convert into Categorical**\n",
    "\n",
    "This can be achieved using astype function."
   ]
  },
  {
   "cell_type": "code",
   "execution_count": 13,
   "metadata": {},
   "outputs": [],
   "source": [
    "df_2019['Bank']=df_2019['Bank'].astype('category')"
   ]
  },
  {
   "cell_type": "markdown",
   "metadata": {},
   "source": [
    "## FIPSStateNumericCode : 2 Digit FIPS State Code\n",
    "\n",
    "- Check if there is any values with digits greater than 2. \n",
    "- Check the null values\n",
    "- Convert into Categorical"
   ]
  },
  {
   "cell_type": "markdown",
   "metadata": {},
   "source": [
    "**Check the values with digits greater than two**\n",
    "\n",
    "This can be achived by accounting all the values whoes values are greater than 99"
   ]
  },
  {
   "cell_type": "code",
   "execution_count": 14,
   "metadata": {},
   "outputs": [
    {
     "data": {
      "text/plain": [
       "Series([], Name: FIPSStateNumericCode, dtype: int64)"
      ]
     },
     "execution_count": 14,
     "metadata": {},
     "output_type": "execute_result"
    }
   ],
   "source": [
    "#verifying FIPSStateNumericCode columns (Should have 2 digits)\n",
    "df_2019['FIPSStateNumericCode'][df_2019['FIPSStateNumericCode']>99]"
   ]
  },
  {
   "cell_type": "markdown",
   "metadata": {},
   "source": [
    "**Check if there is any missing value** \n",
    "\n",
    "This can be done by using value_count or isnull function. "
   ]
  },
  {
   "cell_type": "code",
   "execution_count": 15,
   "metadata": {
    "scrolled": true
   },
   "outputs": [
    {
     "data": {
      "text/plain": [
       "55    10747\n",
       "17     6843\n",
       "39     6748\n",
       "19     5782\n",
       "20     5004\n",
       "6      4910\n",
       "18     4409\n",
       "48     4409\n",
       "31     4403\n",
       "29     3628\n",
       "27     3471\n",
       "8      2734\n",
       "42     2300\n",
       "26     2197\n",
       "25     2077\n",
       "21     1502\n",
       "46     1451\n",
       "36     1377\n",
       "51     1243\n",
       "40     1197\n",
       "12     1085\n",
       "47      930\n",
       "34      859\n",
       "37      839\n",
       "4       839\n",
       "16      810\n",
       "22      754\n",
       "13      735\n",
       "5       730\n",
       "24      623\n",
       "53      593\n",
       "41      587\n",
       "49      577\n",
       "1       381\n",
       "9       305\n",
       "32      297\n",
       "23      275\n",
       "35      264\n",
       "45      237\n",
       "54      208\n",
       "44      187\n",
       "28      177\n",
       "38      162\n",
       "30      157\n",
       "11      151\n",
       "50      148\n",
       "33      138\n",
       "56      125\n",
       "10       85\n",
       "15       54\n",
       "2        17\n",
       "66        6\n",
       "Name: FIPSStateNumericCode, dtype: int64"
      ]
     },
     "execution_count": 15,
     "metadata": {},
     "output_type": "execute_result"
    }
   ],
   "source": [
    "#Check Null Values\n",
    "df_2019['FIPSStateNumericCode'].value_counts()"
   ]
  },
  {
   "cell_type": "markdown",
   "metadata": {},
   "source": [
    "**Convert into Categorical**\n",
    "\n",
    "We can use astype function. "
   ]
  },
  {
   "cell_type": "code",
   "execution_count": 16,
   "metadata": {},
   "outputs": [],
   "source": [
    "df_2019['FIPSStateNumericCode']=df_2019['FIPSStateNumericCode'].astype('category')"
   ]
  },
  {
   "cell_type": "markdown",
   "metadata": {},
   "source": [
    "## FIPSCountyCode : 3 Digit FIPS County Code\n",
    "\n",
    "- Check the values are greater than 3 digits\n",
    "- Check the null values\n",
    "- Convert into Categorical var"
   ]
  },
  {
   "cell_type": "markdown",
   "metadata": {},
   "source": [
    "**Check if the values are greater than 3**\n",
    "\n",
    "This can achived by counting values greater than 999"
   ]
  },
  {
   "cell_type": "code",
   "execution_count": 17,
   "metadata": {},
   "outputs": [
    {
     "data": {
      "text/html": [
       "<div>\n",
       "<style scoped>\n",
       "    .dataframe tbody tr th:only-of-type {\n",
       "        vertical-align: middle;\n",
       "    }\n",
       "\n",
       "    .dataframe tbody tr th {\n",
       "        vertical-align: top;\n",
       "    }\n",
       "\n",
       "    .dataframe thead th {\n",
       "        text-align: right;\n",
       "    }\n",
       "</style>\n",
       "<table border=\"1\" class=\"dataframe\">\n",
       "  <thead>\n",
       "    <tr style=\"text-align: right;\">\n",
       "      <th></th>\n",
       "      <th>Year</th>\n",
       "      <th>LoanCharacteristicsID</th>\n",
       "      <th>Bank</th>\n",
       "      <th>FIPSStateNumericCode</th>\n",
       "      <th>FIPSCountyCode</th>\n",
       "      <th>CoreBasedStatisticalAreaCode</th>\n",
       "      <th>CensusTractIdentifier</th>\n",
       "      <th>CensusTractMinorityRatioPercent</th>\n",
       "      <th>CensusTractMedFamIncomeAmount</th>\n",
       "      <th>LocalAreaMedianIncomeAmount</th>\n",
       "      <th>...</th>\n",
       "      <th>Borrower1Race3Type</th>\n",
       "      <th>Borrower1Race4Type</th>\n",
       "      <th>Borrower1Race5Type</th>\n",
       "      <th>Borrower2EthnicityType</th>\n",
       "      <th>Borrower2Race2Type</th>\n",
       "      <th>Borrower2Race3Type</th>\n",
       "      <th>Borrower2Race4Type</th>\n",
       "      <th>Borrower2Race5Type</th>\n",
       "      <th>HOEPALoanStatusType</th>\n",
       "      <th>LienPriorityType</th>\n",
       "    </tr>\n",
       "  </thead>\n",
       "  <tbody>\n",
       "  </tbody>\n",
       "</table>\n",
       "<p>0 rows × 56 columns</p>\n",
       "</div>"
      ],
      "text/plain": [
       "Empty DataFrame\n",
       "Columns: [Year, LoanCharacteristicsID, Bank, FIPSStateNumericCode, FIPSCountyCode, CoreBasedStatisticalAreaCode, CensusTractIdentifier, CensusTractMinorityRatioPercent, CensusTractMedFamIncomeAmount, LocalAreaMedianIncomeAmount, TotalMonthlyIncomeAmount, HUDMedianIncomeAmount, LoanAcquisitionActualUPBAmt, LTVRatioPercent, NoteDate, LoanAcquistionDate, LoanPurposeType, ProductCategoryName, MortgageType, ScheduledTotalPaymentCount, LoanAmortizationMaxTermMonths, MortgageLoanSellerInstType, BorrowerCount, BorrowerFirstTimeHomebuyer, Borrower1Race1Type, Borrower2Race1Type, Borrower1GenderType, Borrower2GenderType, Borrower1AgeAtApplicationYears, Borrower2AgeAtApplicationYears, PropertyUsageType, PropertyUnitCount, NoteRatePercent, NoteAmount, HousingExpenseRatioPercent, TotalDebtExpenseRatioPercent, Borrower1CreditScoreValue, Borrower2CreditScoreValue, PMICoveragePercent, EmploymentBorrowerSelfEmployed, PropertyType, IndexSourceType, MarginRatePercent, PrepaymentPenaltyExpirationDate, Borrower1EthnicityType, Borrower1Race2Type, Borrower1Race3Type, Borrower1Race4Type, Borrower1Race5Type, Borrower2EthnicityType, Borrower2Race2Type, Borrower2Race3Type, Borrower2Race4Type, Borrower2Race5Type, HOEPALoanStatusType, LienPriorityType]\n",
       "Index: []\n",
       "\n",
       "[0 rows x 56 columns]"
      ]
     },
     "execution_count": 17,
     "metadata": {},
     "output_type": "execute_result"
    }
   ],
   "source": [
    "#Verifying FIPSStateNumericCode columns (should have 3 digits)\n",
    "df_2019[df_2019['FIPSCountyCode']>999]"
   ]
  },
  {
   "cell_type": "markdown",
   "metadata": {},
   "source": [
    "**Check Null values**\n",
    "\n",
    "This can be achived by using isnull function."
   ]
  },
  {
   "cell_type": "code",
   "execution_count": 18,
   "metadata": {
    "scrolled": true
   },
   "outputs": [
    {
     "data": {
      "text/plain": [
       "0"
      ]
     },
     "execution_count": 18,
     "metadata": {},
     "output_type": "execute_result"
    }
   ],
   "source": [
    "np.sum(df_2019['FIPSCountyCode'].isnull())"
   ]
  },
  {
   "cell_type": "markdown",
   "metadata": {},
   "source": [
    "**Convert the column into categorical**\n",
    "\n",
    "This can be achieved using astype"
   ]
  },
  {
   "cell_type": "code",
   "execution_count": 19,
   "metadata": {},
   "outputs": [],
   "source": [
    "df_2019['FIPSCountyCode']=df_2019['FIPSCountyCode'].astype('category')"
   ]
  },
  {
   "cell_type": "markdown",
   "metadata": {},
   "source": [
    "## CoreBasedStatisticalAreaCode : The Property's Five Digit numeric CBSA; 99999 if\n",
    "## state/county/tract combo is not in a CBSA or MSA\n",
    "\n",
    "- Check the number of digits. Should be less than 5\n",
    "- Check the null values"
   ]
  },
  {
   "cell_type": "code",
   "execution_count": 20,
   "metadata": {},
   "outputs": [
    {
     "data": {
      "text/html": [
       "<div>\n",
       "<style scoped>\n",
       "    .dataframe tbody tr th:only-of-type {\n",
       "        vertical-align: middle;\n",
       "    }\n",
       "\n",
       "    .dataframe tbody tr th {\n",
       "        vertical-align: top;\n",
       "    }\n",
       "\n",
       "    .dataframe thead th {\n",
       "        text-align: right;\n",
       "    }\n",
       "</style>\n",
       "<table border=\"1\" class=\"dataframe\">\n",
       "  <thead>\n",
       "    <tr style=\"text-align: right;\">\n",
       "      <th></th>\n",
       "      <th>Year</th>\n",
       "      <th>LoanCharacteristicsID</th>\n",
       "      <th>Bank</th>\n",
       "      <th>FIPSStateNumericCode</th>\n",
       "      <th>FIPSCountyCode</th>\n",
       "      <th>CoreBasedStatisticalAreaCode</th>\n",
       "      <th>CensusTractIdentifier</th>\n",
       "      <th>CensusTractMinorityRatioPercent</th>\n",
       "      <th>CensusTractMedFamIncomeAmount</th>\n",
       "      <th>LocalAreaMedianIncomeAmount</th>\n",
       "      <th>...</th>\n",
       "      <th>Borrower1Race3Type</th>\n",
       "      <th>Borrower1Race4Type</th>\n",
       "      <th>Borrower1Race5Type</th>\n",
       "      <th>Borrower2EthnicityType</th>\n",
       "      <th>Borrower2Race2Type</th>\n",
       "      <th>Borrower2Race3Type</th>\n",
       "      <th>Borrower2Race4Type</th>\n",
       "      <th>Borrower2Race5Type</th>\n",
       "      <th>HOEPALoanStatusType</th>\n",
       "      <th>LienPriorityType</th>\n",
       "    </tr>\n",
       "  </thead>\n",
       "  <tbody>\n",
       "  </tbody>\n",
       "</table>\n",
       "<p>0 rows × 56 columns</p>\n",
       "</div>"
      ],
      "text/plain": [
       "Empty DataFrame\n",
       "Columns: [Year, LoanCharacteristicsID, Bank, FIPSStateNumericCode, FIPSCountyCode, CoreBasedStatisticalAreaCode, CensusTractIdentifier, CensusTractMinorityRatioPercent, CensusTractMedFamIncomeAmount, LocalAreaMedianIncomeAmount, TotalMonthlyIncomeAmount, HUDMedianIncomeAmount, LoanAcquisitionActualUPBAmt, LTVRatioPercent, NoteDate, LoanAcquistionDate, LoanPurposeType, ProductCategoryName, MortgageType, ScheduledTotalPaymentCount, LoanAmortizationMaxTermMonths, MortgageLoanSellerInstType, BorrowerCount, BorrowerFirstTimeHomebuyer, Borrower1Race1Type, Borrower2Race1Type, Borrower1GenderType, Borrower2GenderType, Borrower1AgeAtApplicationYears, Borrower2AgeAtApplicationYears, PropertyUsageType, PropertyUnitCount, NoteRatePercent, NoteAmount, HousingExpenseRatioPercent, TotalDebtExpenseRatioPercent, Borrower1CreditScoreValue, Borrower2CreditScoreValue, PMICoveragePercent, EmploymentBorrowerSelfEmployed, PropertyType, IndexSourceType, MarginRatePercent, PrepaymentPenaltyExpirationDate, Borrower1EthnicityType, Borrower1Race2Type, Borrower1Race3Type, Borrower1Race4Type, Borrower1Race5Type, Borrower2EthnicityType, Borrower2Race2Type, Borrower2Race3Type, Borrower2Race4Type, Borrower2Race5Type, HOEPALoanStatusType, LienPriorityType]\n",
       "Index: []\n",
       "\n",
       "[0 rows x 56 columns]"
      ]
     },
     "execution_count": 20,
     "metadata": {},
     "output_type": "execute_result"
    }
   ],
   "source": [
    "#CoreBasedStatisticalAreaCode should have no more than 5 digits\n",
    "df_2019[df_2019['CoreBasedStatisticalAreaCode']>99999]"
   ]
  },
  {
   "cell_type": "code",
   "execution_count": 21,
   "metadata": {},
   "outputs": [
    {
     "data": {
      "text/plain": [
       "0"
      ]
     },
     "execution_count": 21,
     "metadata": {},
     "output_type": "execute_result"
    }
   ],
   "source": [
    "#Check the count of null values\n",
    "np.sum(df_2019['CoreBasedStatisticalAreaCode'].isnull())"
   ]
  },
  {
   "cell_type": "markdown",
   "metadata": {},
   "source": [
    "## CensusTractIdentifier column : The property's Census Tract of Block Numbering Area (BNA)\n",
    "\n",
    "- Check if there is any missing values"
   ]
  },
  {
   "cell_type": "code",
   "execution_count": 22,
   "metadata": {},
   "outputs": [
    {
     "data": {
      "text/plain": [
       "0"
      ]
     },
     "execution_count": 22,
     "metadata": {},
     "output_type": "execute_result"
    }
   ],
   "source": [
    "#Count the null values. \n",
    "np.sum(df_2019['CensusTractIdentifier'].isnull())"
   ]
  },
  {
   "cell_type": "markdown",
   "metadata": {},
   "source": [
    "## CensusTractMinorityRatioPercent column : The percentage of the property's census tract population that is minority.\n",
    "\n",
    "- Check the missing values. \n",
    "- Check the values with 0.0. This suggest area where minroty is zero"
   ]
  },
  {
   "cell_type": "code",
   "execution_count": 23,
   "metadata": {},
   "outputs": [
    {
     "data": {
      "text/plain": [
       "0    4.577\n",
       "1    3.421\n",
       "2    6.152\n",
       "3    3.935\n",
       "4    6.031\n",
       "Name: CensusTractMinorityRatioPercent, dtype: float64"
      ]
     },
     "execution_count": 23,
     "metadata": {},
     "output_type": "execute_result"
    }
   ],
   "source": [
    "df_2019['CensusTractMinorityRatioPercent'].head()"
   ]
  },
  {
   "cell_type": "code",
   "execution_count": 24,
   "metadata": {},
   "outputs": [
    {
     "data": {
      "text/html": [
       "<div>\n",
       "<style scoped>\n",
       "    .dataframe tbody tr th:only-of-type {\n",
       "        vertical-align: middle;\n",
       "    }\n",
       "\n",
       "    .dataframe tbody tr th {\n",
       "        vertical-align: top;\n",
       "    }\n",
       "\n",
       "    .dataframe thead th {\n",
       "        text-align: right;\n",
       "    }\n",
       "</style>\n",
       "<table border=\"1\" class=\"dataframe\">\n",
       "  <thead>\n",
       "    <tr style=\"text-align: right;\">\n",
       "      <th></th>\n",
       "      <th>Year</th>\n",
       "      <th>LoanCharacteristicsID</th>\n",
       "      <th>Bank</th>\n",
       "      <th>FIPSStateNumericCode</th>\n",
       "      <th>FIPSCountyCode</th>\n",
       "      <th>CoreBasedStatisticalAreaCode</th>\n",
       "      <th>CensusTractIdentifier</th>\n",
       "      <th>CensusTractMinorityRatioPercent</th>\n",
       "      <th>CensusTractMedFamIncomeAmount</th>\n",
       "      <th>LocalAreaMedianIncomeAmount</th>\n",
       "      <th>...</th>\n",
       "      <th>Borrower1Race3Type</th>\n",
       "      <th>Borrower1Race4Type</th>\n",
       "      <th>Borrower1Race5Type</th>\n",
       "      <th>Borrower2EthnicityType</th>\n",
       "      <th>Borrower2Race2Type</th>\n",
       "      <th>Borrower2Race3Type</th>\n",
       "      <th>Borrower2Race4Type</th>\n",
       "      <th>Borrower2Race5Type</th>\n",
       "      <th>HOEPALoanStatusType</th>\n",
       "      <th>LienPriorityType</th>\n",
       "    </tr>\n",
       "  </thead>\n",
       "  <tbody>\n",
       "    <tr>\n",
       "      <th>13477</th>\n",
       "      <td>2019</td>\n",
       "      <td>2446287</td>\n",
       "      <td>Chicago</td>\n",
       "      <td>55</td>\n",
       "      <td>25</td>\n",
       "      <td>31540</td>\n",
       "      <td>9917.03</td>\n",
       "      <td>0.0</td>\n",
       "      <td>0</td>\n",
       "      <td>87309</td>\n",
       "      <td>...</td>\n",
       "      <td>7</td>\n",
       "      <td>7</td>\n",
       "      <td>7</td>\n",
       "      <td>2</td>\n",
       "      <td>7</td>\n",
       "      <td>7</td>\n",
       "      <td>7</td>\n",
       "      <td>7</td>\n",
       "      <td>2</td>\n",
       "      <td>1</td>\n",
       "    </tr>\n",
       "    <tr>\n",
       "      <th>20537</th>\n",
       "      <td>2019</td>\n",
       "      <td>2478655</td>\n",
       "      <td>Chicago</td>\n",
       "      <td>4</td>\n",
       "      <td>13</td>\n",
       "      <td>38060</td>\n",
       "      <td>9806.00</td>\n",
       "      <td>0.0</td>\n",
       "      <td>133494</td>\n",
       "      <td>68709</td>\n",
       "      <td>...</td>\n",
       "      <td>7</td>\n",
       "      <td>7</td>\n",
       "      <td>7</td>\n",
       "      <td>5</td>\n",
       "      <td>8</td>\n",
       "      <td>8</td>\n",
       "      <td>8</td>\n",
       "      <td>8</td>\n",
       "      <td>2</td>\n",
       "      <td>1</td>\n",
       "    </tr>\n",
       "    <tr>\n",
       "      <th>36459</th>\n",
       "      <td>2019</td>\n",
       "      <td>2469015</td>\n",
       "      <td>Cincinnati</td>\n",
       "      <td>4</td>\n",
       "      <td>13</td>\n",
       "      <td>38060</td>\n",
       "      <td>9806.00</td>\n",
       "      <td>0.0</td>\n",
       "      <td>133494</td>\n",
       "      <td>68709</td>\n",
       "      <td>...</td>\n",
       "      <td>6</td>\n",
       "      <td>6</td>\n",
       "      <td>6</td>\n",
       "      <td>2</td>\n",
       "      <td>6</td>\n",
       "      <td>6</td>\n",
       "      <td>6</td>\n",
       "      <td>6</td>\n",
       "      <td>2</td>\n",
       "      <td>1</td>\n",
       "    </tr>\n",
       "    <tr>\n",
       "      <th>59677</th>\n",
       "      <td>2019</td>\n",
       "      <td>2406723</td>\n",
       "      <td>Indianapolis</td>\n",
       "      <td>26</td>\n",
       "      <td>147</td>\n",
       "      <td>19820</td>\n",
       "      <td>6470.00</td>\n",
       "      <td>0.0</td>\n",
       "      <td>71471</td>\n",
       "      <td>76739</td>\n",
       "      <td>...</td>\n",
       "      <td>7</td>\n",
       "      <td>7</td>\n",
       "      <td>7</td>\n",
       "      <td>5</td>\n",
       "      <td>8</td>\n",
       "      <td>8</td>\n",
       "      <td>8</td>\n",
       "      <td>8</td>\n",
       "      <td>2</td>\n",
       "      <td>1</td>\n",
       "    </tr>\n",
       "    <tr>\n",
       "      <th>60329</th>\n",
       "      <td>2019</td>\n",
       "      <td>2438332</td>\n",
       "      <td>Indianapolis</td>\n",
       "      <td>18</td>\n",
       "      <td>41</td>\n",
       "      <td>99999</td>\n",
       "      <td>9540.00</td>\n",
       "      <td>0.0</td>\n",
       "      <td>60741</td>\n",
       "      <td>55715</td>\n",
       "      <td>...</td>\n",
       "      <td>7</td>\n",
       "      <td>7</td>\n",
       "      <td>7</td>\n",
       "      <td>5</td>\n",
       "      <td>8</td>\n",
       "      <td>8</td>\n",
       "      <td>8</td>\n",
       "      <td>8</td>\n",
       "      <td>2</td>\n",
       "      <td>1</td>\n",
       "    </tr>\n",
       "    <tr>\n",
       "      <th>60568</th>\n",
       "      <td>2019</td>\n",
       "      <td>2438571</td>\n",
       "      <td>Indianapolis</td>\n",
       "      <td>18</td>\n",
       "      <td>41</td>\n",
       "      <td>99999</td>\n",
       "      <td>9540.00</td>\n",
       "      <td>0.0</td>\n",
       "      <td>60741</td>\n",
       "      <td>55715</td>\n",
       "      <td>...</td>\n",
       "      <td>7</td>\n",
       "      <td>7</td>\n",
       "      <td>7</td>\n",
       "      <td>5</td>\n",
       "      <td>8</td>\n",
       "      <td>8</td>\n",
       "      <td>8</td>\n",
       "      <td>8</td>\n",
       "      <td>2</td>\n",
       "      <td>1</td>\n",
       "    </tr>\n",
       "    <tr>\n",
       "      <th>61148</th>\n",
       "      <td>2019</td>\n",
       "      <td>2439151</td>\n",
       "      <td>Indianapolis</td>\n",
       "      <td>18</td>\n",
       "      <td>41</td>\n",
       "      <td>99999</td>\n",
       "      <td>9540.00</td>\n",
       "      <td>0.0</td>\n",
       "      <td>60741</td>\n",
       "      <td>55715</td>\n",
       "      <td>...</td>\n",
       "      <td>7</td>\n",
       "      <td>7</td>\n",
       "      <td>7</td>\n",
       "      <td>5</td>\n",
       "      <td>8</td>\n",
       "      <td>8</td>\n",
       "      <td>8</td>\n",
       "      <td>8</td>\n",
       "      <td>2</td>\n",
       "      <td>1</td>\n",
       "    </tr>\n",
       "    <tr>\n",
       "      <th>62602</th>\n",
       "      <td>2019</td>\n",
       "      <td>2470200</td>\n",
       "      <td>Indianapolis</td>\n",
       "      <td>18</td>\n",
       "      <td>41</td>\n",
       "      <td>99999</td>\n",
       "      <td>9540.00</td>\n",
       "      <td>0.0</td>\n",
       "      <td>60741</td>\n",
       "      <td>55715</td>\n",
       "      <td>...</td>\n",
       "      <td>7</td>\n",
       "      <td>7</td>\n",
       "      <td>7</td>\n",
       "      <td>2</td>\n",
       "      <td>7</td>\n",
       "      <td>7</td>\n",
       "      <td>7</td>\n",
       "      <td>7</td>\n",
       "      <td>2</td>\n",
       "      <td>1</td>\n",
       "    </tr>\n",
       "    <tr>\n",
       "      <th>62704</th>\n",
       "      <td>2019</td>\n",
       "      <td>2470302</td>\n",
       "      <td>Indianapolis</td>\n",
       "      <td>18</td>\n",
       "      <td>41</td>\n",
       "      <td>99999</td>\n",
       "      <td>9540.00</td>\n",
       "      <td>0.0</td>\n",
       "      <td>60741</td>\n",
       "      <td>55715</td>\n",
       "      <td>...</td>\n",
       "      <td>7</td>\n",
       "      <td>7</td>\n",
       "      <td>7</td>\n",
       "      <td>5</td>\n",
       "      <td>8</td>\n",
       "      <td>8</td>\n",
       "      <td>8</td>\n",
       "      <td>8</td>\n",
       "      <td>2</td>\n",
       "      <td>1</td>\n",
       "    </tr>\n",
       "    <tr>\n",
       "      <th>63490</th>\n",
       "      <td>2019</td>\n",
       "      <td>2520414</td>\n",
       "      <td>Indianapolis</td>\n",
       "      <td>18</td>\n",
       "      <td>79</td>\n",
       "      <td>35860</td>\n",
       "      <td>9603.01</td>\n",
       "      <td>0.0</td>\n",
       "      <td>60759</td>\n",
       "      <td>55741</td>\n",
       "      <td>...</td>\n",
       "      <td>7</td>\n",
       "      <td>7</td>\n",
       "      <td>7</td>\n",
       "      <td>5</td>\n",
       "      <td>8</td>\n",
       "      <td>8</td>\n",
       "      <td>8</td>\n",
       "      <td>8</td>\n",
       "      <td>2</td>\n",
       "      <td>1</td>\n",
       "    </tr>\n",
       "    <tr>\n",
       "      <th>64027</th>\n",
       "      <td>2019</td>\n",
       "      <td>2520951</td>\n",
       "      <td>Indianapolis</td>\n",
       "      <td>18</td>\n",
       "      <td>79</td>\n",
       "      <td>35860</td>\n",
       "      <td>9603.01</td>\n",
       "      <td>0.0</td>\n",
       "      <td>60759</td>\n",
       "      <td>55741</td>\n",
       "      <td>...</td>\n",
       "      <td>7</td>\n",
       "      <td>7</td>\n",
       "      <td>7</td>\n",
       "      <td>5</td>\n",
       "      <td>8</td>\n",
       "      <td>8</td>\n",
       "      <td>8</td>\n",
       "      <td>8</td>\n",
       "      <td>2</td>\n",
       "      <td>1</td>\n",
       "    </tr>\n",
       "    <tr>\n",
       "      <th>68196</th>\n",
       "      <td>2019</td>\n",
       "      <td>2430843</td>\n",
       "      <td>Pittsburgh</td>\n",
       "      <td>37</td>\n",
       "      <td>19</td>\n",
       "      <td>34820</td>\n",
       "      <td>9901.00</td>\n",
       "      <td>0.0</td>\n",
       "      <td>0</td>\n",
       "      <td>57630</td>\n",
       "      <td>...</td>\n",
       "      <td>7</td>\n",
       "      <td>7</td>\n",
       "      <td>7</td>\n",
       "      <td>2</td>\n",
       "      <td>7</td>\n",
       "      <td>7</td>\n",
       "      <td>7</td>\n",
       "      <td>7</td>\n",
       "      <td>2</td>\n",
       "      <td>1</td>\n",
       "    </tr>\n",
       "    <tr>\n",
       "      <th>77634</th>\n",
       "      <td>2019</td>\n",
       "      <td>2436650</td>\n",
       "      <td>Topeka</td>\n",
       "      <td>4</td>\n",
       "      <td>13</td>\n",
       "      <td>38060</td>\n",
       "      <td>9806.00</td>\n",
       "      <td>0.0</td>\n",
       "      <td>133494</td>\n",
       "      <td>68709</td>\n",
       "      <td>...</td>\n",
       "      <td>7</td>\n",
       "      <td>7</td>\n",
       "      <td>7</td>\n",
       "      <td>5</td>\n",
       "      <td>8</td>\n",
       "      <td>8</td>\n",
       "      <td>8</td>\n",
       "      <td>8</td>\n",
       "      <td>2</td>\n",
       "      <td>1</td>\n",
       "    </tr>\n",
       "    <tr>\n",
       "      <th>86849</th>\n",
       "      <td>2019</td>\n",
       "      <td>2489053</td>\n",
       "      <td>Topeka</td>\n",
       "      <td>4</td>\n",
       "      <td>13</td>\n",
       "      <td>38060</td>\n",
       "      <td>9806.00</td>\n",
       "      <td>0.0</td>\n",
       "      <td>133494</td>\n",
       "      <td>68709</td>\n",
       "      <td>...</td>\n",
       "      <td>7</td>\n",
       "      <td>7</td>\n",
       "      <td>7</td>\n",
       "      <td>5</td>\n",
       "      <td>8</td>\n",
       "      <td>8</td>\n",
       "      <td>8</td>\n",
       "      <td>8</td>\n",
       "      <td>2</td>\n",
       "      <td>1</td>\n",
       "    </tr>\n",
       "  </tbody>\n",
       "</table>\n",
       "<p>14 rows × 56 columns</p>\n",
       "</div>"
      ],
      "text/plain": [
       "       Year  LoanCharacteristicsID          Bank FIPSStateNumericCode  \\\n",
       "13477  2019                2446287       Chicago                   55   \n",
       "20537  2019                2478655       Chicago                    4   \n",
       "36459  2019                2469015    Cincinnati                    4   \n",
       "59677  2019                2406723  Indianapolis                   26   \n",
       "60329  2019                2438332  Indianapolis                   18   \n",
       "60568  2019                2438571  Indianapolis                   18   \n",
       "61148  2019                2439151  Indianapolis                   18   \n",
       "62602  2019                2470200  Indianapolis                   18   \n",
       "62704  2019                2470302  Indianapolis                   18   \n",
       "63490  2019                2520414  Indianapolis                   18   \n",
       "64027  2019                2520951  Indianapolis                   18   \n",
       "68196  2019                2430843    Pittsburgh                   37   \n",
       "77634  2019                2436650        Topeka                    4   \n",
       "86849  2019                2489053        Topeka                    4   \n",
       "\n",
       "      FIPSCountyCode  CoreBasedStatisticalAreaCode  CensusTractIdentifier  \\\n",
       "13477             25                         31540                9917.03   \n",
       "20537             13                         38060                9806.00   \n",
       "36459             13                         38060                9806.00   \n",
       "59677            147                         19820                6470.00   \n",
       "60329             41                         99999                9540.00   \n",
       "60568             41                         99999                9540.00   \n",
       "61148             41                         99999                9540.00   \n",
       "62602             41                         99999                9540.00   \n",
       "62704             41                         99999                9540.00   \n",
       "63490             79                         35860                9603.01   \n",
       "64027             79                         35860                9603.01   \n",
       "68196             19                         34820                9901.00   \n",
       "77634             13                         38060                9806.00   \n",
       "86849             13                         38060                9806.00   \n",
       "\n",
       "       CensusTractMinorityRatioPercent  CensusTractMedFamIncomeAmount  \\\n",
       "13477                              0.0                              0   \n",
       "20537                              0.0                         133494   \n",
       "36459                              0.0                         133494   \n",
       "59677                              0.0                          71471   \n",
       "60329                              0.0                          60741   \n",
       "60568                              0.0                          60741   \n",
       "61148                              0.0                          60741   \n",
       "62602                              0.0                          60741   \n",
       "62704                              0.0                          60741   \n",
       "63490                              0.0                          60759   \n",
       "64027                              0.0                          60759   \n",
       "68196                              0.0                              0   \n",
       "77634                              0.0                         133494   \n",
       "86849                              0.0                         133494   \n",
       "\n",
       "       LocalAreaMedianIncomeAmount  ...  Borrower1Race3Type  \\\n",
       "13477                        87309  ...                   7   \n",
       "20537                        68709  ...                   7   \n",
       "36459                        68709  ...                   6   \n",
       "59677                        76739  ...                   7   \n",
       "60329                        55715  ...                   7   \n",
       "60568                        55715  ...                   7   \n",
       "61148                        55715  ...                   7   \n",
       "62602                        55715  ...                   7   \n",
       "62704                        55715  ...                   7   \n",
       "63490                        55741  ...                   7   \n",
       "64027                        55741  ...                   7   \n",
       "68196                        57630  ...                   7   \n",
       "77634                        68709  ...                   7   \n",
       "86849                        68709  ...                   7   \n",
       "\n",
       "       Borrower1Race4Type  Borrower1Race5Type  Borrower2EthnicityType  \\\n",
       "13477                   7                   7                       2   \n",
       "20537                   7                   7                       5   \n",
       "36459                   6                   6                       2   \n",
       "59677                   7                   7                       5   \n",
       "60329                   7                   7                       5   \n",
       "60568                   7                   7                       5   \n",
       "61148                   7                   7                       5   \n",
       "62602                   7                   7                       2   \n",
       "62704                   7                   7                       5   \n",
       "63490                   7                   7                       5   \n",
       "64027                   7                   7                       5   \n",
       "68196                   7                   7                       2   \n",
       "77634                   7                   7                       5   \n",
       "86849                   7                   7                       5   \n",
       "\n",
       "       Borrower2Race2Type  Borrower2Race3Type  Borrower2Race4Type  \\\n",
       "13477                   7                   7                   7   \n",
       "20537                   8                   8                   8   \n",
       "36459                   6                   6                   6   \n",
       "59677                   8                   8                   8   \n",
       "60329                   8                   8                   8   \n",
       "60568                   8                   8                   8   \n",
       "61148                   8                   8                   8   \n",
       "62602                   7                   7                   7   \n",
       "62704                   8                   8                   8   \n",
       "63490                   8                   8                   8   \n",
       "64027                   8                   8                   8   \n",
       "68196                   7                   7                   7   \n",
       "77634                   8                   8                   8   \n",
       "86849                   8                   8                   8   \n",
       "\n",
       "       Borrower2Race5Type  HOEPALoanStatusType  LienPriorityType  \n",
       "13477                   7                    2                 1  \n",
       "20537                   8                    2                 1  \n",
       "36459                   6                    2                 1  \n",
       "59677                   8                    2                 1  \n",
       "60329                   8                    2                 1  \n",
       "60568                   8                    2                 1  \n",
       "61148                   8                    2                 1  \n",
       "62602                   7                    2                 1  \n",
       "62704                   8                    2                 1  \n",
       "63490                   8                    2                 1  \n",
       "64027                   8                    2                 1  \n",
       "68196                   7                    2                 1  \n",
       "77634                   8                    2                 1  \n",
       "86849                   8                    2                 1  \n",
       "\n",
       "[14 rows x 56 columns]"
      ]
     },
     "execution_count": 24,
     "metadata": {},
     "output_type": "execute_result"
    }
   ],
   "source": [
    "#Check areas with 0% minority\n",
    "df_2019[df_2019['CensusTractMinorityRatioPercent']==0.0]"
   ]
  },
  {
   "cell_type": "markdown",
   "metadata": {},
   "source": [
    "# CensusTractMedFamIncomeAmount : The property's census tract median family income."
   ]
  },
  {
   "cell_type": "code",
   "execution_count": 25,
   "metadata": {},
   "outputs": [
    {
     "data": {
      "text/html": [
       "<div>\n",
       "<style scoped>\n",
       "    .dataframe tbody tr th:only-of-type {\n",
       "        vertical-align: middle;\n",
       "    }\n",
       "\n",
       "    .dataframe tbody tr th {\n",
       "        vertical-align: top;\n",
       "    }\n",
       "\n",
       "    .dataframe thead th {\n",
       "        text-align: right;\n",
       "    }\n",
       "</style>\n",
       "<table border=\"1\" class=\"dataframe\">\n",
       "  <thead>\n",
       "    <tr style=\"text-align: right;\">\n",
       "      <th></th>\n",
       "      <th>Year</th>\n",
       "      <th>LoanCharacteristicsID</th>\n",
       "      <th>Bank</th>\n",
       "      <th>FIPSStateNumericCode</th>\n",
       "      <th>FIPSCountyCode</th>\n",
       "      <th>CoreBasedStatisticalAreaCode</th>\n",
       "      <th>CensusTractIdentifier</th>\n",
       "      <th>CensusTractMinorityRatioPercent</th>\n",
       "      <th>CensusTractMedFamIncomeAmount</th>\n",
       "      <th>LocalAreaMedianIncomeAmount</th>\n",
       "      <th>...</th>\n",
       "      <th>Borrower1Race3Type</th>\n",
       "      <th>Borrower1Race4Type</th>\n",
       "      <th>Borrower1Race5Type</th>\n",
       "      <th>Borrower2EthnicityType</th>\n",
       "      <th>Borrower2Race2Type</th>\n",
       "      <th>Borrower2Race3Type</th>\n",
       "      <th>Borrower2Race4Type</th>\n",
       "      <th>Borrower2Race5Type</th>\n",
       "      <th>HOEPALoanStatusType</th>\n",
       "      <th>LienPriorityType</th>\n",
       "    </tr>\n",
       "  </thead>\n",
       "  <tbody>\n",
       "    <tr>\n",
       "      <th>549</th>\n",
       "      <td>2019</td>\n",
       "      <td>2407747</td>\n",
       "      <td>Boston</td>\n",
       "      <td>25</td>\n",
       "      <td>25</td>\n",
       "      <td>14460</td>\n",
       "      <td>711.01</td>\n",
       "      <td>51.052</td>\n",
       "      <td>0</td>\n",
       "      <td>95277</td>\n",
       "      <td>...</td>\n",
       "      <td>7</td>\n",
       "      <td>7</td>\n",
       "      <td>7</td>\n",
       "      <td>5</td>\n",
       "      <td>8</td>\n",
       "      <td>8</td>\n",
       "      <td>8</td>\n",
       "      <td>8</td>\n",
       "      <td>2</td>\n",
       "      <td>1</td>\n",
       "    </tr>\n",
       "    <tr>\n",
       "      <th>1122</th>\n",
       "      <td>2019</td>\n",
       "      <td>2422709</td>\n",
       "      <td>Boston</td>\n",
       "      <td>25</td>\n",
       "      <td>25</td>\n",
       "      <td>14460</td>\n",
       "      <td>9813.00</td>\n",
       "      <td>33.676</td>\n",
       "      <td>0</td>\n",
       "      <td>102945</td>\n",
       "      <td>...</td>\n",
       "      <td>7</td>\n",
       "      <td>7</td>\n",
       "      <td>7</td>\n",
       "      <td>2</td>\n",
       "      <td>7</td>\n",
       "      <td>7</td>\n",
       "      <td>7</td>\n",
       "      <td>7</td>\n",
       "      <td>2</td>\n",
       "      <td>1</td>\n",
       "    </tr>\n",
       "    <tr>\n",
       "      <th>1735</th>\n",
       "      <td>2019</td>\n",
       "      <td>2443474</td>\n",
       "      <td>Boston</td>\n",
       "      <td>25</td>\n",
       "      <td>25</td>\n",
       "      <td>14460</td>\n",
       "      <td>9813.00</td>\n",
       "      <td>33.676</td>\n",
       "      <td>0</td>\n",
       "      <td>102945</td>\n",
       "      <td>...</td>\n",
       "      <td>7</td>\n",
       "      <td>7</td>\n",
       "      <td>7</td>\n",
       "      <td>5</td>\n",
       "      <td>8</td>\n",
       "      <td>8</td>\n",
       "      <td>8</td>\n",
       "      <td>8</td>\n",
       "      <td>2</td>\n",
       "      <td>1</td>\n",
       "    </tr>\n",
       "    <tr>\n",
       "      <th>4177</th>\n",
       "      <td>2019</td>\n",
       "      <td>2409126</td>\n",
       "      <td>Chicago</td>\n",
       "      <td>55</td>\n",
       "      <td>105</td>\n",
       "      <td>27500</td>\n",
       "      <td>15.00</td>\n",
       "      <td>31.083</td>\n",
       "      <td>0</td>\n",
       "      <td>61315</td>\n",
       "      <td>...</td>\n",
       "      <td>7</td>\n",
       "      <td>7</td>\n",
       "      <td>7</td>\n",
       "      <td>5</td>\n",
       "      <td>8</td>\n",
       "      <td>8</td>\n",
       "      <td>8</td>\n",
       "      <td>8</td>\n",
       "      <td>2</td>\n",
       "      <td>1</td>\n",
       "    </tr>\n",
       "    <tr>\n",
       "      <th>6723</th>\n",
       "      <td>2019</td>\n",
       "      <td>2425429</td>\n",
       "      <td>Chicago</td>\n",
       "      <td>55</td>\n",
       "      <td>79</td>\n",
       "      <td>33340</td>\n",
       "      <td>1870.00</td>\n",
       "      <td>17.153</td>\n",
       "      <td>0</td>\n",
       "      <td>76163</td>\n",
       "      <td>...</td>\n",
       "      <td>7</td>\n",
       "      <td>7</td>\n",
       "      <td>7</td>\n",
       "      <td>5</td>\n",
       "      <td>8</td>\n",
       "      <td>8</td>\n",
       "      <td>8</td>\n",
       "      <td>8</td>\n",
       "      <td>2</td>\n",
       "      <td>1</td>\n",
       "    </tr>\n",
       "    <tr>\n",
       "      <th>...</th>\n",
       "      <td>...</td>\n",
       "      <td>...</td>\n",
       "      <td>...</td>\n",
       "      <td>...</td>\n",
       "      <td>...</td>\n",
       "      <td>...</td>\n",
       "      <td>...</td>\n",
       "      <td>...</td>\n",
       "      <td>...</td>\n",
       "      <td>...</td>\n",
       "      <td>...</td>\n",
       "      <td>...</td>\n",
       "      <td>...</td>\n",
       "      <td>...</td>\n",
       "      <td>...</td>\n",
       "      <td>...</td>\n",
       "      <td>...</td>\n",
       "      <td>...</td>\n",
       "      <td>...</td>\n",
       "      <td>...</td>\n",
       "      <td>...</td>\n",
       "    </tr>\n",
       "    <tr>\n",
       "      <th>72352</th>\n",
       "      <td>2019</td>\n",
       "      <td>2459466</td>\n",
       "      <td>San Francisco</td>\n",
       "      <td>6</td>\n",
       "      <td>1</td>\n",
       "      <td>41860</td>\n",
       "      <td>9820.00</td>\n",
       "      <td>35.211</td>\n",
       "      <td>0</td>\n",
       "      <td>109712</td>\n",
       "      <td>...</td>\n",
       "      <td>7</td>\n",
       "      <td>7</td>\n",
       "      <td>7</td>\n",
       "      <td>5</td>\n",
       "      <td>8</td>\n",
       "      <td>8</td>\n",
       "      <td>8</td>\n",
       "      <td>8</td>\n",
       "      <td>2</td>\n",
       "      <td>1</td>\n",
       "    </tr>\n",
       "    <tr>\n",
       "      <th>73067</th>\n",
       "      <td>2019</td>\n",
       "      <td>2492088</td>\n",
       "      <td>San Francisco</td>\n",
       "      <td>6</td>\n",
       "      <td>1</td>\n",
       "      <td>41860</td>\n",
       "      <td>4018.00</td>\n",
       "      <td>84.968</td>\n",
       "      <td>0</td>\n",
       "      <td>109712</td>\n",
       "      <td>...</td>\n",
       "      <td>7</td>\n",
       "      <td>7</td>\n",
       "      <td>7</td>\n",
       "      <td>2</td>\n",
       "      <td>7</td>\n",
       "      <td>7</td>\n",
       "      <td>7</td>\n",
       "      <td>7</td>\n",
       "      <td>2</td>\n",
       "      <td>1</td>\n",
       "    </tr>\n",
       "    <tr>\n",
       "      <th>75023</th>\n",
       "      <td>2019</td>\n",
       "      <td>2416179</td>\n",
       "      <td>Topeka</td>\n",
       "      <td>6</td>\n",
       "      <td>61</td>\n",
       "      <td>40900</td>\n",
       "      <td>223.00</td>\n",
       "      <td>6.065</td>\n",
       "      <td>0</td>\n",
       "      <td>74384</td>\n",
       "      <td>...</td>\n",
       "      <td>7</td>\n",
       "      <td>7</td>\n",
       "      <td>7</td>\n",
       "      <td>2</td>\n",
       "      <td>7</td>\n",
       "      <td>7</td>\n",
       "      <td>7</td>\n",
       "      <td>7</td>\n",
       "      <td>2</td>\n",
       "      <td>1</td>\n",
       "    </tr>\n",
       "    <tr>\n",
       "      <th>82564</th>\n",
       "      <td>2019</td>\n",
       "      <td>2463489</td>\n",
       "      <td>Topeka</td>\n",
       "      <td>31</td>\n",
       "      <td>109</td>\n",
       "      <td>30700</td>\n",
       "      <td>19.00</td>\n",
       "      <td>10.977</td>\n",
       "      <td>0</td>\n",
       "      <td>75378</td>\n",
       "      <td>...</td>\n",
       "      <td>7</td>\n",
       "      <td>7</td>\n",
       "      <td>7</td>\n",
       "      <td>2</td>\n",
       "      <td>7</td>\n",
       "      <td>7</td>\n",
       "      <td>7</td>\n",
       "      <td>7</td>\n",
       "      <td>2</td>\n",
       "      <td>1</td>\n",
       "    </tr>\n",
       "    <tr>\n",
       "      <th>85809</th>\n",
       "      <td>2019</td>\n",
       "      <td>2488013</td>\n",
       "      <td>Topeka</td>\n",
       "      <td>25</td>\n",
       "      <td>17</td>\n",
       "      <td>14460</td>\n",
       "      <td>3522.00</td>\n",
       "      <td>37.263</td>\n",
       "      <td>0</td>\n",
       "      <td>102945</td>\n",
       "      <td>...</td>\n",
       "      <td>7</td>\n",
       "      <td>7</td>\n",
       "      <td>7</td>\n",
       "      <td>5</td>\n",
       "      <td>8</td>\n",
       "      <td>8</td>\n",
       "      <td>8</td>\n",
       "      <td>8</td>\n",
       "      <td>2</td>\n",
       "      <td>1</td>\n",
       "    </tr>\n",
       "  </tbody>\n",
       "</table>\n",
       "<p>62 rows × 56 columns</p>\n",
       "</div>"
      ],
      "text/plain": [
       "       Year  LoanCharacteristicsID           Bank FIPSStateNumericCode  \\\n",
       "549    2019                2407747         Boston                   25   \n",
       "1122   2019                2422709         Boston                   25   \n",
       "1735   2019                2443474         Boston                   25   \n",
       "4177   2019                2409126        Chicago                   55   \n",
       "6723   2019                2425429        Chicago                   55   \n",
       "...     ...                    ...            ...                  ...   \n",
       "72352  2019                2459466  San Francisco                    6   \n",
       "73067  2019                2492088  San Francisco                    6   \n",
       "75023  2019                2416179         Topeka                    6   \n",
       "82564  2019                2463489         Topeka                   31   \n",
       "85809  2019                2488013         Topeka                   25   \n",
       "\n",
       "      FIPSCountyCode  CoreBasedStatisticalAreaCode  CensusTractIdentifier  \\\n",
       "549               25                         14460                 711.01   \n",
       "1122              25                         14460                9813.00   \n",
       "1735              25                         14460                9813.00   \n",
       "4177             105                         27500                  15.00   \n",
       "6723              79                         33340                1870.00   \n",
       "...              ...                           ...                    ...   \n",
       "72352              1                         41860                9820.00   \n",
       "73067              1                         41860                4018.00   \n",
       "75023             61                         40900                 223.00   \n",
       "82564            109                         30700                  19.00   \n",
       "85809             17                         14460                3522.00   \n",
       "\n",
       "       CensusTractMinorityRatioPercent  CensusTractMedFamIncomeAmount  \\\n",
       "549                             51.052                              0   \n",
       "1122                            33.676                              0   \n",
       "1735                            33.676                              0   \n",
       "4177                            31.083                              0   \n",
       "6723                            17.153                              0   \n",
       "...                                ...                            ...   \n",
       "72352                           35.211                              0   \n",
       "73067                           84.968                              0   \n",
       "75023                            6.065                              0   \n",
       "82564                           10.977                              0   \n",
       "85809                           37.263                              0   \n",
       "\n",
       "       LocalAreaMedianIncomeAmount  ...  Borrower1Race3Type  \\\n",
       "549                          95277  ...                   7   \n",
       "1122                        102945  ...                   7   \n",
       "1735                        102945  ...                   7   \n",
       "4177                         61315  ...                   7   \n",
       "6723                         76163  ...                   7   \n",
       "...                            ...  ...                 ...   \n",
       "72352                       109712  ...                   7   \n",
       "73067                       109712  ...                   7   \n",
       "75023                        74384  ...                   7   \n",
       "82564                        75378  ...                   7   \n",
       "85809                       102945  ...                   7   \n",
       "\n",
       "       Borrower1Race4Type  Borrower1Race5Type  Borrower2EthnicityType  \\\n",
       "549                     7                   7                       5   \n",
       "1122                    7                   7                       2   \n",
       "1735                    7                   7                       5   \n",
       "4177                    7                   7                       5   \n",
       "6723                    7                   7                       5   \n",
       "...                   ...                 ...                     ...   \n",
       "72352                   7                   7                       5   \n",
       "73067                   7                   7                       2   \n",
       "75023                   7                   7                       2   \n",
       "82564                   7                   7                       2   \n",
       "85809                   7                   7                       5   \n",
       "\n",
       "       Borrower2Race2Type  Borrower2Race3Type  Borrower2Race4Type  \\\n",
       "549                     8                   8                   8   \n",
       "1122                    7                   7                   7   \n",
       "1735                    8                   8                   8   \n",
       "4177                    8                   8                   8   \n",
       "6723                    8                   8                   8   \n",
       "...                   ...                 ...                 ...   \n",
       "72352                   8                   8                   8   \n",
       "73067                   7                   7                   7   \n",
       "75023                   7                   7                   7   \n",
       "82564                   7                   7                   7   \n",
       "85809                   8                   8                   8   \n",
       "\n",
       "       Borrower2Race5Type  HOEPALoanStatusType  LienPriorityType  \n",
       "549                     8                    2                 1  \n",
       "1122                    7                    2                 1  \n",
       "1735                    8                    2                 1  \n",
       "4177                    8                    2                 1  \n",
       "6723                    8                    2                 1  \n",
       "...                   ...                  ...               ...  \n",
       "72352                   8                    2                 1  \n",
       "73067                   7                    2                 1  \n",
       "75023                   7                    2                 1  \n",
       "82564                   7                    2                 1  \n",
       "85809                   8                    2                 1  \n",
       "\n",
       "[62 rows x 56 columns]"
      ]
     },
     "execution_count": 25,
     "metadata": {},
     "output_type": "execute_result"
    }
   ],
   "source": [
    "#Check zero median family income\n",
    "df_2019[df_2019['CensusTractMedFamIncomeAmount']==0.0]"
   ]
  },
  {
   "cell_type": "markdown",
   "metadata": {},
   "source": [
    "Hence there are 62 Loan where Tract Median income is zero. This suggest that this data is most probabaly not available for these loans and we can treat them as missing values. "
   ]
  },
  {
   "cell_type": "code",
   "execution_count": 48,
   "metadata": {},
   "outputs": [
    {
     "name": "stderr",
     "output_type": "stream",
     "text": [
      "<ipython-input-48-c8420d1b4a7d>:2: SettingWithCopyWarning: \n",
      "A value is trying to be set on a copy of a slice from a DataFrame\n",
      "\n",
      "See the caveats in the documentation: https://pandas.pydata.org/pandas-docs/stable/user_guide/indexing.html#returning-a-view-versus-a-copy\n",
      "  df_2019['CensusTractMedFamIncomeAmount'][df_2019['CensusTractMedFamIncomeAmount']==0.0]=np.nan\n"
     ]
    }
   ],
   "source": [
    "#Replace 0 median income family with NaN\n",
    "df_2019['CensusTractMedFamIncomeAmount'][df_2019['CensusTractMedFamIncomeAmount']==0.0]=np.nan"
   ]
  },
  {
   "cell_type": "code",
   "execution_count": 49,
   "metadata": {},
   "outputs": [
    {
     "data": {
      "text/plain": [
       "549     NaN\n",
       "1122    NaN\n",
       "1735    NaN\n",
       "4177    NaN\n",
       "6723    NaN\n",
       "         ..\n",
       "72352   NaN\n",
       "73067   NaN\n",
       "75023   NaN\n",
       "82564   NaN\n",
       "85809   NaN\n",
       "Name: CensusTractMedFamIncomeAmount, Length: 62, dtype: float64"
      ]
     },
     "execution_count": 49,
     "metadata": {},
     "output_type": "execute_result"
    }
   ],
   "source": [
    "df_2019['CensusTractMedFamIncomeAmount'][df_2019['CensusTractMedFamIncomeAmount'].isnull()]"
   ]
  },
  {
   "cell_type": "markdown",
   "metadata": {},
   "source": [
    "# LocalAreaMedianIncomeAmount : The property's median income for the area based on the most recent decennial census.\n",
    "Check for zero median family income since most probabaly this data is missing so we can replace it NaN value."
   ]
  },
  {
   "cell_type": "code",
   "execution_count": 50,
   "metadata": {},
   "outputs": [
    {
     "data": {
      "text/html": [
       "<div>\n",
       "<style scoped>\n",
       "    .dataframe tbody tr th:only-of-type {\n",
       "        vertical-align: middle;\n",
       "    }\n",
       "\n",
       "    .dataframe tbody tr th {\n",
       "        vertical-align: top;\n",
       "    }\n",
       "\n",
       "    .dataframe thead th {\n",
       "        text-align: right;\n",
       "    }\n",
       "</style>\n",
       "<table border=\"1\" class=\"dataframe\">\n",
       "  <thead>\n",
       "    <tr style=\"text-align: right;\">\n",
       "      <th></th>\n",
       "      <th>Year</th>\n",
       "      <th>LoanCharacteristicsID</th>\n",
       "      <th>Bank</th>\n",
       "      <th>FIPSStateNumericCode</th>\n",
       "      <th>FIPSCountyCode</th>\n",
       "      <th>CoreBasedStatisticalAreaCode</th>\n",
       "      <th>CensusTractIdentifier</th>\n",
       "      <th>CensusTractMinorityRatioPercent</th>\n",
       "      <th>CensusTractMedFamIncomeAmount</th>\n",
       "      <th>LocalAreaMedianIncomeAmount</th>\n",
       "      <th>...</th>\n",
       "      <th>Borrower1Race3Type</th>\n",
       "      <th>Borrower1Race4Type</th>\n",
       "      <th>Borrower1Race5Type</th>\n",
       "      <th>Borrower2EthnicityType</th>\n",
       "      <th>Borrower2Race2Type</th>\n",
       "      <th>Borrower2Race3Type</th>\n",
       "      <th>Borrower2Race4Type</th>\n",
       "      <th>Borrower2Race5Type</th>\n",
       "      <th>HOEPALoanStatusType</th>\n",
       "      <th>LienPriorityType</th>\n",
       "    </tr>\n",
       "  </thead>\n",
       "  <tbody>\n",
       "    <tr>\n",
       "      <th>46117</th>\n",
       "      <td>2019</td>\n",
       "      <td>2413890</td>\n",
       "      <td>Des Moines</td>\n",
       "      <td>66</td>\n",
       "      <td>10</td>\n",
       "      <td>99999</td>\n",
       "      <td>9559.00</td>\n",
       "      <td>92.9</td>\n",
       "      <td>NaN</td>\n",
       "      <td>0</td>\n",
       "      <td>...</td>\n",
       "      <td>7</td>\n",
       "      <td>7</td>\n",
       "      <td>7</td>\n",
       "      <td>5</td>\n",
       "      <td>8</td>\n",
       "      <td>8</td>\n",
       "      <td>8</td>\n",
       "      <td>8</td>\n",
       "      <td>2</td>\n",
       "      <td>1</td>\n",
       "    </tr>\n",
       "    <tr>\n",
       "      <th>49180</th>\n",
       "      <td>2019</td>\n",
       "      <td>2434525</td>\n",
       "      <td>Des Moines</td>\n",
       "      <td>66</td>\n",
       "      <td>10</td>\n",
       "      <td>99999</td>\n",
       "      <td>9557.00</td>\n",
       "      <td>92.9</td>\n",
       "      <td>NaN</td>\n",
       "      <td>0</td>\n",
       "      <td>...</td>\n",
       "      <td>7</td>\n",
       "      <td>7</td>\n",
       "      <td>7</td>\n",
       "      <td>5</td>\n",
       "      <td>8</td>\n",
       "      <td>8</td>\n",
       "      <td>8</td>\n",
       "      <td>8</td>\n",
       "      <td>2</td>\n",
       "      <td>1</td>\n",
       "    </tr>\n",
       "    <tr>\n",
       "      <th>49181</th>\n",
       "      <td>2019</td>\n",
       "      <td>2434526</td>\n",
       "      <td>Des Moines</td>\n",
       "      <td>66</td>\n",
       "      <td>10</td>\n",
       "      <td>99999</td>\n",
       "      <td>9540.00</td>\n",
       "      <td>92.9</td>\n",
       "      <td>NaN</td>\n",
       "      <td>0</td>\n",
       "      <td>...</td>\n",
       "      <td>7</td>\n",
       "      <td>7</td>\n",
       "      <td>7</td>\n",
       "      <td>2</td>\n",
       "      <td>7</td>\n",
       "      <td>7</td>\n",
       "      <td>7</td>\n",
       "      <td>7</td>\n",
       "      <td>2</td>\n",
       "      <td>1</td>\n",
       "    </tr>\n",
       "    <tr>\n",
       "      <th>49182</th>\n",
       "      <td>2019</td>\n",
       "      <td>2434527</td>\n",
       "      <td>Des Moines</td>\n",
       "      <td>66</td>\n",
       "      <td>10</td>\n",
       "      <td>99999</td>\n",
       "      <td>9504.01</td>\n",
       "      <td>92.9</td>\n",
       "      <td>NaN</td>\n",
       "      <td>0</td>\n",
       "      <td>...</td>\n",
       "      <td>7</td>\n",
       "      <td>7</td>\n",
       "      <td>7</td>\n",
       "      <td>5</td>\n",
       "      <td>8</td>\n",
       "      <td>8</td>\n",
       "      <td>8</td>\n",
       "      <td>8</td>\n",
       "      <td>2</td>\n",
       "      <td>1</td>\n",
       "    </tr>\n",
       "    <tr>\n",
       "      <th>52221</th>\n",
       "      <td>2019</td>\n",
       "      <td>2455128</td>\n",
       "      <td>Des Moines</td>\n",
       "      <td>66</td>\n",
       "      <td>10</td>\n",
       "      <td>99999</td>\n",
       "      <td>9504.02</td>\n",
       "      <td>92.9</td>\n",
       "      <td>NaN</td>\n",
       "      <td>0</td>\n",
       "      <td>...</td>\n",
       "      <td>7</td>\n",
       "      <td>7</td>\n",
       "      <td>7</td>\n",
       "      <td>2</td>\n",
       "      <td>7</td>\n",
       "      <td>7</td>\n",
       "      <td>7</td>\n",
       "      <td>7</td>\n",
       "      <td>2</td>\n",
       "      <td>1</td>\n",
       "    </tr>\n",
       "    <tr>\n",
       "      <th>55776</th>\n",
       "      <td>2019</td>\n",
       "      <td>2472075</td>\n",
       "      <td>Des Moines</td>\n",
       "      <td>66</td>\n",
       "      <td>10</td>\n",
       "      <td>99999</td>\n",
       "      <td>9540.00</td>\n",
       "      <td>92.9</td>\n",
       "      <td>NaN</td>\n",
       "      <td>0</td>\n",
       "      <td>...</td>\n",
       "      <td>7</td>\n",
       "      <td>7</td>\n",
       "      <td>7</td>\n",
       "      <td>5</td>\n",
       "      <td>8</td>\n",
       "      <td>8</td>\n",
       "      <td>8</td>\n",
       "      <td>8</td>\n",
       "      <td>2</td>\n",
       "      <td>1</td>\n",
       "    </tr>\n",
       "  </tbody>\n",
       "</table>\n",
       "<p>6 rows × 56 columns</p>\n",
       "</div>"
      ],
      "text/plain": [
       "       Year  LoanCharacteristicsID        Bank FIPSStateNumericCode  \\\n",
       "46117  2019                2413890  Des Moines                   66   \n",
       "49180  2019                2434525  Des Moines                   66   \n",
       "49181  2019                2434526  Des Moines                   66   \n",
       "49182  2019                2434527  Des Moines                   66   \n",
       "52221  2019                2455128  Des Moines                   66   \n",
       "55776  2019                2472075  Des Moines                   66   \n",
       "\n",
       "      FIPSCountyCode  CoreBasedStatisticalAreaCode  CensusTractIdentifier  \\\n",
       "46117             10                         99999                9559.00   \n",
       "49180             10                         99999                9557.00   \n",
       "49181             10                         99999                9540.00   \n",
       "49182             10                         99999                9504.01   \n",
       "52221             10                         99999                9504.02   \n",
       "55776             10                         99999                9540.00   \n",
       "\n",
       "       CensusTractMinorityRatioPercent  CensusTractMedFamIncomeAmount  \\\n",
       "46117                             92.9                            NaN   \n",
       "49180                             92.9                            NaN   \n",
       "49181                             92.9                            NaN   \n",
       "49182                             92.9                            NaN   \n",
       "52221                             92.9                            NaN   \n",
       "55776                             92.9                            NaN   \n",
       "\n",
       "       LocalAreaMedianIncomeAmount  ...  Borrower1Race3Type  \\\n",
       "46117                            0  ...                   7   \n",
       "49180                            0  ...                   7   \n",
       "49181                            0  ...                   7   \n",
       "49182                            0  ...                   7   \n",
       "52221                            0  ...                   7   \n",
       "55776                            0  ...                   7   \n",
       "\n",
       "       Borrower1Race4Type  Borrower1Race5Type  Borrower2EthnicityType  \\\n",
       "46117                   7                   7                       5   \n",
       "49180                   7                   7                       5   \n",
       "49181                   7                   7                       2   \n",
       "49182                   7                   7                       5   \n",
       "52221                   7                   7                       2   \n",
       "55776                   7                   7                       5   \n",
       "\n",
       "       Borrower2Race2Type  Borrower2Race3Type  Borrower2Race4Type  \\\n",
       "46117                   8                   8                   8   \n",
       "49180                   8                   8                   8   \n",
       "49181                   7                   7                   7   \n",
       "49182                   8                   8                   8   \n",
       "52221                   7                   7                   7   \n",
       "55776                   8                   8                   8   \n",
       "\n",
       "       Borrower2Race5Type  HOEPALoanStatusType  LienPriorityType  \n",
       "46117                   8                    2                 1  \n",
       "49180                   8                    2                 1  \n",
       "49181                   7                    2                 1  \n",
       "49182                   8                    2                 1  \n",
       "52221                   7                    2                 1  \n",
       "55776                   8                    2                 1  \n",
       "\n",
       "[6 rows x 56 columns]"
      ]
     },
     "execution_count": 50,
     "metadata": {},
     "output_type": "execute_result"
    }
   ],
   "source": [
    "#Check family with zero median income\n",
    "df_2019[df_2019['LocalAreaMedianIncomeAmount']==0.0]"
   ]
  },
  {
   "cell_type": "code",
   "execution_count": 51,
   "metadata": {},
   "outputs": [
    {
     "name": "stderr",
     "output_type": "stream",
     "text": [
      "<ipython-input-51-428e0ee13717>:2: SettingWithCopyWarning: \n",
      "A value is trying to be set on a copy of a slice from a DataFrame\n",
      "\n",
      "See the caveats in the documentation: https://pandas.pydata.org/pandas-docs/stable/user_guide/indexing.html#returning-a-view-versus-a-copy\n",
      "  df_2019['LocalAreaMedianIncomeAmount'][df_2019['LocalAreaMedianIncomeAmount']==0.0]=np.nan\n"
     ]
    }
   ],
   "source": [
    "#Replace 0 median income family with NaN\n",
    "df_2019['LocalAreaMedianIncomeAmount'][df_2019['LocalAreaMedianIncomeAmount']==0.0]=np.nan"
   ]
  },
  {
   "cell_type": "code",
   "execution_count": 52,
   "metadata": {},
   "outputs": [
    {
     "data": {
      "text/plain": [
       "46117   NaN\n",
       "49180   NaN\n",
       "49181   NaN\n",
       "49182   NaN\n",
       "52221   NaN\n",
       "55776   NaN\n",
       "Name: LocalAreaMedianIncomeAmount, dtype: float64"
      ]
     },
     "execution_count": 52,
     "metadata": {},
     "output_type": "execute_result"
    }
   ],
   "source": [
    "df_2019['LocalAreaMedianIncomeAmount'][df_2019['LocalAreaMedianIncomeAmount'].isnull()]"
   ]
  },
  {
   "cell_type": "markdown",
   "metadata": {},
   "source": [
    "# TotalMonthlyIncomeAmount : The total monthly qualifying income used for underwriting in whole dollars for all borrowers on the loan\n",
    "- Check if there is anay missing values"
   ]
  },
  {
   "cell_type": "code",
   "execution_count": 53,
   "metadata": {},
   "outputs": [
    {
     "data": {
      "text/plain": [
       "0"
      ]
     },
     "execution_count": 53,
     "metadata": {},
     "output_type": "execute_result"
    }
   ],
   "source": [
    "np.sum(df_2019['TotalMonthlyIncomeAmount'].isnull())"
   ]
  },
  {
   "cell_type": "code",
   "execution_count": 56,
   "metadata": {},
   "outputs": [
    {
     "data": {
      "text/plain": [
       "0"
      ]
     },
     "execution_count": 56,
     "metadata": {},
     "output_type": "execute_result"
    }
   ],
   "source": [
    "np.sum(df_2019['TotalMonthlyIncomeAmount']==0)"
   ]
  },
  {
   "cell_type": "markdown",
   "metadata": {},
   "source": [
    "Hence there is no missing values. "
   ]
  },
  {
   "cell_type": "markdown",
   "metadata": {},
   "source": [
    "# HUDMedianIncomeAmount : Current median income for a family of four for the area as established by HUD\n",
    "- Check for missing values"
   ]
  },
  {
   "cell_type": "code",
   "execution_count": 57,
   "metadata": {},
   "outputs": [
    {
     "data": {
      "text/plain": [
       "0"
      ]
     },
     "execution_count": 57,
     "metadata": {},
     "output_type": "execute_result"
    }
   ],
   "source": [
    "#Check null values\n",
    "np.sum(df_2019['HUDMedianIncomeAmount'].isnull())"
   ]
  },
  {
   "cell_type": "code",
   "execution_count": 69,
   "metadata": {},
   "outputs": [
    {
     "data": {
      "text/plain": [
       "0"
      ]
     },
     "execution_count": 69,
     "metadata": {},
     "output_type": "execute_result"
    }
   ],
   "source": [
    "#Check zero values\n",
    "np.sum(df_2019['HUDMedianIncomeAmount']==0)"
   ]
  },
  {
   "cell_type": "markdown",
   "metadata": {},
   "source": [
    "There is no missing values."
   ]
  },
  {
   "cell_type": "markdown",
   "metadata": {},
   "source": [
    "# LoanAcquisitionActualUPBAmt : The Amount of unpaid principal balance in whole dollars when acquired by the FHLBank.\n",
    "- Check for missing values"
   ]
  },
  {
   "cell_type": "code",
   "execution_count": 70,
   "metadata": {},
   "outputs": [
    {
     "data": {
      "text/plain": [
       "0"
      ]
     },
     "execution_count": 70,
     "metadata": {},
     "output_type": "execute_result"
    }
   ],
   "source": [
    "#Function to check both null and missing values.\n",
    "def check_missing_val(col):\n",
    "    count_missing=np.sum(df_2019[col].isnull())+np.sum(df_2019[col]==0)\n",
    "    return count_missing\n",
    "\n",
    "check_missing_val('LoanAcquisitionActualUPBAmt')"
   ]
  },
  {
   "cell_type": "markdown",
   "metadata": {},
   "source": [
    "Hence there is no missing values. "
   ]
  },
  {
   "cell_type": "markdown",
   "metadata": {},
   "source": [
    "# LTVRatioPercent : The loan-to-value ratio of the mortgage at time of origination\n",
    "- Check for missing values"
   ]
  },
  {
   "cell_type": "code",
   "execution_count": 61,
   "metadata": {},
   "outputs": [
    {
     "data": {
      "text/plain": [
       "0"
      ]
     },
     "execution_count": 61,
     "metadata": {},
     "output_type": "execute_result"
    }
   ],
   "source": [
    "#Function to check both null and missing values.\n",
    "check_missing_val('LTVRatioPercent')"
   ]
  },
  {
   "cell_type": "markdown",
   "metadata": {},
   "source": [
    "Hence there is no missing values. "
   ]
  },
  {
   "cell_type": "markdown",
   "metadata": {},
   "source": [
    "# NoteDate : Year the mortgage was originated.\n",
    "- Convert into categorical. "
   ]
  },
  {
   "cell_type": "code",
   "execution_count": 63,
   "metadata": {},
   "outputs": [
    {
     "data": {
      "text/plain": [
       "0    2018\n",
       "1    2019\n",
       "2    2018\n",
       "3    2018\n",
       "4    2018\n",
       "Name: NoteDate, dtype: int64"
      ]
     },
     "execution_count": 63,
     "metadata": {},
     "output_type": "execute_result"
    }
   ],
   "source": [
    "df_2019['NoteDate'].head()"
   ]
  },
  {
   "cell_type": "code",
   "execution_count": 85,
   "metadata": {},
   "outputs": [
    {
     "data": {
      "text/plain": [
       "2019    86139\n",
       "2018     3404\n",
       "2017      175\n",
       "2016       26\n",
       "2015       15\n",
       "2014        8\n",
       "Name: NoteDate, dtype: int64"
      ]
     },
     "execution_count": 85,
     "metadata": {},
     "output_type": "execute_result"
    }
   ],
   "source": [
    "#CHeck the number of diffrent values present in the column.\n",
    "df_2019['NoteDate'].value_counts()"
   ]
  },
  {
   "cell_type": "code",
   "execution_count": 86,
   "metadata": {},
   "outputs": [
    {
     "name": "stdout",
     "output_type": "stream",
     "text": [
      "category\n"
     ]
    }
   ],
   "source": [
    "#Function to convert col into categorical\n",
    "def convert_to_cat(df_2019,col):\n",
    "    df_2019[col]=df_2019[col].astype('category')\n",
    "    print(df_2019[col].dtype.name)\n",
    "    return df_2019\n",
    "\n",
    "\n",
    "df_2019=convert_to_cat(df_2019,col='NoteDate')"
   ]
  },
  {
   "cell_type": "code",
   "execution_count": 68,
   "metadata": {
    "scrolled": true
   },
   "outputs": [
    {
     "data": {
      "text/plain": [
       "'category'"
      ]
     },
     "execution_count": 68,
     "metadata": {},
     "output_type": "execute_result"
    }
   ],
   "source": [
    "df_2019['NoteDate'].dtype.name"
   ]
  },
  {
   "cell_type": "markdown",
   "metadata": {},
   "source": [
    "# LoanAcquistionDate : Year the mortgage was acquired.\n",
    "- Convert into categorical."
   ]
  },
  {
   "cell_type": "code",
   "execution_count": 87,
   "metadata": {},
   "outputs": [
    {
     "data": {
      "text/plain": [
       "2019    89767\n",
       "Name: LoanAcquistionDate, dtype: int64"
      ]
     },
     "execution_count": 87,
     "metadata": {},
     "output_type": "execute_result"
    }
   ],
   "source": [
    "#Check the years present in the data. \n",
    "df_2019['LoanAcquistionDate'].value_counts()"
   ]
  },
  {
   "cell_type": "code",
   "execution_count": 89,
   "metadata": {},
   "outputs": [
    {
     "data": {
      "text/plain": [
       "'category'"
      ]
     },
     "execution_count": 89,
     "metadata": {},
     "output_type": "execute_result"
    }
   ],
   "source": [
    "#Check courrent data typename.\n",
    "df_2019['LoanAcquistionDate'].dtype.name"
   ]
  },
  {
   "cell_type": "code",
   "execution_count": 90,
   "metadata": {},
   "outputs": [
    {
     "name": "stdout",
     "output_type": "stream",
     "text": [
      "category\n"
     ]
    }
   ],
   "source": [
    "#Convert to categorical\n",
    "#df_2019['LoanAcquistionDate']=df_2019['LoanAcquistionDate'].astype('category')\n",
    "#df_2019['LoanAcquistionDate'].dtype.name\n",
    "\n",
    "df_2019=convert_to_cat(df_2019,col='LoanAcquistionDate')"
   ]
  },
  {
   "cell_type": "code",
   "execution_count": 80,
   "metadata": {},
   "outputs": [
    {
     "data": {
      "text/plain": [
       "'category'"
      ]
     },
     "execution_count": 80,
     "metadata": {},
     "output_type": "execute_result"
    }
   ],
   "source": [
    "#Check Datatype\n",
    "df_2019['LoanAcquistionDate'].dtype.name"
   ]
  },
  {
   "cell_type": "markdown",
   "metadata": {},
   "source": [
    "# LoanPurposeType : Purpose of Loan: 1 = Purchase, 2 = No-Cash Out Refinancing, 3 = Second Mortgage, 4 = New Construction, 5 = Rehabilitation or Home Improvement, 6 = Cash-out Refinancing, 7 = Other|"
   ]
  },
  {
   "cell_type": "code",
   "execution_count": 91,
   "metadata": {},
   "outputs": [
    {
     "data": {
      "text/plain": [
       "1    40379\n",
       "6    26778\n",
       "2    22610\n",
       "Name: LoanPurposeType, dtype: int64"
      ]
     },
     "execution_count": 91,
     "metadata": {},
     "output_type": "execute_result"
    }
   ],
   "source": [
    "df_2019['LoanPurposeType'].value_counts()"
   ]
  },
  {
   "cell_type": "code",
   "execution_count": 92,
   "metadata": {},
   "outputs": [
    {
     "name": "stdout",
     "output_type": "stream",
     "text": [
      "category\n"
     ]
    }
   ],
   "source": [
    "#Convert to categorical\n",
    "#df_2019['LoanPurposeType']=df_2019['LoanPurposeType'].astype('category')\n",
    "#df_2019['LoanPurposeType'].dtype.name\n",
    "df_2019=convert_to_cat(df_2019,col='LoanPurposeType')"
   ]
  },
  {
   "cell_type": "code",
   "execution_count": 93,
   "metadata": {},
   "outputs": [
    {
     "data": {
      "text/plain": [
       "1    40379\n",
       "6    26778\n",
       "2    22610\n",
       "Name: LoanPurposeType, dtype: int64"
      ]
     },
     "execution_count": 93,
     "metadata": {},
     "output_type": "execute_result"
    }
   ],
   "source": [
    "df_2019['LoanPurposeType'].value_counts()"
   ]
  },
  {
   "cell_type": "markdown",
   "metadata": {},
   "source": [
    "# ProductCategoryName :Product type of Mortgage: 01=Fixed Rate, 02=ARM, 03=No Longer in Use, 04=GPM/GEM, 05=Reverse Annuity Mortgage, 06=Other, 07-98=Reserved for future use\n",
    "- Check the diffrent values present. \n",
    "- Convert to categorical. "
   ]
  },
  {
   "cell_type": "code",
   "execution_count": 94,
   "metadata": {},
   "outputs": [
    {
     "data": {
      "text/plain": [
       "1    89767\n",
       "Name: ProductCategoryName, dtype: int64"
      ]
     },
     "execution_count": 94,
     "metadata": {},
     "output_type": "execute_result"
    }
   ],
   "source": [
    "#Check produt types present in the column.\n",
    "df_2019['ProductCategoryName'].value_counts()"
   ]
  },
  {
   "cell_type": "code",
   "execution_count": 95,
   "metadata": {},
   "outputs": [
    {
     "data": {
      "text/plain": [
       "'int64'"
      ]
     },
     "execution_count": 95,
     "metadata": {},
     "output_type": "execute_result"
    }
   ],
   "source": [
    "#Check data type name\n",
    "df_2019['ProductCategoryName'].dtype.name"
   ]
  },
  {
   "cell_type": "code",
   "execution_count": 97,
   "metadata": {},
   "outputs": [
    {
     "name": "stdout",
     "output_type": "stream",
     "text": [
      "category\n"
     ]
    }
   ],
   "source": [
    "#Converting it to categorical\n",
    "#df_2019['ProductCategoryName']=df_2019['ProductCategoryName'].astype('category')\n",
    "#df_2019['ProductCategoryName'].dtype.name\n",
    "df_2019=convert_to_cat(df_2019,col='ProductCategoryName')"
   ]
  },
  {
   "cell_type": "markdown",
   "metadata": {},
   "source": [
    "# MortgageType : Type of Mortgage and whether the mortgage is guaranteed: 0=Conventional, 1=FHA, 2=VA, 3=USDA Rural Housing-FSA Guaranteed, 4=HECMs, 5=Title1- FHA\n",
    "- Check number of values. \n",
    "- Convert to categorical. "
   ]
  },
  {
   "cell_type": "code",
   "execution_count": 100,
   "metadata": {},
   "outputs": [
    {
     "data": {
      "text/plain": [
       "0    86451\n",
       "3     1271\n",
       "2     1033\n",
       "1     1012\n",
       "Name: MortgageType, dtype: int64"
      ]
     },
     "execution_count": 100,
     "metadata": {},
     "output_type": "execute_result"
    }
   ],
   "source": [
    "#Check the types of values present in the column. \n",
    "df_2019['MortgageType'].value_counts()"
   ]
  },
  {
   "cell_type": "code",
   "execution_count": 101,
   "metadata": {},
   "outputs": [
    {
     "name": "stdout",
     "output_type": "stream",
     "text": [
      "category\n"
     ]
    }
   ],
   "source": [
    "#Convert the column to categorical. \n",
    "df_2019=convert_to_cat(df_2019,col='MortgageType')"
   ]
  },
  {
   "cell_type": "markdown",
   "metadata": {},
   "source": [
    "# ScheduledTotalPaymentCount : Term of the Mortgage in Months\n",
    "- Check for missing values.\n",
    "- Check the values present."
   ]
  },
  {
   "cell_type": "code",
   "execution_count": 102,
   "metadata": {},
   "outputs": [
    {
     "data": {
      "text/plain": [
       "0"
      ]
     },
     "execution_count": 102,
     "metadata": {},
     "output_type": "execute_result"
    }
   ],
   "source": [
    "#Check missing values. \n",
    "check_missing_val('ScheduledTotalPaymentCount')"
   ]
  },
  {
   "cell_type": "code",
   "execution_count": 103,
   "metadata": {},
   "outputs": [
    {
     "data": {
      "text/plain": [
       "360    73564\n",
       "180     8523\n",
       "240     6010\n",
       "300      422\n",
       "120      303\n",
       "       ...  \n",
       "297        1\n",
       "210        1\n",
       "171        1\n",
       "299        1\n",
       "127        1\n",
       "Name: ScheduledTotalPaymentCount, Length: 108, dtype: int64"
      ]
     },
     "execution_count": 103,
     "metadata": {},
     "output_type": "execute_result"
    }
   ],
   "source": [
    "#Check the values present in the dataframe\n",
    "df_2019['ScheduledTotalPaymentCount'].value_counts()"
   ]
  },
  {
   "cell_type": "markdown",
   "metadata": {},
   "source": [
    "# LoanAmortizationMaxTermMonths : For Amortizing Mortgages, term of amortization in months; 998 if non-amortizing loan\n",
    "- Check the values \n",
    "- Compare with ScheduledTotalPaymentCount column to check if boh columns are duplicate. "
   ]
  },
  {
   "cell_type": "code",
   "execution_count": 105,
   "metadata": {},
   "outputs": [
    {
     "data": {
      "text/plain": [
       "360    73564\n",
       "180     8523\n",
       "240     6010\n",
       "300      422\n",
       "120      303\n",
       "       ...  \n",
       "297        1\n",
       "210        1\n",
       "171        1\n",
       "299        1\n",
       "127        1\n",
       "Name: LoanAmortizationMaxTermMonths, Length: 108, dtype: int64"
      ]
     },
     "execution_count": 105,
     "metadata": {},
     "output_type": "execute_result"
    }
   ],
   "source": [
    "#Check Values. \n",
    "df_2019['LoanAmortizationMaxTermMonths'].value_counts()"
   ]
  },
  {
   "cell_type": "code",
   "execution_count": 106,
   "metadata": {},
   "outputs": [
    {
     "data": {
      "text/html": [
       "<div>\n",
       "<style scoped>\n",
       "    .dataframe tbody tr th:only-of-type {\n",
       "        vertical-align: middle;\n",
       "    }\n",
       "\n",
       "    .dataframe tbody tr th {\n",
       "        vertical-align: top;\n",
       "    }\n",
       "\n",
       "    .dataframe thead th {\n",
       "        text-align: right;\n",
       "    }\n",
       "</style>\n",
       "<table border=\"1\" class=\"dataframe\">\n",
       "  <thead>\n",
       "    <tr style=\"text-align: right;\">\n",
       "      <th></th>\n",
       "      <th>Year</th>\n",
       "      <th>LoanCharacteristicsID</th>\n",
       "      <th>Bank</th>\n",
       "      <th>FIPSStateNumericCode</th>\n",
       "      <th>FIPSCountyCode</th>\n",
       "      <th>CoreBasedStatisticalAreaCode</th>\n",
       "      <th>CensusTractIdentifier</th>\n",
       "      <th>CensusTractMinorityRatioPercent</th>\n",
       "      <th>CensusTractMedFamIncomeAmount</th>\n",
       "      <th>LocalAreaMedianIncomeAmount</th>\n",
       "      <th>...</th>\n",
       "      <th>Borrower1Race3Type</th>\n",
       "      <th>Borrower1Race4Type</th>\n",
       "      <th>Borrower1Race5Type</th>\n",
       "      <th>Borrower2EthnicityType</th>\n",
       "      <th>Borrower2Race2Type</th>\n",
       "      <th>Borrower2Race3Type</th>\n",
       "      <th>Borrower2Race4Type</th>\n",
       "      <th>Borrower2Race5Type</th>\n",
       "      <th>HOEPALoanStatusType</th>\n",
       "      <th>LienPriorityType</th>\n",
       "    </tr>\n",
       "  </thead>\n",
       "  <tbody>\n",
       "  </tbody>\n",
       "</table>\n",
       "<p>0 rows × 56 columns</p>\n",
       "</div>"
      ],
      "text/plain": [
       "Empty DataFrame\n",
       "Columns: [Year, LoanCharacteristicsID, Bank, FIPSStateNumericCode, FIPSCountyCode, CoreBasedStatisticalAreaCode, CensusTractIdentifier, CensusTractMinorityRatioPercent, CensusTractMedFamIncomeAmount, LocalAreaMedianIncomeAmount, TotalMonthlyIncomeAmount, HUDMedianIncomeAmount, LoanAcquisitionActualUPBAmt, LTVRatioPercent, NoteDate, LoanAcquistionDate, LoanPurposeType, ProductCategoryName, MortgageType, ScheduledTotalPaymentCount, LoanAmortizationMaxTermMonths, MortgageLoanSellerInstType, BorrowerCount, BorrowerFirstTimeHomebuyer, Borrower1Race1Type, Borrower2Race1Type, Borrower1GenderType, Borrower2GenderType, Borrower1AgeAtApplicationYears, Borrower2AgeAtApplicationYears, PropertyUsageType, PropertyUnitCount, NoteRatePercent, NoteAmount, HousingExpenseRatioPercent, TotalDebtExpenseRatioPercent, Borrower1CreditScoreValue, Borrower2CreditScoreValue, PMICoveragePercent, EmploymentBorrowerSelfEmployed, PropertyType, IndexSourceType, MarginRatePercent, PrepaymentPenaltyExpirationDate, Borrower1EthnicityType, Borrower1Race2Type, Borrower1Race3Type, Borrower1Race4Type, Borrower1Race5Type, Borrower2EthnicityType, Borrower2Race2Type, Borrower2Race3Type, Borrower2Race4Type, Borrower2Race5Type, HOEPALoanStatusType, LienPriorityType]\n",
       "Index: []\n",
       "\n",
       "[0 rows x 56 columns]"
      ]
     },
     "execution_count": 106,
     "metadata": {},
     "output_type": "execute_result"
    }
   ],
   "source": [
    "#Check if both columns have same value\n",
    "df_2019[df_2019['ScheduledTotalPaymentCount']!=df_2019['LoanAmortizationMaxTermMonths']]\n"
   ]
  },
  {
   "cell_type": "code",
   "execution_count": 107,
   "metadata": {},
   "outputs": [],
   "source": [
    "#So Both columns are same. Hence we can drop one column\n",
    "df_2019=df_2019.drop('LoanAmortizationMaxTermMonths',axis=1)"
   ]
  },
  {
   "cell_type": "markdown",
   "metadata": {},
   "source": [
    "# MortgageLoanSellerInstType : Type of Institution from which the FHLBank acquired the mortgage. 01=Insured depository institution, 02=Housing Associate, 03=Insurance Company, 04=NonFederally Insured CU, 05=Non-Depository CDFI,06=Other FHLBank, 09=Other\n",
    "- Check the values in the column. \n",
    "- Convert to categorical."
   ]
  },
  {
   "cell_type": "code",
   "execution_count": 108,
   "metadata": {},
   "outputs": [
    {
     "data": {
      "text/plain": [
       "1    89538\n",
       "9      229\n",
       "Name: MortgageLoanSellerInstType, dtype: int64"
      ]
     },
     "execution_count": 108,
     "metadata": {},
     "output_type": "execute_result"
    }
   ],
   "source": [
    "#Check the values.\n",
    "df_2019['MortgageLoanSellerInstType'].value_counts()"
   ]
  },
  {
   "cell_type": "code",
   "execution_count": 109,
   "metadata": {},
   "outputs": [
    {
     "data": {
      "text/plain": [
       "'int64'"
      ]
     },
     "execution_count": 109,
     "metadata": {},
     "output_type": "execute_result"
    }
   ],
   "source": [
    "df_2019['MortgageLoanSellerInstType'].dtype.name"
   ]
  },
  {
   "cell_type": "code",
   "execution_count": 110,
   "metadata": {},
   "outputs": [
    {
     "name": "stdout",
     "output_type": "stream",
     "text": [
      "category\n"
     ]
    }
   ],
   "source": [
    "#Convert to categorical.\n",
    "df_2019=convert_to_cat(df_2019,'MortgageLoanSellerInstType')"
   ]
  },
  {
   "cell_type": "code",
   "execution_count": 99,
   "metadata": {},
   "outputs": [
    {
     "data": {
      "text/plain": [
       "'category'"
      ]
     },
     "execution_count": 99,
     "metadata": {},
     "output_type": "execute_result"
    }
   ],
   "source": [
    "df_2019['MortgageLoanSellerInstType'].dtype.name"
   ]
  },
  {
   "cell_type": "markdown",
   "metadata": {},
   "source": [
    "# BorrowerCount : Number of Borrowers"
   ]
  },
  {
   "cell_type": "code",
   "execution_count": null,
   "metadata": {},
   "outputs": [],
   "source": []
  },
  {
   "cell_type": "markdown",
   "metadata": {},
   "source": [
    "# BorrowerFirstTimeHomebuyer : Numeric code indicating whether borrower "
   ]
  },
  {
   "cell_type": "code",
   "execution_count": 103,
   "metadata": {},
   "outputs": [
    {
     "data": {
      "text/plain": [
       "0    57796\n",
       "1    31971\n",
       "Name: BorrowerFirstTimeHomebuyer, dtype: int64"
      ]
     },
     "execution_count": 103,
     "metadata": {},
     "output_type": "execute_result"
    }
   ],
   "source": [
    "df_2019['BorrowerFirstTimeHomebuyer'].value_counts()"
   ]
  },
  {
   "cell_type": "code",
   "execution_count": 105,
   "metadata": {},
   "outputs": [
    {
     "data": {
      "text/plain": [
       "'int64'"
      ]
     },
     "execution_count": 105,
     "metadata": {},
     "output_type": "execute_result"
    }
   ],
   "source": [
    "df_2019['BorrowerFirstTimeHomebuyer'].dtype.name"
   ]
  },
  {
   "cell_type": "code",
   "execution_count": 106,
   "metadata": {},
   "outputs": [],
   "source": [
    "df_2019['BorrowerFirstTimeHomebuyer']=df_2019['BorrowerFirstTimeHomebuyer'].astype('category')"
   ]
  },
  {
   "cell_type": "code",
   "execution_count": 107,
   "metadata": {},
   "outputs": [
    {
     "data": {
      "text/plain": [
       "'category'"
      ]
     },
     "execution_count": 107,
     "metadata": {},
     "output_type": "execute_result"
    }
   ],
   "source": [
    "df_2019['BorrowerFirstTimeHomebuyer'].dtype.name"
   ]
  },
  {
   "cell_type": "markdown",
   "metadata": {},
   "source": [
    "# Borrower1Race1Type: Numeric code indicating the race of the Borrower.1=American Indian or Alaska Native, 2=Asian, 3=Black or African American, 4=Native Hawaiian or other Pacific Islander, 5=White, 6=Information not provided by Borrower, 7=Not Applicable (First or primary borrower is an institution, corporation or partnership)"
   ]
  },
  {
   "cell_type": "code",
   "execution_count": 109,
   "metadata": {},
   "outputs": [
    {
     "data": {
      "text/plain": [
       "5    76982\n",
       "6     7352\n",
       "2     3128\n",
       "3     1677\n",
       "1      516\n",
       "4      112\n",
       "Name: Borrower1Race1Type, dtype: int64"
      ]
     },
     "execution_count": 109,
     "metadata": {},
     "output_type": "execute_result"
    }
   ],
   "source": [
    "df_2019['Borrower1Race1Type'].value_counts()"
   ]
  },
  {
   "cell_type": "code",
   "execution_count": 110,
   "metadata": {},
   "outputs": [
    {
     "data": {
      "text/plain": [
       "'int64'"
      ]
     },
     "execution_count": 110,
     "metadata": {},
     "output_type": "execute_result"
    }
   ],
   "source": [
    "df_2019['Borrower1Race1Type'].dtype.name"
   ]
  },
  {
   "cell_type": "code",
   "execution_count": 111,
   "metadata": {},
   "outputs": [],
   "source": [
    "df_2019['Borrower1Race1Type']=df_2019['Borrower1Race1Type'].astype('category')"
   ]
  },
  {
   "cell_type": "code",
   "execution_count": 112,
   "metadata": {},
   "outputs": [
    {
     "data": {
      "text/plain": [
       "'category'"
      ]
     },
     "execution_count": 112,
     "metadata": {},
     "output_type": "execute_result"
    }
   ],
   "source": [
    "df_2019['Borrower1Race1Type'].dtype.name"
   ]
  },
  {
   "cell_type": "markdown",
   "metadata": {},
   "source": [
    "# Borrower2Race1Type : Numeric code indicating the race of the Co-Borrower.1=American Indian or Alaska Native, 2=Asian, 3=Black or African American, 4=Native Hawaiian or other Pacific Islander, 5=White, 6=Information not provided by borrower, 7=Not Applicable (First or primary borrower is an institution, corporation or partnership), 8=No Co-Borrower"
   ]
  },
  {
   "cell_type": "code",
   "execution_count": 113,
   "metadata": {},
   "outputs": [
    {
     "data": {
      "text/plain": [
       "5    44821\n",
       "8    37965\n",
       "6     4502\n",
       "2     1577\n",
       "3      638\n",
       "1      199\n",
       "4       64\n",
       "7        1\n",
       "Name: Borrower2Race1Type, dtype: int64"
      ]
     },
     "execution_count": 113,
     "metadata": {},
     "output_type": "execute_result"
    }
   ],
   "source": [
    "df_2019['Borrower2Race1Type'].value_counts()"
   ]
  },
  {
   "cell_type": "code",
   "execution_count": 114,
   "metadata": {},
   "outputs": [
    {
     "data": {
      "text/plain": [
       "'category'"
      ]
     },
     "execution_count": 114,
     "metadata": {},
     "output_type": "execute_result"
    }
   ],
   "source": [
    "df_2019['Borrower2Race1Type']=df_2019['Borrower2Race1Type'].astype('category')\n",
    "df_2019['Borrower2Race1Type'].dtype.name"
   ]
  },
  {
   "cell_type": "markdown",
   "metadata": {},
   "source": [
    "# Borrower1GenderType : Numeric code indicating the sex of the first or primary borrower. 1=Male, 2=Female, 3=Information not provided by borrower, 4=Not Applicable (First or primary borrower is an institution, corporation or partnership), 6=Borrower selected both male and female"
   ]
  },
  {
   "cell_type": "code",
   "execution_count": 115,
   "metadata": {},
   "outputs": [
    {
     "data": {
      "text/plain": [
       "1    60393\n",
       "2    25094\n",
       "3     4217\n",
       "6       63\n",
       "Name: Borrower1GenderType, dtype: int64"
      ]
     },
     "execution_count": 115,
     "metadata": {},
     "output_type": "execute_result"
    }
   ],
   "source": [
    "df_2019['Borrower1GenderType'].value_counts()"
   ]
  },
  {
   "cell_type": "code",
   "execution_count": 116,
   "metadata": {},
   "outputs": [
    {
     "data": {
      "text/html": [
       "<div>\n",
       "<style scoped>\n",
       "    .dataframe tbody tr th:only-of-type {\n",
       "        vertical-align: middle;\n",
       "    }\n",
       "\n",
       "    .dataframe tbody tr th {\n",
       "        vertical-align: top;\n",
       "    }\n",
       "\n",
       "    .dataframe thead th {\n",
       "        text-align: right;\n",
       "    }\n",
       "</style>\n",
       "<table border=\"1\" class=\"dataframe\">\n",
       "  <thead>\n",
       "    <tr style=\"text-align: right;\">\n",
       "      <th></th>\n",
       "      <th>Year</th>\n",
       "      <th>LoanCharacteristicsID</th>\n",
       "      <th>Bank</th>\n",
       "      <th>FIPSStateNumericCode</th>\n",
       "      <th>FIPSCountyCode</th>\n",
       "      <th>CoreBasedStatisticalAreaCode</th>\n",
       "      <th>CensusTractIdentifier</th>\n",
       "      <th>CensusTractMinorityRatioPercent</th>\n",
       "      <th>CensusTractMedFamIncomeAmount</th>\n",
       "      <th>LocalAreaMedianIncomeAmount</th>\n",
       "      <th>...</th>\n",
       "      <th>Borrower1Race3Type</th>\n",
       "      <th>Borrower1Race4Type</th>\n",
       "      <th>Borrower1Race5Type</th>\n",
       "      <th>Borrower2EthnicityType</th>\n",
       "      <th>Borrower2Race2Type</th>\n",
       "      <th>Borrower2Race3Type</th>\n",
       "      <th>Borrower2Race4Type</th>\n",
       "      <th>Borrower2Race5Type</th>\n",
       "      <th>HOEPALoanStatusType</th>\n",
       "      <th>LienPriorityType</th>\n",
       "    </tr>\n",
       "  </thead>\n",
       "  <tbody>\n",
       "    <tr>\n",
       "      <th>435</th>\n",
       "      <td>2019</td>\n",
       "      <td>2407633</td>\n",
       "      <td>Boston</td>\n",
       "      <td>25</td>\n",
       "      <td>25</td>\n",
       "      <td>14460</td>\n",
       "      <td>1201.04</td>\n",
       "      <td>35.131</td>\n",
       "      <td>96786</td>\n",
       "      <td>98431</td>\n",
       "      <td>...</td>\n",
       "      <td>7</td>\n",
       "      <td>7</td>\n",
       "      <td>7</td>\n",
       "      <td>2</td>\n",
       "      <td>7</td>\n",
       "      <td>7</td>\n",
       "      <td>7</td>\n",
       "      <td>7</td>\n",
       "      <td>2</td>\n",
       "      <td>1</td>\n",
       "    </tr>\n",
       "    <tr>\n",
       "      <th>475</th>\n",
       "      <td>2019</td>\n",
       "      <td>2407673</td>\n",
       "      <td>Boston</td>\n",
       "      <td>25</td>\n",
       "      <td>21</td>\n",
       "      <td>14460</td>\n",
       "      <td>4132.00</td>\n",
       "      <td>12.963</td>\n",
       "      <td>99695</td>\n",
       "      <td>98431</td>\n",
       "      <td>...</td>\n",
       "      <td>7</td>\n",
       "      <td>7</td>\n",
       "      <td>7</td>\n",
       "      <td>2</td>\n",
       "      <td>7</td>\n",
       "      <td>7</td>\n",
       "      <td>7</td>\n",
       "      <td>7</td>\n",
       "      <td>2</td>\n",
       "      <td>1</td>\n",
       "    </tr>\n",
       "    <tr>\n",
       "      <th>688</th>\n",
       "      <td>2019</td>\n",
       "      <td>2422275</td>\n",
       "      <td>Boston</td>\n",
       "      <td>23</td>\n",
       "      <td>5</td>\n",
       "      <td>38860</td>\n",
       "      <td>42.00</td>\n",
       "      <td>3.535</td>\n",
       "      <td>122076</td>\n",
       "      <td>80629</td>\n",
       "      <td>...</td>\n",
       "      <td>7</td>\n",
       "      <td>7</td>\n",
       "      <td>7</td>\n",
       "      <td>2</td>\n",
       "      <td>7</td>\n",
       "      <td>7</td>\n",
       "      <td>7</td>\n",
       "      <td>7</td>\n",
       "      <td>2</td>\n",
       "      <td>1</td>\n",
       "    </tr>\n",
       "    <tr>\n",
       "      <th>1093</th>\n",
       "      <td>2019</td>\n",
       "      <td>2422680</td>\n",
       "      <td>Boston</td>\n",
       "      <td>25</td>\n",
       "      <td>5</td>\n",
       "      <td>39300</td>\n",
       "      <td>6311.00</td>\n",
       "      <td>12.035</td>\n",
       "      <td>76053</td>\n",
       "      <td>79347</td>\n",
       "      <td>...</td>\n",
       "      <td>7</td>\n",
       "      <td>7</td>\n",
       "      <td>7</td>\n",
       "      <td>2</td>\n",
       "      <td>7</td>\n",
       "      <td>7</td>\n",
       "      <td>7</td>\n",
       "      <td>7</td>\n",
       "      <td>2</td>\n",
       "      <td>1</td>\n",
       "    </tr>\n",
       "    <tr>\n",
       "      <th>1800</th>\n",
       "      <td>2019</td>\n",
       "      <td>2443539</td>\n",
       "      <td>Boston</td>\n",
       "      <td>25</td>\n",
       "      <td>21</td>\n",
       "      <td>14460</td>\n",
       "      <td>4103.00</td>\n",
       "      <td>8.275</td>\n",
       "      <td>125298</td>\n",
       "      <td>102945</td>\n",
       "      <td>...</td>\n",
       "      <td>7</td>\n",
       "      <td>7</td>\n",
       "      <td>7</td>\n",
       "      <td>2</td>\n",
       "      <td>7</td>\n",
       "      <td>7</td>\n",
       "      <td>7</td>\n",
       "      <td>7</td>\n",
       "      <td>2</td>\n",
       "      <td>1</td>\n",
       "    </tr>\n",
       "    <tr>\n",
       "      <th>...</th>\n",
       "      <td>...</td>\n",
       "      <td>...</td>\n",
       "      <td>...</td>\n",
       "      <td>...</td>\n",
       "      <td>...</td>\n",
       "      <td>...</td>\n",
       "      <td>...</td>\n",
       "      <td>...</td>\n",
       "      <td>...</td>\n",
       "      <td>...</td>\n",
       "      <td>...</td>\n",
       "      <td>...</td>\n",
       "      <td>...</td>\n",
       "      <td>...</td>\n",
       "      <td>...</td>\n",
       "      <td>...</td>\n",
       "      <td>...</td>\n",
       "      <td>...</td>\n",
       "      <td>...</td>\n",
       "      <td>...</td>\n",
       "      <td>...</td>\n",
       "    </tr>\n",
       "    <tr>\n",
       "      <th>86655</th>\n",
       "      <td>2019</td>\n",
       "      <td>2488859</td>\n",
       "      <td>Topeka</td>\n",
       "      <td>8</td>\n",
       "      <td>35</td>\n",
       "      <td>19740</td>\n",
       "      <td>141.25</td>\n",
       "      <td>10.779</td>\n",
       "      <td>178125</td>\n",
       "      <td>88102</td>\n",
       "      <td>...</td>\n",
       "      <td>7</td>\n",
       "      <td>7</td>\n",
       "      <td>7</td>\n",
       "      <td>2</td>\n",
       "      <td>7</td>\n",
       "      <td>7</td>\n",
       "      <td>7</td>\n",
       "      <td>7</td>\n",
       "      <td>2</td>\n",
       "      <td>1</td>\n",
       "    </tr>\n",
       "    <tr>\n",
       "      <th>86740</th>\n",
       "      <td>2019</td>\n",
       "      <td>2488944</td>\n",
       "      <td>Topeka</td>\n",
       "      <td>8</td>\n",
       "      <td>95</td>\n",
       "      <td>99999</td>\n",
       "      <td>9676.00</td>\n",
       "      <td>27.366</td>\n",
       "      <td>64767</td>\n",
       "      <td>64651</td>\n",
       "      <td>...</td>\n",
       "      <td>7</td>\n",
       "      <td>7</td>\n",
       "      <td>7</td>\n",
       "      <td>5</td>\n",
       "      <td>8</td>\n",
       "      <td>8</td>\n",
       "      <td>8</td>\n",
       "      <td>8</td>\n",
       "      <td>2</td>\n",
       "      <td>1</td>\n",
       "    </tr>\n",
       "    <tr>\n",
       "      <th>87400</th>\n",
       "      <td>2019</td>\n",
       "      <td>2489604</td>\n",
       "      <td>Topeka</td>\n",
       "      <td>20</td>\n",
       "      <td>173</td>\n",
       "      <td>48620</td>\n",
       "      <td>55.01</td>\n",
       "      <td>10.655</td>\n",
       "      <td>58618</td>\n",
       "      <td>68171</td>\n",
       "      <td>...</td>\n",
       "      <td>7</td>\n",
       "      <td>7</td>\n",
       "      <td>7</td>\n",
       "      <td>5</td>\n",
       "      <td>8</td>\n",
       "      <td>8</td>\n",
       "      <td>8</td>\n",
       "      <td>8</td>\n",
       "      <td>2</td>\n",
       "      <td>1</td>\n",
       "    </tr>\n",
       "    <tr>\n",
       "      <th>87783</th>\n",
       "      <td>2019</td>\n",
       "      <td>2489987</td>\n",
       "      <td>Topeka</td>\n",
       "      <td>31</td>\n",
       "      <td>55</td>\n",
       "      <td>36540</td>\n",
       "      <td>75.13</td>\n",
       "      <td>7.829</td>\n",
       "      <td>153463</td>\n",
       "      <td>79131</td>\n",
       "      <td>...</td>\n",
       "      <td>7</td>\n",
       "      <td>7</td>\n",
       "      <td>7</td>\n",
       "      <td>2</td>\n",
       "      <td>7</td>\n",
       "      <td>7</td>\n",
       "      <td>7</td>\n",
       "      <td>7</td>\n",
       "      <td>2</td>\n",
       "      <td>1</td>\n",
       "    </tr>\n",
       "    <tr>\n",
       "      <th>88122</th>\n",
       "      <td>2019</td>\n",
       "      <td>2490326</td>\n",
       "      <td>Topeka</td>\n",
       "      <td>20</td>\n",
       "      <td>173</td>\n",
       "      <td>48620</td>\n",
       "      <td>21.00</td>\n",
       "      <td>13.080</td>\n",
       "      <td>78750</td>\n",
       "      <td>68171</td>\n",
       "      <td>...</td>\n",
       "      <td>7</td>\n",
       "      <td>7</td>\n",
       "      <td>7</td>\n",
       "      <td>5</td>\n",
       "      <td>8</td>\n",
       "      <td>8</td>\n",
       "      <td>8</td>\n",
       "      <td>8</td>\n",
       "      <td>2</td>\n",
       "      <td>1</td>\n",
       "    </tr>\n",
       "  </tbody>\n",
       "</table>\n",
       "<p>63 rows × 55 columns</p>\n",
       "</div>"
      ],
      "text/plain": [
       "       Year  LoanCharacteristicsID    Bank  FIPSStateNumericCode  \\\n",
       "435    2019                2407633  Boston                    25   \n",
       "475    2019                2407673  Boston                    25   \n",
       "688    2019                2422275  Boston                    23   \n",
       "1093   2019                2422680  Boston                    25   \n",
       "1800   2019                2443539  Boston                    25   \n",
       "...     ...                    ...     ...                   ...   \n",
       "86655  2019                2488859  Topeka                     8   \n",
       "86740  2019                2488944  Topeka                     8   \n",
       "87400  2019                2489604  Topeka                    20   \n",
       "87783  2019                2489987  Topeka                    31   \n",
       "88122  2019                2490326  Topeka                    20   \n",
       "\n",
       "       FIPSCountyCode  CoreBasedStatisticalAreaCode  CensusTractIdentifier  \\\n",
       "435                25                         14460                1201.04   \n",
       "475                21                         14460                4132.00   \n",
       "688                 5                         38860                  42.00   \n",
       "1093                5                         39300                6311.00   \n",
       "1800               21                         14460                4103.00   \n",
       "...               ...                           ...                    ...   \n",
       "86655              35                         19740                 141.25   \n",
       "86740              95                         99999                9676.00   \n",
       "87400             173                         48620                  55.01   \n",
       "87783              55                         36540                  75.13   \n",
       "88122             173                         48620                  21.00   \n",
       "\n",
       "       CensusTractMinorityRatioPercent  CensusTractMedFamIncomeAmount  \\\n",
       "435                             35.131                          96786   \n",
       "475                             12.963                          99695   \n",
       "688                              3.535                         122076   \n",
       "1093                            12.035                          76053   \n",
       "1800                             8.275                         125298   \n",
       "...                                ...                            ...   \n",
       "86655                           10.779                         178125   \n",
       "86740                           27.366                          64767   \n",
       "87400                           10.655                          58618   \n",
       "87783                            7.829                         153463   \n",
       "88122                           13.080                          78750   \n",
       "\n",
       "       LocalAreaMedianIncomeAmount  ...  Borrower1Race3Type  \\\n",
       "435                          98431  ...                   7   \n",
       "475                          98431  ...                   7   \n",
       "688                          80629  ...                   7   \n",
       "1093                         79347  ...                   7   \n",
       "1800                        102945  ...                   7   \n",
       "...                            ...  ...                 ...   \n",
       "86655                        88102  ...                   7   \n",
       "86740                        64651  ...                   7   \n",
       "87400                        68171  ...                   7   \n",
       "87783                        79131  ...                   7   \n",
       "88122                        68171  ...                   7   \n",
       "\n",
       "       Borrower1Race4Type  Borrower1Race5Type  Borrower2EthnicityType  \\\n",
       "435                     7                   7                       2   \n",
       "475                     7                   7                       2   \n",
       "688                     7                   7                       2   \n",
       "1093                    7                   7                       2   \n",
       "1800                    7                   7                       2   \n",
       "...                   ...                 ...                     ...   \n",
       "86655                   7                   7                       2   \n",
       "86740                   7                   7                       5   \n",
       "87400                   7                   7                       5   \n",
       "87783                   7                   7                       2   \n",
       "88122                   7                   7                       5   \n",
       "\n",
       "      Borrower2Race2Type Borrower2Race3Type Borrower2Race4Type  \\\n",
       "435                    7                  7                  7   \n",
       "475                    7                  7                  7   \n",
       "688                    7                  7                  7   \n",
       "1093                   7                  7                  7   \n",
       "1800                   7                  7                  7   \n",
       "...                  ...                ...                ...   \n",
       "86655                  7                  7                  7   \n",
       "86740                  8                  8                  8   \n",
       "87400                  8                  8                  8   \n",
       "87783                  7                  7                  7   \n",
       "88122                  8                  8                  8   \n",
       "\n",
       "      Borrower2Race5Type HOEPALoanStatusType  LienPriorityType  \n",
       "435                    7                   2                 1  \n",
       "475                    7                   2                 1  \n",
       "688                    7                   2                 1  \n",
       "1093                   7                   2                 1  \n",
       "1800                   7                   2                 1  \n",
       "...                  ...                 ...               ...  \n",
       "86655                  7                   2                 1  \n",
       "86740                  8                   2                 1  \n",
       "87400                  8                   2                 1  \n",
       "87783                  7                   2                 1  \n",
       "88122                  8                   2                 1  \n",
       "\n",
       "[63 rows x 55 columns]"
      ]
     },
     "execution_count": 116,
     "metadata": {},
     "output_type": "execute_result"
    }
   ],
   "source": [
    "df_2019[df_2019['Borrower1GenderType']==6]"
   ]
  },
  {
   "cell_type": "code",
   "execution_count": 117,
   "metadata": {},
   "outputs": [
    {
     "data": {
      "text/plain": [
       "'category'"
      ]
     },
     "execution_count": 117,
     "metadata": {},
     "output_type": "execute_result"
    }
   ],
   "source": [
    "df_2019['Borrower1GenderType']=df_2019['Borrower1GenderType'].astype('category')\n",
    "df_2019['Borrower1GenderType'].dtype.name"
   ]
  },
  {
   "cell_type": "markdown",
   "metadata": {},
   "source": [
    "# Borrower2GenderType : Numeric code indicating the sex of the co-borrower. 1=Male, 2=Female, 3=Information not provided by borrower, 4=No Co-Borrower, 5=Not Applicable (First or primary borrower is an institution, corporation or partnership), 6=Borrower selected both male and female"
   ]
  },
  {
   "cell_type": "code",
   "execution_count": 118,
   "metadata": {},
   "outputs": [
    {
     "data": {
      "text/plain": [
       "2    38527\n",
       "4    37965\n",
       "1    10569\n",
       "3     2647\n",
       "6       59\n",
       "Name: Borrower2GenderType, dtype: int64"
      ]
     },
     "execution_count": 118,
     "metadata": {},
     "output_type": "execute_result"
    }
   ],
   "source": [
    "df_2019['Borrower2GenderType'].value_counts()"
   ]
  },
  {
   "cell_type": "code",
   "execution_count": 119,
   "metadata": {},
   "outputs": [],
   "source": [
    "df_2019['Borrower2GenderType']=df_2019['Borrower2GenderType'].astype('category')"
   ]
  },
  {
   "cell_type": "code",
   "execution_count": 120,
   "metadata": {},
   "outputs": [
    {
     "data": {
      "text/plain": [
       "'category'"
      ]
     },
     "execution_count": 120,
     "metadata": {},
     "output_type": "execute_result"
    }
   ],
   "source": [
    "df_2019['Borrower2GenderType'].dtype.name"
   ]
  },
  {
   "cell_type": "markdown",
   "metadata": {},
   "source": [
    "# Borrower1AgeAtApplicationYears : Age in years of the borrower at time application submitted; 999=Age not provided, 998=Not Applicable (Borrower might be a legal entity like an LLC)"
   ]
  },
  {
   "cell_type": "code",
   "execution_count": null,
   "metadata": {},
   "outputs": [],
   "source": []
  },
  {
   "cell_type": "markdown",
   "metadata": {},
   "source": [
    "# Borrower2AgeAtApplicationYears : Age in years of the borrower at time application submitted; 999=Age not provided, 998=No CoBorrower"
   ]
  },
  {
   "cell_type": "code",
   "execution_count": null,
   "metadata": {},
   "outputs": [],
   "source": []
  },
  {
   "cell_type": "markdown",
   "metadata": {},
   "source": [
    "# PropertyUsageType : Numeric code indicating whether property is owner occupied, second home or a rental investment property. 1=Principal Residence, 2=Second Home, 3=Investment Property"
   ]
  },
  {
   "cell_type": "code",
   "execution_count": 125,
   "metadata": {},
   "outputs": [
    {
     "data": {
      "text/plain": [
       "1    87245\n",
       "2     2522\n",
       "Name: PropertyUsageType, dtype: int64"
      ]
     },
     "execution_count": 125,
     "metadata": {},
     "output_type": "execute_result"
    }
   ],
   "source": [
    "df_2019['PropertyUsageType'].value_counts()"
   ]
  },
  {
   "cell_type": "code",
   "execution_count": 126,
   "metadata": {},
   "outputs": [],
   "source": [
    "df_2019['PropertyUsageType']=df_2019['PropertyUsageType'].astype('category')"
   ]
  },
  {
   "cell_type": "code",
   "execution_count": 127,
   "metadata": {},
   "outputs": [
    {
     "data": {
      "text/plain": [
       "'category'"
      ]
     },
     "execution_count": 127,
     "metadata": {},
     "output_type": "execute_result"
    }
   ],
   "source": [
    "df_2019['PropertyUsageType'].dtype.name"
   ]
  },
  {
   "cell_type": "markdown",
   "metadata": {},
   "source": [
    "# PropertyUnitCount : Total number of units in the property"
   ]
  },
  {
   "cell_type": "code",
   "execution_count": 130,
   "metadata": {},
   "outputs": [
    {
     "data": {
      "text/plain": [
       "1    88889\n",
       "2      748\n",
       "3       95\n",
       "4       35\n",
       "Name: PropertyUnitCount, dtype: int64"
      ]
     },
     "execution_count": 130,
     "metadata": {},
     "output_type": "execute_result"
    }
   ],
   "source": [
    "df_2019['PropertyUnitCount'].value_counts()"
   ]
  },
  {
   "cell_type": "code",
   "execution_count": 131,
   "metadata": {},
   "outputs": [],
   "source": [
    "df_2019['PropertyUnitCount']=df_2019['PropertyUnitCount'].astype('category')\n"
   ]
  },
  {
   "cell_type": "markdown",
   "metadata": {},
   "source": [
    "# NoteRatePercent : Interest rate on the mortgage at acquisition"
   ]
  },
  {
   "cell_type": "code",
   "execution_count": null,
   "metadata": {},
   "outputs": [],
   "source": []
  },
  {
   "cell_type": "markdown",
   "metadata": {},
   "source": [
    "# NoteAmount : Mortgage balance at origination"
   ]
  },
  {
   "cell_type": "code",
   "execution_count": null,
   "metadata": {},
   "outputs": [],
   "source": []
  },
  {
   "cell_type": "markdown",
   "metadata": {},
   "source": [
    "# HousingExpenseRatioPercent : Ratio of mortgage principal and interest and housing expenses to total borrower income."
   ]
  },
  {
   "cell_type": "code",
   "execution_count": null,
   "metadata": {},
   "outputs": [],
   "source": []
  },
  {
   "cell_type": "markdown",
   "metadata": {},
   "source": [
    "# TotalDebtExpenseRatioPercent : Ratio of all debt payments to total borrower income.\n"
   ]
  },
  {
   "cell_type": "code",
   "execution_count": null,
   "metadata": {},
   "outputs": [],
   "source": []
  },
  {
   "cell_type": "markdown",
   "metadata": {},
   "source": [
    "# Borrower1CreditScoreValue : Credit Scores are separated into a range: 1=<620, 2=620 < 660, 3=660 < 700, 4=700 < 760, 5=760 or greater, 9 = Missing or Not Applicable"
   ]
  },
  {
   "cell_type": "code",
   "execution_count": 136,
   "metadata": {},
   "outputs": [
    {
     "data": {
      "text/plain": [
       "5    49761\n",
       "4    27763\n",
       "3     9072\n",
       "2     2921\n",
       "9      155\n",
       "1       95\n",
       "Name: Borrower1CreditScoreValue, dtype: int64"
      ]
     },
     "execution_count": 136,
     "metadata": {},
     "output_type": "execute_result"
    }
   ],
   "source": [
    "df_2019['Borrower1CreditScoreValue'].value_counts()"
   ]
  },
  {
   "cell_type": "code",
   "execution_count": 137,
   "metadata": {},
   "outputs": [],
   "source": [
    "df_2019['Borrower1CreditScoreValue']=df_2019['Borrower1CreditScoreValue'].astype('category')"
   ]
  },
  {
   "cell_type": "code",
   "execution_count": 138,
   "metadata": {},
   "outputs": [
    {
     "data": {
      "text/plain": [
       "'category'"
      ]
     },
     "execution_count": 138,
     "metadata": {},
     "output_type": "execute_result"
    }
   ],
   "source": [
    "df_2019['Borrower1CreditScoreValue'].dtype.name"
   ]
  },
  {
   "cell_type": "markdown",
   "metadata": {},
   "source": [
    "# Borrower2CreditScoreValue : Credit Scores are separated into a range: 1=<620, 2=620 < 660, 3=660 < 700, 4=700 < 760, 5=760 or greater, 9 = Missing, Not Applicable or No-CoBorrower"
   ]
  },
  {
   "cell_type": "code",
   "execution_count": 139,
   "metadata": {},
   "outputs": [
    {
     "data": {
      "text/plain": [
       "9    38124\n",
       "5    30887\n",
       "4    15196\n",
       "3     4202\n",
       "2     1323\n",
       "1       35\n",
       "Name: Borrower2CreditScoreValue, dtype: int64"
      ]
     },
     "execution_count": 139,
     "metadata": {},
     "output_type": "execute_result"
    }
   ],
   "source": [
    "df_2019['Borrower2CreditScoreValue'].value_counts()\n"
   ]
  },
  {
   "cell_type": "code",
   "execution_count": 140,
   "metadata": {},
   "outputs": [],
   "source": [
    "df_2019['Borrower2CreditScoreValue']=df_2019['Borrower2CreditScoreValue'].astype('category')"
   ]
  },
  {
   "cell_type": "markdown",
   "metadata": {},
   "source": [
    "# PMICoveragePercent : Percent of mortgage balance at origination covered by loan level PMI"
   ]
  },
  {
   "cell_type": "code",
   "execution_count": null,
   "metadata": {},
   "outputs": [],
   "source": []
  },
  {
   "cell_type": "markdown",
   "metadata": {},
   "source": [
    "# EmploymentBorrowerSelfEmployed : Numeric code indicating whether the borrower is selfemployed. 0=No, 1=Yes"
   ]
  },
  {
   "cell_type": "code",
   "execution_count": 143,
   "metadata": {},
   "outputs": [
    {
     "data": {
      "text/plain": [
       "0    55125\n",
       "1    34642\n",
       "Name: EmploymentBorrowerSelfEmployed, dtype: int64"
      ]
     },
     "execution_count": 143,
     "metadata": {},
     "output_type": "execute_result"
    }
   ],
   "source": [
    "df_2019['EmploymentBorrowerSelfEmployed'].value_counts()"
   ]
  },
  {
   "cell_type": "code",
   "execution_count": 144,
   "metadata": {},
   "outputs": [],
   "source": [
    "df_2019['EmploymentBorrowerSelfEmployed']=df_2019['EmploymentBorrowerSelfEmployed'].astype('category')"
   ]
  },
  {
   "cell_type": "markdown",
   "metadata": {},
   "source": [
    "# PropertyType : PT01=Single family detached; PT02=Deminimus PUD;PT03=Single family attached; PT04=Two family;PT05=Townhouse; PT06=Low-rise condo; PT07=PUD;PT08=Duplex; PT09=Three family; PT10=Four family;PT11=Hi-res condo; PT12=Manufactured home notchattel; PT13=Manufactured home chattel; PT14=Five plus multifamily"
   ]
  },
  {
   "cell_type": "code",
   "execution_count": 145,
   "metadata": {},
   "outputs": [
    {
     "data": {
      "text/plain": [
       "PT01    67614\n",
       "PT07    15800\n",
       "PT06     4773\n",
       "PT04      739\n",
       "PT03      380\n",
       "PT12      152\n",
       "PT05      113\n",
       "PT09       95\n",
       "PT11       50\n",
       "PT10       35\n",
       "PT08        9\n",
       "PT02        7\n",
       "Name: PropertyType, dtype: int64"
      ]
     },
     "execution_count": 145,
     "metadata": {},
     "output_type": "execute_result"
    }
   ],
   "source": [
    "df_2019['PropertyType'].value_counts()"
   ]
  },
  {
   "cell_type": "code",
   "execution_count": 146,
   "metadata": {},
   "outputs": [],
   "source": [
    "df_2019['PropertyType']=df_2019['PropertyType'].astype('category')"
   ]
  },
  {
   "cell_type": "code",
   "execution_count": 147,
   "metadata": {},
   "outputs": [
    {
     "data": {
      "text/plain": [
       "'category'"
      ]
     },
     "execution_count": 147,
     "metadata": {},
     "output_type": "execute_result"
    }
   ],
   "source": [
    "df_2019['PropertyType'].dtype.name"
   ]
  },
  {
   "cell_type": "markdown",
   "metadata": {},
   "source": [
    "# IndexSourceType: 01=11th District cost of funds; 02=Other cost of funds; 03=LIBOR; 04=1 year constant Treasury Rate; 99=Not an ARM"
   ]
  },
  {
   "cell_type": "code",
   "execution_count": 148,
   "metadata": {},
   "outputs": [],
   "source": [
    "def convert_to_cat(col_name,df):\n",
    "    df[col_name]=df[col_name].astype('category')\n",
    "    return df\n",
    "    "
   ]
  },
  {
   "cell_type": "code",
   "execution_count": 149,
   "metadata": {},
   "outputs": [
    {
     "data": {
      "text/plain": [
       "99    89767\n",
       "Name: IndexSourceType, dtype: int64"
      ]
     },
     "execution_count": 149,
     "metadata": {},
     "output_type": "execute_result"
    }
   ],
   "source": [
    "df_2019['IndexSourceType'].value_counts()"
   ]
  },
  {
   "cell_type": "code",
   "execution_count": 150,
   "metadata": {},
   "outputs": [],
   "source": [
    "df_2019=convert_to_cat('IndexSourceType',df_2019)"
   ]
  },
  {
   "cell_type": "code",
   "execution_count": 151,
   "metadata": {},
   "outputs": [
    {
     "data": {
      "text/plain": [
       "'category'"
      ]
     },
     "execution_count": 151,
     "metadata": {},
     "output_type": "execute_result"
    }
   ],
   "source": [
    "df_2019['IndexSourceType'].dtype.name"
   ]
  },
  {
   "cell_type": "markdown",
   "metadata": {},
   "source": [
    "# MarginRatePercent : Margin added to the index used for the calculation of the interest on an ARM. 9999=Not Applicable|"
   ]
  },
  {
   "cell_type": "code",
   "execution_count": 155,
   "metadata": {},
   "outputs": [
    {
     "data": {
      "text/plain": [
       "59073    0\n",
       "59074    0\n",
       "59075    0\n",
       "59076    0\n",
       "59077    0\n",
       "        ..\n",
       "64745    0\n",
       "64746    0\n",
       "64747    0\n",
       "64748    0\n",
       "64749    0\n",
       "Name: MarginRatePercent, Length: 5677, dtype: int64"
      ]
     },
     "execution_count": 155,
     "metadata": {},
     "output_type": "execute_result"
    }
   ],
   "source": [
    "df_2019['MarginRatePercent'][df_2019['MarginRatePercent']!=9999]"
   ]
  },
  {
   "cell_type": "markdown",
   "metadata": {},
   "source": [
    "# PrepaymentPenaltyExpirationDate : Date when prepayment penalty ends; report 9999-12-31 if not applicable"
   ]
  },
  {
   "cell_type": "code",
   "execution_count": 157,
   "metadata": {},
   "outputs": [
    {
     "data": {
      "text/plain": [
       "9999-12-31    89767\n",
       "Name: PrepaymentPenaltyExpirationDate, dtype: int64"
      ]
     },
     "execution_count": 157,
     "metadata": {},
     "output_type": "execute_result"
    }
   ],
   "source": [
    "df_2019['PrepaymentPenaltyExpirationDate'].value_counts()"
   ]
  },
  {
   "cell_type": "code",
   "execution_count": 159,
   "metadata": {},
   "outputs": [],
   "source": [
    "#We can drop this columns since all the values are NA\n",
    "df_2019=df_2019.drop('PrepaymentPenaltyExpirationDate',axis=1)"
   ]
  },
  {
   "cell_type": "code",
   "execution_count": 165,
   "metadata": {},
   "outputs": [],
   "source": [
    "#Convert race and ethencities to category\n",
    "to_cat=['Borrower1EthnicityType','Borrower1Race2Type','Borrower1Race3Type','Borrower1Race4Type','Borrower1Race5Type','Borrower2EthnicityType','Borrower2Race2Type','Borrower2Race3Type','Borrower2Race4Type','Borrower2Race5Type','HOEPALoanStatusType','LienPriorityType']"
   ]
  },
  {
   "cell_type": "code",
   "execution_count": 166,
   "metadata": {},
   "outputs": [
    {
     "name": "stdout",
     "output_type": "stream",
     "text": [
      "Borrower1EthnicityType:category\n",
      "Borrower1Race2Type:category\n",
      "Borrower1Race3Type:category\n",
      "Borrower1Race4Type:category\n",
      "Borrower1Race5Type:category\n",
      "Borrower2EthnicityType:category\n",
      "Borrower2Race2Type:category\n",
      "Borrower2Race3Type:category\n",
      "Borrower2Race4Type:category\n",
      "Borrower2Race5Type:category\n",
      "HOEPALoanStatusType:category\n",
      "LienPriorityType:category\n"
     ]
    }
   ],
   "source": [
    "for col in to_cat:\n",
    "    df_2019=convert_to_cat(col,df_2019)\n",
    "    print(f'{col}:{df_2019[col].dtype.name}')"
   ]
  },
  {
   "cell_type": "code",
   "execution_count": 169,
   "metadata": {},
   "outputs": [],
   "source": [
    "#Save the Df\n",
    "df_2019.to_csv('Data/2019_dw_data.csv')"
   ]
  },
  {
   "cell_type": "markdown",
   "metadata": {},
   "source": [
    "# Summary\n",
    "\n",
    " What did we do/find in this notebook? What changes have we made to the data before moving on to the next stage?"
   ]
  },
  {
   "cell_type": "code",
   "execution_count": null,
   "metadata": {},
   "outputs": [],
   "source": []
  }
 ],
 "metadata": {
  "kernelspec": {
   "display_name": "Python 3",
   "language": "python",
   "name": "python3"
  },
  "language_info": {
   "codemirror_mode": {
    "name": "ipython",
    "version": 3
   },
   "file_extension": ".py",
   "mimetype": "text/x-python",
   "name": "python",
   "nbconvert_exporter": "python",
   "pygments_lexer": "ipython3",
   "version": "3.8.5"
  }
 },
 "nbformat": 4,
 "nbformat_minor": 4
}
